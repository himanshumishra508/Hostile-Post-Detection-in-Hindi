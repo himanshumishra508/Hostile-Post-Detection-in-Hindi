{
  "nbformat": 4,
  "nbformat_minor": 0,
  "metadata": {
    "colab": {
      "name": "RoBERTa fastai.ipynb",
      "provenance": [],
      "collapsed_sections": []
    },
    "kernelspec": {
      "name": "python3",
      "display_name": "Python 3"
    },
    "accelerator": "GPU"
  },
  "cells": [
    {
      "cell_type": "markdown",
      "metadata": {
        "id": "GRn_JZ-E0dAz"
      },
      "source": [
        "\n",
        "**Package Installation**"
      ]
    },
    {
      "cell_type": "code",
      "metadata": {
        "colab": {
          "base_uri": "https://localhost:8080/"
        },
        "id": "xZSpGq2nspat",
        "outputId": "bd8dce79-cd51-4b52-d29d-f9132bdf69d8"
      },
      "source": [
        "!git clone https://github.com/devkosal/fastai_roberta.git"
      ],
      "execution_count": null,
      "outputs": [
        {
          "output_type": "stream",
          "text": [
            "Cloning into 'fastai_roberta'...\n",
            "remote: Enumerating objects: 180, done.\u001b[K\n",
            "remote: Counting objects: 100% (180/180), done.\u001b[K\n",
            "remote: Compressing objects: 100% (130/130), done.\u001b[K\n",
            "remote: Total 180 (delta 96), reused 110 (delta 44), pack-reused 0\u001b[K\n",
            "Receiving objects: 100% (180/180), 25.46 MiB | 24.76 MiB/s, done.\n",
            "Resolving deltas: 100% (96/96), done.\n"
          ],
          "name": "stdout"
        }
      ]
    },
    {
      "cell_type": "code",
      "metadata": {
        "colab": {
          "base_uri": "https://localhost:8080/"
        },
        "id": "4q2PupGdyfzZ",
        "outputId": "2c7b950b-eefe-4ca4-dfcf-207e0ea94846"
      },
      "source": [
        "!pip install fastai==1.0.60 transformers==2.3.0"
      ],
      "execution_count": null,
      "outputs": [
        {
          "output_type": "stream",
          "text": [
            "Collecting fastai==1.0.60\n",
            "\u001b[?25l  Downloading https://files.pythonhosted.org/packages/f5/e4/a7025bf28f303dbda0f862c09a7f957476fa92c9271643b4061a81bb595f/fastai-1.0.60-py3-none-any.whl (237kB)\n",
            "\r\u001b[K     |█▍                              | 10kB 23.6MB/s eta 0:00:01\r\u001b[K     |██▊                             | 20kB 31.4MB/s eta 0:00:01\r\u001b[K     |████▏                           | 30kB 24.6MB/s eta 0:00:01\r\u001b[K     |█████▌                          | 40kB 28.1MB/s eta 0:00:01\r\u001b[K     |███████                         | 51kB 26.0MB/s eta 0:00:01\r\u001b[K     |████████▎                       | 61kB 28.7MB/s eta 0:00:01\r\u001b[K     |█████████▋                      | 71kB 18.8MB/s eta 0:00:01\r\u001b[K     |███████████                     | 81kB 19.9MB/s eta 0:00:01\r\u001b[K     |████████████▍                   | 92kB 18.8MB/s eta 0:00:01\r\u001b[K     |█████████████▉                  | 102kB 18.7MB/s eta 0:00:01\r\u001b[K     |███████████████▏                | 112kB 18.7MB/s eta 0:00:01\r\u001b[K     |████████████████▋               | 122kB 18.7MB/s eta 0:00:01\r\u001b[K     |██████████████████              | 133kB 18.7MB/s eta 0:00:01\r\u001b[K     |███████████████████▎            | 143kB 18.7MB/s eta 0:00:01\r\u001b[K     |████████████████████▊           | 153kB 18.7MB/s eta 0:00:01\r\u001b[K     |██████████████████████          | 163kB 18.7MB/s eta 0:00:01\r\u001b[K     |███████████████████████▌        | 174kB 18.7MB/s eta 0:00:01\r\u001b[K     |████████████████████████▉       | 184kB 18.7MB/s eta 0:00:01\r\u001b[K     |██████████████████████████▎     | 194kB 18.7MB/s eta 0:00:01\r\u001b[K     |███████████████████████████▋    | 204kB 18.7MB/s eta 0:00:01\r\u001b[K     |█████████████████████████████   | 215kB 18.7MB/s eta 0:00:01\r\u001b[K     |██████████████████████████████▍ | 225kB 18.7MB/s eta 0:00:01\r\u001b[K     |███████████████████████████████▊| 235kB 18.7MB/s eta 0:00:01\r\u001b[K     |████████████████████████████████| 245kB 18.7MB/s \n",
            "\u001b[?25hCollecting transformers==2.3.0\n",
            "\u001b[?25l  Downloading https://files.pythonhosted.org/packages/50/10/aeefced99c8a59d828a92cc11d213e2743212d3641c87c82d61b035a7d5c/transformers-2.3.0-py3-none-any.whl (447kB)\n",
            "\u001b[K     |████████████████████████████████| 450kB 45.9MB/s \n",
            "\u001b[?25hRequirement already satisfied: matplotlib in /usr/local/lib/python3.7/dist-packages (from fastai==1.0.60) (3.2.2)\n",
            "Requirement already satisfied: numexpr in /usr/local/lib/python3.7/dist-packages (from fastai==1.0.60) (2.7.2)\n",
            "Requirement already satisfied: numpy>=1.15 in /usr/local/lib/python3.7/dist-packages (from fastai==1.0.60) (1.19.5)\n",
            "Requirement already satisfied: requests in /usr/local/lib/python3.7/dist-packages (from fastai==1.0.60) (2.23.0)\n",
            "Requirement already satisfied: nvidia-ml-py3 in /usr/local/lib/python3.7/dist-packages (from fastai==1.0.60) (7.352.0)\n",
            "Requirement already satisfied: beautifulsoup4 in /usr/local/lib/python3.7/dist-packages (from fastai==1.0.60) (4.6.3)\n",
            "Requirement already satisfied: bottleneck in /usr/local/lib/python3.7/dist-packages (from fastai==1.0.60) (1.3.2)\n",
            "Requirement already satisfied: pandas in /usr/local/lib/python3.7/dist-packages (from fastai==1.0.60) (1.1.5)\n",
            "Requirement already satisfied: spacy>=2.0.18 in /usr/local/lib/python3.7/dist-packages (from fastai==1.0.60) (2.2.4)\n",
            "Requirement already satisfied: torchvision in /usr/local/lib/python3.7/dist-packages (from fastai==1.0.60) (0.8.2+cu101)\n",
            "Requirement already satisfied: Pillow in /usr/local/lib/python3.7/dist-packages (from fastai==1.0.60) (7.0.0)\n",
            "Requirement already satisfied: scipy in /usr/local/lib/python3.7/dist-packages (from fastai==1.0.60) (1.4.1)\n",
            "Requirement already satisfied: torch>=1.0.0 in /usr/local/lib/python3.7/dist-packages (from fastai==1.0.60) (1.7.1+cu101)\n",
            "Requirement already satisfied: packaging in /usr/local/lib/python3.7/dist-packages (from fastai==1.0.60) (20.9)\n",
            "Requirement already satisfied: pyyaml in /usr/local/lib/python3.7/dist-packages (from fastai==1.0.60) (3.13)\n",
            "Requirement already satisfied: fastprogress>=0.2.1 in /usr/local/lib/python3.7/dist-packages (from fastai==1.0.60) (1.0.0)\n",
            "Collecting boto3\n",
            "\u001b[?25l  Downloading https://files.pythonhosted.org/packages/7a/52/0b762e2ae28bc880ff2b5cd0c4515c6cb86d0d07fa92fe342beb06bea66d/boto3-1.17.19-py2.py3-none-any.whl (130kB)\n",
            "\u001b[K     |████████████████████████████████| 133kB 46.8MB/s \n",
            "\u001b[?25hRequirement already satisfied: regex!=2019.12.17 in /usr/local/lib/python3.7/dist-packages (from transformers==2.3.0) (2019.12.20)\n",
            "Collecting sacremoses\n",
            "\u001b[?25l  Downloading https://files.pythonhosted.org/packages/7d/34/09d19aff26edcc8eb2a01bed8e98f13a1537005d31e95233fd48216eed10/sacremoses-0.0.43.tar.gz (883kB)\n",
            "\u001b[K     |████████████████████████████████| 890kB 52.5MB/s \n",
            "\u001b[?25hCollecting sentencepiece\n",
            "\u001b[?25l  Downloading https://files.pythonhosted.org/packages/f5/99/e0808cb947ba10f575839c43e8fafc9cc44e4a7a2c8f79c60db48220a577/sentencepiece-0.1.95-cp37-cp37m-manylinux2014_x86_64.whl (1.2MB)\n",
            "\u001b[K     |████████████████████████████████| 1.2MB 47.8MB/s \n",
            "\u001b[?25hRequirement already satisfied: tqdm in /usr/local/lib/python3.7/dist-packages (from transformers==2.3.0) (4.41.1)\n",
            "Requirement already satisfied: pyparsing!=2.0.4,!=2.1.2,!=2.1.6,>=2.0.1 in /usr/local/lib/python3.7/dist-packages (from matplotlib->fastai==1.0.60) (2.4.7)\n",
            "Requirement already satisfied: kiwisolver>=1.0.1 in /usr/local/lib/python3.7/dist-packages (from matplotlib->fastai==1.0.60) (1.3.1)\n",
            "Requirement already satisfied: python-dateutil>=2.1 in /usr/local/lib/python3.7/dist-packages (from matplotlib->fastai==1.0.60) (2.8.1)\n",
            "Requirement already satisfied: cycler>=0.10 in /usr/local/lib/python3.7/dist-packages (from matplotlib->fastai==1.0.60) (0.10.0)\n",
            "Requirement already satisfied: chardet<4,>=3.0.2 in /usr/local/lib/python3.7/dist-packages (from requests->fastai==1.0.60) (3.0.4)\n",
            "Requirement already satisfied: urllib3!=1.25.0,!=1.25.1,<1.26,>=1.21.1 in /usr/local/lib/python3.7/dist-packages (from requests->fastai==1.0.60) (1.24.3)\n",
            "Requirement already satisfied: idna<3,>=2.5 in /usr/local/lib/python3.7/dist-packages (from requests->fastai==1.0.60) (2.10)\n",
            "Requirement already satisfied: certifi>=2017.4.17 in /usr/local/lib/python3.7/dist-packages (from requests->fastai==1.0.60) (2020.12.5)\n",
            "Requirement already satisfied: pytz>=2017.2 in /usr/local/lib/python3.7/dist-packages (from pandas->fastai==1.0.60) (2018.9)\n",
            "Requirement already satisfied: blis<0.5.0,>=0.4.0 in /usr/local/lib/python3.7/dist-packages (from spacy>=2.0.18->fastai==1.0.60) (0.4.1)\n",
            "Requirement already satisfied: preshed<3.1.0,>=3.0.2 in /usr/local/lib/python3.7/dist-packages (from spacy>=2.0.18->fastai==1.0.60) (3.0.5)\n",
            "Requirement already satisfied: srsly<1.1.0,>=1.0.2 in /usr/local/lib/python3.7/dist-packages (from spacy>=2.0.18->fastai==1.0.60) (1.0.5)\n",
            "Requirement already satisfied: setuptools in /usr/local/lib/python3.7/dist-packages (from spacy>=2.0.18->fastai==1.0.60) (54.0.0)\n",
            "Requirement already satisfied: plac<1.2.0,>=0.9.6 in /usr/local/lib/python3.7/dist-packages (from spacy>=2.0.18->fastai==1.0.60) (1.1.3)\n",
            "Requirement already satisfied: wasabi<1.1.0,>=0.4.0 in /usr/local/lib/python3.7/dist-packages (from spacy>=2.0.18->fastai==1.0.60) (0.8.2)\n",
            "Requirement already satisfied: cymem<2.1.0,>=2.0.2 in /usr/local/lib/python3.7/dist-packages (from spacy>=2.0.18->fastai==1.0.60) (2.0.5)\n",
            "Requirement already satisfied: catalogue<1.1.0,>=0.0.7 in /usr/local/lib/python3.7/dist-packages (from spacy>=2.0.18->fastai==1.0.60) (1.0.0)\n",
            "Requirement already satisfied: murmurhash<1.1.0,>=0.28.0 in /usr/local/lib/python3.7/dist-packages (from spacy>=2.0.18->fastai==1.0.60) (1.0.5)\n",
            "Requirement already satisfied: thinc==7.4.0 in /usr/local/lib/python3.7/dist-packages (from spacy>=2.0.18->fastai==1.0.60) (7.4.0)\n",
            "Requirement already satisfied: typing-extensions in /usr/local/lib/python3.7/dist-packages (from torch>=1.0.0->fastai==1.0.60) (3.7.4.3)\n",
            "Collecting s3transfer<0.4.0,>=0.3.0\n",
            "\u001b[?25l  Downloading https://files.pythonhosted.org/packages/ea/43/4b4a1b26eb03a429a4c37ca7fdf369d938bd60018fc194e94b8379b0c77c/s3transfer-0.3.4-py2.py3-none-any.whl (69kB)\n",
            "\u001b[K     |████████████████████████████████| 71kB 8.4MB/s \n",
            "\u001b[?25hCollecting botocore<1.21.0,>=1.20.19\n",
            "\u001b[?25l  Downloading https://files.pythonhosted.org/packages/c9/84/3f9f99ff67e7f146fb8b785db0920365eb10ba477db5b25a3d8e04b6d8d9/botocore-1.20.19-py2.py3-none-any.whl (7.3MB)\n",
            "\u001b[K     |████████████████████████████████| 7.3MB 47.3MB/s \n",
            "\u001b[?25hCollecting jmespath<1.0.0,>=0.7.1\n",
            "  Downloading https://files.pythonhosted.org/packages/07/cb/5f001272b6faeb23c1c9e0acc04d48eaaf5c862c17709d20e3469c6e0139/jmespath-0.10.0-py2.py3-none-any.whl\n",
            "Requirement already satisfied: six in /usr/local/lib/python3.7/dist-packages (from sacremoses->transformers==2.3.0) (1.15.0)\n",
            "Requirement already satisfied: click in /usr/local/lib/python3.7/dist-packages (from sacremoses->transformers==2.3.0) (7.1.2)\n",
            "Requirement already satisfied: joblib in /usr/local/lib/python3.7/dist-packages (from sacremoses->transformers==2.3.0) (1.0.1)\n",
            "Requirement already satisfied: importlib-metadata>=0.20; python_version < \"3.8\" in /usr/local/lib/python3.7/dist-packages (from catalogue<1.1.0,>=0.0.7->spacy>=2.0.18->fastai==1.0.60) (3.7.0)\n",
            "Requirement already satisfied: zipp>=0.5 in /usr/local/lib/python3.7/dist-packages (from importlib-metadata>=0.20; python_version < \"3.8\"->catalogue<1.1.0,>=0.0.7->spacy>=2.0.18->fastai==1.0.60) (3.4.0)\n",
            "Building wheels for collected packages: sacremoses\n",
            "  Building wheel for sacremoses (setup.py) ... \u001b[?25l\u001b[?25hdone\n",
            "  Created wheel for sacremoses: filename=sacremoses-0.0.43-cp37-none-any.whl size=893262 sha256=05bc9c527bc67307d1195fa3962f4e494845b6c0cfe37d22abd3fbf00634ba34\n",
            "  Stored in directory: /root/.cache/pip/wheels/29/3c/fd/7ce5c3f0666dab31a50123635e6fb5e19ceb42ce38d4e58f45\n",
            "Successfully built sacremoses\n",
            "\u001b[31mERROR: botocore 1.20.19 has requirement urllib3<1.27,>=1.25.4, but you'll have urllib3 1.24.3 which is incompatible.\u001b[0m\n",
            "Installing collected packages: fastai, jmespath, botocore, s3transfer, boto3, sacremoses, sentencepiece, transformers\n",
            "  Found existing installation: fastai 1.0.61\n",
            "    Uninstalling fastai-1.0.61:\n",
            "      Successfully uninstalled fastai-1.0.61\n",
            "Successfully installed boto3-1.17.19 botocore-1.20.19 fastai-1.0.60 jmespath-0.10.0 s3transfer-0.3.4 sacremoses-0.0.43 sentencepiece-0.1.95 transformers-2.3.0\n"
          ],
          "name": "stdout"
        }
      ]
    },
    {
      "cell_type": "markdown",
      "metadata": {
        "id": "5vgh8Gij0noX"
      },
      "source": [
        "**Load And Set Configuration**"
      ]
    },
    {
      "cell_type": "code",
      "metadata": {
        "id": "AEBf1Jm_yj-w"
      },
      "source": [
        "from fastai.text import *\n",
        "from fastai.metrics import *\n"
      ],
      "execution_count": null,
      "outputs": []
    },
    {
      "cell_type": "code",
      "metadata": {
        "id": "AEBf1Jm_yj-w"
      },
      "source": [
        "from transformers import RobertaTokenizer"
      ],
      "execution_count": null,
      "outputs": []
    },
    {
      "cell_type": "code",
      "metadata": {
        "id": "c3pGqaBqyx5t"
      },
      "source": [
        "# Creating a config object to store task specific information\n",
        "class Config(dict):\n",
        "    def __init__(self, **kwargs):\n",
        "        super().__init__(**kwargs)\n",
        "        for k, v in kwargs.items():\n",
        "            setattr(self, k, v)\n",
        "    \n",
        "    def set(self, key, val):\n",
        "        self[key] = val\n",
        "        setattr(self, key, val)\n",
        "        \n",
        "config = Config(\n",
        "    testing=True,\n",
        "    seed = 2019,\n",
        "    roberta_model_name='roberta-base', # can also be exchnaged with roberta-large \n",
        "    max_lr=1e-5,\n",
        "    epochs=1,\n",
        "    use_fp16=False,\n",
        "    bs=4, \n",
        "    max_seq_len=256, \n",
        "    num_labels = 2,\n",
        "    hidden_dropout_prob=.05,\n",
        "    hidden_size=768, # 1024 for roberta-large\n",
        "    start_tok = \"<s>\",\n",
        "    end_tok = \"</s>\",\n",
        ")"
      ],
      "execution_count": null,
      "outputs": []
    },
    {
      "cell_type": "code",
      "metadata": {
        "id": "Qm9HYGaly3dH"
      },
      "source": [
        "df = pd.read_csv(\"/content/dataset.csv\")"
      ],
      "execution_count": null,
      "outputs": []
    },
    {
      "cell_type": "code",
      "metadata": {
        "id": "GKPU6At-zKE7"
      },
      "source": [
        "df=df.drop(df.columns[[0,3,4]], axis=1)\n",
        "for i in range(len(df['Labels Set'])):\n",
        "    df['Labels Set'][i]=list(df['Labels Set'][i].split(','))"
      ],
      "execution_count": null,
      "outputs": []
    },
    {
      "cell_type": "code",
      "metadata": {
        "colab": {
          "base_uri": "https://localhost:8080/",
          "height": 419
        },
        "id": "BatXEFH8zbxj",
        "outputId": "86ac5197-6430-432a-a2d9-7ce224f02323"
      },
      "source": [
        "df"
      ],
      "execution_count": null,
      "outputs": [
        {
          "output_type": "execute_result",
          "data": {
            "text/html": [
              "<div>\n",
              "<style scoped>\n",
              "    .dataframe tbody tr th:only-of-type {\n",
              "        vertical-align: middle;\n",
              "    }\n",
              "\n",
              "    .dataframe tbody tr th {\n",
              "        vertical-align: top;\n",
              "    }\n",
              "\n",
              "    .dataframe thead th {\n",
              "        text-align: right;\n",
              "    }\n",
              "</style>\n",
              "<table border=\"1\" class=\"dataframe\">\n",
              "  <thead>\n",
              "    <tr style=\"text-align: right;\">\n",
              "      <th></th>\n",
              "      <th>Post</th>\n",
              "      <th>Labels Set</th>\n",
              "    </tr>\n",
              "  </thead>\n",
              "  <tbody>\n",
              "    <tr>\n",
              "      <th>0</th>\n",
              "      <td>मेरे देश के हिन्दु बहुत निराले है। कुछ तो पक्क...</td>\n",
              "      <td>[hate, offensive]</td>\n",
              "    </tr>\n",
              "    <tr>\n",
              "      <th>1</th>\n",
              "      <td>सरकार हमेशा से किसानों की कमाई को बढ़ाने के लि...</td>\n",
              "      <td>[non-hostile]</td>\n",
              "    </tr>\n",
              "    <tr>\n",
              "      <th>2</th>\n",
              "      <td>सुशांत ने जो बिजनेस डील 9 जून को की थी, वो डील...</td>\n",
              "      <td>[non-hostile]</td>\n",
              "    </tr>\n",
              "    <tr>\n",
              "      <th>3</th>\n",
              "      <td>@prabhav218 साले जेएनयू छाप कमिने लोग हिन्दुओं...</td>\n",
              "      <td>[defamation, offensive]</td>\n",
              "    </tr>\n",
              "    <tr>\n",
              "      <th>4</th>\n",
              "      <td>#unlock4guidelines - अनलॉक-4 के लिए गाइडलाइन्स...</td>\n",
              "      <td>[non-hostile]</td>\n",
              "    </tr>\n",
              "    <tr>\n",
              "      <th>...</th>\n",
              "      <td>...</td>\n",
              "      <td>...</td>\n",
              "    </tr>\n",
              "    <tr>\n",
              "      <th>5723</th>\n",
              "      <td>उदितराज जी हिम्मत  जुटा कर उस नेता के लिए कुछ ...</td>\n",
              "      <td>[hate]</td>\n",
              "    </tr>\n",
              "    <tr>\n",
              "      <th>5724</th>\n",
              "      <td>उप्र: पीएम रिपोर्ट में खुलासा: हार्टअटैक से हु...</td>\n",
              "      <td>[non-hostile]</td>\n",
              "    </tr>\n",
              "    <tr>\n",
              "      <th>5725</th>\n",
              "      <td>नौकरी गंवा चुके दोस्त की मदद: नगद के बजाए गिफ्...</td>\n",
              "      <td>[non-hostile]</td>\n",
              "    </tr>\n",
              "    <tr>\n",
              "      <th>5726</th>\n",
              "      <td>बंगाल में हिन्दू मरे हैं इसलिए मुझे कोई फर्क न...</td>\n",
              "      <td>[fake]</td>\n",
              "    </tr>\n",
              "    <tr>\n",
              "      <th>5727</th>\n",
              "      <td>रक्षा मंत्री @rajnathsingh ने पूर्व राष्ट्रपति...</td>\n",
              "      <td>[non-hostile]</td>\n",
              "    </tr>\n",
              "  </tbody>\n",
              "</table>\n",
              "<p>5728 rows × 2 columns</p>\n",
              "</div>"
            ],
            "text/plain": [
              "                                                   Post               Labels Set\n",
              "0     मेरे देश के हिन्दु बहुत निराले है। कुछ तो पक्क...        [hate, offensive]\n",
              "1     सरकार हमेशा से किसानों की कमाई को बढ़ाने के लि...            [non-hostile]\n",
              "2     सुशांत ने जो बिजनेस डील 9 जून को की थी, वो डील...            [non-hostile]\n",
              "3     @prabhav218 साले जेएनयू छाप कमिने लोग हिन्दुओं...  [defamation, offensive]\n",
              "4     #unlock4guidelines - अनलॉक-4 के लिए गाइडलाइन्स...            [non-hostile]\n",
              "...                                                 ...                      ...\n",
              "5723  उदितराज जी हिम्मत  जुटा कर उस नेता के लिए कुछ ...                   [hate]\n",
              "5724  उप्र: पीएम रिपोर्ट में खुलासा: हार्टअटैक से हु...            [non-hostile]\n",
              "5725  नौकरी गंवा चुके दोस्त की मदद: नगद के बजाए गिफ्...            [non-hostile]\n",
              "5726  बंगाल में हिन्दू मरे हैं इसलिए मुझे कोई फर्क न...                   [fake]\n",
              "5727  रक्षा मंत्री @rajnathsingh ने पूर्व राष्ट्रपति...            [non-hostile]\n",
              "\n",
              "[5728 rows x 2 columns]"
            ]
          },
          "metadata": {
            "tags": []
          },
          "execution_count": 7
        }
      ]
    },
    {
      "cell_type": "code",
      "metadata": {
        "colab": {
          "base_uri": "https://localhost:8080/",
          "height": 419
        },
        "id": "ef-ce6xQzftY",
        "outputId": "6eb025bb-0ec9-40a5-9a72-34198cf7df50"
      },
      "source": [
        "from sklearn.preprocessing import MultiLabelBinarizer\n",
        "multilabel = MultiLabelBinarizer()\n",
        "y = multilabel.fit_transform(df['Labels Set'])\n",
        "train_result=pd.DataFrame(y, columns=multilabel.classes_)\n",
        "train_result = train_result.rename({'non-hostile': 'nh'}, axis=1)\n",
        "train_result"
      ],
      "execution_count": null,
      "outputs": [
        {
          "output_type": "execute_result",
          "data": {
            "text/html": [
              "<div>\n",
              "<style scoped>\n",
              "    .dataframe tbody tr th:only-of-type {\n",
              "        vertical-align: middle;\n",
              "    }\n",
              "\n",
              "    .dataframe tbody tr th {\n",
              "        vertical-align: top;\n",
              "    }\n",
              "\n",
              "    .dataframe thead th {\n",
              "        text-align: right;\n",
              "    }\n",
              "</style>\n",
              "<table border=\"1\" class=\"dataframe\">\n",
              "  <thead>\n",
              "    <tr style=\"text-align: right;\">\n",
              "      <th></th>\n",
              "      <th>defamation</th>\n",
              "      <th>fake</th>\n",
              "      <th>hate</th>\n",
              "      <th>nh</th>\n",
              "      <th>offensive</th>\n",
              "    </tr>\n",
              "  </thead>\n",
              "  <tbody>\n",
              "    <tr>\n",
              "      <th>0</th>\n",
              "      <td>0</td>\n",
              "      <td>0</td>\n",
              "      <td>1</td>\n",
              "      <td>0</td>\n",
              "      <td>1</td>\n",
              "    </tr>\n",
              "    <tr>\n",
              "      <th>1</th>\n",
              "      <td>0</td>\n",
              "      <td>0</td>\n",
              "      <td>0</td>\n",
              "      <td>1</td>\n",
              "      <td>0</td>\n",
              "    </tr>\n",
              "    <tr>\n",
              "      <th>2</th>\n",
              "      <td>0</td>\n",
              "      <td>0</td>\n",
              "      <td>0</td>\n",
              "      <td>1</td>\n",
              "      <td>0</td>\n",
              "    </tr>\n",
              "    <tr>\n",
              "      <th>3</th>\n",
              "      <td>1</td>\n",
              "      <td>0</td>\n",
              "      <td>0</td>\n",
              "      <td>0</td>\n",
              "      <td>1</td>\n",
              "    </tr>\n",
              "    <tr>\n",
              "      <th>4</th>\n",
              "      <td>0</td>\n",
              "      <td>0</td>\n",
              "      <td>0</td>\n",
              "      <td>1</td>\n",
              "      <td>0</td>\n",
              "    </tr>\n",
              "    <tr>\n",
              "      <th>...</th>\n",
              "      <td>...</td>\n",
              "      <td>...</td>\n",
              "      <td>...</td>\n",
              "      <td>...</td>\n",
              "      <td>...</td>\n",
              "    </tr>\n",
              "    <tr>\n",
              "      <th>5723</th>\n",
              "      <td>0</td>\n",
              "      <td>0</td>\n",
              "      <td>1</td>\n",
              "      <td>0</td>\n",
              "      <td>0</td>\n",
              "    </tr>\n",
              "    <tr>\n",
              "      <th>5724</th>\n",
              "      <td>0</td>\n",
              "      <td>0</td>\n",
              "      <td>0</td>\n",
              "      <td>1</td>\n",
              "      <td>0</td>\n",
              "    </tr>\n",
              "    <tr>\n",
              "      <th>5725</th>\n",
              "      <td>0</td>\n",
              "      <td>0</td>\n",
              "      <td>0</td>\n",
              "      <td>1</td>\n",
              "      <td>0</td>\n",
              "    </tr>\n",
              "    <tr>\n",
              "      <th>5726</th>\n",
              "      <td>0</td>\n",
              "      <td>1</td>\n",
              "      <td>0</td>\n",
              "      <td>0</td>\n",
              "      <td>0</td>\n",
              "    </tr>\n",
              "    <tr>\n",
              "      <th>5727</th>\n",
              "      <td>0</td>\n",
              "      <td>0</td>\n",
              "      <td>0</td>\n",
              "      <td>1</td>\n",
              "      <td>0</td>\n",
              "    </tr>\n",
              "  </tbody>\n",
              "</table>\n",
              "<p>5728 rows × 5 columns</p>\n",
              "</div>"
            ],
            "text/plain": [
              "      defamation  fake  hate  nh  offensive\n",
              "0              0     0     1   0          1\n",
              "1              0     0     0   1          0\n",
              "2              0     0     0   1          0\n",
              "3              1     0     0   0          1\n",
              "4              0     0     0   1          0\n",
              "...          ...   ...   ...  ..        ...\n",
              "5723           0     0     1   0          0\n",
              "5724           0     0     0   1          0\n",
              "5725           0     0     0   1          0\n",
              "5726           0     1     0   0          0\n",
              "5727           0     0     0   1          0\n",
              "\n",
              "[5728 rows x 5 columns]"
            ]
          },
          "metadata": {
            "tags": []
          },
          "execution_count": 8
        }
      ]
    },
    {
      "cell_type": "code",
      "metadata": {
        "id": "zCEX_vmaz0gw"
      },
      "source": [
        "df = pd.concat([df, train_result], axis=1)"
      ],
      "execution_count": null,
      "outputs": []
    },
    {
      "cell_type": "code",
      "metadata": {
        "colab": {
          "base_uri": "https://localhost:8080/",
          "height": 204
        },
        "id": "mhtmFkQ30ND3",
        "outputId": "2bec1aaf-fe5d-41d8-e4e1-871b741f4fbb"
      },
      "source": [
        "df.head()"
      ],
      "execution_count": null,
      "outputs": [
        {
          "output_type": "execute_result",
          "data": {
            "text/html": [
              "<div>\n",
              "<style scoped>\n",
              "    .dataframe tbody tr th:only-of-type {\n",
              "        vertical-align: middle;\n",
              "    }\n",
              "\n",
              "    .dataframe tbody tr th {\n",
              "        vertical-align: top;\n",
              "    }\n",
              "\n",
              "    .dataframe thead th {\n",
              "        text-align: right;\n",
              "    }\n",
              "</style>\n",
              "<table border=\"1\" class=\"dataframe\">\n",
              "  <thead>\n",
              "    <tr style=\"text-align: right;\">\n",
              "      <th></th>\n",
              "      <th>Post</th>\n",
              "      <th>Labels Set</th>\n",
              "      <th>defamation</th>\n",
              "      <th>fake</th>\n",
              "      <th>hate</th>\n",
              "      <th>nh</th>\n",
              "      <th>offensive</th>\n",
              "    </tr>\n",
              "  </thead>\n",
              "  <tbody>\n",
              "    <tr>\n",
              "      <th>0</th>\n",
              "      <td>मेरे देश के हिन्दु बहुत निराले है। कुछ तो पक्क...</td>\n",
              "      <td>[hate, offensive]</td>\n",
              "      <td>0</td>\n",
              "      <td>0</td>\n",
              "      <td>1</td>\n",
              "      <td>0</td>\n",
              "      <td>1</td>\n",
              "    </tr>\n",
              "    <tr>\n",
              "      <th>1</th>\n",
              "      <td>सरकार हमेशा से किसानों की कमाई को बढ़ाने के लि...</td>\n",
              "      <td>[non-hostile]</td>\n",
              "      <td>0</td>\n",
              "      <td>0</td>\n",
              "      <td>0</td>\n",
              "      <td>1</td>\n",
              "      <td>0</td>\n",
              "    </tr>\n",
              "    <tr>\n",
              "      <th>2</th>\n",
              "      <td>सुशांत ने जो बिजनेस डील 9 जून को की थी, वो डील...</td>\n",
              "      <td>[non-hostile]</td>\n",
              "      <td>0</td>\n",
              "      <td>0</td>\n",
              "      <td>0</td>\n",
              "      <td>1</td>\n",
              "      <td>0</td>\n",
              "    </tr>\n",
              "    <tr>\n",
              "      <th>3</th>\n",
              "      <td>@prabhav218 साले जेएनयू छाप कमिने लोग हिन्दुओं...</td>\n",
              "      <td>[defamation, offensive]</td>\n",
              "      <td>1</td>\n",
              "      <td>0</td>\n",
              "      <td>0</td>\n",
              "      <td>0</td>\n",
              "      <td>1</td>\n",
              "    </tr>\n",
              "    <tr>\n",
              "      <th>4</th>\n",
              "      <td>#unlock4guidelines - अनलॉक-4 के लिए गाइडलाइन्स...</td>\n",
              "      <td>[non-hostile]</td>\n",
              "      <td>0</td>\n",
              "      <td>0</td>\n",
              "      <td>0</td>\n",
              "      <td>1</td>\n",
              "      <td>0</td>\n",
              "    </tr>\n",
              "  </tbody>\n",
              "</table>\n",
              "</div>"
            ],
            "text/plain": [
              "                                                Post  ... offensive\n",
              "0  मेरे देश के हिन्दु बहुत निराले है। कुछ तो पक्क...  ...         1\n",
              "1  सरकार हमेशा से किसानों की कमाई को बढ़ाने के लि...  ...         0\n",
              "2  सुशांत ने जो बिजनेस डील 9 जून को की थी, वो डील...  ...         0\n",
              "3  @prabhav218 साले जेएनयू छाप कमिने लोग हिन्दुओं...  ...         1\n",
              "4  #unlock4guidelines - अनलॉक-4 के लिए गाइडलाइन्स...  ...         0\n",
              "\n",
              "[5 rows x 7 columns]"
            ]
          },
          "metadata": {
            "tags": []
          },
          "execution_count": 10
        }
      ]
    },
    {
      "cell_type": "code",
      "metadata": {
        "colab": {
          "base_uri": "https://localhost:8080/",
          "height": 419
        },
        "id": "vetV7LF0MQ98",
        "outputId": "1f3798c2-8cf1-45f8-bacb-6daf3c9f87ba"
      },
      "source": [
        "test_df = pd.read_csv(\"/content/validation.csv\")\n",
        "test_df=test_df.drop(test_df.columns[[0]], axis=1)\n",
        "for i in range(len(test_df['Labels Set'])):\n",
        "    test_df['Labels Set'][i]=list(test_df['Labels Set'][i].split(','))\n",
        "from sklearn.preprocessing import MultiLabelBinarizer\n",
        "multilabel = MultiLabelBinarizer()\n",
        "y = multilabel.fit_transform(test_df['Labels Set'])\n",
        "test_result=pd.DataFrame(y, columns=multilabel.classes_)\n",
        "test_result = test_result.rename({'non-hostile': 'nh'}, axis=1)\n",
        "test_result"
      ],
      "execution_count": null,
      "outputs": [
        {
          "output_type": "execute_result",
          "data": {
            "text/html": [
              "<div>\n",
              "<style scoped>\n",
              "    .dataframe tbody tr th:only-of-type {\n",
              "        vertical-align: middle;\n",
              "    }\n",
              "\n",
              "    .dataframe tbody tr th {\n",
              "        vertical-align: top;\n",
              "    }\n",
              "\n",
              "    .dataframe thead th {\n",
              "        text-align: right;\n",
              "    }\n",
              "</style>\n",
              "<table border=\"1\" class=\"dataframe\">\n",
              "  <thead>\n",
              "    <tr style=\"text-align: right;\">\n",
              "      <th></th>\n",
              "      <th>defamation</th>\n",
              "      <th>fake</th>\n",
              "      <th>hate</th>\n",
              "      <th>nh</th>\n",
              "      <th>offensive</th>\n",
              "    </tr>\n",
              "  </thead>\n",
              "  <tbody>\n",
              "    <tr>\n",
              "      <th>0</th>\n",
              "      <td>0</td>\n",
              "      <td>0</td>\n",
              "      <td>0</td>\n",
              "      <td>1</td>\n",
              "      <td>0</td>\n",
              "    </tr>\n",
              "    <tr>\n",
              "      <th>1</th>\n",
              "      <td>1</td>\n",
              "      <td>0</td>\n",
              "      <td>0</td>\n",
              "      <td>0</td>\n",
              "      <td>0</td>\n",
              "    </tr>\n",
              "    <tr>\n",
              "      <th>2</th>\n",
              "      <td>0</td>\n",
              "      <td>0</td>\n",
              "      <td>0</td>\n",
              "      <td>1</td>\n",
              "      <td>0</td>\n",
              "    </tr>\n",
              "    <tr>\n",
              "      <th>3</th>\n",
              "      <td>0</td>\n",
              "      <td>0</td>\n",
              "      <td>0</td>\n",
              "      <td>1</td>\n",
              "      <td>0</td>\n",
              "    </tr>\n",
              "    <tr>\n",
              "      <th>4</th>\n",
              "      <td>0</td>\n",
              "      <td>0</td>\n",
              "      <td>0</td>\n",
              "      <td>1</td>\n",
              "      <td>0</td>\n",
              "    </tr>\n",
              "    <tr>\n",
              "      <th>...</th>\n",
              "      <td>...</td>\n",
              "      <td>...</td>\n",
              "      <td>...</td>\n",
              "      <td>...</td>\n",
              "      <td>...</td>\n",
              "    </tr>\n",
              "    <tr>\n",
              "      <th>806</th>\n",
              "      <td>0</td>\n",
              "      <td>0</td>\n",
              "      <td>1</td>\n",
              "      <td>0</td>\n",
              "      <td>0</td>\n",
              "    </tr>\n",
              "    <tr>\n",
              "      <th>807</th>\n",
              "      <td>1</td>\n",
              "      <td>0</td>\n",
              "      <td>0</td>\n",
              "      <td>0</td>\n",
              "      <td>0</td>\n",
              "    </tr>\n",
              "    <tr>\n",
              "      <th>808</th>\n",
              "      <td>0</td>\n",
              "      <td>0</td>\n",
              "      <td>0</td>\n",
              "      <td>1</td>\n",
              "      <td>0</td>\n",
              "    </tr>\n",
              "    <tr>\n",
              "      <th>809</th>\n",
              "      <td>0</td>\n",
              "      <td>0</td>\n",
              "      <td>0</td>\n",
              "      <td>1</td>\n",
              "      <td>0</td>\n",
              "    </tr>\n",
              "    <tr>\n",
              "      <th>810</th>\n",
              "      <td>0</td>\n",
              "      <td>1</td>\n",
              "      <td>0</td>\n",
              "      <td>0</td>\n",
              "      <td>0</td>\n",
              "    </tr>\n",
              "  </tbody>\n",
              "</table>\n",
              "<p>811 rows × 5 columns</p>\n",
              "</div>"
            ],
            "text/plain": [
              "     defamation  fake  hate  nh  offensive\n",
              "0             0     0     0   1          0\n",
              "1             1     0     0   0          0\n",
              "2             0     0     0   1          0\n",
              "3             0     0     0   1          0\n",
              "4             0     0     0   1          0\n",
              "..          ...   ...   ...  ..        ...\n",
              "806           0     0     1   0          0\n",
              "807           1     0     0   0          0\n",
              "808           0     0     0   1          0\n",
              "809           0     0     0   1          0\n",
              "810           0     1     0   0          0\n",
              "\n",
              "[811 rows x 5 columns]"
            ]
          },
          "metadata": {
            "tags": []
          },
          "execution_count": 11
        }
      ]
    },
    {
      "cell_type": "code",
      "metadata": {
        "colab": {
          "base_uri": "https://localhost:8080/",
          "height": 204
        },
        "id": "7YAIzo3vNgy1",
        "outputId": "dc202067-dcde-42b6-d6c6-77cee48e11c0"
      },
      "source": [
        "test_df = pd.concat([test_df, test_result], axis=1)\n",
        "test_df.head()"
      ],
      "execution_count": null,
      "outputs": [
        {
          "output_type": "execute_result",
          "data": {
            "text/html": [
              "<div>\n",
              "<style scoped>\n",
              "    .dataframe tbody tr th:only-of-type {\n",
              "        vertical-align: middle;\n",
              "    }\n",
              "\n",
              "    .dataframe tbody tr th {\n",
              "        vertical-align: top;\n",
              "    }\n",
              "\n",
              "    .dataframe thead th {\n",
              "        text-align: right;\n",
              "    }\n",
              "</style>\n",
              "<table border=\"1\" class=\"dataframe\">\n",
              "  <thead>\n",
              "    <tr style=\"text-align: right;\">\n",
              "      <th></th>\n",
              "      <th>Post</th>\n",
              "      <th>Labels Set</th>\n",
              "      <th>defamation</th>\n",
              "      <th>fake</th>\n",
              "      <th>hate</th>\n",
              "      <th>nh</th>\n",
              "      <th>offensive</th>\n",
              "    </tr>\n",
              "  </thead>\n",
              "  <tbody>\n",
              "    <tr>\n",
              "      <th>0</th>\n",
              "      <td>दृढ़ इच्छा शक्ति से परिपूर्ण प्रणबदा के लिए दे...</td>\n",
              "      <td>[non-hostile]</td>\n",
              "      <td>0</td>\n",
              "      <td>0</td>\n",
              "      <td>0</td>\n",
              "      <td>1</td>\n",
              "      <td>0</td>\n",
              "    </tr>\n",
              "    <tr>\n",
              "      <th>1</th>\n",
              "      <td>भारतीय जनता पार्टी rss वाले इतने गिरे हुए हैं ...</td>\n",
              "      <td>[defamation]</td>\n",
              "      <td>1</td>\n",
              "      <td>0</td>\n",
              "      <td>0</td>\n",
              "      <td>0</td>\n",
              "      <td>0</td>\n",
              "    </tr>\n",
              "    <tr>\n",
              "      <th>2</th>\n",
              "      <td>कोरोना से निपटने की तैयारी / दिल्ली में 10 हजा...</td>\n",
              "      <td>[non-hostile]</td>\n",
              "      <td>0</td>\n",
              "      <td>0</td>\n",
              "      <td>0</td>\n",
              "      <td>1</td>\n",
              "      <td>0</td>\n",
              "    </tr>\n",
              "    <tr>\n",
              "      <th>3</th>\n",
              "      <td>गवर्नर कॉन्फ्रेंस में PM मोदी बोले- शिक्षा नीत...</td>\n",
              "      <td>[non-hostile]</td>\n",
              "      <td>0</td>\n",
              "      <td>0</td>\n",
              "      <td>0</td>\n",
              "      <td>1</td>\n",
              "      <td>0</td>\n",
              "    </tr>\n",
              "    <tr>\n",
              "      <th>4</th>\n",
              "      <td>यूपी: गाजीपुर में Toilet घोटाला, प्रधान व सचिव...</td>\n",
              "      <td>[non-hostile]</td>\n",
              "      <td>0</td>\n",
              "      <td>0</td>\n",
              "      <td>0</td>\n",
              "      <td>1</td>\n",
              "      <td>0</td>\n",
              "    </tr>\n",
              "  </tbody>\n",
              "</table>\n",
              "</div>"
            ],
            "text/plain": [
              "                                                Post  ... offensive\n",
              "0  दृढ़ इच्छा शक्ति से परिपूर्ण प्रणबदा के लिए दे...  ...         0\n",
              "1  भारतीय जनता पार्टी rss वाले इतने गिरे हुए हैं ...  ...         0\n",
              "2  कोरोना से निपटने की तैयारी / दिल्ली में 10 हजा...  ...         0\n",
              "3  गवर्नर कॉन्फ्रेंस में PM मोदी बोले- शिक्षा नीत...  ...         0\n",
              "4  यूपी: गाजीपुर में Toilet घोटाला, प्रधान व सचिव...  ...         0\n",
              "\n",
              "[5 rows x 7 columns]"
            ]
          },
          "metadata": {
            "tags": []
          },
          "execution_count": 12
        }
      ]
    },
    {
      "cell_type": "code",
      "metadata": {
        "id": "zTPlvVfOVrC5"
      },
      "source": [
        "# frames = [df, test_df]\n",
        "# df = pd.concat(frames)\n"
      ],
      "execution_count": null,
      "outputs": []
    },
    {
      "cell_type": "code",
      "metadata": {
        "id": "LZ6GyGc7V_I3",
        "colab": {
          "base_uri": "https://localhost:8080/",
          "height": 419
        },
        "outputId": "41061bb3-2c4b-476c-d614-c517049098c8"
      },
      "source": [
        "df.head()\n",
        "df"
      ],
      "execution_count": null,
      "outputs": [
        {
          "output_type": "execute_result",
          "data": {
            "text/html": [
              "<div>\n",
              "<style scoped>\n",
              "    .dataframe tbody tr th:only-of-type {\n",
              "        vertical-align: middle;\n",
              "    }\n",
              "\n",
              "    .dataframe tbody tr th {\n",
              "        vertical-align: top;\n",
              "    }\n",
              "\n",
              "    .dataframe thead th {\n",
              "        text-align: right;\n",
              "    }\n",
              "</style>\n",
              "<table border=\"1\" class=\"dataframe\">\n",
              "  <thead>\n",
              "    <tr style=\"text-align: right;\">\n",
              "      <th></th>\n",
              "      <th>Post</th>\n",
              "      <th>Labels Set</th>\n",
              "      <th>defamation</th>\n",
              "      <th>fake</th>\n",
              "      <th>hate</th>\n",
              "      <th>nh</th>\n",
              "      <th>offensive</th>\n",
              "    </tr>\n",
              "  </thead>\n",
              "  <tbody>\n",
              "    <tr>\n",
              "      <th>0</th>\n",
              "      <td>मेरे देश के हिन्दु बहुत निराले है। कुछ तो पक्क...</td>\n",
              "      <td>[hate, offensive]</td>\n",
              "      <td>0</td>\n",
              "      <td>0</td>\n",
              "      <td>1</td>\n",
              "      <td>0</td>\n",
              "      <td>1</td>\n",
              "    </tr>\n",
              "    <tr>\n",
              "      <th>1</th>\n",
              "      <td>सरकार हमेशा से किसानों की कमाई को बढ़ाने के लि...</td>\n",
              "      <td>[non-hostile]</td>\n",
              "      <td>0</td>\n",
              "      <td>0</td>\n",
              "      <td>0</td>\n",
              "      <td>1</td>\n",
              "      <td>0</td>\n",
              "    </tr>\n",
              "    <tr>\n",
              "      <th>2</th>\n",
              "      <td>सुशांत ने जो बिजनेस डील 9 जून को की थी, वो डील...</td>\n",
              "      <td>[non-hostile]</td>\n",
              "      <td>0</td>\n",
              "      <td>0</td>\n",
              "      <td>0</td>\n",
              "      <td>1</td>\n",
              "      <td>0</td>\n",
              "    </tr>\n",
              "    <tr>\n",
              "      <th>3</th>\n",
              "      <td>@prabhav218 साले जेएनयू छाप कमिने लोग हिन्दुओं...</td>\n",
              "      <td>[defamation, offensive]</td>\n",
              "      <td>1</td>\n",
              "      <td>0</td>\n",
              "      <td>0</td>\n",
              "      <td>0</td>\n",
              "      <td>1</td>\n",
              "    </tr>\n",
              "    <tr>\n",
              "      <th>4</th>\n",
              "      <td>#unlock4guidelines - अनलॉक-4 के लिए गाइडलाइन्स...</td>\n",
              "      <td>[non-hostile]</td>\n",
              "      <td>0</td>\n",
              "      <td>0</td>\n",
              "      <td>0</td>\n",
              "      <td>1</td>\n",
              "      <td>0</td>\n",
              "    </tr>\n",
              "    <tr>\n",
              "      <th>...</th>\n",
              "      <td>...</td>\n",
              "      <td>...</td>\n",
              "      <td>...</td>\n",
              "      <td>...</td>\n",
              "      <td>...</td>\n",
              "      <td>...</td>\n",
              "      <td>...</td>\n",
              "    </tr>\n",
              "    <tr>\n",
              "      <th>5723</th>\n",
              "      <td>उदितराज जी हिम्मत  जुटा कर उस नेता के लिए कुछ ...</td>\n",
              "      <td>[hate]</td>\n",
              "      <td>0</td>\n",
              "      <td>0</td>\n",
              "      <td>1</td>\n",
              "      <td>0</td>\n",
              "      <td>0</td>\n",
              "    </tr>\n",
              "    <tr>\n",
              "      <th>5724</th>\n",
              "      <td>उप्र: पीएम रिपोर्ट में खुलासा: हार्टअटैक से हु...</td>\n",
              "      <td>[non-hostile]</td>\n",
              "      <td>0</td>\n",
              "      <td>0</td>\n",
              "      <td>0</td>\n",
              "      <td>1</td>\n",
              "      <td>0</td>\n",
              "    </tr>\n",
              "    <tr>\n",
              "      <th>5725</th>\n",
              "      <td>नौकरी गंवा चुके दोस्त की मदद: नगद के बजाए गिफ्...</td>\n",
              "      <td>[non-hostile]</td>\n",
              "      <td>0</td>\n",
              "      <td>0</td>\n",
              "      <td>0</td>\n",
              "      <td>1</td>\n",
              "      <td>0</td>\n",
              "    </tr>\n",
              "    <tr>\n",
              "      <th>5726</th>\n",
              "      <td>बंगाल में हिन्दू मरे हैं इसलिए मुझे कोई फर्क न...</td>\n",
              "      <td>[fake]</td>\n",
              "      <td>0</td>\n",
              "      <td>1</td>\n",
              "      <td>0</td>\n",
              "      <td>0</td>\n",
              "      <td>0</td>\n",
              "    </tr>\n",
              "    <tr>\n",
              "      <th>5727</th>\n",
              "      <td>रक्षा मंत्री @rajnathsingh ने पूर्व राष्ट्रपति...</td>\n",
              "      <td>[non-hostile]</td>\n",
              "      <td>0</td>\n",
              "      <td>0</td>\n",
              "      <td>0</td>\n",
              "      <td>1</td>\n",
              "      <td>0</td>\n",
              "    </tr>\n",
              "  </tbody>\n",
              "</table>\n",
              "<p>5728 rows × 7 columns</p>\n",
              "</div>"
            ],
            "text/plain": [
              "                                                   Post  ... offensive\n",
              "0     मेरे देश के हिन्दु बहुत निराले है। कुछ तो पक्क...  ...         1\n",
              "1     सरकार हमेशा से किसानों की कमाई को बढ़ाने के लि...  ...         0\n",
              "2     सुशांत ने जो बिजनेस डील 9 जून को की थी, वो डील...  ...         0\n",
              "3     @prabhav218 साले जेएनयू छाप कमिने लोग हिन्दुओं...  ...         1\n",
              "4     #unlock4guidelines - अनलॉक-4 के लिए गाइडलाइन्स...  ...         0\n",
              "...                                                 ...  ...       ...\n",
              "5723  उदितराज जी हिम्मत  जुटा कर उस नेता के लिए कुछ ...  ...         0\n",
              "5724  उप्र: पीएम रिपोर्ट में खुलासा: हार्टअटैक से हु...  ...         0\n",
              "5725  नौकरी गंवा चुके दोस्त की मदद: नगद के बजाए गिफ्...  ...         0\n",
              "5726  बंगाल में हिन्दू मरे हैं इसलिए मुझे कोई फर्क न...  ...         0\n",
              "5727  रक्षा मंत्री @rajnathsingh ने पूर्व राष्ट्रपति...  ...         0\n",
              "\n",
              "[5728 rows x 7 columns]"
            ]
          },
          "metadata": {
            "tags": []
          },
          "execution_count": 14
        }
      ]
    },
    {
      "cell_type": "code",
      "metadata": {
        "id": "wCNNVrze0Ob7"
      },
      "source": [
        "feat_cols = \"Post\"\n",
        "label_cols = \"fake\""
      ],
      "execution_count": null,
      "outputs": []
    },
    {
      "cell_type": "markdown",
      "metadata": {
        "id": "Xd9Mxw7u0s46"
      },
      "source": [
        "\n",
        "**Setting Up the Tokenizer**"
      ]
    },
    {
      "cell_type": "code",
      "metadata": {
        "id": "51IFK20h0Ww1"
      },
      "source": [
        "\n",
        "class FastAiRobertaTokenizer(BaseTokenizer):\n",
        "    \"\"\"Wrapper around RobertaTokenizer to be compatible with fastai\"\"\"\n",
        "    def __init__(self, tokenizer: RobertaTokenizer, max_seq_len: int=128, **kwargs): \n",
        "        self._pretrained_tokenizer = tokenizer\n",
        "        self.max_seq_len = max_seq_len \n",
        "    def __call__(self, *args, **kwargs): \n",
        "        return self \n",
        "    def tokenizer(self, t:str) -> List[str]: \n",
        "        \"\"\"Adds Roberta bos and eos tokens and limits the maximum sequence length\"\"\" \n",
        "        return [config.start_tok] + self._pretrained_tokenizer.tokenize(t)[:self.max_seq_len - 2] + [config.end_tok]"
      ],
      "execution_count": null,
      "outputs": []
    },
    {
      "cell_type": "code",
      "metadata": {
        "id": "SJsMgFbb0Zpb"
      },
      "source": [
        "# create fastai tokenizer for roberta\n",
        "roberta_tok = RobertaTokenizer.from_pretrained(\"roberta-base\")\n",
        "\n",
        "fastai_tokenizer = Tokenizer(tok_func=FastAiRobertaTokenizer(roberta_tok, max_seq_len=config.max_seq_len), \n",
        "                             pre_rules=[], post_rules=[])"
      ],
      "execution_count": null,
      "outputs": []
    },
    {
      "cell_type": "code",
      "metadata": {
        "id": "dDxlve2F0x_Y"
      },
      "source": [
        "# create fastai vocabulary for roberta\n",
        "path = Path()\n",
        "roberta_tok.save_vocabulary(path)\n",
        "\n",
        "with open('vocab.json', 'r') as f:\n",
        "    roberta_vocab_dict = json.load(f)\n",
        "    \n",
        "fastai_roberta_vocab = Vocab(list(roberta_vocab_dict.keys()))"
      ],
      "execution_count": null,
      "outputs": []
    },
    {
      "cell_type": "code",
      "metadata": {
        "id": "6qzt6hF40z45"
      },
      "source": [
        "\n",
        "# Setting up pre-processors\n",
        "class RobertaTokenizeProcessor(TokenizeProcessor):\n",
        "    def __init__(self, tokenizer):\n",
        "         super().__init__(tokenizer=tokenizer, include_bos=False, include_eos=False)\n",
        "\n",
        "class RobertaNumericalizeProcessor(NumericalizeProcessor):\n",
        "    def __init__(self, *args, **kwargs):\n",
        "        super().__init__(*args, **kwargs)\n",
        "\n",
        "\n",
        "def get_roberta_processor(tokenizer:Tokenizer=None, vocab:Vocab=None):\n",
        "    \"\"\"\n",
        "    Constructing preprocessors for Roberta\n",
        "    We remove sos and eos tokens since we add that ourselves in the tokenizer.\n",
        "    We also use a custom vocabulary to match the numericalization with the original Roberta model.\n",
        "    \"\"\"\n",
        "    return [RobertaTokenizeProcessor(tokenizer=tokenizer), RobertaNumericalizeProcessor(vocab=vocab)]"
      ],
      "execution_count": null,
      "outputs": []
    },
    {
      "cell_type": "markdown",
      "metadata": {
        "id": "CrHgMAIT06Zw"
      },
      "source": [
        "**Setting up the DataBunch**"
      ]
    },
    {
      "cell_type": "code",
      "metadata": {
        "id": "4cWARbQy02Id"
      },
      "source": [
        "# Creating a Roberta specific DataBunch class\n",
        "class RobertaDataBunch(TextDataBunch):\n",
        "    \"Create a `TextDataBunch` suitable for training Roberta\"\n",
        "    @classmethod\n",
        "    def create(cls, train_ds, valid_ds, test_ds=None, path:PathOrStr='.', bs:int=64, val_bs:int=None, pad_idx=1,\n",
        "               pad_first=True, device:torch.device=None, no_check:bool=False, backwards:bool=False, \n",
        "               dl_tfms:Optional[Collection[Callable]]=None, **dl_kwargs) -> DataBunch:\n",
        "        \"Function that transform the `datasets` in a `DataBunch` for classification. Passes `**dl_kwargs` on to `DataLoader()`\"\n",
        "        datasets = cls._init_ds(train_ds, valid_ds, test_ds)\n",
        "        val_bs = ifnone(val_bs, bs)\n",
        "        collate_fn = partial(pad_collate, pad_idx=pad_idx, pad_first=pad_first, backwards=backwards)\n",
        "        train_sampler = SortishSampler(datasets[0].x, key=lambda t: len(datasets[0][t][0].data), bs=bs)\n",
        "        train_dl = DataLoader(datasets[0], batch_size=bs, sampler=train_sampler, drop_last=True, **dl_kwargs)\n",
        "        dataloaders = [train_dl]\n",
        "        for ds in datasets[1:]:\n",
        "            lengths = [len(t) for t in ds.x.items]\n",
        "            sampler = SortSampler(ds.x, key=lengths.__getitem__)\n",
        "            dataloaders.append(DataLoader(ds, batch_size=val_bs, sampler=sampler, **dl_kwargs))\n",
        "        return cls(*dataloaders, path=path, device=device, dl_tfms=dl_tfms, collate_fn=collate_fn, no_check=no_check)"
      ],
      "execution_count": null,
      "outputs": []
    },
    {
      "cell_type": "code",
      "metadata": {
        "id": "D5UNlM4A0-hi"
      },
      "source": [
        "class RobertaTextList(TextList):\n",
        "    _bunch = RobertaDataBunch\n",
        "    _label_cls = TextList"
      ],
      "execution_count": null,
      "outputs": []
    },
    {
      "cell_type": "code",
      "metadata": {
        "id": "bPGhCxtl1A4Y"
      },
      "source": [
        "# loading the tokenizer and vocab processors\n",
        "processor = get_roberta_processor(tokenizer=fastai_tokenizer, vocab=fastai_roberta_vocab)"
      ],
      "execution_count": null,
      "outputs": []
    },
    {
      "cell_type": "code",
      "metadata": {
        "colab": {
          "base_uri": "https://localhost:8080/",
          "height": 122
        },
        "id": "yP5tcKFI1DtF",
        "outputId": "05335660-faee-4430-85a5-5f2414f2861b"
      },
      "source": [
        "# creating our databunch \n",
        "data = RobertaTextList.from_df(df, \".\", cols=feat_cols, processor=processor) \\\n",
        "    .split_by_rand_pct(seed=config.seed) \\\n",
        "    .label_from_df(cols=label_cols,label_cls=CategoryList) \\\n",
        "    .databunch(bs=config.bs, pad_first=False, pad_idx=0)"
      ],
      "execution_count": null,
      "outputs": [
        {
          "output_type": "display_data",
          "data": {
            "text/html": [
              ""
            ],
            "text/plain": [
              "<IPython.core.display.HTML object>"
            ]
          },
          "metadata": {
            "tags": []
          }
        },
        {
          "output_type": "stream",
          "text": [
            "/usr/local/lib/python3.7/dist-packages/fastai/core.py:302: VisibleDeprecationWarning: Creating an ndarray from ragged nested sequences (which is a list-or-tuple of lists-or-tuples-or ndarrays with different lengths or shapes) is deprecated. If you meant to do this, you must specify 'dtype=object' when creating the ndarray\n",
            "  return np.array(a, dtype=dtype, **kwargs)\n"
          ],
          "name": "stderr"
        },
        {
          "output_type": "display_data",
          "data": {
            "text/html": [
              ""
            ],
            "text/plain": [
              "<IPython.core.display.HTML object>"
            ]
          },
          "metadata": {
            "tags": []
          }
        },
        {
          "output_type": "stream",
          "text": [
            "/usr/local/lib/python3.7/dist-packages/numpy/core/_asarray.py:83: VisibleDeprecationWarning: Creating an ndarray from ragged nested sequences (which is a list-or-tuple of lists-or-tuples-or ndarrays with different lengths or shapes) is deprecated. If you meant to do this, you must specify 'dtype=object' when creating the ndarray\n",
            "  return array(a, dtype, copy=False, order=order)\n",
            "<string>:6: VisibleDeprecationWarning: Creating an ndarray from ragged nested sequences (which is a list-or-tuple of lists-or-tuples-or ndarrays with different lengths or shapes) is deprecated. If you meant to do this, you must specify 'dtype=object' when creating the ndarray\n"
          ],
          "name": "stderr"
        }
      ]
    },
    {
      "cell_type": "code",
      "metadata": {
        "colab": {
          "base_uri": "https://localhost:8080/"
        },
        "id": "mcmu6cu51Ibv",
        "outputId": "7ea1713e-d93b-4652-e3af-de4918aea9f2"
      },
      "source": [
        "\n",
        "data"
      ],
      "execution_count": null,
      "outputs": [
        {
          "output_type": "execute_result",
          "data": {
            "text/plain": [
              "RobertaDataBunch;\n",
              "\n",
              "Train: LabelList (4583 items)\n",
              "x: RobertaTextList\n",
              "<s> à¤ ® à¥ ĩ à¤ ° à¥ ĩ Ġà¤ ¦ à¥ ĩ à¤ ¶ Ġà¤ ķ à¥ ĩ Ġà¤ ¹ à¤ ¿ à¤ ¨ à¥ į à¤ ¦ à¥ ģ Ġà¤ ¬ à¤ ¹ à¥ ģ à¤ ¤ Ġà¤ ¨ à¤ ¿ à¤ ° à¤¾ à¤ ² à¥ ĩ Ġà¤ ¹ à¥ Ī à¥ ¤ Ġà¤ ķ à¥ ģ à¤ Ľ Ġà¤ ¤ à¥ ĭ Ġà¤ ª à¤ ķ à¥ į à¤ ķ à¥ ĩ Ġà¤ ° à¤¾ à¤ ® Ġà¤ Ń à¤ ķ à¥ į à¤ ¤ Ġà¤ ¹ à¥ Ī Ġà¤ Ķ à¤ ° Ġà¤ ķ à¥ ģ à¤ Ľ Ġà¤ ¬ à¤¾ à¤ ¬ à¤ ° Ġà¤ ķ à¥ ĩ Ġà¤ ¸ à¤¾ à¤ ² à¥ ĩ Ġà¤ ¹ à¥ Ī Ġ Ċ Ċ ðŁ Ļ ı Ġà¤ ľ à¤ ¯ Ġà¤ ¶ à¥ į à¤ ° à¥ Ģ Ġà¤ ° à¤¾ à¤ ® ĠðŁ Ļ ı </s>,<s> à¤ ¸ à¤ ° à¤ ķ à¤¾ à¤ ° Ġà¤ ¹ à¤ ® à¥ ĩ à¤ ¶ à¤¾ Ġà¤ ¸ à¥ ĩ Ġà¤ ķ à¤ ¿ à¤ ¸ à¤¾ à¤ ¨ à¥ ĭ à¤ Ĥ Ġà¤ ķ à¥ Ģ Ġà¤ ķ à¤ ® à¤¾ à¤ Ī Ġà¤ ķ à¥ ĭ Ġà¤ ¬ à¤ ¢ à¤ ¼ à¤¾ à¤ ¨ à¥ ĩ Ġà¤ ķ à¥ ĩ Ġà¤ ² à¤ ¿ à¤ ı Ġà¤ ¨ à¤ Ī - à¤ ¨ à¤ Ī Ġà¤ ¸ à¥ į à¤ ķ à¥ Ģ à¤ ® à¥ ĩ à¤ Ĥ Ġà¤ ² à¤¾ à¤ ¤ à¥ Ģ Ġà¤ ° à¤ ¹ à¤ ¤ à¥ Ģ Ġà¤ ¹ à¥ Ī , Ġà¤ ¤ à¤¾ à¤ ķ à¤ ¿ Ġà¤ ī à¤ ¨ Ġà¤ ª à¤ ° Ġà¤ ľ à¥ į à¤ ¯ à¤¾ à¤ ¦ à¤¾ Ġà¤ Ĩ à¤ ° à¥ į à¤ ¥ à¤ ¿ à¤ ķ Ġà¤ ¬ à¥ ĭ à¤ Ŀ Ġà¤ ¨ Ġà¤ ª à¤ ¡ à¤ ¼ à¥ ĩ . Ċ Ċ https :// t . co / 8 iy 2 MJ SB As </s>,<s> @ pr ab h av 218 Ġà¤ ¸ à¤¾ à¤ ² à¥ ĩ Ġà¤ ľ à¥ ĩ à¤ ı à¤ ¨ à¤ ¯ à¥ Ĥ Ġà¤ Ľ à¤¾ à¤ ª Ġà¤ ķ à¤ ® à¤ ¿ à¤ ¨ à¥ ĩ Ġà¤ ² à¥ ĭ à¤ Ĺ Ġà¤ ¹ à¤ ¿ à¤ ¨ à¥ į à¤ ¦ à¥ ģ à¤ ĵ à¤ Ĥ Ġà¤ ķ à¥ ĭ Ġà¤ ¯ à¤ ¹ Ġà¤ ķ à¤ ¹ à¤ ¤ à¥ ĩ Ġà¤ ¹ à¥ Ī Ġà¤ ķ à¥ Ģ Ġà¤ ¸ à¤ Ĥ à¤ µ à¤ ¿ à¤ § à¤¾ à¤ ¨ Ġà¤ ¸ à¤ ¬ à¤ ķ à¥ ĭ Ġà¤ ¬ à¤ ° à¤¾ à¤ ¬ à¤ ° Ġà¤ ħ à¤ § à¤ ¿ à¤ ķ à¤¾ à¤ ° Ġà¤ ¦ à¥ ĩ à¤ ¤ à¤¾ Ġà¤ ¹ à¥ Ī à¥ ¤ Ġà¤ ¸ à¤ ļ à¥ į à¤ ļ à¤¾ à¤ Ī Ġà¤ ¯ à¤ ¹ Ġà¤ ¹ à¥ Ī Ġà¤ ķ à¤ ¿ Ġà¤ ¯ à¤ ¹ Ġà¤ ¬ à¤ ° à¤¾ à¤ ¬ à¤ ° Ġà¤ ħ à¤ § à¤ ¿ à¤ ķ à¤¾ à¤ ° Ġà¤ ¨ à¤ ¹ à¥ Ģ à¤ Ĥ Ġà¤ ¦ à¥ ĩ à¤ ¤ à¤¾ Ġà¤ ¹ à¥ Ī à¥ ¤ </s>,<s> à¤ ļ à¥ Ģ à¤ ¨ Ġà¤ ¨ à¥ ĩ ĠUN Ġà¤ ® à¥ ĩ à¤ Ĥ Ġà¤ ¤ à¤ ° à¥ į à¤ ķ Ġà¤ ¦ à¤ ¿ à¤ ¯ à¤¾ Ġà¤ ķ à¥ Ģ Ġà¤ Ń à¤¾ à¤ ° à¤ ¤ Ġà¤ ķ à¤¾ Ġà¤ µ à¤ ¿ à¤ ª à¤ ķ à¥ į à¤ · Ġà¤ ¹ à¥ Ģ Ġà¤ ħ à¤ ľ à¤ ° âĢ Į Ġà¤ ® à¤ ¸ à¥ ģ à¤ ¦ Ġà¤ ķ à¥ ĭ Ġà¤ Ĩ à¤ ¤ à¤ Ĥ à¤ ķ à¥ Ģ Ġà¤ ¨ à¤ ¹ à¥ Ģ à¤ Ĥ Ġà¤ ® à¤¾ à¤ ¨ à¤ ¤ à¤¾ Ġà¤ ¤ à¥ ĭ Ġà¤ ¹ à¤ ® Ġà¤ ķ à¥ Ī à¤ ¸ à¥ ĩ Ġà¤ ® à¤¾ à¤ ¨ à¥ ĩ à¥ ¤ Ġà¤ ļ à¥ ģ à¤ ² à¥ į à¤ ² à¥ Ĥ Ġà¤ Ń à¤ ° Ġà¤ ® à¥ Ĥ à¤ ¤ à¥ į à¤ ° Ġà¤ ® à¥ ĩ à¤ Ĥ Ġà¤ ¡ à¥ Ĥ à¤ ¬ Ġà¤ ® à¤ ° à¥ ĭ Ġà¤ Ĺ à¤ ¦ à¥ į à¤ ¦ à¤¾ à¤ ° à¥ ĭ à¤ Ĥ à¥ ¤ Ġà¤ ħ à¤ ¬ Ġà¤ ¯ à¤ ¹ Ġà¤ Ń à¤¾ à¤ ° à¤ ¤ Ġà¤ ķ à¥ ĩ Ġà¤ ² à¥ ĭ à¤ Ĺ à¥ ĭ à¤ Ĥ Ġà¤ ķ à¥ ĭ Ġà¤ ¸ à¥ ĭ à¤ ļ à¤ ¨ à¤¾ Ġà¤ ¹ à¥ Ī Ġà¤ ķ à¤ ¿ Ġà¤ µ à¥ ĭ Ġà¤ µ à¤ ¿ à¤ ª </s>,<s> à¤ ¦ à¥ ĩ à¤ ¶ Ġà¤ ® à¥ ĩ à¤ Ĥ Ġ# Cor ona Ġà¤ ķ à¥ ĩ Ġà¤ ° à¤ ¿ à¤ ķ à¥ ī à¤ ° à¥ į à¤ ¡ Ġà¤ ® à¤¾ à¤ ® à¤ ² à¥ ĩ Ġ Ġ Ċ # Z ee J ank ari On Cor ona Ġ Ġ Ċ @ She er in _ s herry Ġhttps :// t . co / V 6 U dd RE At W </s>\n",
              "y: CategoryList\n",
              "0,0,0,1,0\n",
              "Path: .;\n",
              "\n",
              "Valid: LabelList (1145 items)\n",
              "x: RobertaTextList\n",
              "<s> à¤ ¸ à¥ ģ à¤ ¶ à¤¾ à¤ Ĥ à¤ ¤ Ġà¤ ® à¤¾ à¤ ® à¤ ² à¥ ĩ Ġà¤ ® à¥ ĩ à¤ Ĥ Ġà¤ ¡ à¥ į à¤ ° à¤ Ĺ à¥ į à¤ ¸ Ġà¤ ķ à¤ ¨ à¥ ĩ à¤ ı à¤ ķ à¥ į à¤ ¶ à¤ ¨ Ġà¤ ķ à¥ Ģ Ġà¤ ľ à¤¾ à¤ Ĥ à¤ ļ Ġà¤ ķ à¥ ĩ Ġà¤ ² à¤ ¿ à¤ ı ĠS IT Ġhttps :// t . co / 7 D nt kt MP c F </s>,<s> à¤ ¸ à¤ Ĥ à¤ ľ à¤ ¯ Ġà¤ ° à¤¾ à¤ ī à¤ ¤ Ġà¤ ¨ à¥ ĩ Ġà¤ ľ à¤ µ à¤¾ à¤ ¬ Ġà¤ ¦ à¤ ¿ à¤ ¯ à¤¾ , Ġà¤ Ĩ à¤ ª Ġà¤ ® à¤ ¹ à¤¾ à¤ ° à¤¾ à¤ · à¥ į à¤ Ł à¥ į à¤ ° Ġà¤ ķ à¥ Ģ Ġà¤ ¬ à¥ ĩ à¤ ĩ à¤ ľ à¥ į à¤ ľ à¤ ¼ à¤ ¤ à¥ Ģ Ġà¤ ķ à¤ ° à¤ ¨ à¥ ĩ Ġà¤ ķ à¥ Ģ Ġà¤ ķ à¥ ĭ à¤ ¶ à¤ ¿ à¤ ¶ Ġà¤ ķ à¤ ° Ġà¤ ° à¤ ¹ à¥ Ģ Ġà¤ ¹ à¥ Ī à¤ Ĥ . Ġà¤ ĩ à¤ ¸ à¤ ķ à¥ ĩ Ġà¤ ª à¥ Ģ à¤ Ľ à¥ ĩ Ġà¤ ľ à¤ ¼ à¤ ° à¥ Ĥ à¤ ° Ġà¤ ķ à¤ ¿ à¤ ¸ à¥ Ģ Ġà¤ ª à¥ ī à¤ ² à¤ ¿ à¤ Ł à¤ ¿ à¤ ķ à¤ ² Ġà¤ ª à¤¾ à¤ ° à¥ į à¤ Ł à¥ Ģ Ġà¤ ¯ à¤¾ Ġà¤ ķ à¥ ĩ à¤ Ĥ à¤ ¦ à¥ į à¤ ° Ġà¤ ķ à¥ Ģ Ġà¤ ¤ à¤¾ à¤ ķ à¤ ¤ Ġà¤ ī à¤ ¨ à¥ į à¤ ¹ à¥ ĩ à¤ Ĥ Ġà¤ ¸ à¤ ª à¥ ĭ à¤ ° à¥ į à¤ Ł Ġà¤ ķ à¤ ° Ġà¤ ° à¤ ¹ à¥ Ģ Ġà¤ ¹ à¥ Ī . Ċ https :// t . co / 5 np 2 pl </s>,<s> à¤ ¸ à¤ ¬ à¤ ¸ à¥ ĩ Ġà¤ ª à¤ ¹ à¤ ² à¥ ĩ Ġà¤ ° à¥ Ī à¤ ª à¤ ° Ġà¤ ¶ à¥ į à¤ ° à¥ Ģ Ġà¤ ¬ à¤¾ à¤ ¦ à¤ ¶ à¤¾ à¤ ¹ Ġà¤ ľ à¥ Ģ Ġà¤ ķ à¥ ĭ Ġà¤ ¯ à¤¾ à¤ ¦ Ġà¤ ķ à¤ ° à¥ ĩ à¤ Ĥ à¤ Ĺ à¥ ĩ Ġà¤ Ķ à¤ ° Ġà¤ ķ à¤ ¹ à¥ ĩ à¤ Ĥ à¤ Ĺ à¥ ĩ ĠâĢ ĺ à¤ ¹ à¤¾ à¤ ¯ Ġà¤ Ĺ à¤ ° à¥ į à¤ ® à¥ Ģ âĢ Ļ . Ġà¤ ¯ à¤ ¹ à¥ Ģ Ġà¤ ķ à¤ ¹ à¤ ¤ à¥ Ģ Ġà¤ ¹ à¥ Ī Ġà¤ § à¤ ° à¤ ¤ à¥ Ģ Ġà¤ Ń à¥ Ģ , Ġà¤ ľ à¤ ¬ Ġà¤ ¤ à¤¾ à¤ ª à¤ ® à¤¾ à¤ ¨ Ġà¤ ¬ à¤ ¢ à¤ ¼ à¤ ¤ à¤¾ Ġà¤ ¹ à¥ Ī . Ġà¤ ¤ à¤¾ à¤ ª à¤ ® à¤¾ à¤ ¨ Ġà¤ ¬ à¤ ¢ à¤ ¼ à¤ ¤ à¤¾ Ġà¤ ¹ à¥ Ī , Ġà¤ ¤ à¥ ĭ Ġà¤ ¹ à¤ ® à¤¾ à¤ ° à¥ Ģ Ġà¤ µ à¥ ī à¤ Ł à¤ ° Ġà¤ ¬ à¥ ī à¤ ¡ à¥ Ģ à¤ ľ , Ġà¤ ľ à¥ Ī à¤ ¸ à¥ ĩ Ġà¤ ¸ à¤ ® à¥ ģ à¤ ¦ à¥ į à¤ ° , Ġà¤ ¨ à¤ ¦ à¥ Ģ , Ġà¤ Ŀ à¥ Ģ à¤ ² , Ġà¤ </s>,<s> à¤ ħ à¤ ¬ Ġà¤ ķ à¤ ² Ġà¤ ħ à¤ Ĥ à¤ ľ à¤ ¨ à¤¾ Ġà¤ ķ à¥ ĩ Ġà¤ ¹ à¤ ² à¥ į à¤ ² à¤¾ Ġà¤ ¬ à¥ ĭ à¤ ² Ġà¤ ª à¤ ° Ġdislike Ġà¤ ¹ à¥ ĭ à¤ ¨ à¤¾ Ġà¤ ļ à¤¾ à¤ ¹ à¤ ¯ à¥ ĩ Ġ Ċ à¤ ¬ à¤ ¹ à¥ ģ à¤ ¤ Ġà¤ ħ à¤ ķ à¤ ¡ à¤ ¼ Ġà¤ ¹ à¥ Ī Ġà¤ ¬ à¥ ĭ à¤ ¦ à¥ Ģ Ġà¤ ķ à¥ ĭ Ċ @ _ gar ry w alia </s>,<s> à¤ ķ à¥ ĭ à¤ µ à¤ ¿ à¤ ¡ - 19 Ġà¤ ķ à¥ Ģ Ġà¤ ķ à¥ ĭ à¤ Ī Ġà¤ µ à¥ Ī à¤ ķ à¥ į à¤ ¸ à¥ Ģ à¤ ¨ Ġà¤ ¨ à¤ ¹ à¥ Ģ à¤ Ĥ Ġà¤ ¹ à¥ Ī , Ġà¤ ĩ à¤ ¸ à¤ ķ à¥ Ģ Ġà¤ ļ à¤ ¿ à¤ ķ à¤ ¿ à¤ ¤ à¥ į à¤ ¸ à¤¾ Ġà¤ ² à¤ ķ à¥ į à¤ · à¤ £ à¥ ĭ à¤ Ĥ Ġà¤ ķ à¥ ĩ Ġà¤ Ĩ à¤ § à¤¾ à¤ ° Ġà¤ ª à¤ ° Ġà¤ ķ à¥ Ģ Ġà¤ ľ à¤¾ à¤ ¤ à¥ Ģ Ġà¤ ¹ à¥ Ī Ġà¤ ĩ à¤ ¸ à¤ ² à¤ ¿ à¤ ı Ġà¤ ¬ à¤ ļ à¤¾ à¤ µ Ġà¤ ķ à¤¾ Ġà¤ ¸ à¤ ¬ à¤ ¸ à¥ ĩ Ġà¤ ħ à¤ ļ à¥ į à¤ Ľ à¤¾ Ġà¤ ¤ à¤ ° à¥ Ģ à¤ ķ à¤¾ Ġà¤ ¯ à¤ ¹ Ġà¤ ¹ à¥ Ī Ġà¤ ķ à¤ ¿ Ġà¤ ¸ à¤¾ à¤ µ à¤ § à¤¾ à¤ ¨ Ġà¤ Ķ à¤ ° Ġà¤ ¸ à¤ ¤ à¤ ° à¥ į à¤ ķ Ġà¤ ° à¤ ¹ à¥ ĩ à¤ Ĥ : ĠACS , Ġà¤ ļ à¤ ¿ à¤ ķ à¤ ¿ à¤ ¤ à¥ į à¤ ¸ à¤¾ Ġà¤ ı à¤ µ à¤ Ĥ Ġà¤ ¸ à¥ į à¤ µ à¤¾ à¤ ¸ à¥ į à¤ ¥ à¥ į à¤ ¯ , Ġà¤ ¶ à¥ į à¤ ° </s>\n",
              "y: CategoryList\n",
              "0,0,0,0,0\n",
              "Path: .;\n",
              "\n",
              "Test: None"
            ]
          },
          "metadata": {
            "tags": []
          },
          "execution_count": 24
        }
      ]
    },
    {
      "cell_type": "markdown",
      "metadata": {
        "id": "nbh_F_l21e5y"
      },
      "source": [
        "**Building the Model** "
      ]
    },
    {
      "cell_type": "code",
      "metadata": {
        "id": "5AqEv67A1Md6"
      },
      "source": [
        "import torch\n",
        "import torch.nn as nn\n",
        "from transformers import RobertaModel\n",
        "\n",
        "# defining our model architecture \n",
        "class CustomRobertaModel(nn.Module):\n",
        "    def __init__(self,num_labels=2):\n",
        "        super(CustomRobertaModel,self).__init__()\n",
        "        self.num_labels = num_labels\n",
        "        self.roberta = RobertaModel.from_pretrained(config.roberta_model_name)\n",
        "        self.dropout = nn.Dropout(config.hidden_dropout_prob)\n",
        "        self.classifier = nn.Linear(config.hidden_size, num_labels) # defining final output layer\n",
        "        \n",
        "    def forward(self, input_ids, token_type_ids=None, attention_mask=None, labels=None):\n",
        "        _ , pooled_output = self.roberta(input_ids, token_type_ids, attention_mask) # \n",
        "        logits = self.classifier(pooled_output)        \n",
        "        return logits"
      ],
      "execution_count": null,
      "outputs": []
    },
    {
      "cell_type": "code",
      "metadata": {
        "id": "7lNMIwOf1quI"
      },
      "source": [
        "\n",
        "roberta_model = CustomRobertaModel(num_labels=config.num_labels)\n",
        "\n",
        "learn = Learner(data, roberta_model, metrics=[accuracy])"
      ],
      "execution_count": null,
      "outputs": []
    },
    {
      "cell_type": "code",
      "metadata": {
        "colab": {
          "base_uri": "https://localhost:8080/",
          "height": 151
        },
        "id": "1ywQG38G1tI3",
        "outputId": "6665df3f-a6c1-4901-b10d-3f21fdcd49bb"
      },
      "source": [
        "learn.model.roberta.train() # setting roberta to train as it is in eval mode by default\n",
        "learn.fit_one_cycle(config.epochs, max_lr=config.max_lr)"
      ],
      "execution_count": null,
      "outputs": [
        {
          "output_type": "display_data",
          "data": {
            "text/html": [
              "<table border=\"1\" class=\"dataframe\">\n",
              "  <thead>\n",
              "    <tr style=\"text-align: left;\">\n",
              "      <th>epoch</th>\n",
              "      <th>train_loss</th>\n",
              "      <th>valid_loss</th>\n",
              "      <th>accuracy</th>\n",
              "      <th>time</th>\n",
              "    </tr>\n",
              "  </thead>\n",
              "  <tbody>\n",
              "    <tr>\n",
              "      <td>0</td>\n",
              "      <td>0.367236</td>\n",
              "      <td>0.337991</td>\n",
              "      <td>0.806114</td>\n",
              "      <td>04:09</td>\n",
              "    </tr>\n",
              "  </tbody>\n",
              "</table>"
            ],
            "text/plain": [
              "<IPython.core.display.HTML object>"
            ]
          },
          "metadata": {
            "tags": []
          }
        },
        {
          "output_type": "stream",
          "text": [
            "/usr/local/lib/python3.7/dist-packages/numpy/core/_asarray.py:83: VisibleDeprecationWarning: Creating an ndarray from ragged nested sequences (which is a list-or-tuple of lists-or-tuples-or ndarrays with different lengths or shapes) is deprecated. If you meant to do this, you must specify 'dtype=object' when creating the ndarray\n",
            "  return array(a, dtype, copy=False, order=order)\n",
            "<string>:6: VisibleDeprecationWarning: Creating an ndarray from ragged nested sequences (which is a list-or-tuple of lists-or-tuples-or ndarrays with different lengths or shapes) is deprecated. If you meant to do this, you must specify 'dtype=object' when creating the ndarray\n"
          ],
          "name": "stderr"
        }
      ]
    },
    {
      "cell_type": "code",
      "metadata": {
        "id": "AGdyiJ422Bc5"
      },
      "source": [
        "def get_preds_as_nparray(ds_type) -> np.ndarray:\n",
        "    learn.model.roberta.eval()\n",
        "    preds = learn.get_preds(ds_type)[0].detach().cpu().numpy()\n",
        "    sampler = [i for i in data.dl(ds_type).sampler]\n",
        "    reverse_sampler = np.argsort(sampler)\n",
        "    ordered_preds = preds[reverse_sampler, :]\n",
        "    pred_values = np.argmax(ordered_preds, axis=1)\n",
        "    return ordered_preds, pred_values"
      ],
      "execution_count": null,
      "outputs": []
    },
    {
      "cell_type": "code",
      "metadata": {
        "colab": {
          "base_uri": "https://localhost:8080/",
          "height": 17
        },
        "id": "nB5Tvwaw3G1T",
        "outputId": "70fc576f-e11d-4d6e-b095-a5e5d1dd4260"
      },
      "source": [
        "preds, pred_values = get_preds_as_nparray(DatasetType.Valid)\n"
      ],
      "execution_count": null,
      "outputs": [
        {
          "output_type": "display_data",
          "data": {
            "text/html": [
              ""
            ],
            "text/plain": [
              "<IPython.core.display.HTML object>"
            ]
          },
          "metadata": {
            "tags": []
          }
        }
      ]
    },
    {
      "cell_type": "code",
      "metadata": {
        "id": "65UmYzerRo6b"
      },
      "source": [
        ""
      ],
      "execution_count": null,
      "outputs": []
    },
    {
      "cell_type": "code",
      "metadata": {
        "colab": {
          "base_uri": "https://localhost:8080/"
        },
        "id": "AlVCNAjH3I3R",
        "outputId": "2a942f9f-35ab-4ad4-bca3-17d917ac00fa"
      },
      "source": [
        "# accuracy on valid\n",
        "(pred_values == data.valid_ds.y.items).mean()"
      ],
      "execution_count": null,
      "outputs": [
        {
          "output_type": "execute_result",
          "data": {
            "text/plain": [
              "0.8061135371179039"
            ]
          },
          "metadata": {
            "tags": []
          },
          "execution_count": 30
        }
      ]
    },
    {
      "cell_type": "code",
      "metadata": {
        "colab": {
          "base_uri": "https://localhost:8080/"
        },
        "id": "54LQ-xPN3OM6",
        "outputId": "d5290c88-2999-4f6e-c7b5-8e55c351ea43"
      },
      "source": [
        "from sklearn.metrics import classification_report\n",
        "print(classification_report(data.valid_ds.y.items,pred_values))"
      ],
      "execution_count": null,
      "outputs": [
        {
          "output_type": "stream",
          "text": [
            "              precision    recall  f1-score   support\n",
            "\n",
            "           0       0.81      1.00      0.89       923\n",
            "           1       0.00      0.00      0.00       222\n",
            "\n",
            "    accuracy                           0.81      1145\n",
            "   macro avg       0.40      0.50      0.45      1145\n",
            "weighted avg       0.65      0.81      0.72      1145\n",
            "\n"
          ],
          "name": "stdout"
        },
        {
          "output_type": "stream",
          "text": [
            "/usr/local/lib/python3.7/dist-packages/sklearn/metrics/_classification.py:1272: UndefinedMetricWarning: Precision and F-score are ill-defined and being set to 0.0 in labels with no predicted samples. Use `zero_division` parameter to control this behavior.\n",
            "  _warn_prf(average, modifier, msg_start, len(result))\n"
          ],
          "name": "stderr"
        }
      ]
    },
    {
      "cell_type": "code",
      "metadata": {
        "id": "BQOoN7n13qO-"
      },
      "source": [
        ""
      ],
      "execution_count": null,
      "outputs": []
    }
  ]
}
