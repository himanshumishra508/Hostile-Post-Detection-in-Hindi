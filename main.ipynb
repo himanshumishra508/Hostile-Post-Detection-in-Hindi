{
  "nbformat": 4,
  "nbformat_minor": 0,
  "metadata": {
    "colab": {
      "name": "Team08_5B_5DMACP17.ipynb",
      "provenance": [],
      "collapsed_sections": []
    },
    "kernelspec": {
      "name": "python3",
      "display_name": "Python 3"
    },
    "accelerator": "GPU",
    "widgets": {
      "application/vnd.jupyter.widget-state+json": {
        "a26e69b69e5943fdaaabdc911fc28afb": {
          "model_module": "@jupyter-widgets/controls",
          "model_name": "HBoxModel",
          "state": {
            "_view_name": "HBoxView",
            "_dom_classes": [],
            "_model_name": "HBoxModel",
            "_view_module": "@jupyter-widgets/controls",
            "_model_module_version": "1.5.0",
            "_view_count": null,
            "_view_module_version": "1.5.0",
            "box_style": "",
            "layout": "IPY_MODEL_9ef3f871374f490aa50c7ef8673588b3",
            "_model_module": "@jupyter-widgets/controls",
            "children": [
              "IPY_MODEL_278983f8e0d440bd8394be2cff1d316c",
              "IPY_MODEL_2d26f3e84d6c4ed68891c3e641f236ed"
            ]
          }
        },
        "9ef3f871374f490aa50c7ef8673588b3": {
          "model_module": "@jupyter-widgets/base",
          "model_name": "LayoutModel",
          "state": {
            "_view_name": "LayoutView",
            "grid_template_rows": null,
            "right": null,
            "justify_content": null,
            "_view_module": "@jupyter-widgets/base",
            "overflow": null,
            "_model_module_version": "1.2.0",
            "_view_count": null,
            "flex_flow": null,
            "width": null,
            "min_width": null,
            "border": null,
            "align_items": null,
            "bottom": null,
            "_model_module": "@jupyter-widgets/base",
            "top": null,
            "grid_column": null,
            "overflow_y": null,
            "overflow_x": null,
            "grid_auto_flow": null,
            "grid_area": null,
            "grid_template_columns": null,
            "flex": null,
            "_model_name": "LayoutModel",
            "justify_items": null,
            "grid_row": null,
            "max_height": null,
            "align_content": null,
            "visibility": null,
            "align_self": null,
            "height": null,
            "min_height": null,
            "padding": null,
            "grid_auto_rows": null,
            "grid_gap": null,
            "max_width": null,
            "order": null,
            "_view_module_version": "1.2.0",
            "grid_template_areas": null,
            "object_position": null,
            "object_fit": null,
            "grid_auto_columns": null,
            "margin": null,
            "display": null,
            "left": null
          }
        },
        "278983f8e0d440bd8394be2cff1d316c": {
          "model_module": "@jupyter-widgets/controls",
          "model_name": "FloatProgressModel",
          "state": {
            "_view_name": "ProgressView",
            "style": "IPY_MODEL_b3f8a93d345d4ac9870b78ce12834c9d",
            "_dom_classes": [],
            "description": "Downloading: 100%",
            "_model_name": "FloatProgressModel",
            "bar_style": "success",
            "max": 625,
            "_view_module": "@jupyter-widgets/controls",
            "_model_module_version": "1.5.0",
            "value": 625,
            "_view_count": null,
            "_view_module_version": "1.5.0",
            "orientation": "horizontal",
            "min": 0,
            "description_tooltip": null,
            "_model_module": "@jupyter-widgets/controls",
            "layout": "IPY_MODEL_8e8de5ef3b674394bb5d2b19c382bbae"
          }
        },
        "2d26f3e84d6c4ed68891c3e641f236ed": {
          "model_module": "@jupyter-widgets/controls",
          "model_name": "HTMLModel",
          "state": {
            "_view_name": "HTMLView",
            "style": "IPY_MODEL_df458d22f9f24b4083e63657876f10d4",
            "_dom_classes": [],
            "description": "",
            "_model_name": "HTMLModel",
            "placeholder": "​",
            "_view_module": "@jupyter-widgets/controls",
            "_model_module_version": "1.5.0",
            "value": " 625/625 [00:00&lt;00:00, 3.46kB/s]",
            "_view_count": null,
            "_view_module_version": "1.5.0",
            "description_tooltip": null,
            "_model_module": "@jupyter-widgets/controls",
            "layout": "IPY_MODEL_2ca676cac9fb4c0abbfd7655389b9e15"
          }
        },
        "b3f8a93d345d4ac9870b78ce12834c9d": {
          "model_module": "@jupyter-widgets/controls",
          "model_name": "ProgressStyleModel",
          "state": {
            "_view_name": "StyleView",
            "_model_name": "ProgressStyleModel",
            "description_width": "initial",
            "_view_module": "@jupyter-widgets/base",
            "_model_module_version": "1.5.0",
            "_view_count": null,
            "_view_module_version": "1.2.0",
            "bar_color": null,
            "_model_module": "@jupyter-widgets/controls"
          }
        },
        "8e8de5ef3b674394bb5d2b19c382bbae": {
          "model_module": "@jupyter-widgets/base",
          "model_name": "LayoutModel",
          "state": {
            "_view_name": "LayoutView",
            "grid_template_rows": null,
            "right": null,
            "justify_content": null,
            "_view_module": "@jupyter-widgets/base",
            "overflow": null,
            "_model_module_version": "1.2.0",
            "_view_count": null,
            "flex_flow": null,
            "width": null,
            "min_width": null,
            "border": null,
            "align_items": null,
            "bottom": null,
            "_model_module": "@jupyter-widgets/base",
            "top": null,
            "grid_column": null,
            "overflow_y": null,
            "overflow_x": null,
            "grid_auto_flow": null,
            "grid_area": null,
            "grid_template_columns": null,
            "flex": null,
            "_model_name": "LayoutModel",
            "justify_items": null,
            "grid_row": null,
            "max_height": null,
            "align_content": null,
            "visibility": null,
            "align_self": null,
            "height": null,
            "min_height": null,
            "padding": null,
            "grid_auto_rows": null,
            "grid_gap": null,
            "max_width": null,
            "order": null,
            "_view_module_version": "1.2.0",
            "grid_template_areas": null,
            "object_position": null,
            "object_fit": null,
            "grid_auto_columns": null,
            "margin": null,
            "display": null,
            "left": null
          }
        },
        "df458d22f9f24b4083e63657876f10d4": {
          "model_module": "@jupyter-widgets/controls",
          "model_name": "DescriptionStyleModel",
          "state": {
            "_view_name": "StyleView",
            "_model_name": "DescriptionStyleModel",
            "description_width": "",
            "_view_module": "@jupyter-widgets/base",
            "_model_module_version": "1.5.0",
            "_view_count": null,
            "_view_module_version": "1.2.0",
            "_model_module": "@jupyter-widgets/controls"
          }
        },
        "2ca676cac9fb4c0abbfd7655389b9e15": {
          "model_module": "@jupyter-widgets/base",
          "model_name": "LayoutModel",
          "state": {
            "_view_name": "LayoutView",
            "grid_template_rows": null,
            "right": null,
            "justify_content": null,
            "_view_module": "@jupyter-widgets/base",
            "overflow": null,
            "_model_module_version": "1.2.0",
            "_view_count": null,
            "flex_flow": null,
            "width": null,
            "min_width": null,
            "border": null,
            "align_items": null,
            "bottom": null,
            "_model_module": "@jupyter-widgets/base",
            "top": null,
            "grid_column": null,
            "overflow_y": null,
            "overflow_x": null,
            "grid_auto_flow": null,
            "grid_area": null,
            "grid_template_columns": null,
            "flex": null,
            "_model_name": "LayoutModel",
            "justify_items": null,
            "grid_row": null,
            "max_height": null,
            "align_content": null,
            "visibility": null,
            "align_self": null,
            "height": null,
            "min_height": null,
            "padding": null,
            "grid_auto_rows": null,
            "grid_gap": null,
            "max_width": null,
            "order": null,
            "_view_module_version": "1.2.0",
            "grid_template_areas": null,
            "object_position": null,
            "object_fit": null,
            "grid_auto_columns": null,
            "margin": null,
            "display": null,
            "left": null
          }
        },
        "2972f00e348346a89a226d5fa5f8bbf1": {
          "model_module": "@jupyter-widgets/controls",
          "model_name": "HBoxModel",
          "state": {
            "_view_name": "HBoxView",
            "_dom_classes": [],
            "_model_name": "HBoxModel",
            "_view_module": "@jupyter-widgets/controls",
            "_model_module_version": "1.5.0",
            "_view_count": null,
            "_view_module_version": "1.5.0",
            "box_style": "",
            "layout": "IPY_MODEL_ae9eb45ccebe4d98a979e0e06a28cdb2",
            "_model_module": "@jupyter-widgets/controls",
            "children": [
              "IPY_MODEL_752d3369940c42e69e9f45b900a6a0d7",
              "IPY_MODEL_b5f1bd72ce4b4a6fa750f68beea93e8f"
            ]
          }
        },
        "ae9eb45ccebe4d98a979e0e06a28cdb2": {
          "model_module": "@jupyter-widgets/base",
          "model_name": "LayoutModel",
          "state": {
            "_view_name": "LayoutView",
            "grid_template_rows": null,
            "right": null,
            "justify_content": null,
            "_view_module": "@jupyter-widgets/base",
            "overflow": null,
            "_model_module_version": "1.2.0",
            "_view_count": null,
            "flex_flow": null,
            "width": null,
            "min_width": null,
            "border": null,
            "align_items": null,
            "bottom": null,
            "_model_module": "@jupyter-widgets/base",
            "top": null,
            "grid_column": null,
            "overflow_y": null,
            "overflow_x": null,
            "grid_auto_flow": null,
            "grid_area": null,
            "grid_template_columns": null,
            "flex": null,
            "_model_name": "LayoutModel",
            "justify_items": null,
            "grid_row": null,
            "max_height": null,
            "align_content": null,
            "visibility": null,
            "align_self": null,
            "height": null,
            "min_height": null,
            "padding": null,
            "grid_auto_rows": null,
            "grid_gap": null,
            "max_width": null,
            "order": null,
            "_view_module_version": "1.2.0",
            "grid_template_areas": null,
            "object_position": null,
            "object_fit": null,
            "grid_auto_columns": null,
            "margin": null,
            "display": null,
            "left": null
          }
        },
        "752d3369940c42e69e9f45b900a6a0d7": {
          "model_module": "@jupyter-widgets/controls",
          "model_name": "FloatProgressModel",
          "state": {
            "_view_name": "ProgressView",
            "style": "IPY_MODEL_18683d389b274fa4abe7d4610b893cd9",
            "_dom_classes": [],
            "description": "Downloading: 100%",
            "_model_name": "FloatProgressModel",
            "bar_style": "success",
            "max": 672271273,
            "_view_module": "@jupyter-widgets/controls",
            "_model_module_version": "1.5.0",
            "value": 672271273,
            "_view_count": null,
            "_view_module_version": "1.5.0",
            "orientation": "horizontal",
            "min": 0,
            "description_tooltip": null,
            "_model_module": "@jupyter-widgets/controls",
            "layout": "IPY_MODEL_8239653b72f34cfbb794fb2aa787ef79"
          }
        },
        "b5f1bd72ce4b4a6fa750f68beea93e8f": {
          "model_module": "@jupyter-widgets/controls",
          "model_name": "HTMLModel",
          "state": {
            "_view_name": "HTMLView",
            "style": "IPY_MODEL_391ad979beec468da2d2ab5b82e90784",
            "_dom_classes": [],
            "description": "",
            "_model_name": "HTMLModel",
            "placeholder": "​",
            "_view_module": "@jupyter-widgets/controls",
            "_model_module_version": "1.5.0",
            "value": " 672M/672M [00:58&lt;00:00, 11.6MB/s]",
            "_view_count": null,
            "_view_module_version": "1.5.0",
            "description_tooltip": null,
            "_model_module": "@jupyter-widgets/controls",
            "layout": "IPY_MODEL_5ec68cac067c4dab9336c72194fa3124"
          }
        },
        "18683d389b274fa4abe7d4610b893cd9": {
          "model_module": "@jupyter-widgets/controls",
          "model_name": "ProgressStyleModel",
          "state": {
            "_view_name": "StyleView",
            "_model_name": "ProgressStyleModel",
            "description_width": "initial",
            "_view_module": "@jupyter-widgets/base",
            "_model_module_version": "1.5.0",
            "_view_count": null,
            "_view_module_version": "1.2.0",
            "bar_color": null,
            "_model_module": "@jupyter-widgets/controls"
          }
        },
        "8239653b72f34cfbb794fb2aa787ef79": {
          "model_module": "@jupyter-widgets/base",
          "model_name": "LayoutModel",
          "state": {
            "_view_name": "LayoutView",
            "grid_template_rows": null,
            "right": null,
            "justify_content": null,
            "_view_module": "@jupyter-widgets/base",
            "overflow": null,
            "_model_module_version": "1.2.0",
            "_view_count": null,
            "flex_flow": null,
            "width": null,
            "min_width": null,
            "border": null,
            "align_items": null,
            "bottom": null,
            "_model_module": "@jupyter-widgets/base",
            "top": null,
            "grid_column": null,
            "overflow_y": null,
            "overflow_x": null,
            "grid_auto_flow": null,
            "grid_area": null,
            "grid_template_columns": null,
            "flex": null,
            "_model_name": "LayoutModel",
            "justify_items": null,
            "grid_row": null,
            "max_height": null,
            "align_content": null,
            "visibility": null,
            "align_self": null,
            "height": null,
            "min_height": null,
            "padding": null,
            "grid_auto_rows": null,
            "grid_gap": null,
            "max_width": null,
            "order": null,
            "_view_module_version": "1.2.0",
            "grid_template_areas": null,
            "object_position": null,
            "object_fit": null,
            "grid_auto_columns": null,
            "margin": null,
            "display": null,
            "left": null
          }
        },
        "391ad979beec468da2d2ab5b82e90784": {
          "model_module": "@jupyter-widgets/controls",
          "model_name": "DescriptionStyleModel",
          "state": {
            "_view_name": "StyleView",
            "_model_name": "DescriptionStyleModel",
            "description_width": "",
            "_view_module": "@jupyter-widgets/base",
            "_model_module_version": "1.5.0",
            "_view_count": null,
            "_view_module_version": "1.2.0",
            "_model_module": "@jupyter-widgets/controls"
          }
        },
        "5ec68cac067c4dab9336c72194fa3124": {
          "model_module": "@jupyter-widgets/base",
          "model_name": "LayoutModel",
          "state": {
            "_view_name": "LayoutView",
            "grid_template_rows": null,
            "right": null,
            "justify_content": null,
            "_view_module": "@jupyter-widgets/base",
            "overflow": null,
            "_model_module_version": "1.2.0",
            "_view_count": null,
            "flex_flow": null,
            "width": null,
            "min_width": null,
            "border": null,
            "align_items": null,
            "bottom": null,
            "_model_module": "@jupyter-widgets/base",
            "top": null,
            "grid_column": null,
            "overflow_y": null,
            "overflow_x": null,
            "grid_auto_flow": null,
            "grid_area": null,
            "grid_template_columns": null,
            "flex": null,
            "_model_name": "LayoutModel",
            "justify_items": null,
            "grid_row": null,
            "max_height": null,
            "align_content": null,
            "visibility": null,
            "align_self": null,
            "height": null,
            "min_height": null,
            "padding": null,
            "grid_auto_rows": null,
            "grid_gap": null,
            "max_width": null,
            "order": null,
            "_view_module_version": "1.2.0",
            "grid_template_areas": null,
            "object_position": null,
            "object_fit": null,
            "grid_auto_columns": null,
            "margin": null,
            "display": null,
            "left": null
          }
        },
        "5be0c91bfa834dfa94e171121ec7ab2e": {
          "model_module": "@jupyter-widgets/controls",
          "model_name": "HBoxModel",
          "state": {
            "_view_name": "HBoxView",
            "_dom_classes": [],
            "_model_name": "HBoxModel",
            "_view_module": "@jupyter-widgets/controls",
            "_model_module_version": "1.5.0",
            "_view_count": null,
            "_view_module_version": "1.5.0",
            "box_style": "",
            "layout": "IPY_MODEL_6fe01b3f36c34702b4eb8d45022398c2",
            "_model_module": "@jupyter-widgets/controls",
            "children": [
              "IPY_MODEL_330bda6c70cb4dfcaba1f0bbcc1e9cf1",
              "IPY_MODEL_951ded91344c4b83aab2ff78afcd3bc5"
            ]
          }
        },
        "6fe01b3f36c34702b4eb8d45022398c2": {
          "model_module": "@jupyter-widgets/base",
          "model_name": "LayoutModel",
          "state": {
            "_view_name": "LayoutView",
            "grid_template_rows": null,
            "right": null,
            "justify_content": null,
            "_view_module": "@jupyter-widgets/base",
            "overflow": null,
            "_model_module_version": "1.2.0",
            "_view_count": null,
            "flex_flow": null,
            "width": null,
            "min_width": null,
            "border": null,
            "align_items": null,
            "bottom": null,
            "_model_module": "@jupyter-widgets/base",
            "top": null,
            "grid_column": null,
            "overflow_y": null,
            "overflow_x": null,
            "grid_auto_flow": null,
            "grid_area": null,
            "grid_template_columns": null,
            "flex": null,
            "_model_name": "LayoutModel",
            "justify_items": null,
            "grid_row": null,
            "max_height": null,
            "align_content": null,
            "visibility": null,
            "align_self": null,
            "height": null,
            "min_height": null,
            "padding": null,
            "grid_auto_rows": null,
            "grid_gap": null,
            "max_width": null,
            "order": null,
            "_view_module_version": "1.2.0",
            "grid_template_areas": null,
            "object_position": null,
            "object_fit": null,
            "grid_auto_columns": null,
            "margin": null,
            "display": null,
            "left": null
          }
        },
        "330bda6c70cb4dfcaba1f0bbcc1e9cf1": {
          "model_module": "@jupyter-widgets/controls",
          "model_name": "FloatProgressModel",
          "state": {
            "_view_name": "ProgressView",
            "style": "IPY_MODEL_871252cdc9b34bf1a60f87b4273ec5d2",
            "_dom_classes": [],
            "description": "Downloading: 100%",
            "_model_name": "FloatProgressModel",
            "bar_style": "success",
            "max": 871891,
            "_view_module": "@jupyter-widgets/controls",
            "_model_module_version": "1.5.0",
            "value": 871891,
            "_view_count": null,
            "_view_module_version": "1.5.0",
            "orientation": "horizontal",
            "min": 0,
            "description_tooltip": null,
            "_model_module": "@jupyter-widgets/controls",
            "layout": "IPY_MODEL_8f51294921764713ac944a47cb3ecc43"
          }
        },
        "951ded91344c4b83aab2ff78afcd3bc5": {
          "model_module": "@jupyter-widgets/controls",
          "model_name": "HTMLModel",
          "state": {
            "_view_name": "HTMLView",
            "style": "IPY_MODEL_409c9fc52b01434ba45e65b834ed3f99",
            "_dom_classes": [],
            "description": "",
            "_model_name": "HTMLModel",
            "placeholder": "​",
            "_view_module": "@jupyter-widgets/controls",
            "_model_module_version": "1.5.0",
            "value": " 872k/872k [00:00&lt;00:00, 6.59MB/s]",
            "_view_count": null,
            "_view_module_version": "1.5.0",
            "description_tooltip": null,
            "_model_module": "@jupyter-widgets/controls",
            "layout": "IPY_MODEL_de378d49b5f644b3844571843056fd44"
          }
        },
        "871252cdc9b34bf1a60f87b4273ec5d2": {
          "model_module": "@jupyter-widgets/controls",
          "model_name": "ProgressStyleModel",
          "state": {
            "_view_name": "StyleView",
            "_model_name": "ProgressStyleModel",
            "description_width": "initial",
            "_view_module": "@jupyter-widgets/base",
            "_model_module_version": "1.5.0",
            "_view_count": null,
            "_view_module_version": "1.2.0",
            "bar_color": null,
            "_model_module": "@jupyter-widgets/controls"
          }
        },
        "8f51294921764713ac944a47cb3ecc43": {
          "model_module": "@jupyter-widgets/base",
          "model_name": "LayoutModel",
          "state": {
            "_view_name": "LayoutView",
            "grid_template_rows": null,
            "right": null,
            "justify_content": null,
            "_view_module": "@jupyter-widgets/base",
            "overflow": null,
            "_model_module_version": "1.2.0",
            "_view_count": null,
            "flex_flow": null,
            "width": null,
            "min_width": null,
            "border": null,
            "align_items": null,
            "bottom": null,
            "_model_module": "@jupyter-widgets/base",
            "top": null,
            "grid_column": null,
            "overflow_y": null,
            "overflow_x": null,
            "grid_auto_flow": null,
            "grid_area": null,
            "grid_template_columns": null,
            "flex": null,
            "_model_name": "LayoutModel",
            "justify_items": null,
            "grid_row": null,
            "max_height": null,
            "align_content": null,
            "visibility": null,
            "align_self": null,
            "height": null,
            "min_height": null,
            "padding": null,
            "grid_auto_rows": null,
            "grid_gap": null,
            "max_width": null,
            "order": null,
            "_view_module_version": "1.2.0",
            "grid_template_areas": null,
            "object_position": null,
            "object_fit": null,
            "grid_auto_columns": null,
            "margin": null,
            "display": null,
            "left": null
          }
        },
        "409c9fc52b01434ba45e65b834ed3f99": {
          "model_module": "@jupyter-widgets/controls",
          "model_name": "DescriptionStyleModel",
          "state": {
            "_view_name": "StyleView",
            "_model_name": "DescriptionStyleModel",
            "description_width": "",
            "_view_module": "@jupyter-widgets/base",
            "_model_module_version": "1.5.0",
            "_view_count": null,
            "_view_module_version": "1.2.0",
            "_model_module": "@jupyter-widgets/controls"
          }
        },
        "de378d49b5f644b3844571843056fd44": {
          "model_module": "@jupyter-widgets/base",
          "model_name": "LayoutModel",
          "state": {
            "_view_name": "LayoutView",
            "grid_template_rows": null,
            "right": null,
            "justify_content": null,
            "_view_module": "@jupyter-widgets/base",
            "overflow": null,
            "_model_module_version": "1.2.0",
            "_view_count": null,
            "flex_flow": null,
            "width": null,
            "min_width": null,
            "border": null,
            "align_items": null,
            "bottom": null,
            "_model_module": "@jupyter-widgets/base",
            "top": null,
            "grid_column": null,
            "overflow_y": null,
            "overflow_x": null,
            "grid_auto_flow": null,
            "grid_area": null,
            "grid_template_columns": null,
            "flex": null,
            "_model_name": "LayoutModel",
            "justify_items": null,
            "grid_row": null,
            "max_height": null,
            "align_content": null,
            "visibility": null,
            "align_self": null,
            "height": null,
            "min_height": null,
            "padding": null,
            "grid_auto_rows": null,
            "grid_gap": null,
            "max_width": null,
            "order": null,
            "_view_module_version": "1.2.0",
            "grid_template_areas": null,
            "object_position": null,
            "object_fit": null,
            "grid_auto_columns": null,
            "margin": null,
            "display": null,
            "left": null
          }
        },
        "e0b25f3d9fa143b58f7afc41cf999357": {
          "model_module": "@jupyter-widgets/controls",
          "model_name": "HBoxModel",
          "state": {
            "_view_name": "HBoxView",
            "_dom_classes": [],
            "_model_name": "HBoxModel",
            "_view_module": "@jupyter-widgets/controls",
            "_model_module_version": "1.5.0",
            "_view_count": null,
            "_view_module_version": "1.5.0",
            "box_style": "",
            "layout": "IPY_MODEL_08b33aba8f594719973b2b8fa23df71d",
            "_model_module": "@jupyter-widgets/controls",
            "children": [
              "IPY_MODEL_d462acc7bd2c4ce39801e8c0e1228787",
              "IPY_MODEL_e9c80beb1e984a3cbd4ff8fabae569b5"
            ]
          }
        },
        "08b33aba8f594719973b2b8fa23df71d": {
          "model_module": "@jupyter-widgets/base",
          "model_name": "LayoutModel",
          "state": {
            "_view_name": "LayoutView",
            "grid_template_rows": null,
            "right": null,
            "justify_content": null,
            "_view_module": "@jupyter-widgets/base",
            "overflow": null,
            "_model_module_version": "1.2.0",
            "_view_count": null,
            "flex_flow": null,
            "width": null,
            "min_width": null,
            "border": null,
            "align_items": null,
            "bottom": null,
            "_model_module": "@jupyter-widgets/base",
            "top": null,
            "grid_column": null,
            "overflow_y": null,
            "overflow_x": null,
            "grid_auto_flow": null,
            "grid_area": null,
            "grid_template_columns": null,
            "flex": null,
            "_model_name": "LayoutModel",
            "justify_items": null,
            "grid_row": null,
            "max_height": null,
            "align_content": null,
            "visibility": null,
            "align_self": null,
            "height": null,
            "min_height": null,
            "padding": null,
            "grid_auto_rows": null,
            "grid_gap": null,
            "max_width": null,
            "order": null,
            "_view_module_version": "1.2.0",
            "grid_template_areas": null,
            "object_position": null,
            "object_fit": null,
            "grid_auto_columns": null,
            "margin": null,
            "display": null,
            "left": null
          }
        },
        "d462acc7bd2c4ce39801e8c0e1228787": {
          "model_module": "@jupyter-widgets/controls",
          "model_name": "FloatProgressModel",
          "state": {
            "_view_name": "ProgressView",
            "style": "IPY_MODEL_9a8ff899af1d4eaa9a5d835e82c86b6f",
            "_dom_classes": [],
            "description": "Downloading: 100%",
            "_model_name": "FloatProgressModel",
            "bar_style": "success",
            "max": 1715180,
            "_view_module": "@jupyter-widgets/controls",
            "_model_module_version": "1.5.0",
            "value": 1715180,
            "_view_count": null,
            "_view_module_version": "1.5.0",
            "orientation": "horizontal",
            "min": 0,
            "description_tooltip": null,
            "_model_module": "@jupyter-widgets/controls",
            "layout": "IPY_MODEL_a69defdf828e475e8251248e781c9776"
          }
        },
        "e9c80beb1e984a3cbd4ff8fabae569b5": {
          "model_module": "@jupyter-widgets/controls",
          "model_name": "HTMLModel",
          "state": {
            "_view_name": "HTMLView",
            "style": "IPY_MODEL_15e9c55f057e40f28a70cfef08f55c2f",
            "_dom_classes": [],
            "description": "",
            "_model_name": "HTMLModel",
            "placeholder": "​",
            "_view_module": "@jupyter-widgets/controls",
            "_model_module_version": "1.5.0",
            "value": " 1.72M/1.72M [00:30&lt;00:00, 55.6kB/s]",
            "_view_count": null,
            "_view_module_version": "1.5.0",
            "description_tooltip": null,
            "_model_module": "@jupyter-widgets/controls",
            "layout": "IPY_MODEL_508af69d9599422d875406c99a85c051"
          }
        },
        "9a8ff899af1d4eaa9a5d835e82c86b6f": {
          "model_module": "@jupyter-widgets/controls",
          "model_name": "ProgressStyleModel",
          "state": {
            "_view_name": "StyleView",
            "_model_name": "ProgressStyleModel",
            "description_width": "initial",
            "_view_module": "@jupyter-widgets/base",
            "_model_module_version": "1.5.0",
            "_view_count": null,
            "_view_module_version": "1.2.0",
            "bar_color": null,
            "_model_module": "@jupyter-widgets/controls"
          }
        },
        "a69defdf828e475e8251248e781c9776": {
          "model_module": "@jupyter-widgets/base",
          "model_name": "LayoutModel",
          "state": {
            "_view_name": "LayoutView",
            "grid_template_rows": null,
            "right": null,
            "justify_content": null,
            "_view_module": "@jupyter-widgets/base",
            "overflow": null,
            "_model_module_version": "1.2.0",
            "_view_count": null,
            "flex_flow": null,
            "width": null,
            "min_width": null,
            "border": null,
            "align_items": null,
            "bottom": null,
            "_model_module": "@jupyter-widgets/base",
            "top": null,
            "grid_column": null,
            "overflow_y": null,
            "overflow_x": null,
            "grid_auto_flow": null,
            "grid_area": null,
            "grid_template_columns": null,
            "flex": null,
            "_model_name": "LayoutModel",
            "justify_items": null,
            "grid_row": null,
            "max_height": null,
            "align_content": null,
            "visibility": null,
            "align_self": null,
            "height": null,
            "min_height": null,
            "padding": null,
            "grid_auto_rows": null,
            "grid_gap": null,
            "max_width": null,
            "order": null,
            "_view_module_version": "1.2.0",
            "grid_template_areas": null,
            "object_position": null,
            "object_fit": null,
            "grid_auto_columns": null,
            "margin": null,
            "display": null,
            "left": null
          }
        },
        "15e9c55f057e40f28a70cfef08f55c2f": {
          "model_module": "@jupyter-widgets/controls",
          "model_name": "DescriptionStyleModel",
          "state": {
            "_view_name": "StyleView",
            "_model_name": "DescriptionStyleModel",
            "description_width": "",
            "_view_module": "@jupyter-widgets/base",
            "_model_module_version": "1.5.0",
            "_view_count": null,
            "_view_module_version": "1.2.0",
            "_model_module": "@jupyter-widgets/controls"
          }
        },
        "508af69d9599422d875406c99a85c051": {
          "model_module": "@jupyter-widgets/base",
          "model_name": "LayoutModel",
          "state": {
            "_view_name": "LayoutView",
            "grid_template_rows": null,
            "right": null,
            "justify_content": null,
            "_view_module": "@jupyter-widgets/base",
            "overflow": null,
            "_model_module_version": "1.2.0",
            "_view_count": null,
            "flex_flow": null,
            "width": null,
            "min_width": null,
            "border": null,
            "align_items": null,
            "bottom": null,
            "_model_module": "@jupyter-widgets/base",
            "top": null,
            "grid_column": null,
            "overflow_y": null,
            "overflow_x": null,
            "grid_auto_flow": null,
            "grid_area": null,
            "grid_template_columns": null,
            "flex": null,
            "_model_name": "LayoutModel",
            "justify_items": null,
            "grid_row": null,
            "max_height": null,
            "align_content": null,
            "visibility": null,
            "align_self": null,
            "height": null,
            "min_height": null,
            "padding": null,
            "grid_auto_rows": null,
            "grid_gap": null,
            "max_width": null,
            "order": null,
            "_view_module_version": "1.2.0",
            "grid_template_areas": null,
            "object_position": null,
            "object_fit": null,
            "grid_auto_columns": null,
            "margin": null,
            "display": null,
            "left": null
          }
        },
        "11c3dee2c9c14db89692bc2103e6fc09": {
          "model_module": "@jupyter-widgets/controls",
          "model_name": "HBoxModel",
          "state": {
            "_view_name": "HBoxView",
            "_dom_classes": [],
            "_model_name": "HBoxModel",
            "_view_module": "@jupyter-widgets/controls",
            "_model_module_version": "1.5.0",
            "_view_count": null,
            "_view_module_version": "1.5.0",
            "box_style": "",
            "layout": "IPY_MODEL_5390cee773224e14a5f743814eb3ed6f",
            "_model_module": "@jupyter-widgets/controls",
            "children": [
              "IPY_MODEL_71cfc4855dba4f89b9e671e80a230b74",
              "IPY_MODEL_cee3806170514bf893a3472fe4315f90"
            ]
          }
        },
        "5390cee773224e14a5f743814eb3ed6f": {
          "model_module": "@jupyter-widgets/base",
          "model_name": "LayoutModel",
          "state": {
            "_view_name": "LayoutView",
            "grid_template_rows": null,
            "right": null,
            "justify_content": null,
            "_view_module": "@jupyter-widgets/base",
            "overflow": null,
            "_model_module_version": "1.2.0",
            "_view_count": null,
            "flex_flow": null,
            "width": null,
            "min_width": null,
            "border": null,
            "align_items": null,
            "bottom": null,
            "_model_module": "@jupyter-widgets/base",
            "top": null,
            "grid_column": null,
            "overflow_y": null,
            "overflow_x": null,
            "grid_auto_flow": null,
            "grid_area": null,
            "grid_template_columns": null,
            "flex": null,
            "_model_name": "LayoutModel",
            "justify_items": null,
            "grid_row": null,
            "max_height": null,
            "align_content": null,
            "visibility": null,
            "align_self": null,
            "height": null,
            "min_height": null,
            "padding": null,
            "grid_auto_rows": null,
            "grid_gap": null,
            "max_width": null,
            "order": null,
            "_view_module_version": "1.2.0",
            "grid_template_areas": null,
            "object_position": null,
            "object_fit": null,
            "grid_auto_columns": null,
            "margin": null,
            "display": null,
            "left": null
          }
        },
        "71cfc4855dba4f89b9e671e80a230b74": {
          "model_module": "@jupyter-widgets/controls",
          "model_name": "FloatProgressModel",
          "state": {
            "_view_name": "ProgressView",
            "style": "IPY_MODEL_1cfe77ca6e2f4590ada5bb7b5b6a246d",
            "_dom_classes": [],
            "description": "Downloading: 100%",
            "_model_name": "FloatProgressModel",
            "bar_style": "success",
            "max": 1215,
            "_view_module": "@jupyter-widgets/controls",
            "_model_module_version": "1.5.0",
            "value": 1215,
            "_view_count": null,
            "_view_module_version": "1.5.0",
            "orientation": "horizontal",
            "min": 0,
            "description_tooltip": null,
            "_model_module": "@jupyter-widgets/controls",
            "layout": "IPY_MODEL_ffc61fdab89e446d9c720711736516f7"
          }
        },
        "cee3806170514bf893a3472fe4315f90": {
          "model_module": "@jupyter-widgets/controls",
          "model_name": "HTMLModel",
          "state": {
            "_view_name": "HTMLView",
            "style": "IPY_MODEL_b3881e6a222c46b99b7fd92e8c198f1f",
            "_dom_classes": [],
            "description": "",
            "_model_name": "HTMLModel",
            "placeholder": "​",
            "_view_module": "@jupyter-widgets/controls",
            "_model_module_version": "1.5.0",
            "value": " 1.22k/1.22k [00:00&lt;00:00, 4.83kB/s]",
            "_view_count": null,
            "_view_module_version": "1.5.0",
            "description_tooltip": null,
            "_model_module": "@jupyter-widgets/controls",
            "layout": "IPY_MODEL_7d29dbbccc02449181226eb1240ddd34"
          }
        },
        "1cfe77ca6e2f4590ada5bb7b5b6a246d": {
          "model_module": "@jupyter-widgets/controls",
          "model_name": "ProgressStyleModel",
          "state": {
            "_view_name": "StyleView",
            "_model_name": "ProgressStyleModel",
            "description_width": "initial",
            "_view_module": "@jupyter-widgets/base",
            "_model_module_version": "1.5.0",
            "_view_count": null,
            "_view_module_version": "1.2.0",
            "bar_color": null,
            "_model_module": "@jupyter-widgets/controls"
          }
        },
        "ffc61fdab89e446d9c720711736516f7": {
          "model_module": "@jupyter-widgets/base",
          "model_name": "LayoutModel",
          "state": {
            "_view_name": "LayoutView",
            "grid_template_rows": null,
            "right": null,
            "justify_content": null,
            "_view_module": "@jupyter-widgets/base",
            "overflow": null,
            "_model_module_version": "1.2.0",
            "_view_count": null,
            "flex_flow": null,
            "width": null,
            "min_width": null,
            "border": null,
            "align_items": null,
            "bottom": null,
            "_model_module": "@jupyter-widgets/base",
            "top": null,
            "grid_column": null,
            "overflow_y": null,
            "overflow_x": null,
            "grid_auto_flow": null,
            "grid_area": null,
            "grid_template_columns": null,
            "flex": null,
            "_model_name": "LayoutModel",
            "justify_items": null,
            "grid_row": null,
            "max_height": null,
            "align_content": null,
            "visibility": null,
            "align_self": null,
            "height": null,
            "min_height": null,
            "padding": null,
            "grid_auto_rows": null,
            "grid_gap": null,
            "max_width": null,
            "order": null,
            "_view_module_version": "1.2.0",
            "grid_template_areas": null,
            "object_position": null,
            "object_fit": null,
            "grid_auto_columns": null,
            "margin": null,
            "display": null,
            "left": null
          }
        },
        "b3881e6a222c46b99b7fd92e8c198f1f": {
          "model_module": "@jupyter-widgets/controls",
          "model_name": "DescriptionStyleModel",
          "state": {
            "_view_name": "StyleView",
            "_model_name": "DescriptionStyleModel",
            "description_width": "",
            "_view_module": "@jupyter-widgets/base",
            "_model_module_version": "1.5.0",
            "_view_count": null,
            "_view_module_version": "1.2.0",
            "_model_module": "@jupyter-widgets/controls"
          }
        },
        "7d29dbbccc02449181226eb1240ddd34": {
          "model_module": "@jupyter-widgets/base",
          "model_name": "LayoutModel",
          "state": {
            "_view_name": "LayoutView",
            "grid_template_rows": null,
            "right": null,
            "justify_content": null,
            "_view_module": "@jupyter-widgets/base",
            "overflow": null,
            "_model_module_version": "1.2.0",
            "_view_count": null,
            "flex_flow": null,
            "width": null,
            "min_width": null,
            "border": null,
            "align_items": null,
            "bottom": null,
            "_model_module": "@jupyter-widgets/base",
            "top": null,
            "grid_column": null,
            "overflow_y": null,
            "overflow_x": null,
            "grid_auto_flow": null,
            "grid_area": null,
            "grid_template_columns": null,
            "flex": null,
            "_model_name": "LayoutModel",
            "justify_items": null,
            "grid_row": null,
            "max_height": null,
            "align_content": null,
            "visibility": null,
            "align_self": null,
            "height": null,
            "min_height": null,
            "padding": null,
            "grid_auto_rows": null,
            "grid_gap": null,
            "max_width": null,
            "order": null,
            "_view_module_version": "1.2.0",
            "grid_template_areas": null,
            "object_position": null,
            "object_fit": null,
            "grid_auto_columns": null,
            "margin": null,
            "display": null,
            "left": null
          }
        },
        "67e1c844dfa247db961f2bc4c4a78840": {
          "model_module": "@jupyter-widgets/controls",
          "model_name": "HBoxModel",
          "state": {
            "_view_name": "HBoxView",
            "_dom_classes": [],
            "_model_name": "HBoxModel",
            "_view_module": "@jupyter-widgets/controls",
            "_model_module_version": "1.5.0",
            "_view_count": null,
            "_view_module_version": "1.5.0",
            "box_style": "",
            "layout": "IPY_MODEL_c47cab774961418b8f024fbb28686ee4",
            "_model_module": "@jupyter-widgets/controls",
            "children": [
              "IPY_MODEL_143a72821f3e4ceebc9a09d9ce7f4949",
              "IPY_MODEL_a0b7b882b2d74b27a7a41db7faeff3a4"
            ]
          }
        },
        "c47cab774961418b8f024fbb28686ee4": {
          "model_module": "@jupyter-widgets/base",
          "model_name": "LayoutModel",
          "state": {
            "_view_name": "LayoutView",
            "grid_template_rows": null,
            "right": null,
            "justify_content": null,
            "_view_module": "@jupyter-widgets/base",
            "overflow": null,
            "_model_module_version": "1.2.0",
            "_view_count": null,
            "flex_flow": null,
            "width": null,
            "min_width": null,
            "border": null,
            "align_items": null,
            "bottom": null,
            "_model_module": "@jupyter-widgets/base",
            "top": null,
            "grid_column": null,
            "overflow_y": null,
            "overflow_x": null,
            "grid_auto_flow": null,
            "grid_area": null,
            "grid_template_columns": null,
            "flex": null,
            "_model_name": "LayoutModel",
            "justify_items": null,
            "grid_row": null,
            "max_height": null,
            "align_content": null,
            "visibility": null,
            "align_self": null,
            "height": null,
            "min_height": null,
            "padding": null,
            "grid_auto_rows": null,
            "grid_gap": null,
            "max_width": null,
            "order": null,
            "_view_module_version": "1.2.0",
            "grid_template_areas": null,
            "object_position": null,
            "object_fit": null,
            "grid_auto_columns": null,
            "margin": null,
            "display": null,
            "left": null
          }
        },
        "143a72821f3e4ceebc9a09d9ce7f4949": {
          "model_module": "@jupyter-widgets/controls",
          "model_name": "FloatProgressModel",
          "state": {
            "_view_name": "ProgressView",
            "style": "IPY_MODEL_9bf443a2855f4e1aafcb10c888de664b",
            "_dom_classes": [],
            "description": "Downloading: 100%",
            "_model_name": "FloatProgressModel",
            "bar_style": "success",
            "max": 995526,
            "_view_module": "@jupyter-widgets/controls",
            "_model_module_version": "1.5.0",
            "value": 995526,
            "_view_count": null,
            "_view_module_version": "1.5.0",
            "orientation": "horizontal",
            "min": 0,
            "description_tooltip": null,
            "_model_module": "@jupyter-widgets/controls",
            "layout": "IPY_MODEL_15f8004ce56a4cce9139f2b4935573ed"
          }
        },
        "a0b7b882b2d74b27a7a41db7faeff3a4": {
          "model_module": "@jupyter-widgets/controls",
          "model_name": "HTMLModel",
          "state": {
            "_view_name": "HTMLView",
            "style": "IPY_MODEL_f569e6a4f885435aae3d13ab2d514e75",
            "_dom_classes": [],
            "description": "",
            "_model_name": "HTMLModel",
            "placeholder": "​",
            "_view_module": "@jupyter-widgets/controls",
            "_model_module_version": "1.5.0",
            "value": " 996k/996k [00:00&lt;00:00, 6.40MB/s]",
            "_view_count": null,
            "_view_module_version": "1.5.0",
            "description_tooltip": null,
            "_model_module": "@jupyter-widgets/controls",
            "layout": "IPY_MODEL_29667395230046d3a68b916b216360d0"
          }
        },
        "9bf443a2855f4e1aafcb10c888de664b": {
          "model_module": "@jupyter-widgets/controls",
          "model_name": "ProgressStyleModel",
          "state": {
            "_view_name": "StyleView",
            "_model_name": "ProgressStyleModel",
            "description_width": "initial",
            "_view_module": "@jupyter-widgets/base",
            "_model_module_version": "1.5.0",
            "_view_count": null,
            "_view_module_version": "1.2.0",
            "bar_color": null,
            "_model_module": "@jupyter-widgets/controls"
          }
        },
        "15f8004ce56a4cce9139f2b4935573ed": {
          "model_module": "@jupyter-widgets/base",
          "model_name": "LayoutModel",
          "state": {
            "_view_name": "LayoutView",
            "grid_template_rows": null,
            "right": null,
            "justify_content": null,
            "_view_module": "@jupyter-widgets/base",
            "overflow": null,
            "_model_module_version": "1.2.0",
            "_view_count": null,
            "flex_flow": null,
            "width": null,
            "min_width": null,
            "border": null,
            "align_items": null,
            "bottom": null,
            "_model_module": "@jupyter-widgets/base",
            "top": null,
            "grid_column": null,
            "overflow_y": null,
            "overflow_x": null,
            "grid_auto_flow": null,
            "grid_area": null,
            "grid_template_columns": null,
            "flex": null,
            "_model_name": "LayoutModel",
            "justify_items": null,
            "grid_row": null,
            "max_height": null,
            "align_content": null,
            "visibility": null,
            "align_self": null,
            "height": null,
            "min_height": null,
            "padding": null,
            "grid_auto_rows": null,
            "grid_gap": null,
            "max_width": null,
            "order": null,
            "_view_module_version": "1.2.0",
            "grid_template_areas": null,
            "object_position": null,
            "object_fit": null,
            "grid_auto_columns": null,
            "margin": null,
            "display": null,
            "left": null
          }
        },
        "f569e6a4f885435aae3d13ab2d514e75": {
          "model_module": "@jupyter-widgets/controls",
          "model_name": "DescriptionStyleModel",
          "state": {
            "_view_name": "StyleView",
            "_model_name": "DescriptionStyleModel",
            "description_width": "",
            "_view_module": "@jupyter-widgets/base",
            "_model_module_version": "1.5.0",
            "_view_count": null,
            "_view_module_version": "1.2.0",
            "_model_module": "@jupyter-widgets/controls"
          }
        },
        "29667395230046d3a68b916b216360d0": {
          "model_module": "@jupyter-widgets/base",
          "model_name": "LayoutModel",
          "state": {
            "_view_name": "LayoutView",
            "grid_template_rows": null,
            "right": null,
            "justify_content": null,
            "_view_module": "@jupyter-widgets/base",
            "overflow": null,
            "_model_module_version": "1.2.0",
            "_view_count": null,
            "flex_flow": null,
            "width": null,
            "min_width": null,
            "border": null,
            "align_items": null,
            "bottom": null,
            "_model_module": "@jupyter-widgets/base",
            "top": null,
            "grid_column": null,
            "overflow_y": null,
            "overflow_x": null,
            "grid_auto_flow": null,
            "grid_area": null,
            "grid_template_columns": null,
            "flex": null,
            "_model_name": "LayoutModel",
            "justify_items": null,
            "grid_row": null,
            "max_height": null,
            "align_content": null,
            "visibility": null,
            "align_self": null,
            "height": null,
            "min_height": null,
            "padding": null,
            "grid_auto_rows": null,
            "grid_gap": null,
            "max_width": null,
            "order": null,
            "_view_module_version": "1.2.0",
            "grid_template_areas": null,
            "object_position": null,
            "object_fit": null,
            "grid_auto_columns": null,
            "margin": null,
            "display": null,
            "left": null
          }
        },
        "5099e3bdaa9d4bbd9a1f5ac317f7149f": {
          "model_module": "@jupyter-widgets/controls",
          "model_name": "HBoxModel",
          "state": {
            "_view_name": "HBoxView",
            "_dom_classes": [],
            "_model_name": "HBoxModel",
            "_view_module": "@jupyter-widgets/controls",
            "_model_module_version": "1.5.0",
            "_view_count": null,
            "_view_module_version": "1.5.0",
            "box_style": "",
            "layout": "IPY_MODEL_f6051826992841b395aab5881b79ae3e",
            "_model_module": "@jupyter-widgets/controls",
            "children": [
              "IPY_MODEL_a8db83406d8541b18113daee767d6638",
              "IPY_MODEL_d7488b41059f4aaba110484fa577f2bc"
            ]
          }
        },
        "f6051826992841b395aab5881b79ae3e": {
          "model_module": "@jupyter-widgets/base",
          "model_name": "LayoutModel",
          "state": {
            "_view_name": "LayoutView",
            "grid_template_rows": null,
            "right": null,
            "justify_content": null,
            "_view_module": "@jupyter-widgets/base",
            "overflow": null,
            "_model_module_version": "1.2.0",
            "_view_count": null,
            "flex_flow": null,
            "width": null,
            "min_width": null,
            "border": null,
            "align_items": null,
            "bottom": null,
            "_model_module": "@jupyter-widgets/base",
            "top": null,
            "grid_column": null,
            "overflow_y": null,
            "overflow_x": null,
            "grid_auto_flow": null,
            "grid_area": null,
            "grid_template_columns": null,
            "flex": null,
            "_model_name": "LayoutModel",
            "justify_items": null,
            "grid_row": null,
            "max_height": null,
            "align_content": null,
            "visibility": null,
            "align_self": null,
            "height": null,
            "min_height": null,
            "padding": null,
            "grid_auto_rows": null,
            "grid_gap": null,
            "max_width": null,
            "order": null,
            "_view_module_version": "1.2.0",
            "grid_template_areas": null,
            "object_position": null,
            "object_fit": null,
            "grid_auto_columns": null,
            "margin": null,
            "display": null,
            "left": null
          }
        },
        "a8db83406d8541b18113daee767d6638": {
          "model_module": "@jupyter-widgets/controls",
          "model_name": "FloatProgressModel",
          "state": {
            "_view_name": "ProgressView",
            "style": "IPY_MODEL_2b02c3ef04344f4daeeaf391c643a322",
            "_dom_classes": [],
            "description": "Downloading: 100%",
            "_model_name": "FloatProgressModel",
            "bar_style": "success",
            "max": 112,
            "_view_module": "@jupyter-widgets/controls",
            "_model_module_version": "1.5.0",
            "value": 112,
            "_view_count": null,
            "_view_module_version": "1.5.0",
            "orientation": "horizontal",
            "min": 0,
            "description_tooltip": null,
            "_model_module": "@jupyter-widgets/controls",
            "layout": "IPY_MODEL_586562a93e3747ab8ad580ba01d426f9"
          }
        },
        "d7488b41059f4aaba110484fa577f2bc": {
          "model_module": "@jupyter-widgets/controls",
          "model_name": "HTMLModel",
          "state": {
            "_view_name": "HTMLView",
            "style": "IPY_MODEL_0153d68f1b2e416b920c742b50fa75d8",
            "_dom_classes": [],
            "description": "",
            "_model_name": "HTMLModel",
            "placeholder": "​",
            "_view_module": "@jupyter-widgets/controls",
            "_model_module_version": "1.5.0",
            "value": " 112/112 [00:00&lt;00:00, 476B/s]",
            "_view_count": null,
            "_view_module_version": "1.5.0",
            "description_tooltip": null,
            "_model_module": "@jupyter-widgets/controls",
            "layout": "IPY_MODEL_e3055ecfc4d347efaf4a7ed7b7074f7a"
          }
        },
        "2b02c3ef04344f4daeeaf391c643a322": {
          "model_module": "@jupyter-widgets/controls",
          "model_name": "ProgressStyleModel",
          "state": {
            "_view_name": "StyleView",
            "_model_name": "ProgressStyleModel",
            "description_width": "initial",
            "_view_module": "@jupyter-widgets/base",
            "_model_module_version": "1.5.0",
            "_view_count": null,
            "_view_module_version": "1.2.0",
            "bar_color": null,
            "_model_module": "@jupyter-widgets/controls"
          }
        },
        "586562a93e3747ab8ad580ba01d426f9": {
          "model_module": "@jupyter-widgets/base",
          "model_name": "LayoutModel",
          "state": {
            "_view_name": "LayoutView",
            "grid_template_rows": null,
            "right": null,
            "justify_content": null,
            "_view_module": "@jupyter-widgets/base",
            "overflow": null,
            "_model_module_version": "1.2.0",
            "_view_count": null,
            "flex_flow": null,
            "width": null,
            "min_width": null,
            "border": null,
            "align_items": null,
            "bottom": null,
            "_model_module": "@jupyter-widgets/base",
            "top": null,
            "grid_column": null,
            "overflow_y": null,
            "overflow_x": null,
            "grid_auto_flow": null,
            "grid_area": null,
            "grid_template_columns": null,
            "flex": null,
            "_model_name": "LayoutModel",
            "justify_items": null,
            "grid_row": null,
            "max_height": null,
            "align_content": null,
            "visibility": null,
            "align_self": null,
            "height": null,
            "min_height": null,
            "padding": null,
            "grid_auto_rows": null,
            "grid_gap": null,
            "max_width": null,
            "order": null,
            "_view_module_version": "1.2.0",
            "grid_template_areas": null,
            "object_position": null,
            "object_fit": null,
            "grid_auto_columns": null,
            "margin": null,
            "display": null,
            "left": null
          }
        },
        "0153d68f1b2e416b920c742b50fa75d8": {
          "model_module": "@jupyter-widgets/controls",
          "model_name": "DescriptionStyleModel",
          "state": {
            "_view_name": "StyleView",
            "_model_name": "DescriptionStyleModel",
            "description_width": "",
            "_view_module": "@jupyter-widgets/base",
            "_model_module_version": "1.5.0",
            "_view_count": null,
            "_view_module_version": "1.2.0",
            "_model_module": "@jupyter-widgets/controls"
          }
        },
        "e3055ecfc4d347efaf4a7ed7b7074f7a": {
          "model_module": "@jupyter-widgets/base",
          "model_name": "LayoutModel",
          "state": {
            "_view_name": "LayoutView",
            "grid_template_rows": null,
            "right": null,
            "justify_content": null,
            "_view_module": "@jupyter-widgets/base",
            "overflow": null,
            "_model_module_version": "1.2.0",
            "_view_count": null,
            "flex_flow": null,
            "width": null,
            "min_width": null,
            "border": null,
            "align_items": null,
            "bottom": null,
            "_model_module": "@jupyter-widgets/base",
            "top": null,
            "grid_column": null,
            "overflow_y": null,
            "overflow_x": null,
            "grid_auto_flow": null,
            "grid_area": null,
            "grid_template_columns": null,
            "flex": null,
            "_model_name": "LayoutModel",
            "justify_items": null,
            "grid_row": null,
            "max_height": null,
            "align_content": null,
            "visibility": null,
            "align_self": null,
            "height": null,
            "min_height": null,
            "padding": null,
            "grid_auto_rows": null,
            "grid_gap": null,
            "max_width": null,
            "order": null,
            "_view_module_version": "1.2.0",
            "grid_template_areas": null,
            "object_position": null,
            "object_fit": null,
            "grid_auto_columns": null,
            "margin": null,
            "display": null,
            "left": null
          }
        },
        "2ee7acd1fd3d4afb9c29d7d09b55707b": {
          "model_module": "@jupyter-widgets/controls",
          "model_name": "HBoxModel",
          "state": {
            "_view_name": "HBoxView",
            "_dom_classes": [],
            "_model_name": "HBoxModel",
            "_view_module": "@jupyter-widgets/controls",
            "_model_module_version": "1.5.0",
            "_view_count": null,
            "_view_module_version": "1.5.0",
            "box_style": "",
            "layout": "IPY_MODEL_82494c4d766a4ff1ad457917a80f6609",
            "_model_module": "@jupyter-widgets/controls",
            "children": [
              "IPY_MODEL_2c304670c5ea44fab52d2b2f0b17fc35",
              "IPY_MODEL_d4246d3b5a2d4ae79b86a90474479a64"
            ]
          }
        },
        "82494c4d766a4ff1ad457917a80f6609": {
          "model_module": "@jupyter-widgets/base",
          "model_name": "LayoutModel",
          "state": {
            "_view_name": "LayoutView",
            "grid_template_rows": null,
            "right": null,
            "justify_content": null,
            "_view_module": "@jupyter-widgets/base",
            "overflow": null,
            "_model_module_version": "1.2.0",
            "_view_count": null,
            "flex_flow": null,
            "width": null,
            "min_width": null,
            "border": null,
            "align_items": null,
            "bottom": null,
            "_model_module": "@jupyter-widgets/base",
            "top": null,
            "grid_column": null,
            "overflow_y": null,
            "overflow_x": null,
            "grid_auto_flow": null,
            "grid_area": null,
            "grid_template_columns": null,
            "flex": null,
            "_model_name": "LayoutModel",
            "justify_items": null,
            "grid_row": null,
            "max_height": null,
            "align_content": null,
            "visibility": null,
            "align_self": null,
            "height": null,
            "min_height": null,
            "padding": null,
            "grid_auto_rows": null,
            "grid_gap": null,
            "max_width": null,
            "order": null,
            "_view_module_version": "1.2.0",
            "grid_template_areas": null,
            "object_position": null,
            "object_fit": null,
            "grid_auto_columns": null,
            "margin": null,
            "display": null,
            "left": null
          }
        },
        "2c304670c5ea44fab52d2b2f0b17fc35": {
          "model_module": "@jupyter-widgets/controls",
          "model_name": "FloatProgressModel",
          "state": {
            "_view_name": "ProgressView",
            "style": "IPY_MODEL_673f8e76866243d3a1000626ea8e68d1",
            "_dom_classes": [],
            "description": "Downloading: 100%",
            "_model_name": "FloatProgressModel",
            "bar_style": "success",
            "max": 152,
            "_view_module": "@jupyter-widgets/controls",
            "_model_module_version": "1.5.0",
            "value": 152,
            "_view_count": null,
            "_view_module_version": "1.5.0",
            "orientation": "horizontal",
            "min": 0,
            "description_tooltip": null,
            "_model_module": "@jupyter-widgets/controls",
            "layout": "IPY_MODEL_ba7d16da7e2f452b8851dcd402550d86"
          }
        },
        "d4246d3b5a2d4ae79b86a90474479a64": {
          "model_module": "@jupyter-widgets/controls",
          "model_name": "HTMLModel",
          "state": {
            "_view_name": "HTMLView",
            "style": "IPY_MODEL_e750bfdb6fe44531a89f113718e82940",
            "_dom_classes": [],
            "description": "",
            "_model_name": "HTMLModel",
            "placeholder": "​",
            "_view_module": "@jupyter-widgets/controls",
            "_model_module_version": "1.5.0",
            "value": " 152/152 [00:00&lt;00:00, 1.04kB/s]",
            "_view_count": null,
            "_view_module_version": "1.5.0",
            "description_tooltip": null,
            "_model_module": "@jupyter-widgets/controls",
            "layout": "IPY_MODEL_af82299ece1f4ade9b73510fa75870b3"
          }
        },
        "673f8e76866243d3a1000626ea8e68d1": {
          "model_module": "@jupyter-widgets/controls",
          "model_name": "ProgressStyleModel",
          "state": {
            "_view_name": "StyleView",
            "_model_name": "ProgressStyleModel",
            "description_width": "initial",
            "_view_module": "@jupyter-widgets/base",
            "_model_module_version": "1.5.0",
            "_view_count": null,
            "_view_module_version": "1.2.0",
            "bar_color": null,
            "_model_module": "@jupyter-widgets/controls"
          }
        },
        "ba7d16da7e2f452b8851dcd402550d86": {
          "model_module": "@jupyter-widgets/base",
          "model_name": "LayoutModel",
          "state": {
            "_view_name": "LayoutView",
            "grid_template_rows": null,
            "right": null,
            "justify_content": null,
            "_view_module": "@jupyter-widgets/base",
            "overflow": null,
            "_model_module_version": "1.2.0",
            "_view_count": null,
            "flex_flow": null,
            "width": null,
            "min_width": null,
            "border": null,
            "align_items": null,
            "bottom": null,
            "_model_module": "@jupyter-widgets/base",
            "top": null,
            "grid_column": null,
            "overflow_y": null,
            "overflow_x": null,
            "grid_auto_flow": null,
            "grid_area": null,
            "grid_template_columns": null,
            "flex": null,
            "_model_name": "LayoutModel",
            "justify_items": null,
            "grid_row": null,
            "max_height": null,
            "align_content": null,
            "visibility": null,
            "align_self": null,
            "height": null,
            "min_height": null,
            "padding": null,
            "grid_auto_rows": null,
            "grid_gap": null,
            "max_width": null,
            "order": null,
            "_view_module_version": "1.2.0",
            "grid_template_areas": null,
            "object_position": null,
            "object_fit": null,
            "grid_auto_columns": null,
            "margin": null,
            "display": null,
            "left": null
          }
        },
        "e750bfdb6fe44531a89f113718e82940": {
          "model_module": "@jupyter-widgets/controls",
          "model_name": "DescriptionStyleModel",
          "state": {
            "_view_name": "StyleView",
            "_model_name": "DescriptionStyleModel",
            "description_width": "",
            "_view_module": "@jupyter-widgets/base",
            "_model_module_version": "1.5.0",
            "_view_count": null,
            "_view_module_version": "1.2.0",
            "_model_module": "@jupyter-widgets/controls"
          }
        },
        "af82299ece1f4ade9b73510fa75870b3": {
          "model_module": "@jupyter-widgets/base",
          "model_name": "LayoutModel",
          "state": {
            "_view_name": "LayoutView",
            "grid_template_rows": null,
            "right": null,
            "justify_content": null,
            "_view_module": "@jupyter-widgets/base",
            "overflow": null,
            "_model_module_version": "1.2.0",
            "_view_count": null,
            "flex_flow": null,
            "width": null,
            "min_width": null,
            "border": null,
            "align_items": null,
            "bottom": null,
            "_model_module": "@jupyter-widgets/base",
            "top": null,
            "grid_column": null,
            "overflow_y": null,
            "overflow_x": null,
            "grid_auto_flow": null,
            "grid_area": null,
            "grid_template_columns": null,
            "flex": null,
            "_model_name": "LayoutModel",
            "justify_items": null,
            "grid_row": null,
            "max_height": null,
            "align_content": null,
            "visibility": null,
            "align_self": null,
            "height": null,
            "min_height": null,
            "padding": null,
            "grid_auto_rows": null,
            "grid_gap": null,
            "max_width": null,
            "order": null,
            "_view_module_version": "1.2.0",
            "grid_template_areas": null,
            "object_position": null,
            "object_fit": null,
            "grid_auto_columns": null,
            "margin": null,
            "display": null,
            "left": null
          }
        },
        "2580952670914f4db1e9731c0262ce98": {
          "model_module": "@jupyter-widgets/controls",
          "model_name": "HBoxModel",
          "state": {
            "_view_name": "HBoxView",
            "_dom_classes": [],
            "_model_name": "HBoxModel",
            "_view_module": "@jupyter-widgets/controls",
            "_model_module_version": "1.5.0",
            "_view_count": null,
            "_view_module_version": "1.5.0",
            "box_style": "",
            "layout": "IPY_MODEL_f044a0dc91e64defb0addec3b8977be8",
            "_model_module": "@jupyter-widgets/controls",
            "children": [
              "IPY_MODEL_4263c720b8b34fc2b6535f55cf46521a",
              "IPY_MODEL_9ad73691fd964d059ea51878e501dbc6"
            ]
          }
        },
        "f044a0dc91e64defb0addec3b8977be8": {
          "model_module": "@jupyter-widgets/base",
          "model_name": "LayoutModel",
          "state": {
            "_view_name": "LayoutView",
            "grid_template_rows": null,
            "right": null,
            "justify_content": null,
            "_view_module": "@jupyter-widgets/base",
            "overflow": null,
            "_model_module_version": "1.2.0",
            "_view_count": null,
            "flex_flow": null,
            "width": null,
            "min_width": null,
            "border": null,
            "align_items": null,
            "bottom": null,
            "_model_module": "@jupyter-widgets/base",
            "top": null,
            "grid_column": null,
            "overflow_y": null,
            "overflow_x": null,
            "grid_auto_flow": null,
            "grid_area": null,
            "grid_template_columns": null,
            "flex": null,
            "_model_name": "LayoutModel",
            "justify_items": null,
            "grid_row": null,
            "max_height": null,
            "align_content": null,
            "visibility": null,
            "align_self": null,
            "height": null,
            "min_height": null,
            "padding": null,
            "grid_auto_rows": null,
            "grid_gap": null,
            "max_width": null,
            "order": null,
            "_view_module_version": "1.2.0",
            "grid_template_areas": null,
            "object_position": null,
            "object_fit": null,
            "grid_auto_columns": null,
            "margin": null,
            "display": null,
            "left": null
          }
        },
        "4263c720b8b34fc2b6535f55cf46521a": {
          "model_module": "@jupyter-widgets/controls",
          "model_name": "FloatProgressModel",
          "state": {
            "_view_name": "ProgressView",
            "style": "IPY_MODEL_0fb5738e2d354232ac1210b81e7d1cd9",
            "_dom_classes": [],
            "description": "Downloading: 100%",
            "_model_name": "FloatProgressModel",
            "bar_style": "success",
            "max": 714309763,
            "_view_module": "@jupyter-widgets/controls",
            "_model_module_version": "1.5.0",
            "value": 714309763,
            "_view_count": null,
            "_view_module_version": "1.5.0",
            "orientation": "horizontal",
            "min": 0,
            "description_tooltip": null,
            "_model_module": "@jupyter-widgets/controls",
            "layout": "IPY_MODEL_465523829a524a28a0fc32d7afd34e66"
          }
        },
        "9ad73691fd964d059ea51878e501dbc6": {
          "model_module": "@jupyter-widgets/controls",
          "model_name": "HTMLModel",
          "state": {
            "_view_name": "HTMLView",
            "style": "IPY_MODEL_cb13d98508da4d53be22b75506499914",
            "_dom_classes": [],
            "description": "",
            "_model_name": "HTMLModel",
            "placeholder": "​",
            "_view_module": "@jupyter-widgets/controls",
            "_model_module_version": "1.5.0",
            "value": " 714M/714M [00:20&lt;00:00, 34.9MB/s]",
            "_view_count": null,
            "_view_module_version": "1.5.0",
            "description_tooltip": null,
            "_model_module": "@jupyter-widgets/controls",
            "layout": "IPY_MODEL_6c147447639d4ddc9b67feb3f8d5e912"
          }
        },
        "0fb5738e2d354232ac1210b81e7d1cd9": {
          "model_module": "@jupyter-widgets/controls",
          "model_name": "ProgressStyleModel",
          "state": {
            "_view_name": "StyleView",
            "_model_name": "ProgressStyleModel",
            "description_width": "initial",
            "_view_module": "@jupyter-widgets/base",
            "_model_module_version": "1.5.0",
            "_view_count": null,
            "_view_module_version": "1.2.0",
            "bar_color": null,
            "_model_module": "@jupyter-widgets/controls"
          }
        },
        "465523829a524a28a0fc32d7afd34e66": {
          "model_module": "@jupyter-widgets/base",
          "model_name": "LayoutModel",
          "state": {
            "_view_name": "LayoutView",
            "grid_template_rows": null,
            "right": null,
            "justify_content": null,
            "_view_module": "@jupyter-widgets/base",
            "overflow": null,
            "_model_module_version": "1.2.0",
            "_view_count": null,
            "flex_flow": null,
            "width": null,
            "min_width": null,
            "border": null,
            "align_items": null,
            "bottom": null,
            "_model_module": "@jupyter-widgets/base",
            "top": null,
            "grid_column": null,
            "overflow_y": null,
            "overflow_x": null,
            "grid_auto_flow": null,
            "grid_area": null,
            "grid_template_columns": null,
            "flex": null,
            "_model_name": "LayoutModel",
            "justify_items": null,
            "grid_row": null,
            "max_height": null,
            "align_content": null,
            "visibility": null,
            "align_self": null,
            "height": null,
            "min_height": null,
            "padding": null,
            "grid_auto_rows": null,
            "grid_gap": null,
            "max_width": null,
            "order": null,
            "_view_module_version": "1.2.0",
            "grid_template_areas": null,
            "object_position": null,
            "object_fit": null,
            "grid_auto_columns": null,
            "margin": null,
            "display": null,
            "left": null
          }
        },
        "cb13d98508da4d53be22b75506499914": {
          "model_module": "@jupyter-widgets/controls",
          "model_name": "DescriptionStyleModel",
          "state": {
            "_view_name": "StyleView",
            "_model_name": "DescriptionStyleModel",
            "description_width": "",
            "_view_module": "@jupyter-widgets/base",
            "_model_module_version": "1.5.0",
            "_view_count": null,
            "_view_module_version": "1.2.0",
            "_model_module": "@jupyter-widgets/controls"
          }
        },
        "6c147447639d4ddc9b67feb3f8d5e912": {
          "model_module": "@jupyter-widgets/base",
          "model_name": "LayoutModel",
          "state": {
            "_view_name": "LayoutView",
            "grid_template_rows": null,
            "right": null,
            "justify_content": null,
            "_view_module": "@jupyter-widgets/base",
            "overflow": null,
            "_model_module_version": "1.2.0",
            "_view_count": null,
            "flex_flow": null,
            "width": null,
            "min_width": null,
            "border": null,
            "align_items": null,
            "bottom": null,
            "_model_module": "@jupyter-widgets/base",
            "top": null,
            "grid_column": null,
            "overflow_y": null,
            "overflow_x": null,
            "grid_auto_flow": null,
            "grid_area": null,
            "grid_template_columns": null,
            "flex": null,
            "_model_name": "LayoutModel",
            "justify_items": null,
            "grid_row": null,
            "max_height": null,
            "align_content": null,
            "visibility": null,
            "align_self": null,
            "height": null,
            "min_height": null,
            "padding": null,
            "grid_auto_rows": null,
            "grid_gap": null,
            "max_width": null,
            "order": null,
            "_view_module_version": "1.2.0",
            "grid_template_areas": null,
            "object_position": null,
            "object_fit": null,
            "grid_auto_columns": null,
            "margin": null,
            "display": null,
            "left": null
          }
        }
      }
    }
  },
  "cells": [
    {
      "cell_type": "markdown",
      "metadata": {
        "id": "hZZWHhKSY8Tm"
      },
      "source": [
        "\r\n",
        "**Team ID - Team 8**"
      ]
    },
    {
      "cell_type": "markdown",
      "metadata": {
        "id": "Vmyot2loZMSj"
      },
      "source": [
        "**B Div - 5th Sem - CSE**\r\n",
        "\r\n",
        "**Hostile Post Detection in Hindi - 5DMACP17**\r\n",
        "\r\n",
        "**Goals:** To predict the label set of the set of post collected from Twitter and facebook.\r\n",
        "\r\n",
        "**Traning data:** post with their label.\r\n",
        "\r\n",
        "**Tesing data:** set of posts.\r\n",
        "\r\n",
        "**Types of post:**\r\n",
        "\r\n",
        "Fake News: A claim or information that is verified to be not true.\r\n",
        "\r\n",
        "Hate Speech: A post targeting a specific group of people based on their ethnicity, religious beliefs, geographical belonging, race, etc., with malicious intentions of spreading hate or encouraging violence.\r\n",
        "\r\n",
        "Offensive: A post containing profanity, impolite, rude, or vulgar language to insult a targeted individual or group.\r\n",
        "\r\n",
        "Defamation: A mis-information regarding an individual or group.\r\n",
        "\r\n",
        "Non-hostile: A post without any hostility.\r\n",
        "\r\n",
        "dataset.csv: contains trainng data.\r\n",
        "\r\n",
        "\r\n",
        "\r\n",
        "**Team**\r\n",
        "\r\n",
        "Kirti Kunj Bajbai - 01fe18bcs094 - 222\r\n",
        "\r\n",
        "Naman Anand - 01fe18bcs119 - 247\r\n",
        "\r\n",
        "Himanshu Mishra - 01fe18bcs081 - 209\r\n",
        "\r\n",
        "Gunjan Mahajan - 01fe18bcs078 - 206"
      ]
    },
    {
      "cell_type": "code",
      "metadata": {
        "id": "vGoIPChUb-8a"
      },
      "source": [
        "# importing libraries\r\n",
        "import pandas as pd     \r\n",
        "import numpy as np\r\n",
        "import seaborn as sb\r\n",
        "import matplotlib.pyplot as plt\r\n",
        "pd.set_option('display.max_colwidth',1)\r\n"
      ],
      "execution_count": 1,
      "outputs": []
    },
    {
      "cell_type": "markdown",
      "metadata": {
        "id": "5hUrIKLzdyY0"
      },
      "source": [
        "**load data**"
      ]
    },
    {
      "cell_type": "code",
      "metadata": {
        "id": "7xBnfEi9cyYo"
      },
      "source": [
        "data = pd.read_csv(\"dataset.csv\")"
      ],
      "execution_count": 2,
      "outputs": []
    },
    {
      "cell_type": "markdown",
      "metadata": {
        "id": "LFfREOkad7HH"
      },
      "source": [
        "**How many posts do we have in training set**"
      ]
    },
    {
      "cell_type": "code",
      "metadata": {
        "colab": {
          "base_uri": "https://localhost:8080/"
        },
        "id": "zciaqB-fdf_M",
        "outputId": "25456ac8-13db-4b0c-d602-78e92cd7f20c"
      },
      "source": [
        "print(\"We have\", data.shape[0], \"posts in the training set.\")"
      ],
      "execution_count": 3,
      "outputs": [
        {
          "output_type": "stream",
          "text": [
            "We have 5728 posts in the training set.\n"
          ],
          "name": "stdout"
        }
      ]
    },
    {
      "cell_type": "markdown",
      "metadata": {
        "id": "Tr_ZBhoteA4n"
      },
      "source": [
        "**First and last five posts of dataset**"
      ]
    },
    {
      "cell_type": "code",
      "metadata": {
        "colab": {
          "base_uri": "https://localhost:8080/",
          "height": 237
        },
        "id": "CxpxA2LTdlUr",
        "outputId": "5e9517ab-140a-4c2b-d01d-859b02727ce5"
      },
      "source": [
        "data.head()"
      ],
      "execution_count": 4,
      "outputs": [
        {
          "output_type": "execute_result",
          "data": {
            "text/html": [
              "<div>\n",
              "<style scoped>\n",
              "    .dataframe tbody tr th:only-of-type {\n",
              "        vertical-align: middle;\n",
              "    }\n",
              "\n",
              "    .dataframe tbody tr th {\n",
              "        vertical-align: top;\n",
              "    }\n",
              "\n",
              "    .dataframe thead th {\n",
              "        text-align: right;\n",
              "    }\n",
              "</style>\n",
              "<table border=\"1\" class=\"dataframe\">\n",
              "  <thead>\n",
              "    <tr style=\"text-align: right;\">\n",
              "      <th></th>\n",
              "      <th>Unique ID</th>\n",
              "      <th>Post</th>\n",
              "      <th>Labels Set</th>\n",
              "      <th>Unnamed: 3</th>\n",
              "      <th>Unnamed: 4</th>\n",
              "    </tr>\n",
              "  </thead>\n",
              "  <tbody>\n",
              "    <tr>\n",
              "      <th>0</th>\n",
              "      <td>1</td>\n",
              "      <td>मेरे देश के हिन्दु बहुत निराले है। कुछ तो पक्के राम भक्त है और कुछ बाबर के साले है \\n\\n🙏 जय श्री राम 🙏</td>\n",
              "      <td>hate,offensive</td>\n",
              "      <td>NaN</td>\n",
              "      <td>NaN</td>\n",
              "    </tr>\n",
              "    <tr>\n",
              "      <th>1</th>\n",
              "      <td>2</td>\n",
              "      <td>सरकार हमेशा से किसानों की कमाई को बढ़ाने के लिए नई-नई स्कीमें लाती रहती है, ताकि उन पर ज्यादा आर्थिक बोझ न पड़े.\\n\\nhttps://t.co/8iy2MJSBAs</td>\n",
              "      <td>non-hostile</td>\n",
              "      <td>NaN</td>\n",
              "      <td>NaN</td>\n",
              "    </tr>\n",
              "    <tr>\n",
              "      <th>2</th>\n",
              "      <td>3</td>\n",
              "      <td>सुशांत ने जो बिजनेस डील 9 जून को की थी, वो डील दीपेश को सुशांत की हत्या के दिन ही क्यों याद आई? देखिए 'पूछता है भारत' अर्नब के साथ रिपब्लिक भारत पर #LIVE :  https://t.co/G945HvzM0Z https://t.co/KfH7xF1IdM</td>\n",
              "      <td>non-hostile</td>\n",
              "      <td>NaN</td>\n",
              "      <td>NaN</td>\n",
              "    </tr>\n",
              "    <tr>\n",
              "      <th>3</th>\n",
              "      <td>4</td>\n",
              "      <td>@prabhav218 साले जेएनयू छाप कमिने लोग हिन्दुओं को यह कहते है की संविधान सबको बराबर अधिकार देता है। सच्चाई यह है कि यह बराबर अधिकार नहीं देता है।</td>\n",
              "      <td>defamation,offensive</td>\n",
              "      <td>NaN</td>\n",
              "      <td>NaN</td>\n",
              "    </tr>\n",
              "    <tr>\n",
              "      <th>4</th>\n",
              "      <td>5</td>\n",
              "      <td>#unlock4guidelines - अनलॉक-4 के लिए गाइडलाइन्स जारी\\n\\n- 7 सितंबर से देशभर में मेट्रो सेवा शुरु होगी\\n- 21 सितंबर के बाद रैलियों और बाकी फंक्शन में 100 लोगों को इजाजत\\n- कंटेनमेंट जोन में कोई छूट नहीं\\n- सिनेमाहॉल अभी बंद रहेंगे\\n- 9 से 12वीं के छात्र 21 सितंबर के बाद स्कूल जा सकेंगे. https://t.co/4e6lysg0VR</td>\n",
              "      <td>non-hostile</td>\n",
              "      <td>NaN</td>\n",
              "      <td>NaN</td>\n",
              "    </tr>\n",
              "  </tbody>\n",
              "</table>\n",
              "</div>"
            ],
            "text/plain": [
              "   Unique ID  ... Unnamed: 4\n",
              "0  1          ... NaN       \n",
              "1  2          ... NaN       \n",
              "2  3          ... NaN       \n",
              "3  4          ... NaN       \n",
              "4  5          ... NaN       \n",
              "\n",
              "[5 rows x 5 columns]"
            ]
          },
          "metadata": {
            "tags": []
          },
          "execution_count": 4
        }
      ]
    },
    {
      "cell_type": "code",
      "metadata": {
        "colab": {
          "base_uri": "https://localhost:8080/",
          "height": 237
        },
        "id": "JZLMR-Eudm9C",
        "outputId": "00492de7-af8d-4c12-b645-182145a1f108"
      },
      "source": [
        "data.tail()"
      ],
      "execution_count": 5,
      "outputs": [
        {
          "output_type": "execute_result",
          "data": {
            "text/html": [
              "<div>\n",
              "<style scoped>\n",
              "    .dataframe tbody tr th:only-of-type {\n",
              "        vertical-align: middle;\n",
              "    }\n",
              "\n",
              "    .dataframe tbody tr th {\n",
              "        vertical-align: top;\n",
              "    }\n",
              "\n",
              "    .dataframe thead th {\n",
              "        text-align: right;\n",
              "    }\n",
              "</style>\n",
              "<table border=\"1\" class=\"dataframe\">\n",
              "  <thead>\n",
              "    <tr style=\"text-align: right;\">\n",
              "      <th></th>\n",
              "      <th>Unique ID</th>\n",
              "      <th>Post</th>\n",
              "      <th>Labels Set</th>\n",
              "      <th>Unnamed: 3</th>\n",
              "      <th>Unnamed: 4</th>\n",
              "    </tr>\n",
              "  </thead>\n",
              "  <tbody>\n",
              "    <tr>\n",
              "      <th>5723</th>\n",
              "      <td>5724</td>\n",
              "      <td>उदितराज जी हिम्मत  जुटा कर उस नेता के लिए कुछ कह दीजिये जिसके स्वागत में मुंबई स्टेशन पर पाकिस्तान जिंदाबाद के नारे लगे विरोध कर दें मान्य होगा की आप देशभक्त हैं वरना अनर्गल प्रलाप न करें</td>\n",
              "      <td>hate</td>\n",
              "      <td>NaN</td>\n",
              "      <td>NaN</td>\n",
              "    </tr>\n",
              "    <tr>\n",
              "      <th>5724</th>\n",
              "      <td>5725</td>\n",
              "      <td>उप्र: पीएम रिपोर्ट में खुलासा: हार्टअटैक से हुई थी पूर्व विधायक निर्वेंद्र की मौत; शरीर पर नहीं मिले चोट के निशान, बेटे ने पिटाई कर हत्या का दावा किया था\\nhttps://t.co/YaFEzPhTDC #NirvendraMishra @Uppolice @UPGovt</td>\n",
              "      <td>non-hostile</td>\n",
              "      <td>NaN</td>\n",
              "      <td>NaN</td>\n",
              "    </tr>\n",
              "    <tr>\n",
              "      <th>5725</th>\n",
              "      <td>5726</td>\n",
              "      <td>नौकरी गंवा चुके दोस्त की मदद: नगद के बजाए गिफ्ट कार्ड देने के बारे में सोचें, चुका सकते हैं नेटफ्लिक्स और जिम की फीस; हालचाल जानें, लेकिन ज्यादा नहीं https://t.co/l6kFR8eiBf #HelpYourFriend #Jobless #COVID19 https://t.co/YOKsAyndNa</td>\n",
              "      <td>non-hostile</td>\n",
              "      <td>NaN</td>\n",
              "      <td>NaN</td>\n",
              "    </tr>\n",
              "    <tr>\n",
              "      <th>5726</th>\n",
              "      <td>5727</td>\n",
              "      <td>बंगाल में हिन्दू मरे हैं इसलिए मुझे कोई फर्क नहीं पड़ता –#रविश कुमार\\n\\n</td>\n",
              "      <td>fake</td>\n",
              "      <td>NaN</td>\n",
              "      <td>NaN</td>\n",
              "    </tr>\n",
              "    <tr>\n",
              "      <th>5727</th>\n",
              "      <td>5728</td>\n",
              "      <td>रक्षा मंत्री @rajnathsingh ने पूर्व राष्ट्रपति #PranabMukherjee के निधन पर शोक व्यक्त किया\\n\\nविवरण : https://t.co/aLE7aVtWy9</td>\n",
              "      <td>non-hostile</td>\n",
              "      <td>NaN</td>\n",
              "      <td>NaN</td>\n",
              "    </tr>\n",
              "  </tbody>\n",
              "</table>\n",
              "</div>"
            ],
            "text/plain": [
              "      Unique ID  ... Unnamed: 4\n",
              "5723  5724       ... NaN       \n",
              "5724  5725       ... NaN       \n",
              "5725  5726       ... NaN       \n",
              "5726  5727       ... NaN       \n",
              "5727  5728       ... NaN       \n",
              "\n",
              "[5 rows x 5 columns]"
            ]
          },
          "metadata": {
            "tags": []
          },
          "execution_count": 5
        }
      ]
    },
    {
      "cell_type": "markdown",
      "metadata": {
        "id": "WJ4AmRz7eHq2"
      },
      "source": [
        "**Information about the attributes and tupples.**"
      ]
    },
    {
      "cell_type": "code",
      "metadata": {
        "colab": {
          "base_uri": "https://localhost:8080/"
        },
        "id": "GoBEJKVkdo9P",
        "outputId": "d12b9979-4326-488e-df25-39c07e2b2f0d"
      },
      "source": [
        "data.info()"
      ],
      "execution_count": 6,
      "outputs": [
        {
          "output_type": "stream",
          "text": [
            "<class 'pandas.core.frame.DataFrame'>\n",
            "RangeIndex: 5728 entries, 0 to 5727\n",
            "Data columns (total 5 columns):\n",
            " #   Column      Non-Null Count  Dtype  \n",
            "---  ------      --------------  -----  \n",
            " 0   Unique ID   5728 non-null   int64  \n",
            " 1   Post        5728 non-null   object \n",
            " 2   Labels Set  5728 non-null   object \n",
            " 3   Unnamed: 3  0 non-null      float64\n",
            " 4   Unnamed: 4  0 non-null      float64\n",
            "dtypes: float64(2), int64(1), object(2)\n",
            "memory usage: 223.9+ KB\n"
          ],
          "name": "stdout"
        }
      ]
    },
    {
      "cell_type": "markdown",
      "metadata": {
        "id": "gI3Q3LROeLi7"
      },
      "source": [
        "**removing extra columns**"
      ]
    },
    {
      "cell_type": "code",
      "metadata": {
        "id": "0VKlRYJWdq7q"
      },
      "source": [
        "data=data.drop(data.columns[[0,3,4]], axis=1)"
      ],
      "execution_count": 7,
      "outputs": []
    },
    {
      "cell_type": "markdown",
      "metadata": {
        "id": "iXiNnbapeVg6"
      },
      "source": [
        "**New information of data**"
      ]
    },
    {
      "cell_type": "code",
      "metadata": {
        "colab": {
          "base_uri": "https://localhost:8080/"
        },
        "id": "BGs1dIQrdtjK",
        "outputId": "017a0ac9-dd61-4fdb-f9c2-fc5255510d7e"
      },
      "source": [
        "data.info()"
      ],
      "execution_count": 8,
      "outputs": [
        {
          "output_type": "stream",
          "text": [
            "<class 'pandas.core.frame.DataFrame'>\n",
            "RangeIndex: 5728 entries, 0 to 5727\n",
            "Data columns (total 2 columns):\n",
            " #   Column      Non-Null Count  Dtype \n",
            "---  ------      --------------  ----- \n",
            " 0   Post        5728 non-null   object\n",
            " 1   Labels Set  5728 non-null   object\n",
            "dtypes: object(2)\n",
            "memory usage: 89.6+ KB\n"
          ],
          "name": "stdout"
        }
      ]
    },
    {
      "cell_type": "code",
      "metadata": {
        "colab": {
          "base_uri": "https://localhost:8080/",
          "height": 220
        },
        "id": "L_cMZZ54eYi1",
        "outputId": "09fccd2e-2a48-4b48-a5d5-38383abca80b"
      },
      "source": [
        "data.head()"
      ],
      "execution_count": 9,
      "outputs": [
        {
          "output_type": "execute_result",
          "data": {
            "text/html": [
              "<div>\n",
              "<style scoped>\n",
              "    .dataframe tbody tr th:only-of-type {\n",
              "        vertical-align: middle;\n",
              "    }\n",
              "\n",
              "    .dataframe tbody tr th {\n",
              "        vertical-align: top;\n",
              "    }\n",
              "\n",
              "    .dataframe thead th {\n",
              "        text-align: right;\n",
              "    }\n",
              "</style>\n",
              "<table border=\"1\" class=\"dataframe\">\n",
              "  <thead>\n",
              "    <tr style=\"text-align: right;\">\n",
              "      <th></th>\n",
              "      <th>Post</th>\n",
              "      <th>Labels Set</th>\n",
              "    </tr>\n",
              "  </thead>\n",
              "  <tbody>\n",
              "    <tr>\n",
              "      <th>0</th>\n",
              "      <td>मेरे देश के हिन्दु बहुत निराले है। कुछ तो पक्के राम भक्त है और कुछ बाबर के साले है \\n\\n🙏 जय श्री राम 🙏</td>\n",
              "      <td>hate,offensive</td>\n",
              "    </tr>\n",
              "    <tr>\n",
              "      <th>1</th>\n",
              "      <td>सरकार हमेशा से किसानों की कमाई को बढ़ाने के लिए नई-नई स्कीमें लाती रहती है, ताकि उन पर ज्यादा आर्थिक बोझ न पड़े.\\n\\nhttps://t.co/8iy2MJSBAs</td>\n",
              "      <td>non-hostile</td>\n",
              "    </tr>\n",
              "    <tr>\n",
              "      <th>2</th>\n",
              "      <td>सुशांत ने जो बिजनेस डील 9 जून को की थी, वो डील दीपेश को सुशांत की हत्या के दिन ही क्यों याद आई? देखिए 'पूछता है भारत' अर्नब के साथ रिपब्लिक भारत पर #LIVE :  https://t.co/G945HvzM0Z https://t.co/KfH7xF1IdM</td>\n",
              "      <td>non-hostile</td>\n",
              "    </tr>\n",
              "    <tr>\n",
              "      <th>3</th>\n",
              "      <td>@prabhav218 साले जेएनयू छाप कमिने लोग हिन्दुओं को यह कहते है की संविधान सबको बराबर अधिकार देता है। सच्चाई यह है कि यह बराबर अधिकार नहीं देता है।</td>\n",
              "      <td>defamation,offensive</td>\n",
              "    </tr>\n",
              "    <tr>\n",
              "      <th>4</th>\n",
              "      <td>#unlock4guidelines - अनलॉक-4 के लिए गाइडलाइन्स जारी\\n\\n- 7 सितंबर से देशभर में मेट्रो सेवा शुरु होगी\\n- 21 सितंबर के बाद रैलियों और बाकी फंक्शन में 100 लोगों को इजाजत\\n- कंटेनमेंट जोन में कोई छूट नहीं\\n- सिनेमाहॉल अभी बंद रहेंगे\\n- 9 से 12वीं के छात्र 21 सितंबर के बाद स्कूल जा सकेंगे. https://t.co/4e6lysg0VR</td>\n",
              "      <td>non-hostile</td>\n",
              "    </tr>\n",
              "  </tbody>\n",
              "</table>\n",
              "</div>"
            ],
            "text/plain": [
              "                                                                                                                                                                                                                                                                                                                    Post            Labels Set\n",
              "0  मेरे देश के हिन्दु बहुत निराले है। कुछ तो पक्के राम भक्त है और कुछ बाबर के साले है \\n\\n🙏 जय श्री राम 🙏                                                                                                                                                                                                                 hate,offensive      \n",
              "1  सरकार हमेशा से किसानों की कमाई को बढ़ाने के लिए नई-नई स्कीमें लाती रहती है, ताकि उन पर ज्यादा आर्थिक बोझ न पड़े.\\n\\nhttps://t.co/8iy2MJSBAs                                                                                                                                                                            non-hostile         \n",
              "2  सुशांत ने जो बिजनेस डील 9 जून को की थी, वो डील दीपेश को सुशांत की हत्या के दिन ही क्यों याद आई? देखिए 'पूछता है भारत' अर्नब के साथ रिपब्लिक भारत पर #LIVE :  https://t.co/G945HvzM0Z https://t.co/KfH7xF1IdM                                                                                                           non-hostile         \n",
              "3  @prabhav218 साले जेएनयू छाप कमिने लोग हिन्दुओं को यह कहते है की संविधान सबको बराबर अधिकार देता है। सच्चाई यह है कि यह बराबर अधिकार नहीं देता है।                                                                                                                                                                       defamation,offensive\n",
              "4  #unlock4guidelines - अनलॉक-4 के लिए गाइडलाइन्स जारी\\n\\n- 7 सितंबर से देशभर में मेट्रो सेवा शुरु होगी\\n- 21 सितंबर के बाद रैलियों और बाकी फंक्शन में 100 लोगों को इजाजत\\n- कंटेनमेंट जोन में कोई छूट नहीं\\n- सिनेमाहॉल अभी बंद रहेंगे\\n- 9 से 12वीं के छात्र 21 सितंबर के बाद स्कूल जा सकेंगे. https://t.co/4e6lysg0VR  non-hostile         "
            ]
          },
          "metadata": {
            "tags": []
          },
          "execution_count": 9
        }
      ]
    },
    {
      "cell_type": "code",
      "metadata": {
        "colab": {
          "base_uri": "https://localhost:8080/",
          "height": 202
        },
        "id": "fz1iOJD-ec8l",
        "outputId": "a4030ada-3e22-4d29-f257-5fd668cbbde5"
      },
      "source": [
        "data.tail()"
      ],
      "execution_count": 10,
      "outputs": [
        {
          "output_type": "execute_result",
          "data": {
            "text/html": [
              "<div>\n",
              "<style scoped>\n",
              "    .dataframe tbody tr th:only-of-type {\n",
              "        vertical-align: middle;\n",
              "    }\n",
              "\n",
              "    .dataframe tbody tr th {\n",
              "        vertical-align: top;\n",
              "    }\n",
              "\n",
              "    .dataframe thead th {\n",
              "        text-align: right;\n",
              "    }\n",
              "</style>\n",
              "<table border=\"1\" class=\"dataframe\">\n",
              "  <thead>\n",
              "    <tr style=\"text-align: right;\">\n",
              "      <th></th>\n",
              "      <th>Post</th>\n",
              "      <th>Labels Set</th>\n",
              "    </tr>\n",
              "  </thead>\n",
              "  <tbody>\n",
              "    <tr>\n",
              "      <th>5723</th>\n",
              "      <td>उदितराज जी हिम्मत  जुटा कर उस नेता के लिए कुछ कह दीजिये जिसके स्वागत में मुंबई स्टेशन पर पाकिस्तान जिंदाबाद के नारे लगे विरोध कर दें मान्य होगा की आप देशभक्त हैं वरना अनर्गल प्रलाप न करें</td>\n",
              "      <td>hate</td>\n",
              "    </tr>\n",
              "    <tr>\n",
              "      <th>5724</th>\n",
              "      <td>उप्र: पीएम रिपोर्ट में खुलासा: हार्टअटैक से हुई थी पूर्व विधायक निर्वेंद्र की मौत; शरीर पर नहीं मिले चोट के निशान, बेटे ने पिटाई कर हत्या का दावा किया था\\nhttps://t.co/YaFEzPhTDC #NirvendraMishra @Uppolice @UPGovt</td>\n",
              "      <td>non-hostile</td>\n",
              "    </tr>\n",
              "    <tr>\n",
              "      <th>5725</th>\n",
              "      <td>नौकरी गंवा चुके दोस्त की मदद: नगद के बजाए गिफ्ट कार्ड देने के बारे में सोचें, चुका सकते हैं नेटफ्लिक्स और जिम की फीस; हालचाल जानें, लेकिन ज्यादा नहीं https://t.co/l6kFR8eiBf #HelpYourFriend #Jobless #COVID19 https://t.co/YOKsAyndNa</td>\n",
              "      <td>non-hostile</td>\n",
              "    </tr>\n",
              "    <tr>\n",
              "      <th>5726</th>\n",
              "      <td>बंगाल में हिन्दू मरे हैं इसलिए मुझे कोई फर्क नहीं पड़ता –#रविश कुमार\\n\\n</td>\n",
              "      <td>fake</td>\n",
              "    </tr>\n",
              "    <tr>\n",
              "      <th>5727</th>\n",
              "      <td>रक्षा मंत्री @rajnathsingh ने पूर्व राष्ट्रपति #PranabMukherjee के निधन पर शोक व्यक्त किया\\n\\nविवरण : https://t.co/aLE7aVtWy9</td>\n",
              "      <td>non-hostile</td>\n",
              "    </tr>\n",
              "  </tbody>\n",
              "</table>\n",
              "</div>"
            ],
            "text/plain": [
              "                                                                                                                                                                                                                                         Post   Labels Set\n",
              "5723  उदितराज जी हिम्मत  जुटा कर उस नेता के लिए कुछ कह दीजिये जिसके स्वागत में मुंबई स्टेशन पर पाकिस्तान जिंदाबाद के नारे लगे विरोध कर दें मान्य होगा की आप देशभक्त हैं वरना अनर्गल प्रलाप न करें                                              hate       \n",
              "5724  उप्र: पीएम रिपोर्ट में खुलासा: हार्टअटैक से हुई थी पूर्व विधायक निर्वेंद्र की मौत; शरीर पर नहीं मिले चोट के निशान, बेटे ने पिटाई कर हत्या का दावा किया था\\nhttps://t.co/YaFEzPhTDC #NirvendraMishra @Uppolice @UPGovt                    non-hostile\n",
              "5725  नौकरी गंवा चुके दोस्त की मदद: नगद के बजाए गिफ्ट कार्ड देने के बारे में सोचें, चुका सकते हैं नेटफ्लिक्स और जिम की फीस; हालचाल जानें, लेकिन ज्यादा नहीं https://t.co/l6kFR8eiBf #HelpYourFriend #Jobless #COVID19 https://t.co/YOKsAyndNa  non-hostile\n",
              "5726  बंगाल में हिन्दू मरे हैं इसलिए मुझे कोई फर्क नहीं पड़ता –#रविश कुमार\\n\\n                                                                                                                                                                 fake       \n",
              "5727  रक्षा मंत्री @rajnathsingh ने पूर्व राष्ट्रपति #PranabMukherjee के निधन पर शोक व्यक्त किया\\n\\nविवरण : https://t.co/aLE7aVtWy9                                                                                                            non-hostile"
            ]
          },
          "metadata": {
            "tags": []
          },
          "execution_count": 10
        }
      ]
    },
    {
      "cell_type": "markdown",
      "metadata": {
        "id": "rDeJE_5Jei7Y"
      },
      "source": [
        "**Calculating the null values in each columns**"
      ]
    },
    {
      "cell_type": "code",
      "metadata": {
        "colab": {
          "base_uri": "https://localhost:8080/"
        },
        "id": "G_c1pnuAefBX",
        "outputId": "56512a01-3a2c-4f0f-c6ad-0c7c4fb68756"
      },
      "source": [
        "data.isnull().sum()"
      ],
      "execution_count": 11,
      "outputs": [
        {
          "output_type": "execute_result",
          "data": {
            "text/plain": [
              "Post          0\n",
              "Labels Set    0\n",
              "dtype: int64"
            ]
          },
          "metadata": {
            "tags": []
          },
          "execution_count": 11
        }
      ]
    },
    {
      "cell_type": "markdown",
      "metadata": {
        "id": "5yA1Vv2LetGZ"
      },
      "source": [
        "**Number of columns and rows in train data set**"
      ]
    },
    {
      "cell_type": "code",
      "metadata": {
        "colab": {
          "base_uri": "https://localhost:8080/"
        },
        "id": "ziME3IN0emmD",
        "outputId": "1bf06e6a-6c82-4794-c2e3-5bd403ed7aa8"
      },
      "source": [
        "\r\n",
        "data.shape\r\n",
        "print(data.shape,\"is the dimension of the data\")"
      ],
      "execution_count": 12,
      "outputs": [
        {
          "output_type": "stream",
          "text": [
            "(5728, 2) is the dimension of the data\n"
          ],
          "name": "stdout"
        }
      ]
    },
    {
      "cell_type": "markdown",
      "metadata": {
        "id": "nlVm58zue00N"
      },
      "source": [
        "**Checking for the duplicates in the dataset.**"
      ]
    },
    {
      "cell_type": "code",
      "metadata": {
        "colab": {
          "base_uri": "https://localhost:8080/"
        },
        "id": "r6Ji7Xdbex_i",
        "outputId": "1c7b23e2-b720-4a95-fbb9-2aa819963e69"
      },
      "source": [
        "print(len(data['Post'])-len(set(data['Post'])))"
      ],
      "execution_count": 13,
      "outputs": [
        {
          "output_type": "stream",
          "text": [
            "10\n"
          ],
          "name": "stdout"
        }
      ]
    },
    {
      "cell_type": "markdown",
      "metadata": {
        "id": "Fdky7T8Te-4s"
      },
      "source": [
        "**Calculating the number and percentage of different types of post.**"
      ]
    },
    {
      "cell_type": "code",
      "metadata": {
        "colab": {
          "base_uri": "https://localhost:8080/"
        },
        "id": "lH_9KMnFe5ox",
        "outputId": "d4845e2e-61ba-47a2-f3c0-1806d19d3afd"
      },
      "source": [
        "d={}\r\n",
        "total=0\r\n",
        "for i in data['Labels Set']:\r\n",
        "    ar=list(i.split(','))\r\n",
        "    for j in ar:\r\n",
        "        try:\r\n",
        "            d[j]+=1\r\n",
        "        except:\r\n",
        "            d[j]=1\r\n",
        "        total+=1\r\n",
        "\r\n",
        "\r\n",
        "percentageHolder={}\r\n",
        "for i in d:\r\n",
        "    percentageHolder[i]=str((d[i]/total)*100)[:5]+'%'\r\n",
        "\r\n",
        "\r\n",
        "\r\n",
        "table={'count':d,'percentage':percentageHolder}\r\n",
        "print(pd.DataFrame(table))"
      ],
      "execution_count": 14,
      "outputs": [
        {
          "output_type": "stream",
          "text": [
            "             count percentage\n",
            "hate         792    12.58%   \n",
            "offensive    742    11.79%   \n",
            "non-hostile  3050   48.47%   \n",
            "defamation   564    8.963%   \n",
            "fake         1144   18.18%   \n"
          ],
          "name": "stdout"
        }
      ]
    },
    {
      "cell_type": "markdown",
      "metadata": {
        "id": "ZJYxJxXMfJmJ"
      },
      "source": [
        "**Represntation of label**"
      ]
    },
    {
      "cell_type": "code",
      "metadata": {
        "colab": {
          "base_uri": "https://localhost:8080/",
          "height": 357
        },
        "id": "LKK6RYrpe9zS",
        "outputId": "e75a6713-a9b1-41e8-e6c9-64bc181e536f"
      },
      "source": [
        "#pie chart creation\r\n",
        "\r\n",
        "labels = list(d.keys())\r\n",
        "values = list(d.values())\r\n",
        "plt.figure(figsize=(6,6))\r\n",
        "plt.pie(values, labels=labels,autopct=\"%1.2f%%\")\r\n",
        "plt.show()"
      ],
      "execution_count": 15,
      "outputs": [
        {
          "output_type": "display_data",
          "data": {
            "image/png": "[encoded data removed]",
            "text/plain": [
              "<Figure size 432x432 with 1 Axes>"
            ]
          },
          "metadata": {
            "tags": []
          }
        }
      ]
    },
    {
      "cell_type": "markdown",
      "metadata": {
        "id": "uKFDCTaTfVWV"
      },
      "source": [
        "Analysis:\r\n",
        "\r\n",
        "Data is biased towards non-hostile post."
      ]
    },
    {
      "cell_type": "code",
      "metadata": {
        "colab": {
          "base_uri": "https://localhost:8080/",
          "height": 376
        },
        "id": "eOlSzplAfOtw",
        "outputId": "2933875f-ba37-47fb-fbaf-d81de60ef888"
      },
      "source": [
        "# Bar Plot\r\n",
        "plt.bar(d.keys(), d.values(), 0.6, color=['g','g','r','g','g'])\r\n",
        "plt.xlabel(\"Labels\", labelpad=14)\r\n",
        "plt.ylabel(\"Frequency\", labelpad=14)\r\n",
        "sb.set(font_scale=1.4)\r\n",
        "plt.xticks(fontsize=14, rotation=90)"
      ],
      "execution_count": 16,
      "outputs": [
        {
          "output_type": "execute_result",
          "data": {
            "text/plain": [
              "([0, 1, 2, 3, 4], <a list of 5 Text major ticklabel objects>)"
            ]
          },
          "metadata": {
            "tags": []
          },
          "execution_count": 16
        },
        {
          "output_type": "display_data",
          "data": {
            "image/png": "[encoded data removed]",
            "text/plain": [
              "<Figure size 432x288 with 1 Axes>"
            ]
          },
          "metadata": {
            "tags": [],
            "needs_background": "light"
          }
        }
      ]
    },
    {
      "cell_type": "markdown",
      "metadata": {
        "id": "IQ_-RgQQfeqq"
      },
      "source": [
        "Analysis:\r\n",
        "\r\n",
        "1) We observe that non-hostile posts has the highest proportion i.e more than 3000."
      ]
    },
    {
      "cell_type": "code",
      "metadata": {
        "colab": {
          "base_uri": "https://localhost:8080/"
        },
        "id": "dxWDn6A2fbbE",
        "outputId": "63ac4fa8-c383-4db1-ebef-ca6513ba482f"
      },
      "source": [
        "data.info()"
      ],
      "execution_count": 17,
      "outputs": [
        {
          "output_type": "stream",
          "text": [
            "<class 'pandas.core.frame.DataFrame'>\n",
            "RangeIndex: 5728 entries, 0 to 5727\n",
            "Data columns (total 2 columns):\n",
            " #   Column      Non-Null Count  Dtype \n",
            "---  ------      --------------  ----- \n",
            " 0   Post        5728 non-null   object\n",
            " 1   Labels Set  5728 non-null   object\n",
            "dtypes: object(2)\n",
            "memory usage: 89.6+ KB\n"
          ],
          "name": "stdout"
        }
      ]
    },
    {
      "cell_type": "markdown",
      "metadata": {
        "id": "Uyff23mb1dkC"
      },
      "source": [
        "**Preprocessing for KDD 1**"
      ]
    },
    {
      "cell_type": "code",
      "metadata": {
        "colab": {
          "base_uri": "https://localhost:8080/"
        },
        "id": "7ijG7EwGfiej",
        "outputId": "9140eee4-d6a1-4ea9-840e-27ef3a7650df"
      },
      "source": [
        "#Checking if the duplicate posts have duplicate labels or not\r\n",
        "\r\n",
        "temp=set()\r\n",
        "d={}\r\n",
        "index=0\r\n",
        "for i in data['Post']:\r\n",
        "    if i not in temp:\r\n",
        "        temp.add(i)\r\n",
        "        d[i]=[[data['Labels Set'][index],index]]\r\n",
        "    else:\r\n",
        "        d[i].append([data['Labels Set'][index],index])\r\n",
        "        print(d[i])\r\n",
        "    index+=1"
      ],
      "execution_count": 18,
      "outputs": [
        {
          "output_type": "stream",
          "text": [
            "[['fake', 1102], ['fake', 2670]]\n",
            "[['offensive', 2733], ['offensive', 3128]]\n",
            "[['hate', 1135], ['hate', 3217]]\n",
            "[['hate,offensive', 3086], ['hate,offensive', 3409]]\n",
            "[['hate,offensive', 1372], ['hate,offensive', 4523]]\n",
            "[['defamation,offensive', 2850], ['defamation,offensive', 4655]]\n",
            "[['hate', 2467], ['defamation,offensive', 4970]]\n",
            "[['offensive', 153], ['offensive', 5037]]\n",
            "[['offensive', 153], ['offensive', 5037], ['offensive', 5425]]\n",
            "[['hate,offensive', 1372], ['hate,offensive', 4523], ['hate,offensive', 5550]]\n"
          ],
          "name": "stdout"
        }
      ]
    },
    {
      "cell_type": "markdown",
      "metadata": {
        "id": "SquuzKhr1p3X"
      },
      "source": [
        "**Removing Duplicate rows**"
      ]
    },
    {
      "cell_type": "code",
      "metadata": {
        "colab": {
          "base_uri": "https://localhost:8080/",
          "height": 407
        },
        "id": "pUvWgixAgC2z",
        "outputId": "b8f0d567-1783-462b-887b-302162195379"
      },
      "source": [
        "#removing duplicate rows\r\n",
        "\r\n",
        "postTemp={'Post':[],'Labels Set':[]}\r\n",
        "visited=set()\r\n",
        "index=0\r\n",
        "\r\n",
        "for i in data['Post']:\r\n",
        "    if i not in visited and index!=4970:\r\n",
        "        postTemp['Post'].append(i)\r\n",
        "        postTemp['Labels Set'].append(data['Labels Set'][index])\r\n",
        "        visited.add(i)\r\n",
        "    index+=1\r\n",
        "        \r\n",
        "data=pd.DataFrame.from_dict(postTemp)\r\n",
        "\r\n",
        "data"
      ],
      "execution_count": 19,
      "outputs": [
        {
          "output_type": "execute_result",
          "data": {
            "text/html": [
              "<div>\n",
              "<style scoped>\n",
              "    .dataframe tbody tr th:only-of-type {\n",
              "        vertical-align: middle;\n",
              "    }\n",
              "\n",
              "    .dataframe tbody tr th {\n",
              "        vertical-align: top;\n",
              "    }\n",
              "\n",
              "    .dataframe thead th {\n",
              "        text-align: right;\n",
              "    }\n",
              "</style>\n",
              "<table border=\"1\" class=\"dataframe\">\n",
              "  <thead>\n",
              "    <tr style=\"text-align: right;\">\n",
              "      <th></th>\n",
              "      <th>Post</th>\n",
              "      <th>Labels Set</th>\n",
              "    </tr>\n",
              "  </thead>\n",
              "  <tbody>\n",
              "    <tr>\n",
              "      <th>0</th>\n",
              "      <td>मेरे देश के हिन्दु बहुत निराले है। कुछ तो पक्के राम भक्त है और कुछ बाबर के साले है \\n\\n🙏 जय श्री राम 🙏</td>\n",
              "      <td>hate,offensive</td>\n",
              "    </tr>\n",
              "    <tr>\n",
              "      <th>1</th>\n",
              "      <td>सरकार हमेशा से किसानों की कमाई को बढ़ाने के लिए नई-नई स्कीमें लाती रहती है, ताकि उन पर ज्यादा आर्थिक बोझ न पड़े.\\n\\nhttps://t.co/8iy2MJSBAs</td>\n",
              "      <td>non-hostile</td>\n",
              "    </tr>\n",
              "    <tr>\n",
              "      <th>2</th>\n",
              "      <td>सुशांत ने जो बिजनेस डील 9 जून को की थी, वो डील दीपेश को सुशांत की हत्या के दिन ही क्यों याद आई? देखिए 'पूछता है भारत' अर्नब के साथ रिपब्लिक भारत पर #LIVE :  https://t.co/G945HvzM0Z https://t.co/KfH7xF1IdM</td>\n",
              "      <td>non-hostile</td>\n",
              "    </tr>\n",
              "    <tr>\n",
              "      <th>3</th>\n",
              "      <td>@prabhav218 साले जेएनयू छाप कमिने लोग हिन्दुओं को यह कहते है की संविधान सबको बराबर अधिकार देता है। सच्चाई यह है कि यह बराबर अधिकार नहीं देता है।</td>\n",
              "      <td>defamation,offensive</td>\n",
              "    </tr>\n",
              "    <tr>\n",
              "      <th>4</th>\n",
              "      <td>#unlock4guidelines - अनलॉक-4 के लिए गाइडलाइन्स जारी\\n\\n- 7 सितंबर से देशभर में मेट्रो सेवा शुरु होगी\\n- 21 सितंबर के बाद रैलियों और बाकी फंक्शन में 100 लोगों को इजाजत\\n- कंटेनमेंट जोन में कोई छूट नहीं\\n- सिनेमाहॉल अभी बंद रहेंगे\\n- 9 से 12वीं के छात्र 21 सितंबर के बाद स्कूल जा सकेंगे. https://t.co/4e6lysg0VR</td>\n",
              "      <td>non-hostile</td>\n",
              "    </tr>\n",
              "    <tr>\n",
              "      <th>...</th>\n",
              "      <td>...</td>\n",
              "      <td>...</td>\n",
              "    </tr>\n",
              "    <tr>\n",
              "      <th>5713</th>\n",
              "      <td>उदितराज जी हिम्मत  जुटा कर उस नेता के लिए कुछ कह दीजिये जिसके स्वागत में मुंबई स्टेशन पर पाकिस्तान जिंदाबाद के नारे लगे विरोध कर दें मान्य होगा की आप देशभक्त हैं वरना अनर्गल प्रलाप न करें</td>\n",
              "      <td>hate</td>\n",
              "    </tr>\n",
              "    <tr>\n",
              "      <th>5714</th>\n",
              "      <td>उप्र: पीएम रिपोर्ट में खुलासा: हार्टअटैक से हुई थी पूर्व विधायक निर्वेंद्र की मौत; शरीर पर नहीं मिले चोट के निशान, बेटे ने पिटाई कर हत्या का दावा किया था\\nhttps://t.co/YaFEzPhTDC #NirvendraMishra @Uppolice @UPGovt</td>\n",
              "      <td>non-hostile</td>\n",
              "    </tr>\n",
              "    <tr>\n",
              "      <th>5715</th>\n",
              "      <td>नौकरी गंवा चुके दोस्त की मदद: नगद के बजाए गिफ्ट कार्ड देने के बारे में सोचें, चुका सकते हैं नेटफ्लिक्स और जिम की फीस; हालचाल जानें, लेकिन ज्यादा नहीं https://t.co/l6kFR8eiBf #HelpYourFriend #Jobless #COVID19 https://t.co/YOKsAyndNa</td>\n",
              "      <td>non-hostile</td>\n",
              "    </tr>\n",
              "    <tr>\n",
              "      <th>5716</th>\n",
              "      <td>बंगाल में हिन्दू मरे हैं इसलिए मुझे कोई फर्क नहीं पड़ता –#रविश कुमार\\n\\n</td>\n",
              "      <td>fake</td>\n",
              "    </tr>\n",
              "    <tr>\n",
              "      <th>5717</th>\n",
              "      <td>रक्षा मंत्री @rajnathsingh ने पूर्व राष्ट्रपति #PranabMukherjee के निधन पर शोक व्यक्त किया\\n\\nविवरण : https://t.co/aLE7aVtWy9</td>\n",
              "      <td>non-hostile</td>\n",
              "    </tr>\n",
              "  </tbody>\n",
              "</table>\n",
              "<p>5718 rows × 2 columns</p>\n",
              "</div>"
            ],
            "text/plain": [
              "                                                                                                                                                                                                                                                                                                                       Post            Labels Set\n",
              "0     मेरे देश के हिन्दु बहुत निराले है। कुछ तो पक्के राम भक्त है और कुछ बाबर के साले है \\n\\n🙏 जय श्री राम 🙏                                                                                                                                                                                                                 hate,offensive      \n",
              "1     सरकार हमेशा से किसानों की कमाई को बढ़ाने के लिए नई-नई स्कीमें लाती रहती है, ताकि उन पर ज्यादा आर्थिक बोझ न पड़े.\\n\\nhttps://t.co/8iy2MJSBAs                                                                                                                                                                            non-hostile         \n",
              "2     सुशांत ने जो बिजनेस डील 9 जून को की थी, वो डील दीपेश को सुशांत की हत्या के दिन ही क्यों याद आई? देखिए 'पूछता है भारत' अर्नब के साथ रिपब्लिक भारत पर #LIVE :  https://t.co/G945HvzM0Z https://t.co/KfH7xF1IdM                                                                                                           non-hostile         \n",
              "3     @prabhav218 साले जेएनयू छाप कमिने लोग हिन्दुओं को यह कहते है की संविधान सबको बराबर अधिकार देता है। सच्चाई यह है कि यह बराबर अधिकार नहीं देता है।                                                                                                                                                                       defamation,offensive\n",
              "4     #unlock4guidelines - अनलॉक-4 के लिए गाइडलाइन्स जारी\\n\\n- 7 सितंबर से देशभर में मेट्रो सेवा शुरु होगी\\n- 21 सितंबर के बाद रैलियों और बाकी फंक्शन में 100 लोगों को इजाजत\\n- कंटेनमेंट जोन में कोई छूट नहीं\\n- सिनेमाहॉल अभी बंद रहेंगे\\n- 9 से 12वीं के छात्र 21 सितंबर के बाद स्कूल जा सकेंगे. https://t.co/4e6lysg0VR  non-hostile         \n",
              "...                                                                                                                                                                                                                                                                                                                     ...          ...         \n",
              "5713  उदितराज जी हिम्मत  जुटा कर उस नेता के लिए कुछ कह दीजिये जिसके स्वागत में मुंबई स्टेशन पर पाकिस्तान जिंदाबाद के नारे लगे विरोध कर दें मान्य होगा की आप देशभक्त हैं वरना अनर्गल प्रलाप न करें                                                                                                                            hate                \n",
              "5714  उप्र: पीएम रिपोर्ट में खुलासा: हार्टअटैक से हुई थी पूर्व विधायक निर्वेंद्र की मौत; शरीर पर नहीं मिले चोट के निशान, बेटे ने पिटाई कर हत्या का दावा किया था\\nhttps://t.co/YaFEzPhTDC #NirvendraMishra @Uppolice @UPGovt                                                                                                  non-hostile         \n",
              "5715  नौकरी गंवा चुके दोस्त की मदद: नगद के बजाए गिफ्ट कार्ड देने के बारे में सोचें, चुका सकते हैं नेटफ्लिक्स और जिम की फीस; हालचाल जानें, लेकिन ज्यादा नहीं https://t.co/l6kFR8eiBf #HelpYourFriend #Jobless #COVID19 https://t.co/YOKsAyndNa                                                                                non-hostile         \n",
              "5716  बंगाल में हिन्दू मरे हैं इसलिए मुझे कोई फर्क नहीं पड़ता –#रविश कुमार\\n\\n                                                                                                                                                                                                                                               fake                \n",
              "5717  रक्षा मंत्री @rajnathsingh ने पूर्व राष्ट्रपति #PranabMukherjee के निधन पर शोक व्यक्त किया\\n\\nविवरण : https://t.co/aLE7aVtWy9                                                                                                                                                                                          non-hostile         \n",
              "\n",
              "[5718 rows x 2 columns]"
            ]
          },
          "metadata": {
            "tags": []
          },
          "execution_count": 19
        }
      ]
    },
    {
      "cell_type": "code",
      "metadata": {
        "colab": {
          "base_uri": "https://localhost:8080/"
        },
        "id": "Fk5ZI3oGgH3P",
        "outputId": "0cd5b374-00c5-4173-da25-d480af788bb7"
      },
      "source": [
        "labelPost={}\r\n",
        "punchCnt={}\r\n",
        "hashCnt={}\r\n",
        "mentionCnt={}\r\n",
        "\r\n",
        "f=open(\"punctuations.txt\",\"r\")\r\n",
        "puch=set(f.read().split('\\n'))\r\n",
        "\r\n",
        "\r\n",
        "for i in range(len(data['Post'])):\r\n",
        "    for j in list(data['Labels Set'][i].split(',')):\r\n",
        "        try:\r\n",
        "            labelPost[j].append(data['Post'][i])\r\n",
        "        except:\r\n",
        "            labelPost[j]=[(data['Post'][i])]\r\n",
        "        \r\n",
        "\r\n",
        "#check for Punctuations\r\n",
        "\r\n",
        "for i in labelPost:\r\n",
        "    for j in labelPost[i]:\r\n",
        "        for char in j:\r\n",
        "            if char in puch:\r\n",
        "                try:\r\n",
        "                    punchCnt[i]+=1\r\n",
        "                except:\r\n",
        "                    punchCnt[i]=1\r\n",
        "\r\n",
        "for i in labelPost:\r\n",
        "    for j in labelPost[i]:\r\n",
        "        for char in j:\r\n",
        "            if char == '#':\r\n",
        "                try:\r\n",
        "                    hashCnt[i]+=1\r\n",
        "                except:\r\n",
        "                    hashCnt[i]=1\r\n",
        "                    \r\n",
        "for i in labelPost:\r\n",
        "    for j in labelPost[i]:\r\n",
        "        for char in j:\r\n",
        "            if char == '@':\r\n",
        "                try:\r\n",
        "                    mentionCnt[i]+=1\r\n",
        "                except:\r\n",
        "                    mentionCnt[i]=1\r\n",
        "                    \r\n",
        "for i in punchCnt:\r\n",
        "    punchCnt[i]/=len(labelPost[i])\r\n",
        "for i in hashCnt:\r\n",
        "    hashCnt[i]/=len(labelPost[i])\r\n",
        "for i in mentionCnt:\r\n",
        "    mentionCnt[i]/=len(labelPost[i])\r\n",
        "    \r\n",
        "print(punchCnt,hashCnt,mentionCnt)"
      ],
      "execution_count": 20,
      "outputs": [
        {
          "output_type": "stream",
          "text": [
            "{'hate': 4.361675126903553, 'offensive': 4.1961852861035425, 'non-hostile': 9.021311475409837, 'defamation': 4.329181494661921, 'fake': 3.583552055993001} {'hate': 0.35913705583756345, 'offensive': 0.2997275204359673, 'non-hostile': 1.0859016393442622, 'defamation': 0.2846975088967972, 'fake': 0.23184601924759404} {'hate': 0.6294416243654822, 'offensive': 0.9373297002724795, 'non-hostile': 0.6888524590163935, 'defamation': 0.6209964412811388, 'fake': 0.23184601924759404}\n"
          ],
          "name": "stdout"
        }
      ]
    },
    {
      "cell_type": "code",
      "metadata": {
        "colab": {
          "base_uri": "https://localhost:8080/",
          "height": 390
        },
        "id": "sckRmcKGhAFC",
        "outputId": "5ac7154e-02c8-492f-ad90-0799831bf08a"
      },
      "source": [
        "#avg punctuations\r\n",
        "plt.bar(list(punchCnt.keys()), list(punchCnt.values()), 0.6, color=['b','g','r','grey','orange'])\r\n",
        "plt.xlabel(\"Labels\", labelpad=14)\r\n",
        "plt.ylabel(\"Average punctuations per post\", labelpad=14)\r\n",
        "sb.set(font_scale=1.4)\r\n",
        "plt.xticks(fontsize=14, rotation=90)\r\n",
        "# for index, value in enumerate(punchCnt.values()):\r\n",
        "#     plt.text(value, index, str(value))\r\n",
        "plt.show()"
      ],
      "execution_count": 21,
      "outputs": [
        {
          "output_type": "display_data",
          "data": {
            "image/png": "[encoded data removed]",
            "text/plain": [
              "<Figure size 432x288 with 1 Axes>"
            ]
          },
          "metadata": {
            "tags": []
          }
        }
      ]
    },
    {
      "cell_type": "code",
      "metadata": {
        "colab": {
          "base_uri": "https://localhost:8080/",
          "height": 373
        },
        "id": "osvPgivJhEJP",
        "outputId": "321307e1-f37e-4dff-f589-c735138a0a4b"
      },
      "source": [
        "#avg hashtags\r\n",
        "plt.bar(hashCnt.keys(), hashCnt.values(), 0.6, color=['b','g','r','grey','orange'])\r\n",
        "plt.xlabel(\"Labels\", labelpad=14)\r\n",
        "plt.ylabel(\"Average hashtags per post\", labelpad=14)\r\n",
        "sb.set(font_scale=1.4)\r\n",
        "plt.xticks(fontsize=14, rotation=90)\r\n",
        "plt.show()"
      ],
      "execution_count": 22,
      "outputs": [
        {
          "output_type": "display_data",
          "data": {
            "image/png": "[encoded data removed]",
            "text/plain": [
              "<Figure size 432x288 with 1 Axes>"
            ]
          },
          "metadata": {
            "tags": []
          }
        }
      ]
    },
    {
      "cell_type": "code",
      "metadata": {
        "colab": {
          "base_uri": "https://localhost:8080/",
          "height": 375
        },
        "id": "Z_Hz5RdEhIcT",
        "outputId": "9f741221-97fb-4f48-ca7c-93dbedb24474"
      },
      "source": [
        "#avg mentions\r\n",
        "plt.bar(mentionCnt.keys(), mentionCnt.values(), 0.6, color=['b','g','r','grey','orange'])\r\n",
        "plt.xlabel(\"Labels\", labelpad=14)\r\n",
        "plt.ylabel(\"Average mentions per post\", labelpad=14)\r\n",
        "sb.set(font_scale=1.4)\r\n",
        "plt.xticks(fontsize=14, rotation=90)\r\n",
        "plt.show()"
      ],
      "execution_count": 23,
      "outputs": [
        {
          "output_type": "display_data",
          "data": {
            "image/png": "[encoded data removed]",
            "text/plain": [
              "<Figure size 432x288 with 1 Axes>"
            ]
          },
          "metadata": {
            "tags": []
          }
        }
      ]
    },
    {
      "cell_type": "code",
      "metadata": {
        "colab": {
          "base_uri": "https://localhost:8080/",
          "height": 407
        },
        "id": "ZugVqfpAhL6A",
        "outputId": "6e871351-ad69-4a29-ab8d-fe39dec206f9"
      },
      "source": [
        "#removing urls & mentions from the string\r\n",
        "\r\n",
        "data['Post'] = data['Post'].str.replace('http\\S+|www.\\S+|@\\S+', '', case=False)\r\n",
        "\r\n",
        "data"
      ],
      "execution_count": 24,
      "outputs": [
        {
          "output_type": "execute_result",
          "data": {
            "text/html": [
              "<div>\n",
              "<style scoped>\n",
              "    .dataframe tbody tr th:only-of-type {\n",
              "        vertical-align: middle;\n",
              "    }\n",
              "\n",
              "    .dataframe tbody tr th {\n",
              "        vertical-align: top;\n",
              "    }\n",
              "\n",
              "    .dataframe thead th {\n",
              "        text-align: right;\n",
              "    }\n",
              "</style>\n",
              "<table border=\"1\" class=\"dataframe\">\n",
              "  <thead>\n",
              "    <tr style=\"text-align: right;\">\n",
              "      <th></th>\n",
              "      <th>Post</th>\n",
              "      <th>Labels Set</th>\n",
              "    </tr>\n",
              "  </thead>\n",
              "  <tbody>\n",
              "    <tr>\n",
              "      <th>0</th>\n",
              "      <td>मेरे देश के हिन्दु बहुत निराले है। कुछ तो पक्के राम भक्त है और कुछ बाबर के साले है \\n\\n🙏 जय श्री राम 🙏</td>\n",
              "      <td>hate,offensive</td>\n",
              "    </tr>\n",
              "    <tr>\n",
              "      <th>1</th>\n",
              "      <td>सरकार हमेशा से किसानों की कमाई को बढ़ाने के लिए नई-नई स्कीमें लाती रहती है, ताकि उन पर ज्यादा आर्थिक बोझ न पड़े.\\n\\n</td>\n",
              "      <td>non-hostile</td>\n",
              "    </tr>\n",
              "    <tr>\n",
              "      <th>2</th>\n",
              "      <td>सुशांत ने जो बिजनेस डील 9 जून को की थी, वो डील दीपेश को सुशांत की हत्या के दिन ही क्यों याद आई? देखिए 'पूछता है भारत' अर्नब के साथ रिपब्लिक भारत पर #LIVE :</td>\n",
              "      <td>non-hostile</td>\n",
              "    </tr>\n",
              "    <tr>\n",
              "      <th>3</th>\n",
              "      <td>साले जेएनयू छाप कमिने लोग हिन्दुओं को यह कहते है की संविधान सबको बराबर अधिकार देता है। सच्चाई यह है कि यह बराबर अधिकार नहीं देता है।</td>\n",
              "      <td>defamation,offensive</td>\n",
              "    </tr>\n",
              "    <tr>\n",
              "      <th>4</th>\n",
              "      <td>#unlock4guidelines - अनलॉक-4 के लिए गाइडलाइन्स जारी\\n\\n- 7 सितंबर से देशभर में मेट्रो सेवा शुरु होगी\\n- 21 सितंबर के बाद रैलियों और बाकी फंक्शन में 100 लोगों को इजाजत\\n- कंटेनमेंट जोन में कोई छूट नहीं\\n- सिनेमाहॉल अभी बंद रहेंगे\\n- 9 से 12वीं के छात्र 21 सितंबर के बाद स्कूल जा सकेंगे.</td>\n",
              "      <td>non-hostile</td>\n",
              "    </tr>\n",
              "    <tr>\n",
              "      <th>...</th>\n",
              "      <td>...</td>\n",
              "      <td>...</td>\n",
              "    </tr>\n",
              "    <tr>\n",
              "      <th>5713</th>\n",
              "      <td>उदितराज जी हिम्मत  जुटा कर उस नेता के लिए कुछ कह दीजिये जिसके स्वागत में मुंबई स्टेशन पर पाकिस्तान जिंदाबाद के नारे लगे विरोध कर दें मान्य होगा की आप देशभक्त हैं वरना अनर्गल प्रलाप न करें</td>\n",
              "      <td>hate</td>\n",
              "    </tr>\n",
              "    <tr>\n",
              "      <th>5714</th>\n",
              "      <td>उप्र: पीएम रिपोर्ट में खुलासा: हार्टअटैक से हुई थी पूर्व विधायक निर्वेंद्र की मौत; शरीर पर नहीं मिले चोट के निशान, बेटे ने पिटाई कर हत्या का दावा किया था\\n #NirvendraMishra</td>\n",
              "      <td>non-hostile</td>\n",
              "    </tr>\n",
              "    <tr>\n",
              "      <th>5715</th>\n",
              "      <td>नौकरी गंवा चुके दोस्त की मदद: नगद के बजाए गिफ्ट कार्ड देने के बारे में सोचें, चुका सकते हैं नेटफ्लिक्स और जिम की फीस; हालचाल जानें, लेकिन ज्यादा नहीं  #HelpYourFriend #Jobless #COVID19</td>\n",
              "      <td>non-hostile</td>\n",
              "    </tr>\n",
              "    <tr>\n",
              "      <th>5716</th>\n",
              "      <td>बंगाल में हिन्दू मरे हैं इसलिए मुझे कोई फर्क नहीं पड़ता –#रविश कुमार\\n\\n</td>\n",
              "      <td>fake</td>\n",
              "    </tr>\n",
              "    <tr>\n",
              "      <th>5717</th>\n",
              "      <td>रक्षा मंत्री  ने पूर्व राष्ट्रपति #PranabMukherjee के निधन पर शोक व्यक्त किया\\n\\nविवरण :</td>\n",
              "      <td>non-hostile</td>\n",
              "    </tr>\n",
              "  </tbody>\n",
              "</table>\n",
              "<p>5718 rows × 2 columns</p>\n",
              "</div>"
            ],
            "text/plain": [
              "                                                                                                                                                                                                                                                                                                Post            Labels Set\n",
              "0     मेरे देश के हिन्दु बहुत निराले है। कुछ तो पक्के राम भक्त है और कुछ बाबर के साले है \\n\\n🙏 जय श्री राम 🙏                                                                                                                                                                                          hate,offensive      \n",
              "1     सरकार हमेशा से किसानों की कमाई को बढ़ाने के लिए नई-नई स्कीमें लाती रहती है, ताकि उन पर ज्यादा आर्थिक बोझ न पड़े.\\n\\n                                                                                                                                                                            non-hostile         \n",
              "2     सुशांत ने जो बिजनेस डील 9 जून को की थी, वो डील दीपेश को सुशांत की हत्या के दिन ही क्यों याद आई? देखिए 'पूछता है भारत' अर्नब के साथ रिपब्लिक भारत पर #LIVE :                                                                                                                                     non-hostile         \n",
              "3      साले जेएनयू छाप कमिने लोग हिन्दुओं को यह कहते है की संविधान सबको बराबर अधिकार देता है। सच्चाई यह है कि यह बराबर अधिकार नहीं देता है।                                                                                                                                                           defamation,offensive\n",
              "4     #unlock4guidelines - अनलॉक-4 के लिए गाइडलाइन्स जारी\\n\\n- 7 सितंबर से देशभर में मेट्रो सेवा शुरु होगी\\n- 21 सितंबर के बाद रैलियों और बाकी फंक्शन में 100 लोगों को इजाजत\\n- कंटेनमेंट जोन में कोई छूट नहीं\\n- सिनेमाहॉल अभी बंद रहेंगे\\n- 9 से 12वीं के छात्र 21 सितंबर के बाद स्कूल जा सकेंगे.   non-hostile         \n",
              "...                                                                                                                                                                                                                                                                                              ...          ...         \n",
              "5713  उदितराज जी हिम्मत  जुटा कर उस नेता के लिए कुछ कह दीजिये जिसके स्वागत में मुंबई स्टेशन पर पाकिस्तान जिंदाबाद के नारे लगे विरोध कर दें मान्य होगा की आप देशभक्त हैं वरना अनर्गल प्रलाप न करें                                                                                                     hate                \n",
              "5714  उप्र: पीएम रिपोर्ट में खुलासा: हार्टअटैक से हुई थी पूर्व विधायक निर्वेंद्र की मौत; शरीर पर नहीं मिले चोट के निशान, बेटे ने पिटाई कर हत्या का दावा किया था\\n #NirvendraMishra                                                                                                                    non-hostile         \n",
              "5715  नौकरी गंवा चुके दोस्त की मदद: नगद के बजाए गिफ्ट कार्ड देने के बारे में सोचें, चुका सकते हैं नेटफ्लिक्स और जिम की फीस; हालचाल जानें, लेकिन ज्यादा नहीं  #HelpYourFriend #Jobless #COVID19                                                                                                        non-hostile         \n",
              "5716  बंगाल में हिन्दू मरे हैं इसलिए मुझे कोई फर्क नहीं पड़ता –#रविश कुमार\\n\\n                                                                                                                                                                                                                        fake                \n",
              "5717  रक्षा मंत्री  ने पूर्व राष्ट्रपति #PranabMukherjee के निधन पर शोक व्यक्त किया\\n\\nविवरण :                                                                                                                                                                                                        non-hostile         \n",
              "\n",
              "[5718 rows x 2 columns]"
            ]
          },
          "metadata": {
            "tags": []
          },
          "execution_count": 24
        }
      ]
    },
    {
      "cell_type": "code",
      "metadata": {
        "colab": {
          "base_uri": "https://localhost:8080/",
          "height": 423
        },
        "id": "tr-OwuHHhQKf",
        "outputId": "0b53f18c-d585-40cb-d0d3-1b9042f59ef3"
      },
      "source": [
        "#separating Hashtags\r\n",
        "ht=[]\r\n",
        "\r\n",
        "\r\n",
        "for i in data['Post']:\r\n",
        "    temp=[]\r\n",
        "    start=0\r\n",
        "    for j in i:\r\n",
        "        if j=='#':\r\n",
        "            start=1\r\n",
        "            holder=''\r\n",
        "        if j==' ' and start:\r\n",
        "            start=0\r\n",
        "            temp.append(holder)\r\n",
        "            \r\n",
        "        elif start==1:\r\n",
        "            holder+=j\r\n",
        "    ht.append(temp)\r\n",
        "            \r\n",
        "data['Hashtag']=ht\r\n",
        "\r\n",
        "data['Post'] = data['Post'].str.replace('#\\S+', '', case=False)\r\n",
        "\r\n",
        "\r\n",
        "hashtag = data['Hashtag']\r\n",
        "tmp = data\r\n",
        "tmp=tmp.drop(tmp.columns[[2]], axis=1)\r\n",
        "\r\n",
        "data\r\n"
      ],
      "execution_count": 25,
      "outputs": [
        {
          "output_type": "execute_result",
          "data": {
            "text/html": [
              "<div>\n",
              "<style scoped>\n",
              "    .dataframe tbody tr th:only-of-type {\n",
              "        vertical-align: middle;\n",
              "    }\n",
              "\n",
              "    .dataframe tbody tr th {\n",
              "        vertical-align: top;\n",
              "    }\n",
              "\n",
              "    .dataframe thead th {\n",
              "        text-align: right;\n",
              "    }\n",
              "</style>\n",
              "<table border=\"1\" class=\"dataframe\">\n",
              "  <thead>\n",
              "    <tr style=\"text-align: right;\">\n",
              "      <th></th>\n",
              "      <th>Post</th>\n",
              "      <th>Labels Set</th>\n",
              "      <th>Hashtag</th>\n",
              "    </tr>\n",
              "  </thead>\n",
              "  <tbody>\n",
              "    <tr>\n",
              "      <th>0</th>\n",
              "      <td>मेरे देश के हिन्दु बहुत निराले है। कुछ तो पक्के राम भक्त है और कुछ बाबर के साले है \\n\\n🙏 जय श्री राम 🙏</td>\n",
              "      <td>hate,offensive</td>\n",
              "      <td>[]</td>\n",
              "    </tr>\n",
              "    <tr>\n",
              "      <th>1</th>\n",
              "      <td>सरकार हमेशा से किसानों की कमाई को बढ़ाने के लिए नई-नई स्कीमें लाती रहती है, ताकि उन पर ज्यादा आर्थिक बोझ न पड़े.\\n\\n</td>\n",
              "      <td>non-hostile</td>\n",
              "      <td>[]</td>\n",
              "    </tr>\n",
              "    <tr>\n",
              "      <th>2</th>\n",
              "      <td>सुशांत ने जो बिजनेस डील 9 जून को की थी, वो डील दीपेश को सुशांत की हत्या के दिन ही क्यों याद आई? देखिए 'पूछता है भारत' अर्नब के साथ रिपब्लिक भारत पर  :</td>\n",
              "      <td>non-hostile</td>\n",
              "      <td>[#LIVE]</td>\n",
              "    </tr>\n",
              "    <tr>\n",
              "      <th>3</th>\n",
              "      <td>साले जेएनयू छाप कमिने लोग हिन्दुओं को यह कहते है की संविधान सबको बराबर अधिकार देता है। सच्चाई यह है कि यह बराबर अधिकार नहीं देता है।</td>\n",
              "      <td>defamation,offensive</td>\n",
              "      <td>[]</td>\n",
              "    </tr>\n",
              "    <tr>\n",
              "      <th>4</th>\n",
              "      <td>- अनलॉक-4 के लिए गाइडलाइन्स जारी\\n\\n- 7 सितंबर से देशभर में मेट्रो सेवा शुरु होगी\\n- 21 सितंबर के बाद रैलियों और बाकी फंक्शन में 100 लोगों को इजाजत\\n- कंटेनमेंट जोन में कोई छूट नहीं\\n- सिनेमाहॉल अभी बंद रहेंगे\\n- 9 से 12वीं के छात्र 21 सितंबर के बाद स्कूल जा सकेंगे.</td>\n",
              "      <td>non-hostile</td>\n",
              "      <td>[#unlock4guidelines]</td>\n",
              "    </tr>\n",
              "    <tr>\n",
              "      <th>...</th>\n",
              "      <td>...</td>\n",
              "      <td>...</td>\n",
              "      <td>...</td>\n",
              "    </tr>\n",
              "    <tr>\n",
              "      <th>5713</th>\n",
              "      <td>उदितराज जी हिम्मत  जुटा कर उस नेता के लिए कुछ कह दीजिये जिसके स्वागत में मुंबई स्टेशन पर पाकिस्तान जिंदाबाद के नारे लगे विरोध कर दें मान्य होगा की आप देशभक्त हैं वरना अनर्गल प्रलाप न करें</td>\n",
              "      <td>hate</td>\n",
              "      <td>[]</td>\n",
              "    </tr>\n",
              "    <tr>\n",
              "      <th>5714</th>\n",
              "      <td>उप्र: पीएम रिपोर्ट में खुलासा: हार्टअटैक से हुई थी पूर्व विधायक निर्वेंद्र की मौत; शरीर पर नहीं मिले चोट के निशान, बेटे ने पिटाई कर हत्या का दावा किया था\\n</td>\n",
              "      <td>non-hostile</td>\n",
              "      <td>[#NirvendraMishra]</td>\n",
              "    </tr>\n",
              "    <tr>\n",
              "      <th>5715</th>\n",
              "      <td>नौकरी गंवा चुके दोस्त की मदद: नगद के बजाए गिफ्ट कार्ड देने के बारे में सोचें, चुका सकते हैं नेटफ्लिक्स और जिम की फीस; हालचाल जानें, लेकिन ज्यादा नहीं</td>\n",
              "      <td>non-hostile</td>\n",
              "      <td>[#HelpYourFriend, #Jobless, #COVID19]</td>\n",
              "    </tr>\n",
              "    <tr>\n",
              "      <th>5716</th>\n",
              "      <td>बंगाल में हिन्दू मरे हैं इसलिए मुझे कोई फर्क नहीं पड़ता – कुमार\\n\\n</td>\n",
              "      <td>fake</td>\n",
              "      <td>[#रविश]</td>\n",
              "    </tr>\n",
              "    <tr>\n",
              "      <th>5717</th>\n",
              "      <td>रक्षा मंत्री  ने पूर्व राष्ट्रपति  के निधन पर शोक व्यक्त किया\\n\\nविवरण :</td>\n",
              "      <td>non-hostile</td>\n",
              "      <td>[#PranabMukherjee]</td>\n",
              "    </tr>\n",
              "  </tbody>\n",
              "</table>\n",
              "<p>5718 rows × 3 columns</p>\n",
              "</div>"
            ],
            "text/plain": [
              "                                                                                                                                                                                                                                                                              Post  ...                                Hashtag\n",
              "0     मेरे देश के हिन्दु बहुत निराले है। कुछ तो पक्के राम भक्त है और कुछ बाबर के साले है \\n\\n🙏 जय श्री राम 🙏                                                                                                                                                                        ...  []                                   \n",
              "1     सरकार हमेशा से किसानों की कमाई को बढ़ाने के लिए नई-नई स्कीमें लाती रहती है, ताकि उन पर ज्यादा आर्थिक बोझ न पड़े.\\n\\n                                                                                                                                                          ...  []                                   \n",
              "2     सुशांत ने जो बिजनेस डील 9 जून को की थी, वो डील दीपेश को सुशांत की हत्या के दिन ही क्यों याद आई? देखिए 'पूछता है भारत' अर्नब के साथ रिपब्लिक भारत पर  :                                                                                                                        ...  [#LIVE]                              \n",
              "3      साले जेएनयू छाप कमिने लोग हिन्दुओं को यह कहते है की संविधान सबको बराबर अधिकार देता है। सच्चाई यह है कि यह बराबर अधिकार नहीं देता है।                                                                                                                                         ...  []                                   \n",
              "4      - अनलॉक-4 के लिए गाइडलाइन्स जारी\\n\\n- 7 सितंबर से देशभर में मेट्रो सेवा शुरु होगी\\n- 21 सितंबर के बाद रैलियों और बाकी फंक्शन में 100 लोगों को इजाजत\\n- कंटेनमेंट जोन में कोई छूट नहीं\\n- सिनेमाहॉल अभी बंद रहेंगे\\n- 9 से 12वीं के छात्र 21 सितंबर के बाद स्कूल जा सकेंगे.   ...  [#unlock4guidelines]                 \n",
              "...                                                                                                                                                                                                                                                                            ...  ...                   ...                 \n",
              "5713  उदितराज जी हिम्मत  जुटा कर उस नेता के लिए कुछ कह दीजिये जिसके स्वागत में मुंबई स्टेशन पर पाकिस्तान जिंदाबाद के नारे लगे विरोध कर दें मान्य होगा की आप देशभक्त हैं वरना अनर्गल प्रलाप न करें                                                                                   ...  []                                   \n",
              "5714  उप्र: पीएम रिपोर्ट में खुलासा: हार्टअटैक से हुई थी पूर्व विधायक निर्वेंद्र की मौत; शरीर पर नहीं मिले चोट के निशान, बेटे ने पिटाई कर हत्या का दावा किया था\\n                                                                                                                   ...  [#NirvendraMishra]                   \n",
              "5715  नौकरी गंवा चुके दोस्त की मदद: नगद के बजाए गिफ्ट कार्ड देने के बारे में सोचें, चुका सकते हैं नेटफ्लिक्स और जिम की फीस; हालचाल जानें, लेकिन ज्यादा नहीं                                                                                                                         ...  [#HelpYourFriend, #Jobless, #COVID19]\n",
              "5716  बंगाल में हिन्दू मरे हैं इसलिए मुझे कोई फर्क नहीं पड़ता – कुमार\\n\\n                                                                                                                                                                                                           ...  [#रविश]                              \n",
              "5717  रक्षा मंत्री  ने पूर्व राष्ट्रपति  के निधन पर शोक व्यक्त किया\\n\\nविवरण :                                                                                                                                                                                                      ...  [#PranabMukherjee]                   \n",
              "\n",
              "[5718 rows x 3 columns]"
            ]
          },
          "metadata": {
            "tags": []
          },
          "execution_count": 25
        }
      ]
    },
    {
      "cell_type": "code",
      "metadata": {
        "colab": {
          "base_uri": "https://localhost:8080/",
          "height": 423
        },
        "id": "gtSRCqZuhYSm",
        "outputId": "4bc2cb6a-afbb-4bf3-de02-1f16af3d9759"
      },
      "source": [
        "#removing Punctuations\r\n",
        "\r\n",
        "f=open(\"punctuations.txt\",\"r\")\r\n",
        "punctuations=set(f.read().split('\\n'))\r\n",
        "index=0\r\n",
        "\r\n",
        "for i in data['Post']:\r\n",
        "    temp=''\r\n",
        "    for j in i:\r\n",
        "        if j not in punctuations:\r\n",
        "            temp+=j\r\n",
        "        else:\r\n",
        "            temp+=' '\r\n",
        "    data['Post'][index]=temp\r\n",
        "    index+=1\r\n",
        "    \r\n",
        "data"
      ],
      "execution_count": 26,
      "outputs": [
        {
          "output_type": "execute_result",
          "data": {
            "text/html": [
              "<div>\n",
              "<style scoped>\n",
              "    .dataframe tbody tr th:only-of-type {\n",
              "        vertical-align: middle;\n",
              "    }\n",
              "\n",
              "    .dataframe tbody tr th {\n",
              "        vertical-align: top;\n",
              "    }\n",
              "\n",
              "    .dataframe thead th {\n",
              "        text-align: right;\n",
              "    }\n",
              "</style>\n",
              "<table border=\"1\" class=\"dataframe\">\n",
              "  <thead>\n",
              "    <tr style=\"text-align: right;\">\n",
              "      <th></th>\n",
              "      <th>Post</th>\n",
              "      <th>Labels Set</th>\n",
              "      <th>Hashtag</th>\n",
              "    </tr>\n",
              "  </thead>\n",
              "  <tbody>\n",
              "    <tr>\n",
              "      <th>0</th>\n",
              "      <td>मेरे देश के हिन्दु बहुत निराले है। कुछ तो पक्के राम भक्त है और कुछ बाबर के साले है \\n\\n🙏 जय श्री राम 🙏</td>\n",
              "      <td>hate,offensive</td>\n",
              "      <td>[]</td>\n",
              "    </tr>\n",
              "    <tr>\n",
              "      <th>1</th>\n",
              "      <td>सरकार हमेशा से किसानों की कमाई को बढ़ाने के लिए नई नई स्कीमें लाती रहती है  ताकि उन पर ज्यादा आर्थिक बोझ न पड़े \\n\\n</td>\n",
              "      <td>non-hostile</td>\n",
              "      <td>[]</td>\n",
              "    </tr>\n",
              "    <tr>\n",
              "      <th>2</th>\n",
              "      <td>सुशांत ने जो बिजनेस डील 9 जून को की थी  वो डील दीपेश को सुशांत की हत्या के दिन ही क्यों याद आई  देखिए  पूछता है भारत  अर्नब के साथ रिपब्लिक भारत पर</td>\n",
              "      <td>non-hostile</td>\n",
              "      <td>[#LIVE]</td>\n",
              "    </tr>\n",
              "    <tr>\n",
              "      <th>3</th>\n",
              "      <td>साले जेएनयू छाप कमिने लोग हिन्दुओं को यह कहते है की संविधान सबको बराबर अधिकार देता है। सच्चाई यह है कि यह बराबर अधिकार नहीं देता है।</td>\n",
              "      <td>defamation,offensive</td>\n",
              "      <td>[]</td>\n",
              "    </tr>\n",
              "    <tr>\n",
              "      <th>4</th>\n",
              "      <td>अनलॉक 4 के लिए गाइडलाइन्स जारी\\n\\n  7 सितंबर से देशभर में मेट्रो सेवा शुरु होगी\\n  21 सितंबर के बाद रैलियों और बाकी फंक्शन में 100 लोगों को इजाजत\\n  कंटेनमेंट जोन में कोई छूट नहीं\\n  सिनेमाहॉल अभी बंद रहेंगे\\n  9 से 12वीं के छात्र 21 सितंबर के बाद स्कूल जा सकेंगे</td>\n",
              "      <td>non-hostile</td>\n",
              "      <td>[#unlock4guidelines]</td>\n",
              "    </tr>\n",
              "    <tr>\n",
              "      <th>...</th>\n",
              "      <td>...</td>\n",
              "      <td>...</td>\n",
              "      <td>...</td>\n",
              "    </tr>\n",
              "    <tr>\n",
              "      <th>5713</th>\n",
              "      <td>उदितराज जी हिम्मत  जुटा कर उस नेता के लिए कुछ कह दीजिये जिसके स्वागत में मुंबई स्टेशन पर पाकिस्तान जिंदाबाद के नारे लगे विरोध कर दें मान्य होगा की आप देशभक्त हैं वरना अनर्गल प्रलाप न करें</td>\n",
              "      <td>hate</td>\n",
              "      <td>[]</td>\n",
              "    </tr>\n",
              "    <tr>\n",
              "      <th>5714</th>\n",
              "      <td>उप्र  पीएम रिपोर्ट में खुलासा  हार्टअटैक से हुई थी पूर्व विधायक निर्वेंद्र की मौत  शरीर पर नहीं मिले चोट के निशान  बेटे ने पिटाई कर हत्या का दावा किया था\\n</td>\n",
              "      <td>non-hostile</td>\n",
              "      <td>[#NirvendraMishra]</td>\n",
              "    </tr>\n",
              "    <tr>\n",
              "      <th>5715</th>\n",
              "      <td>नौकरी गंवा चुके दोस्त की मदद  नगद के बजाए गिफ्ट कार्ड देने के बारे में सोचें  चुका सकते हैं नेटफ्लिक्स और जिम की फीस  हालचाल जानें  लेकिन ज्यादा नहीं</td>\n",
              "      <td>non-hostile</td>\n",
              "      <td>[#HelpYourFriend, #Jobless, #COVID19]</td>\n",
              "    </tr>\n",
              "    <tr>\n",
              "      <th>5716</th>\n",
              "      <td>बंगाल में हिन्दू मरे हैं इसलिए मुझे कोई फर्क नहीं पड़ता   कुमार\\n\\n</td>\n",
              "      <td>fake</td>\n",
              "      <td>[#रविश]</td>\n",
              "    </tr>\n",
              "    <tr>\n",
              "      <th>5717</th>\n",
              "      <td>रक्षा मंत्री  ने पूर्व राष्ट्रपति  के निधन पर शोक व्यक्त किया\\n\\nविवरण</td>\n",
              "      <td>non-hostile</td>\n",
              "      <td>[#PranabMukherjee]</td>\n",
              "    </tr>\n",
              "  </tbody>\n",
              "</table>\n",
              "<p>5718 rows × 3 columns</p>\n",
              "</div>"
            ],
            "text/plain": [
              "                                                                                                                                                                                                                                                                              Post  ...                                Hashtag\n",
              "0     मेरे देश के हिन्दु बहुत निराले है। कुछ तो पक्के राम भक्त है और कुछ बाबर के साले है \\n\\n🙏 जय श्री राम 🙏                                                                                                                                                                        ...  []                                   \n",
              "1     सरकार हमेशा से किसानों की कमाई को बढ़ाने के लिए नई नई स्कीमें लाती रहती है  ताकि उन पर ज्यादा आर्थिक बोझ न पड़े \\n\\n                                                                                                                                                          ...  []                                   \n",
              "2     सुशांत ने जो बिजनेस डील 9 जून को की थी  वो डील दीपेश को सुशांत की हत्या के दिन ही क्यों याद आई  देखिए  पूछता है भारत  अर्नब के साथ रिपब्लिक भारत पर                                                                                                                           ...  [#LIVE]                              \n",
              "3      साले जेएनयू छाप कमिने लोग हिन्दुओं को यह कहते है की संविधान सबको बराबर अधिकार देता है। सच्चाई यह है कि यह बराबर अधिकार नहीं देता है।                                                                                                                                         ...  []                                   \n",
              "4        अनलॉक 4 के लिए गाइडलाइन्स जारी\\n\\n  7 सितंबर से देशभर में मेट्रो सेवा शुरु होगी\\n  21 सितंबर के बाद रैलियों और बाकी फंक्शन में 100 लोगों को इजाजत\\n  कंटेनमेंट जोन में कोई छूट नहीं\\n  सिनेमाहॉल अभी बंद रहेंगे\\n  9 से 12वीं के छात्र 21 सितंबर के बाद स्कूल जा सकेंगे    ...  [#unlock4guidelines]                 \n",
              "...                                                                                                                                                                                                                                                                            ...  ...                   ...                 \n",
              "5713  उदितराज जी हिम्मत  जुटा कर उस नेता के लिए कुछ कह दीजिये जिसके स्वागत में मुंबई स्टेशन पर पाकिस्तान जिंदाबाद के नारे लगे विरोध कर दें मान्य होगा की आप देशभक्त हैं वरना अनर्गल प्रलाप न करें                                                                                   ...  []                                   \n",
              "5714  उप्र  पीएम रिपोर्ट में खुलासा  हार्टअटैक से हुई थी पूर्व विधायक निर्वेंद्र की मौत  शरीर पर नहीं मिले चोट के निशान  बेटे ने पिटाई कर हत्या का दावा किया था\\n                                                                                                                   ...  [#NirvendraMishra]                   \n",
              "5715  नौकरी गंवा चुके दोस्त की मदद  नगद के बजाए गिफ्ट कार्ड देने के बारे में सोचें  चुका सकते हैं नेटफ्लिक्स और जिम की फीस  हालचाल जानें  लेकिन ज्यादा नहीं                                                                                                                         ...  [#HelpYourFriend, #Jobless, #COVID19]\n",
              "5716  बंगाल में हिन्दू मरे हैं इसलिए मुझे कोई फर्क नहीं पड़ता   कुमार\\n\\n                                                                                                                                                                                                           ...  [#रविश]                              \n",
              "5717  रक्षा मंत्री  ने पूर्व राष्ट्रपति  के निधन पर शोक व्यक्त किया\\n\\nविवरण                                                                                                                                                                                                        ...  [#PranabMukherjee]                   \n",
              "\n",
              "[5718 rows x 3 columns]"
            ]
          },
          "metadata": {
            "tags": []
          },
          "execution_count": 26
        }
      ]
    },
    {
      "cell_type": "code",
      "metadata": {
        "colab": {
          "base_uri": "https://localhost:8080/",
          "height": 423
        },
        "id": "dfaJ0Qy_h7y9",
        "outputId": "35b03084-af91-4021-a5a3-a869e4a1038c"
      },
      "source": [
        "#removing stop words \r\n",
        "\r\n",
        "f=open(\"stopWords.txt\",\"r\")\r\n",
        "stopWords=set(f.read().split('\\n'))\r\n",
        "\r\n",
        "index=0\r\n",
        "\r\n",
        "for i in data['Post']:\r\n",
        "    temp=''\r\n",
        "    words=i.split(' ')\r\n",
        "    for j in words:\r\n",
        "        if j not in stopWords:\r\n",
        "            temp+=j\r\n",
        "            temp+=' '\r\n",
        "    data['Post'][index]=temp\r\n",
        "    index+=1\r\n",
        "\r\n",
        "data\r\n"
      ],
      "execution_count": 27,
      "outputs": [
        {
          "output_type": "execute_result",
          "data": {
            "text/html": [
              "<div>\n",
              "<style scoped>\n",
              "    .dataframe tbody tr th:only-of-type {\n",
              "        vertical-align: middle;\n",
              "    }\n",
              "\n",
              "    .dataframe tbody tr th {\n",
              "        vertical-align: top;\n",
              "    }\n",
              "\n",
              "    .dataframe thead th {\n",
              "        text-align: right;\n",
              "    }\n",
              "</style>\n",
              "<table border=\"1\" class=\"dataframe\">\n",
              "  <thead>\n",
              "    <tr style=\"text-align: right;\">\n",
              "      <th></th>\n",
              "      <th>Post</th>\n",
              "      <th>Labels Set</th>\n",
              "      <th>Hashtag</th>\n",
              "    </tr>\n",
              "  </thead>\n",
              "  <tbody>\n",
              "    <tr>\n",
              "      <th>0</th>\n",
              "      <td>मेरे देश के हिन्दु निराले है। पक्के राम भक्त बाबर के साले \\n\\n🙏 जय श्री राम 🙏</td>\n",
              "      <td>hate,offensive</td>\n",
              "      <td>[]</td>\n",
              "    </tr>\n",
              "    <tr>\n",
              "      <th>1</th>\n",
              "      <td>सरकार हमेशा किसानों कमाई बढ़ाने के नई नई स्कीमें लाती ताकि आर्थिक बोझ न पड़े \\n\\n</td>\n",
              "      <td>non-hostile</td>\n",
              "      <td>[]</td>\n",
              "    </tr>\n",
              "    <tr>\n",
              "      <th>2</th>\n",
              "      <td>सुशांत बिजनेस डील 9 जून वो डील दीपेश सुशांत हत्या के दिन याद आई देखिए पूछता भारत अर्नब के रिपब्लिक भारत</td>\n",
              "      <td>non-hostile</td>\n",
              "      <td>[#LIVE]</td>\n",
              "    </tr>\n",
              "    <tr>\n",
              "      <th>3</th>\n",
              "      <td>साले जेएनयू छाप कमिने लोग हिन्दुओं संविधान सबको बराबर अधिकार देता है। सच्चाई बराबर अधिकार नहीं देता है।</td>\n",
              "      <td>defamation,offensive</td>\n",
              "      <td>[]</td>\n",
              "    </tr>\n",
              "    <tr>\n",
              "      <th>4</th>\n",
              "      <td>अनलॉक 4 के गाइडलाइन्स जारी\\n\\n 7 सितंबर देशभर मेट्रो सेवा शुरु होगी\\n 21 सितंबर के रैलियों बाकी फंक्शन 100 लोगों इजाजत\\n कंटेनमेंट जोन छूट नहीं\\n सिनेमाहॉल रहेंगे\\n 9 12वीं के छात्र 21 सितंबर के स्कूल सकेंगे</td>\n",
              "      <td>non-hostile</td>\n",
              "      <td>[#unlock4guidelines]</td>\n",
              "    </tr>\n",
              "    <tr>\n",
              "      <th>...</th>\n",
              "      <td>...</td>\n",
              "      <td>...</td>\n",
              "      <td>...</td>\n",
              "    </tr>\n",
              "    <tr>\n",
              "      <th>5713</th>\n",
              "      <td>उदितराज जी हिम्मत जुटा नेता के कह दीजिये जिसके स्वागत मुंबई स्टेशन पाकिस्तान जिंदाबाद के नारे लगे विरोध दें मान्य होगा देशभक्त वरना अनर्गल प्रलाप न</td>\n",
              "      <td>hate</td>\n",
              "      <td>[]</td>\n",
              "    </tr>\n",
              "    <tr>\n",
              "      <th>5714</th>\n",
              "      <td>उप्र पीएम रिपोर्ट खुलासा हार्टअटैक पूर्व विधायक निर्वेंद्र मौत शरीर नहीं मिले चोट के निशान बेटे पिटाई हत्या दावा था\\n</td>\n",
              "      <td>non-hostile</td>\n",
              "      <td>[#NirvendraMishra]</td>\n",
              "    </tr>\n",
              "    <tr>\n",
              "      <th>5715</th>\n",
              "      <td>नौकरी गंवा चुके दोस्त मदद नगद के बजाए गिफ्ट कार्ड देने के बारे सोचें चुका नेटफ्लिक्स जिम फीस हालचाल जानें नहीं</td>\n",
              "      <td>non-hostile</td>\n",
              "      <td>[#HelpYourFriend, #Jobless, #COVID19]</td>\n",
              "    </tr>\n",
              "    <tr>\n",
              "      <th>5716</th>\n",
              "      <td>बंगाल हिन्दू मरे मुझे फर्क नहीं पड़ता कुमार\\n\\n</td>\n",
              "      <td>fake</td>\n",
              "      <td>[#रविश]</td>\n",
              "    </tr>\n",
              "    <tr>\n",
              "      <th>5717</th>\n",
              "      <td>रक्षा मंत्री पूर्व राष्ट्रपति के निधन शोक व्यक्त किया\\n\\nविवरण</td>\n",
              "      <td>non-hostile</td>\n",
              "      <td>[#PranabMukherjee]</td>\n",
              "    </tr>\n",
              "  </tbody>\n",
              "</table>\n",
              "<p>5718 rows × 3 columns</p>\n",
              "</div>"
            ],
            "text/plain": [
              "                                                                                                                                                                                                                  Post  ...                                Hashtag\n",
              "0     मेरे देश के हिन्दु निराले है। पक्के राम भक्त बाबर के साले \\n\\n🙏 जय श्री राम 🙏                                                                                                                                     ...  []                                   \n",
              "1     सरकार हमेशा किसानों कमाई बढ़ाने के नई नई स्कीमें लाती ताकि आर्थिक बोझ न पड़े \\n\\n                                                                                                                                 ...  []                                   \n",
              "2     सुशांत बिजनेस डील 9 जून वो डील दीपेश सुशांत हत्या के दिन याद आई देखिए पूछता भारत अर्नब के रिपब्लिक भारत                                                                                                           ...  [#LIVE]                              \n",
              "3     साले जेएनयू छाप कमिने लोग हिन्दुओं संविधान सबको बराबर अधिकार देता है। सच्चाई बराबर अधिकार नहीं देता है।                                                                                                           ...  []                                   \n",
              "4     अनलॉक 4 के गाइडलाइन्स जारी\\n\\n 7 सितंबर देशभर मेट्रो सेवा शुरु होगी\\n 21 सितंबर के रैलियों बाकी फंक्शन 100 लोगों इजाजत\\n कंटेनमेंट जोन छूट नहीं\\n सिनेमाहॉल रहेंगे\\n 9 12वीं के छात्र 21 सितंबर के स्कूल सकेंगे   ...  [#unlock4guidelines]                 \n",
              "...                                                                                                                                                                                                                ...  ...                   ...                 \n",
              "5713  उदितराज जी हिम्मत जुटा नेता के कह दीजिये जिसके स्वागत मुंबई स्टेशन पाकिस्तान जिंदाबाद के नारे लगे विरोध दें मान्य होगा देशभक्त वरना अनर्गल प्रलाप न                                                               ...  []                                   \n",
              "5714  उप्र पीएम रिपोर्ट खुलासा हार्टअटैक पूर्व विधायक निर्वेंद्र मौत शरीर नहीं मिले चोट के निशान बेटे पिटाई हत्या दावा था\\n                                                                                             ...  [#NirvendraMishra]                   \n",
              "5715  नौकरी गंवा चुके दोस्त मदद नगद के बजाए गिफ्ट कार्ड देने के बारे सोचें चुका नेटफ्लिक्स जिम फीस हालचाल जानें नहीं                                                                                                    ...  [#HelpYourFriend, #Jobless, #COVID19]\n",
              "5716  बंगाल हिन्दू मरे मुझे फर्क नहीं पड़ता कुमार\\n\\n                                                                                                                                                                   ...  [#रविश]                              \n",
              "5717  रक्षा मंत्री पूर्व राष्ट्रपति के निधन शोक व्यक्त किया\\n\\nविवरण                                                                                                                                                    ...  [#PranabMukherjee]                   \n",
              "\n",
              "[5718 rows x 3 columns]"
            ]
          },
          "metadata": {
            "tags": []
          },
          "execution_count": 27
        }
      ]
    },
    {
      "cell_type": "code",
      "metadata": {
        "colab": {
          "base_uri": "https://localhost:8080/",
          "height": 440
        },
        "id": "tk09YlB4jEuE",
        "outputId": "4c28bffa-cda3-4d6c-e7f1-934af54268ac"
      },
      "source": [
        "#separating emojis\r\n",
        "\r\n",
        "emojis=[]\r\n",
        "index=0\r\n",
        "\r\n",
        "for i in data['Post']:\r\n",
        "    post=\"\"\r\n",
        "    temp=[]\r\n",
        "    for j in i:\r\n",
        "        if (u'\\u0900' <= j <= u'\\u097f' or j==' ' or j.isdigit() or j=='\\n' or j.isalpha()):\r\n",
        "            post+=j\r\n",
        "        else:\r\n",
        "            temp.append(j)\r\n",
        "    emojis.append(temp)\r\n",
        "    data['Post'][index]=post\r\n",
        "    index=0\r\n",
        "    \r\n",
        "data['emojis']=emojis\r\n",
        "\r\n",
        "data"
      ],
      "execution_count": 28,
      "outputs": [
        {
          "output_type": "execute_result",
          "data": {
            "text/html": [
              "<div>\n",
              "<style scoped>\n",
              "    .dataframe tbody tr th:only-of-type {\n",
              "        vertical-align: middle;\n",
              "    }\n",
              "\n",
              "    .dataframe tbody tr th {\n",
              "        vertical-align: top;\n",
              "    }\n",
              "\n",
              "    .dataframe thead th {\n",
              "        text-align: right;\n",
              "    }\n",
              "</style>\n",
              "<table border=\"1\" class=\"dataframe\">\n",
              "  <thead>\n",
              "    <tr style=\"text-align: right;\">\n",
              "      <th></th>\n",
              "      <th>Post</th>\n",
              "      <th>Labels Set</th>\n",
              "      <th>Hashtag</th>\n",
              "      <th>emojis</th>\n",
              "    </tr>\n",
              "  </thead>\n",
              "  <tbody>\n",
              "    <tr>\n",
              "      <th>0</th>\n",
              "      <td>रक्षा मंत्री पूर्व राष्ट्रपति के निधन शोक व्यक्त किया\\n\\nविवरण</td>\n",
              "      <td>hate,offensive</td>\n",
              "      <td>[]</td>\n",
              "      <td>[🙏, 🙏]</td>\n",
              "    </tr>\n",
              "    <tr>\n",
              "      <th>1</th>\n",
              "      <td>सरकार हमेशा किसानों कमाई बढ़ाने के नई नई स्कीमें लाती ताकि आर्थिक बोझ न पड़े \\n\\n</td>\n",
              "      <td>non-hostile</td>\n",
              "      <td>[]</td>\n",
              "      <td>[]</td>\n",
              "    </tr>\n",
              "    <tr>\n",
              "      <th>2</th>\n",
              "      <td>सुशांत बिजनेस डील 9 जून वो डील दीपेश सुशांत हत्या के दिन याद आई देखिए पूछता भारत अर्नब के रिपब्लिक भारत</td>\n",
              "      <td>non-hostile</td>\n",
              "      <td>[#LIVE]</td>\n",
              "      <td>[]</td>\n",
              "    </tr>\n",
              "    <tr>\n",
              "      <th>3</th>\n",
              "      <td>साले जेएनयू छाप कमिने लोग हिन्दुओं संविधान सबको बराबर अधिकार देता है। सच्चाई बराबर अधिकार नहीं देता है।</td>\n",
              "      <td>defamation,offensive</td>\n",
              "      <td>[]</td>\n",
              "      <td>[]</td>\n",
              "    </tr>\n",
              "    <tr>\n",
              "      <th>4</th>\n",
              "      <td>अनलॉक 4 के गाइडलाइन्स जारी\\n\\n 7 सितंबर देशभर मेट्रो सेवा शुरु होगी\\n 21 सितंबर के रैलियों बाकी फंक्शन 100 लोगों इजाजत\\n कंटेनमेंट जोन छूट नहीं\\n सिनेमाहॉल रहेंगे\\n 9 12वीं के छात्र 21 सितंबर के स्कूल सकेंगे</td>\n",
              "      <td>non-hostile</td>\n",
              "      <td>[#unlock4guidelines]</td>\n",
              "      <td>[]</td>\n",
              "    </tr>\n",
              "    <tr>\n",
              "      <th>...</th>\n",
              "      <td>...</td>\n",
              "      <td>...</td>\n",
              "      <td>...</td>\n",
              "      <td>...</td>\n",
              "    </tr>\n",
              "    <tr>\n",
              "      <th>5713</th>\n",
              "      <td>उदितराज जी हिम्मत जुटा नेता के कह दीजिये जिसके स्वागत मुंबई स्टेशन पाकिस्तान जिंदाबाद के नारे लगे विरोध दें मान्य होगा देशभक्त वरना अनर्गल प्रलाप न</td>\n",
              "      <td>hate</td>\n",
              "      <td>[]</td>\n",
              "      <td>[]</td>\n",
              "    </tr>\n",
              "    <tr>\n",
              "      <th>5714</th>\n",
              "      <td>उप्र पीएम रिपोर्ट खुलासा हार्टअटैक पूर्व विधायक निर्वेंद्र मौत शरीर नहीं मिले चोट के निशान बेटे पिटाई हत्या दावा था\\n</td>\n",
              "      <td>non-hostile</td>\n",
              "      <td>[#NirvendraMishra]</td>\n",
              "      <td>[]</td>\n",
              "    </tr>\n",
              "    <tr>\n",
              "      <th>5715</th>\n",
              "      <td>नौकरी गंवा चुके दोस्त मदद नगद के बजाए गिफ्ट कार्ड देने के बारे सोचें चुका नेटफ्लिक्स जिम फीस हालचाल जानें नहीं</td>\n",
              "      <td>non-hostile</td>\n",
              "      <td>[#HelpYourFriend, #Jobless, #COVID19]</td>\n",
              "      <td>[]</td>\n",
              "    </tr>\n",
              "    <tr>\n",
              "      <th>5716</th>\n",
              "      <td>बंगाल हिन्दू मरे मुझे फर्क नहीं पड़ता कुमार\\n\\n</td>\n",
              "      <td>fake</td>\n",
              "      <td>[#रविश]</td>\n",
              "      <td>[]</td>\n",
              "    </tr>\n",
              "    <tr>\n",
              "      <th>5717</th>\n",
              "      <td>रक्षा मंत्री पूर्व राष्ट्रपति के निधन शोक व्यक्त किया\\n\\nविवरण</td>\n",
              "      <td>non-hostile</td>\n",
              "      <td>[#PranabMukherjee]</td>\n",
              "      <td>[]</td>\n",
              "    </tr>\n",
              "  </tbody>\n",
              "</table>\n",
              "<p>5718 rows × 4 columns</p>\n",
              "</div>"
            ],
            "text/plain": [
              "                                                                                                                                                                                                                  Post  ...  emojis\n",
              "0     रक्षा मंत्री पूर्व राष्ट्रपति के निधन शोक व्यक्त किया\\n\\nविवरण                                                                                                                                                    ...  [🙏, 🙏]\n",
              "1     सरकार हमेशा किसानों कमाई बढ़ाने के नई नई स्कीमें लाती ताकि आर्थिक बोझ न पड़े \\n\\n                                                                                                                                 ...  []    \n",
              "2     सुशांत बिजनेस डील 9 जून वो डील दीपेश सुशांत हत्या के दिन याद आई देखिए पूछता भारत अर्नब के रिपब्लिक भारत                                                                                                           ...  []    \n",
              "3     साले जेएनयू छाप कमिने लोग हिन्दुओं संविधान सबको बराबर अधिकार देता है। सच्चाई बराबर अधिकार नहीं देता है।                                                                                                           ...  []    \n",
              "4     अनलॉक 4 के गाइडलाइन्स जारी\\n\\n 7 सितंबर देशभर मेट्रो सेवा शुरु होगी\\n 21 सितंबर के रैलियों बाकी फंक्शन 100 लोगों इजाजत\\n कंटेनमेंट जोन छूट नहीं\\n सिनेमाहॉल रहेंगे\\n 9 12वीं के छात्र 21 सितंबर के स्कूल सकेंगे   ...  []    \n",
              "...                                                                                                                                                                                                                ...  ...  ..    \n",
              "5713  उदितराज जी हिम्मत जुटा नेता के कह दीजिये जिसके स्वागत मुंबई स्टेशन पाकिस्तान जिंदाबाद के नारे लगे विरोध दें मान्य होगा देशभक्त वरना अनर्गल प्रलाप न                                                               ...  []    \n",
              "5714  उप्र पीएम रिपोर्ट खुलासा हार्टअटैक पूर्व विधायक निर्वेंद्र मौत शरीर नहीं मिले चोट के निशान बेटे पिटाई हत्या दावा था\\n                                                                                             ...  []    \n",
              "5715  नौकरी गंवा चुके दोस्त मदद नगद के बजाए गिफ्ट कार्ड देने के बारे सोचें चुका नेटफ्लिक्स जिम फीस हालचाल जानें नहीं                                                                                                    ...  []    \n",
              "5716  बंगाल हिन्दू मरे मुझे फर्क नहीं पड़ता कुमार\\n\\n                                                                                                                                                                   ...  []    \n",
              "5717  रक्षा मंत्री पूर्व राष्ट्रपति के निधन शोक व्यक्त किया\\n\\nविवरण                                                                                                                                                    ...  []    \n",
              "\n",
              "[5718 rows x 4 columns]"
            ]
          },
          "metadata": {
            "tags": []
          },
          "execution_count": 28
        }
      ]
    },
    {
      "cell_type": "markdown",
      "metadata": {
        "id": "orNRSV6Q2AkO"
      },
      "source": [
        "**Translation of hindi data to english using googletrans API**\r\n",
        "\r\n",
        "As the googletrans API takes a lot of time for translation so we have commented this portion of code. You can uncomment and run it if required. \r\n",
        "\r\n",
        "For that purpose we stored the result of below code in res.txt file"
      ]
    },
    {
      "cell_type": "code",
      "metadata": {
        "id": "GaqV-80GkPn0"
      },
      "source": [
        "# #Translating hindi to english using \"googletrans\" API\r\n",
        "# from googletrans import Translator\r\n",
        "# import time\r\n",
        "# errorCounter=0\r\n",
        "# cnt=0\r\n",
        "# eng=[]\r\n",
        "# f = open(\"res.txt\", \"a\")\r\n",
        "# f.write(\"Now the file has more content!\")\r\n",
        "# for i in range(5728):\r\n",
        "#     t=Translator()\r\n",
        "#     cnt+=1\r\n",
        "#     time.sleep(5)\r\n",
        "    \r\n",
        "#     print(cnt,errorCounter)\r\n",
        "#     # if i%5==0:\r\n",
        "#     #     time.sleep(1)\r\n",
        "#     try:\r\n",
        "#         f.write(t.translate(translationInput[i]).text)\r\n",
        "#         f.write('\\n')\r\n",
        "#     except:\r\n",
        "#         errorCounter+=1\r\n",
        "# print(\"Total Loss = \" + str(errorCounter))"
      ],
      "execution_count": 29,
      "outputs": []
    },
    {
      "cell_type": "code",
      "metadata": {
        "colab": {
          "base_uri": "https://localhost:8080/",
          "height": 391
        },
        "id": "Ztv178r3knfb",
        "outputId": "ed5206ca-8a92-4a90-a7c0-8f20c606af63"
      },
      "source": [
        "#lowercasing \r\n",
        "\r\n",
        "f = open(\"res.txt\", \"r\")\r\n",
        "englishPost=list(f.read().split('\\n'))\r\n",
        "\r\n",
        "for i in range(len(englishPost)):\r\n",
        "    englishPost[i]=englishPost[i].lower()\r\n",
        "\r\n",
        "engDF=pd.DataFrame.from_dict({'English Post':englishPost})\r\n",
        "engDF"
      ],
      "execution_count": 30,
      "outputs": [
        {
          "output_type": "execute_result",
          "data": {
            "text/html": [
              "<div>\n",
              "<style scoped>\n",
              "    .dataframe tbody tr th:only-of-type {\n",
              "        vertical-align: middle;\n",
              "    }\n",
              "\n",
              "    .dataframe tbody tr th {\n",
              "        vertical-align: top;\n",
              "    }\n",
              "\n",
              "    .dataframe thead th {\n",
              "        text-align: right;\n",
              "    }\n",
              "</style>\n",
              "<table border=\"1\" class=\"dataframe\">\n",
              "  <thead>\n",
              "    <tr style=\"text-align: right;\">\n",
              "      <th></th>\n",
              "      <th>English Post</th>\n",
              "    </tr>\n",
              "  </thead>\n",
              "  <tbody>\n",
              "    <tr>\n",
              "      <th>0</th>\n",
              "      <td>now the file has more content!my country is hindu very unique in. something is sure ram devotee and brother of babar jai shri ram</td>\n",
              "    </tr>\n",
              "    <tr>\n",
              "      <th>1</th>\n",
              "      <td>sushant has a business deal was june they deal dipesh is sushant asks killing day see i only remember why the republic of india arnab india</td>\n",
              "    </tr>\n",
              "    <tr>\n",
              "      <th>2</th>\n",
              "      <td>brother jnu impression kmine people constitution hindus say it gives everyone equal rights. the truth is that it does not have equal rights.</td>\n",
              "    </tr>\n",
              "    <tr>\n",
              "      <th>3</th>\n",
              "      <td>after september unlock starts across metro service in september issued guidelines rallies and cinema, there is no rest allowed containment zone in function will be closed from now will be the school after the student september th</td>\n",
              "    </tr>\n",
              "    <tr>\n",
              "      <th>4</th>\n",
              "      <td>record case in the country</td>\n",
              "    </tr>\n",
              "    <tr>\n",
              "      <th>...</th>\n",
              "      <td>...</td>\n",
              "    </tr>\n",
              "    <tr>\n",
              "      <th>2900</th>\n",
              "      <td>can in the next hours is arrested rhea caught another drug padlr</td>\n",
              "    </tr>\n",
              "    <tr>\n",
              "      <th>2901</th>\n",
              "      <td>we have seen born dogs in the house of a staunch hindu lion is seen lick tlve of these dogs.</td>\n",
              "    </tr>\n",
              "    <tr>\n",
              "      <th>2902</th>\n",
              "      <td>up pm report revealing was the hartatak former legislator nirvendra death marks son did not harm the body claimed the killing was beating</td>\n",
              "    </tr>\n",
              "    <tr>\n",
              "      <th>2903</th>\n",
              "      <td>can already think about giving gift cards instead of jobs lost cash with the help of friends learn netflix and doing gym fees but not much</td>\n",
              "    </tr>\n",
              "    <tr>\n",
              "      <th>2904</th>\n",
              "      <td></td>\n",
              "    </tr>\n",
              "  </tbody>\n",
              "</table>\n",
              "<p>2905 rows × 1 columns</p>\n",
              "</div>"
            ],
            "text/plain": [
              "                                                                                                                                                                                                                               English Post\n",
              "0     now the file has more content!my country is hindu very unique in. something is sure ram devotee and brother of babar jai shri ram                                                                                                    \n",
              "1     sushant has a business deal was june they deal dipesh is sushant asks killing day see i only remember why the republic of india arnab india                                                                                          \n",
              "2     brother jnu impression kmine people constitution hindus say it gives everyone equal rights. the truth is that it does not have equal rights.                                                                                         \n",
              "3     after september unlock starts across metro service in september issued guidelines rallies and cinema, there is no rest allowed containment zone in function will be closed from now will be the school after the student september th\n",
              "4     record case in the country                                                                                                                                                                                                           \n",
              "...                          ...                                                                                                                                                                                                           \n",
              "2900  can in the next hours is arrested rhea caught another drug padlr                                                                                                                                                                     \n",
              "2901  we have seen born dogs in the house of a staunch hindu lion is seen lick tlve of these dogs.                                                                                                                                         \n",
              "2902  up pm report revealing was the hartatak former legislator nirvendra death marks son did not harm the body claimed the killing was beating                                                                                            \n",
              "2903  can already think about giving gift cards instead of jobs lost cash with the help of friends learn netflix and doing gym fees but not much                                                                                           \n",
              "2904                                                                                                                                                                                                                                       \n",
              "\n",
              "[2905 rows x 1 columns]"
            ]
          },
          "metadata": {
            "tags": []
          },
          "execution_count": 30
        }
      ]
    },
    {
      "cell_type": "code",
      "metadata": {
        "colab": {
          "base_uri": "https://localhost:8080/",
          "height": 391
        },
        "id": "UWpNBXTRkvkX",
        "outputId": "458c55e3-46af-43ec-cb45-cefbc2c57a73"
      },
      "source": [
        "#Stemming\r\n",
        "\r\n",
        "from nltk.stem import PorterStemmer \r\n",
        "from nltk.tokenize import word_tokenize \r\n",
        "   \r\n",
        "ps = PorterStemmer()\r\n",
        "index=0\r\n",
        "\r\n",
        "for i in englishPost:\r\n",
        "    sentence=''\r\n",
        "    for word in i:\r\n",
        "        sentence+=ps.stem(word)\r\n",
        "    englishPost[index]=sentence\r\n",
        "    index+=0\r\n",
        "\r\n",
        "data = tmp   \r\n",
        "engDF=pd.DataFrame.from_dict({'English Post':englishPost})\r\n",
        "engDF"
      ],
      "execution_count": 31,
      "outputs": [
        {
          "output_type": "execute_result",
          "data": {
            "text/html": [
              "<div>\n",
              "<style scoped>\n",
              "    .dataframe tbody tr th:only-of-type {\n",
              "        vertical-align: middle;\n",
              "    }\n",
              "\n",
              "    .dataframe tbody tr th {\n",
              "        vertical-align: top;\n",
              "    }\n",
              "\n",
              "    .dataframe thead th {\n",
              "        text-align: right;\n",
              "    }\n",
              "</style>\n",
              "<table border=\"1\" class=\"dataframe\">\n",
              "  <thead>\n",
              "    <tr style=\"text-align: right;\">\n",
              "      <th></th>\n",
              "      <th>English Post</th>\n",
              "    </tr>\n",
              "  </thead>\n",
              "  <tbody>\n",
              "    <tr>\n",
              "      <th>0</th>\n",
              "      <td></td>\n",
              "    </tr>\n",
              "    <tr>\n",
              "      <th>1</th>\n",
              "      <td>sushant has a business deal was june they deal dipesh is sushant asks killing day see i only remember why the republic of india arnab india</td>\n",
              "    </tr>\n",
              "    <tr>\n",
              "      <th>2</th>\n",
              "      <td>brother jnu impression kmine people constitution hindus say it gives everyone equal rights. the truth is that it does not have equal rights.</td>\n",
              "    </tr>\n",
              "    <tr>\n",
              "      <th>3</th>\n",
              "      <td>after september unlock starts across metro service in september issued guidelines rallies and cinema, there is no rest allowed containment zone in function will be closed from now will be the school after the student september th</td>\n",
              "    </tr>\n",
              "    <tr>\n",
              "      <th>4</th>\n",
              "      <td>record case in the country</td>\n",
              "    </tr>\n",
              "    <tr>\n",
              "      <th>...</th>\n",
              "      <td>...</td>\n",
              "    </tr>\n",
              "    <tr>\n",
              "      <th>2900</th>\n",
              "      <td>can in the next hours is arrested rhea caught another drug padlr</td>\n",
              "    </tr>\n",
              "    <tr>\n",
              "      <th>2901</th>\n",
              "      <td>we have seen born dogs in the house of a staunch hindu lion is seen lick tlve of these dogs.</td>\n",
              "    </tr>\n",
              "    <tr>\n",
              "      <th>2902</th>\n",
              "      <td>up pm report revealing was the hartatak former legislator nirvendra death marks son did not harm the body claimed the killing was beating</td>\n",
              "    </tr>\n",
              "    <tr>\n",
              "      <th>2903</th>\n",
              "      <td>can already think about giving gift cards instead of jobs lost cash with the help of friends learn netflix and doing gym fees but not much</td>\n",
              "    </tr>\n",
              "    <tr>\n",
              "      <th>2904</th>\n",
              "      <td></td>\n",
              "    </tr>\n",
              "  </tbody>\n",
              "</table>\n",
              "<p>2905 rows × 1 columns</p>\n",
              "</div>"
            ],
            "text/plain": [
              "                                                                                                                                                                                                                               English Post\n",
              "0                                                                                                                                                                                                                                          \n",
              "1     sushant has a business deal was june they deal dipesh is sushant asks killing day see i only remember why the republic of india arnab india                                                                                          \n",
              "2     brother jnu impression kmine people constitution hindus say it gives everyone equal rights. the truth is that it does not have equal rights.                                                                                         \n",
              "3     after september unlock starts across metro service in september issued guidelines rallies and cinema, there is no rest allowed containment zone in function will be closed from now will be the school after the student september th\n",
              "4     record case in the country                                                                                                                                                                                                           \n",
              "...                          ...                                                                                                                                                                                                           \n",
              "2900  can in the next hours is arrested rhea caught another drug padlr                                                                                                                                                                     \n",
              "2901  we have seen born dogs in the house of a staunch hindu lion is seen lick tlve of these dogs.                                                                                                                                         \n",
              "2902  up pm report revealing was the hartatak former legislator nirvendra death marks son did not harm the body claimed the killing was beating                                                                                            \n",
              "2903  can already think about giving gift cards instead of jobs lost cash with the help of friends learn netflix and doing gym fees but not much                                                                                           \n",
              "2904                                                                                                                                                                                                                                       \n",
              "\n",
              "[2905 rows x 1 columns]"
            ]
          },
          "metadata": {
            "tags": []
          },
          "execution_count": 31
        }
      ]
    },
    {
      "cell_type": "code",
      "metadata": {
        "colab": {
          "base_uri": "https://localhost:8080/",
          "height": 391
        },
        "id": "M1-6NCA3k0sz",
        "outputId": "2a370483-d510-4850-b61c-c3f258c0dd09"
      },
      "source": [
        "#removing stop words from english\r\n",
        "\r\n",
        "f=open(\"stopWordsEnglish.txt\",\"r\")\r\n",
        "stopWordsEnglish=set(f.read().split('\\n'))\r\n",
        "\r\n",
        "index=0\r\n",
        "\r\n",
        "for i in englishPost:\r\n",
        "    words=i.split(' ')\r\n",
        "    sentence=''\r\n",
        "    for word in words:\r\n",
        "        if word not in stopWordsEnglish:\r\n",
        "            sentence+=word\r\n",
        "    englishPost[index]=sentence\r\n",
        "    index=0\r\n",
        "\r\n",
        "engDF=pd.DataFrame.from_dict({'English Post':englishPost})\r\n",
        "engDF\r\n"
      ],
      "execution_count": 32,
      "outputs": [
        {
          "output_type": "execute_result",
          "data": {
            "text/html": [
              "<div>\n",
              "<style scoped>\n",
              "    .dataframe tbody tr th:only-of-type {\n",
              "        vertical-align: middle;\n",
              "    }\n",
              "\n",
              "    .dataframe tbody tr th {\n",
              "        vertical-align: top;\n",
              "    }\n",
              "\n",
              "    .dataframe thead th {\n",
              "        text-align: right;\n",
              "    }\n",
              "</style>\n",
              "<table border=\"1\" class=\"dataframe\">\n",
              "  <thead>\n",
              "    <tr style=\"text-align: right;\">\n",
              "      <th></th>\n",
              "      <th>English Post</th>\n",
              "    </tr>\n",
              "  </thead>\n",
              "  <tbody>\n",
              "    <tr>\n",
              "      <th>0</th>\n",
              "      <td></td>\n",
              "    </tr>\n",
              "    <tr>\n",
              "      <th>1</th>\n",
              "      <td>sushant has a business deal was june they deal dipesh is sushant asks killing day see i only remember why the republic of india arnab india</td>\n",
              "    </tr>\n",
              "    <tr>\n",
              "      <th>2</th>\n",
              "      <td>brother jnu impression kmine people constitution hindus say it gives everyone equal rights. the truth is that it does not have equal rights.</td>\n",
              "    </tr>\n",
              "    <tr>\n",
              "      <th>3</th>\n",
              "      <td>after september unlock starts across metro service in september issued guidelines rallies and cinema, there is no rest allowed containment zone in function will be closed from now will be the school after the student september th</td>\n",
              "    </tr>\n",
              "    <tr>\n",
              "      <th>4</th>\n",
              "      <td>record case in the country</td>\n",
              "    </tr>\n",
              "    <tr>\n",
              "      <th>...</th>\n",
              "      <td>...</td>\n",
              "    </tr>\n",
              "    <tr>\n",
              "      <th>2900</th>\n",
              "      <td>can in the next hours is arrested rhea caught another drug padlr</td>\n",
              "    </tr>\n",
              "    <tr>\n",
              "      <th>2901</th>\n",
              "      <td>we have seen born dogs in the house of a staunch hindu lion is seen lick tlve of these dogs.</td>\n",
              "    </tr>\n",
              "    <tr>\n",
              "      <th>2902</th>\n",
              "      <td>up pm report revealing was the hartatak former legislator nirvendra death marks son did not harm the body claimed the killing was beating</td>\n",
              "    </tr>\n",
              "    <tr>\n",
              "      <th>2903</th>\n",
              "      <td>can already think about giving gift cards instead of jobs lost cash with the help of friends learn netflix and doing gym fees but not much</td>\n",
              "    </tr>\n",
              "    <tr>\n",
              "      <th>2904</th>\n",
              "      <td></td>\n",
              "    </tr>\n",
              "  </tbody>\n",
              "</table>\n",
              "<p>2905 rows × 1 columns</p>\n",
              "</div>"
            ],
            "text/plain": [
              "                                                                                                                                                                                                                               English Post\n",
              "0                                                                                                                                                                                                                                          \n",
              "1     sushant has a business deal was june they deal dipesh is sushant asks killing day see i only remember why the republic of india arnab india                                                                                          \n",
              "2     brother jnu impression kmine people constitution hindus say it gives everyone equal rights. the truth is that it does not have equal rights.                                                                                         \n",
              "3     after september unlock starts across metro service in september issued guidelines rallies and cinema, there is no rest allowed containment zone in function will be closed from now will be the school after the student september th\n",
              "4     record case in the country                                                                                                                                                                                                           \n",
              "...                          ...                                                                                                                                                                                                           \n",
              "2900  can in the next hours is arrested rhea caught another drug padlr                                                                                                                                                                     \n",
              "2901  we have seen born dogs in the house of a staunch hindu lion is seen lick tlve of these dogs.                                                                                                                                         \n",
              "2902  up pm report revealing was the hartatak former legislator nirvendra death marks son did not harm the body claimed the killing was beating                                                                                            \n",
              "2903  can already think about giving gift cards instead of jobs lost cash with the help of friends learn netflix and doing gym fees but not much                                                                                           \n",
              "2904                                                                                                                                                                                                                                       \n",
              "\n",
              "[2905 rows x 1 columns]"
            ]
          },
          "metadata": {
            "tags": []
          },
          "execution_count": 32
        }
      ]
    },
    {
      "cell_type": "markdown",
      "metadata": {
        "id": "J3JgMv1g28ZD"
      },
      "source": [
        "**Loading Validation Dataset**"
      ]
    },
    {
      "cell_type": "code",
      "metadata": {
        "colab": {
          "base_uri": "https://localhost:8080/",
          "height": 472
        },
        "id": "ps5oyeWD4JfU",
        "outputId": "ebf57d91-569f-489d-e9db-8a3719d91e46"
      },
      "source": [
        "test_df = pd.read_csv(\"./validation.csv\")\r\n",
        "test_df=test_df.drop(test_df.columns[[0]], axis=1)\r\n",
        "test_df"
      ],
      "execution_count": 33,
      "outputs": [
        {
          "output_type": "execute_result",
          "data": {
            "text/html": [
              "<div>\n",
              "<style scoped>\n",
              "    .dataframe tbody tr th:only-of-type {\n",
              "        vertical-align: middle;\n",
              "    }\n",
              "\n",
              "    .dataframe tbody tr th {\n",
              "        vertical-align: top;\n",
              "    }\n",
              "\n",
              "    .dataframe thead th {\n",
              "        text-align: right;\n",
              "    }\n",
              "</style>\n",
              "<table border=\"1\" class=\"dataframe\">\n",
              "  <thead>\n",
              "    <tr style=\"text-align: right;\">\n",
              "      <th></th>\n",
              "      <th>Post</th>\n",
              "      <th>Labels Set</th>\n",
              "    </tr>\n",
              "  </thead>\n",
              "  <tbody>\n",
              "    <tr>\n",
              "      <th>0</th>\n",
              "      <td>दृढ़ इच्छा शक्ति से परिपूर्ण प्रणबदा के लिए देशहित सर्वोच्च रहा।\\n\\nउनका निधन हम सब के लिए अपूरणीय क्षति है।\\nईश्वर दिवंगत आत्मा को अपने श्रीचरणों में स्थान दें। शोक संतप्त परिजनों के प्रति संवेदनाएं।\\nऊं शांति!!!</td>\n",
              "      <td>non-hostile</td>\n",
              "    </tr>\n",
              "    <tr>\n",
              "      <th>1</th>\n",
              "      <td>भारतीय जनता पार्टी rss वाले इतने गिरे हुए हैं जहां मैं रहती हूं वहां मेरी जासूसी  करा रहें है उसकी जासूस की पहचान मुझे अच्छी तरह है rss बीजेपी वाले की जासूस दिल्ली में कौन है उत्तर प्रदेश में कौन है हरियाणा राजस्थान में कौन है सबकी पहचान है मुझे मेरी नजर से बच नहीं सकते हो</td>\n",
              "      <td>defamation</td>\n",
              "    </tr>\n",
              "    <tr>\n",
              "      <th>2</th>\n",
              "      <td>कोरोना से निपटने की तैयारी / दिल्ली में 10 हजार बेड वाला दुनिया का सबसे बड़ा कोविड केयर सेंटर शुरू, राजनाथ-शाह ने डीआरडीओ के 1 हजार बेड वाले सेंटर का भी उद्घाटन किया\\nhttps://t.co/9rlQowAsFh #Delhi @ArvindKejriwal  @rajnathsingh @AmitShah @DRDO_India @WHO @crpfindia @ITBP_official</td>\n",
              "      <td>non-hostile</td>\n",
              "    </tr>\n",
              "    <tr>\n",
              "      <th>3</th>\n",
              "      <td>गवर्नर कॉन्फ्रेंस में PM मोदी बोले- शिक्षा नीति में सरकार का दखल कम होना चाहिए\\nhttps://t.co/ZvKgxk6dbd</td>\n",
              "      <td>non-hostile</td>\n",
              "    </tr>\n",
              "    <tr>\n",
              "      <th>4</th>\n",
              "      <td>यूपी: गाजीपुर में Toilet घोटाला, प्रधान व सचिव ने किया लाखों का गबन, मुर्दों के नाम पर बनवा डाले शौचालय\\n\\n#UP\\nhttps://t.co/hxM1uNNmX2</td>\n",
              "      <td>non-hostile</td>\n",
              "    </tr>\n",
              "    <tr>\n",
              "      <th>...</th>\n",
              "      <td>...</td>\n",
              "      <td>...</td>\n",
              "    </tr>\n",
              "    <tr>\n",
              "      <th>806</th>\n",
              "      <td>@ThePushpendra_ चंद फेंके हुए टुकड़ों के लिए हमेशा ही देश से गद्दारी को भौंकने तैयार\\nड्रग्स के नशे में पूरी तरह खोखले हो चुके दाऊद के गुलाम देशद्रोही गद्दार फिल्मी भांडों के भोंकने को भी मीडिया ब्रेकिंग न्यूज़ बना\\nइन दो कौड़ी के बिकाऊ नशेड़ी गद्दार कुत्तों को हीरो बना देती है\\nदेश की विडंबना😔</td>\n",
              "      <td>hate</td>\n",
              "    </tr>\n",
              "    <tr>\n",
              "      <th>807</th>\n",
              "      <td>आँखों ही आँखों में इशारा हो गया \\nबैठे बैठे जीने का सहारा हो गया 😉😉😉\\nनज़रों की इस मारक क्षमता को क्या कहगे। 👌 https://t.co/Mt5EMJhpJb</td>\n",
              "      <td>defamation</td>\n",
              "    </tr>\n",
              "    <tr>\n",
              "      <th>808</th>\n",
              "      <td>औरंगाबाद में फिर धीरे-धीरे पांव पसार रहा कोरोना संक्रमण, पिछले 6 दिनों में मिले इतने नए मरीज\\n\\n#Bihar #Corona #Aurangabad \\n\\nhttps://t.co/usE3PbXXlm</td>\n",
              "      <td>non-hostile</td>\n",
              "    </tr>\n",
              "    <tr>\n",
              "      <th>809</th>\n",
              "      <td>बाइस्कोप: कादर के संवादों का कमाल, डिंपल की कलम का धमाल और तीन बत्ती के जग्गू का नाना संग असली बवाल\\n#bioscope #Angaar #ShashilalNair #DimpleKapadia\\n@bindasbhidu @nanagpatekar\\n\\nhttps://t.co/Lshm2G4qjO</td>\n",
              "      <td>non-hostile</td>\n",
              "    </tr>\n",
              "    <tr>\n",
              "      <th>810</th>\n",
              "      <td>आखिरकार पॉन्डिचेरी विश्वविद्यालय के रामू नाम के भारतीय छात्र ने कोविड -19 के लिए एक घरेलू उपचार खोज लिया। WHO ने इसे स्वीकार भी कर लिया है। उन्होंने साबित किया है कि 1 बड़ा चम्मच काली मिर्च पाउडर में 2 टेबलस्पून शहद और कुछ जोड़कर लगातार 5 दिनों तक अदरक का रस कोरोना के प्रभाव को दबा देगा।\\n\\nसंपूर्ण विश्व इस उपाय को स्वीकार करने लगा है। अंत में एक अच्छी खबर 2020 में !!</td>\n",
              "      <td>fake</td>\n",
              "    </tr>\n",
              "  </tbody>\n",
              "</table>\n",
              "<p>811 rows × 2 columns</p>\n",
              "</div>"
            ],
            "text/plain": [
              "                                                                                                                                                                                                                                                                                                                                                                                   Post   Labels Set\n",
              "0    दृढ़ इच्छा शक्ति से परिपूर्ण प्रणबदा के लिए देशहित सर्वोच्च रहा।\\n\\nउनका निधन हम सब के लिए अपूरणीय क्षति है।\\nईश्वर दिवंगत आत्मा को अपने श्रीचरणों में स्थान दें। शोक संतप्त परिजनों के प्रति संवेदनाएं।\\nऊं शांति!!!                                                                                                                                                               non-hostile\n",
              "1    भारतीय जनता पार्टी rss वाले इतने गिरे हुए हैं जहां मैं रहती हूं वहां मेरी जासूसी  करा रहें है उसकी जासूस की पहचान मुझे अच्छी तरह है rss बीजेपी वाले की जासूस दिल्ली में कौन है उत्तर प्रदेश में कौन है हरियाणा राजस्थान में कौन है सबकी पहचान है मुझे मेरी नजर से बच नहीं सकते हो                                                                                                   defamation \n",
              "2    कोरोना से निपटने की तैयारी / दिल्ली में 10 हजार बेड वाला दुनिया का सबसे बड़ा कोविड केयर सेंटर शुरू, राजनाथ-शाह ने डीआरडीओ के 1 हजार बेड वाले सेंटर का भी उद्घाटन किया\\nhttps://t.co/9rlQowAsFh #Delhi @ArvindKejriwal  @rajnathsingh @AmitShah @DRDO_India @WHO @crpfindia @ITBP_official                                                                                           non-hostile\n",
              "3    गवर्नर कॉन्फ्रेंस में PM मोदी बोले- शिक्षा नीति में सरकार का दखल कम होना चाहिए\\nhttps://t.co/ZvKgxk6dbd                                                                                                                                                                                                                                                                             non-hostile\n",
              "4    यूपी: गाजीपुर में Toilet घोटाला, प्रधान व सचिव ने किया लाखों का गबन, मुर्दों के नाम पर बनवा डाले शौचालय\\n\\n#UP\\nhttps://t.co/hxM1uNNmX2                                                                                                                                                                                                                                             non-hostile\n",
              "..                                                                                                                                       ...                                                                                                                                                                                                                                                     ...\n",
              "806  @ThePushpendra_ चंद फेंके हुए टुकड़ों के लिए हमेशा ही देश से गद्दारी को भौंकने तैयार\\nड्रग्स के नशे में पूरी तरह खोखले हो चुके दाऊद के गुलाम देशद्रोही गद्दार फिल्मी भांडों के भोंकने को भी मीडिया ब्रेकिंग न्यूज़ बना\\nइन दो कौड़ी के बिकाऊ नशेड़ी गद्दार कुत्तों को हीरो बना देती है\\nदेश की विडंबना😔                                                                             hate       \n",
              "807  आँखों ही आँखों में इशारा हो गया \\nबैठे बैठे जीने का सहारा हो गया 😉😉😉\\nनज़रों की इस मारक क्षमता को क्या कहगे। 👌 https://t.co/Mt5EMJhpJb                                                                                                                                                                                                                                              defamation \n",
              "808  औरंगाबाद में फिर धीरे-धीरे पांव पसार रहा कोरोना संक्रमण, पिछले 6 दिनों में मिले इतने नए मरीज\\n\\n#Bihar #Corona #Aurangabad \\n\\nhttps://t.co/usE3PbXXlm                                                                                                                                                                                                                              non-hostile\n",
              "809  बाइस्कोप: कादर के संवादों का कमाल, डिंपल की कलम का धमाल और तीन बत्ती के जग्गू का नाना संग असली बवाल\\n#bioscope #Angaar #ShashilalNair #DimpleKapadia\\n@bindasbhidu @nanagpatekar\\n\\nhttps://t.co/Lshm2G4qjO                                                                                                                                                                         non-hostile\n",
              "810  आखिरकार पॉन्डिचेरी विश्वविद्यालय के रामू नाम के भारतीय छात्र ने कोविड -19 के लिए एक घरेलू उपचार खोज लिया। WHO ने इसे स्वीकार भी कर लिया है। उन्होंने साबित किया है कि 1 बड़ा चम्मच काली मिर्च पाउडर में 2 टेबलस्पून शहद और कुछ जोड़कर लगातार 5 दिनों तक अदरक का रस कोरोना के प्रभाव को दबा देगा।\\n\\nसंपूर्ण विश्व इस उपाय को स्वीकार करने लगा है। अंत में एक अच्छी खबर 2020 में !!  fake       \n",
              "\n",
              "[811 rows x 2 columns]"
            ]
          },
          "metadata": {
            "tags": []
          },
          "execution_count": 33
        }
      ]
    },
    {
      "cell_type": "code",
      "metadata": {
        "id": "70W_tS6K4ZmW"
      },
      "source": [
        "test_df['Post'] = test_df['Post'].str.replace('http\\S+|www.\\S+|#\\S+|@\\S+', '', case=False)"
      ],
      "execution_count": 34,
      "outputs": []
    },
    {
      "cell_type": "markdown",
      "metadata": {
        "id": "itLACVYY3CiS"
      },
      "source": [
        "**Converting Labels Set column into a list**"
      ]
    },
    {
      "cell_type": "code",
      "metadata": {
        "id": "S-0fMl-k2Ft3"
      },
      "source": [
        "for i in range(len(data['Labels Set'])):\r\n",
        "    data['Labels Set'][i]=list(data['Labels Set'][i].split(','))\r\n",
        "for i in range(len(test_df['Labels Set'])):\r\n",
        "    test_df['Labels Set'][i]=list(test_df['Labels Set'][i].split(','))\r\n"
      ],
      "execution_count": 35,
      "outputs": []
    },
    {
      "cell_type": "markdown",
      "metadata": {
        "id": "IK7VbI0O3M0Q"
      },
      "source": [
        "**Converting labels of a given post into binary representation**"
      ]
    },
    {
      "cell_type": "code",
      "metadata": {
        "colab": {
          "base_uri": "https://localhost:8080/"
        },
        "id": "sw_gNvaC1rLx",
        "outputId": "68a887eb-1b8d-46c0-86ad-4ef0a8828615"
      },
      "source": [
        "from sklearn.feature_extraction.text import TfidfVectorizer\r\n",
        "from sklearn.preprocessing import MultiLabelBinarizer\r\n",
        "\r\n",
        "multilabel = MultiLabelBinarizer()\r\n",
        "y = multilabel.fit_transform(data['Labels Set'])\r\n",
        "y"
      ],
      "execution_count": 36,
      "outputs": [
        {
          "output_type": "execute_result",
          "data": {
            "text/plain": [
              "array([[0, 0, 1, 0, 1],\n",
              "       [0, 0, 0, 1, 0],\n",
              "       [0, 0, 0, 1, 0],\n",
              "       ...,\n",
              "       [0, 0, 0, 1, 0],\n",
              "       [0, 1, 0, 0, 0],\n",
              "       [0, 0, 0, 1, 0]])"
            ]
          },
          "metadata": {
            "tags": []
          },
          "execution_count": 36
        }
      ]
    },
    {
      "cell_type": "code",
      "metadata": {
        "colab": {
          "base_uri": "https://localhost:8080/"
        },
        "id": "jIgSJ9ci3pJ_",
        "outputId": "51377b59-eea5-4b57-ae16-d8e10af57806"
      },
      "source": [
        "multilabel.classes_\r\n"
      ],
      "execution_count": 37,
      "outputs": [
        {
          "output_type": "execute_result",
          "data": {
            "text/plain": [
              "array(['defamation', 'fake', 'hate', 'non-hostile', 'offensive'],\n",
              "      dtype=object)"
            ]
          },
          "metadata": {
            "tags": []
          },
          "execution_count": 37
        }
      ]
    },
    {
      "cell_type": "code",
      "metadata": {
        "colab": {
          "base_uri": "https://localhost:8080/",
          "height": 391
        },
        "id": "zVmQDdfN3qK7",
        "outputId": "c30cf831-d18d-4491-c4f4-28dd127642b9"
      },
      "source": [
        "train_result=pd.DataFrame(y, columns=multilabel.classes_)\r\n",
        "train_result = train_result.rename({'non-hostile': 'nh'}, axis=1)\r\n",
        "train_result"
      ],
      "execution_count": 38,
      "outputs": [
        {
          "output_type": "execute_result",
          "data": {
            "text/html": [
              "<div>\n",
              "<style scoped>\n",
              "    .dataframe tbody tr th:only-of-type {\n",
              "        vertical-align: middle;\n",
              "    }\n",
              "\n",
              "    .dataframe tbody tr th {\n",
              "        vertical-align: top;\n",
              "    }\n",
              "\n",
              "    .dataframe thead th {\n",
              "        text-align: right;\n",
              "    }\n",
              "</style>\n",
              "<table border=\"1\" class=\"dataframe\">\n",
              "  <thead>\n",
              "    <tr style=\"text-align: right;\">\n",
              "      <th></th>\n",
              "      <th>defamation</th>\n",
              "      <th>fake</th>\n",
              "      <th>hate</th>\n",
              "      <th>nh</th>\n",
              "      <th>offensive</th>\n",
              "    </tr>\n",
              "  </thead>\n",
              "  <tbody>\n",
              "    <tr>\n",
              "      <th>0</th>\n",
              "      <td>0</td>\n",
              "      <td>0</td>\n",
              "      <td>1</td>\n",
              "      <td>0</td>\n",
              "      <td>1</td>\n",
              "    </tr>\n",
              "    <tr>\n",
              "      <th>1</th>\n",
              "      <td>0</td>\n",
              "      <td>0</td>\n",
              "      <td>0</td>\n",
              "      <td>1</td>\n",
              "      <td>0</td>\n",
              "    </tr>\n",
              "    <tr>\n",
              "      <th>2</th>\n",
              "      <td>0</td>\n",
              "      <td>0</td>\n",
              "      <td>0</td>\n",
              "      <td>1</td>\n",
              "      <td>0</td>\n",
              "    </tr>\n",
              "    <tr>\n",
              "      <th>3</th>\n",
              "      <td>1</td>\n",
              "      <td>0</td>\n",
              "      <td>0</td>\n",
              "      <td>0</td>\n",
              "      <td>1</td>\n",
              "    </tr>\n",
              "    <tr>\n",
              "      <th>4</th>\n",
              "      <td>0</td>\n",
              "      <td>0</td>\n",
              "      <td>0</td>\n",
              "      <td>1</td>\n",
              "      <td>0</td>\n",
              "    </tr>\n",
              "    <tr>\n",
              "      <th>...</th>\n",
              "      <td>...</td>\n",
              "      <td>...</td>\n",
              "      <td>...</td>\n",
              "      <td>...</td>\n",
              "      <td>...</td>\n",
              "    </tr>\n",
              "    <tr>\n",
              "      <th>5713</th>\n",
              "      <td>0</td>\n",
              "      <td>0</td>\n",
              "      <td>1</td>\n",
              "      <td>0</td>\n",
              "      <td>0</td>\n",
              "    </tr>\n",
              "    <tr>\n",
              "      <th>5714</th>\n",
              "      <td>0</td>\n",
              "      <td>0</td>\n",
              "      <td>0</td>\n",
              "      <td>1</td>\n",
              "      <td>0</td>\n",
              "    </tr>\n",
              "    <tr>\n",
              "      <th>5715</th>\n",
              "      <td>0</td>\n",
              "      <td>0</td>\n",
              "      <td>0</td>\n",
              "      <td>1</td>\n",
              "      <td>0</td>\n",
              "    </tr>\n",
              "    <tr>\n",
              "      <th>5716</th>\n",
              "      <td>0</td>\n",
              "      <td>1</td>\n",
              "      <td>0</td>\n",
              "      <td>0</td>\n",
              "      <td>0</td>\n",
              "    </tr>\n",
              "    <tr>\n",
              "      <th>5717</th>\n",
              "      <td>0</td>\n",
              "      <td>0</td>\n",
              "      <td>0</td>\n",
              "      <td>1</td>\n",
              "      <td>0</td>\n",
              "    </tr>\n",
              "  </tbody>\n",
              "</table>\n",
              "<p>5718 rows × 5 columns</p>\n",
              "</div>"
            ],
            "text/plain": [
              "      defamation  fake  hate  nh  offensive\n",
              "0     0           0     1     0   1        \n",
              "1     0           0     0     1   0        \n",
              "2     0           0     0     1   0        \n",
              "3     1           0     0     0   1        \n",
              "4     0           0     0     1   0        \n",
              "...  ..          ..    ..    ..  ..        \n",
              "5713  0           0     1     0   0        \n",
              "5714  0           0     0     1   0        \n",
              "5715  0           0     0     1   0        \n",
              "5716  0           1     0     0   0        \n",
              "5717  0           0     0     1   0        \n",
              "\n",
              "[5718 rows x 5 columns]"
            ]
          },
          "metadata": {
            "tags": []
          },
          "execution_count": 38
        }
      ]
    },
    {
      "cell_type": "code",
      "metadata": {
        "colab": {
          "base_uri": "https://localhost:8080/",
          "height": 391
        },
        "id": "0m-C-aIi5z6x",
        "outputId": "c5a78acf-f08a-41c0-e964-8a684dcbbce2"
      },
      "source": [
        "te = multilabel.fit_transform(test_df['Labels Set'])\r\n",
        "te\r\n",
        "test_result=pd.DataFrame(te, columns=multilabel.classes_)\r\n",
        "test_result = test_result.rename({'non-hostile': 'nh'}, axis=1)\r\n",
        "test_result"
      ],
      "execution_count": 39,
      "outputs": [
        {
          "output_type": "execute_result",
          "data": {
            "text/html": [
              "<div>\n",
              "<style scoped>\n",
              "    .dataframe tbody tr th:only-of-type {\n",
              "        vertical-align: middle;\n",
              "    }\n",
              "\n",
              "    .dataframe tbody tr th {\n",
              "        vertical-align: top;\n",
              "    }\n",
              "\n",
              "    .dataframe thead th {\n",
              "        text-align: right;\n",
              "    }\n",
              "</style>\n",
              "<table border=\"1\" class=\"dataframe\">\n",
              "  <thead>\n",
              "    <tr style=\"text-align: right;\">\n",
              "      <th></th>\n",
              "      <th>defamation</th>\n",
              "      <th>fake</th>\n",
              "      <th>hate</th>\n",
              "      <th>nh</th>\n",
              "      <th>offensive</th>\n",
              "    </tr>\n",
              "  </thead>\n",
              "  <tbody>\n",
              "    <tr>\n",
              "      <th>0</th>\n",
              "      <td>0</td>\n",
              "      <td>0</td>\n",
              "      <td>0</td>\n",
              "      <td>1</td>\n",
              "      <td>0</td>\n",
              "    </tr>\n",
              "    <tr>\n",
              "      <th>1</th>\n",
              "      <td>1</td>\n",
              "      <td>0</td>\n",
              "      <td>0</td>\n",
              "      <td>0</td>\n",
              "      <td>0</td>\n",
              "    </tr>\n",
              "    <tr>\n",
              "      <th>2</th>\n",
              "      <td>0</td>\n",
              "      <td>0</td>\n",
              "      <td>0</td>\n",
              "      <td>1</td>\n",
              "      <td>0</td>\n",
              "    </tr>\n",
              "    <tr>\n",
              "      <th>3</th>\n",
              "      <td>0</td>\n",
              "      <td>0</td>\n",
              "      <td>0</td>\n",
              "      <td>1</td>\n",
              "      <td>0</td>\n",
              "    </tr>\n",
              "    <tr>\n",
              "      <th>4</th>\n",
              "      <td>0</td>\n",
              "      <td>0</td>\n",
              "      <td>0</td>\n",
              "      <td>1</td>\n",
              "      <td>0</td>\n",
              "    </tr>\n",
              "    <tr>\n",
              "      <th>...</th>\n",
              "      <td>...</td>\n",
              "      <td>...</td>\n",
              "      <td>...</td>\n",
              "      <td>...</td>\n",
              "      <td>...</td>\n",
              "    </tr>\n",
              "    <tr>\n",
              "      <th>806</th>\n",
              "      <td>0</td>\n",
              "      <td>0</td>\n",
              "      <td>1</td>\n",
              "      <td>0</td>\n",
              "      <td>0</td>\n",
              "    </tr>\n",
              "    <tr>\n",
              "      <th>807</th>\n",
              "      <td>1</td>\n",
              "      <td>0</td>\n",
              "      <td>0</td>\n",
              "      <td>0</td>\n",
              "      <td>0</td>\n",
              "    </tr>\n",
              "    <tr>\n",
              "      <th>808</th>\n",
              "      <td>0</td>\n",
              "      <td>0</td>\n",
              "      <td>0</td>\n",
              "      <td>1</td>\n",
              "      <td>0</td>\n",
              "    </tr>\n",
              "    <tr>\n",
              "      <th>809</th>\n",
              "      <td>0</td>\n",
              "      <td>0</td>\n",
              "      <td>0</td>\n",
              "      <td>1</td>\n",
              "      <td>0</td>\n",
              "    </tr>\n",
              "    <tr>\n",
              "      <th>810</th>\n",
              "      <td>0</td>\n",
              "      <td>1</td>\n",
              "      <td>0</td>\n",
              "      <td>0</td>\n",
              "      <td>0</td>\n",
              "    </tr>\n",
              "  </tbody>\n",
              "</table>\n",
              "<p>811 rows × 5 columns</p>\n",
              "</div>"
            ],
            "text/plain": [
              "     defamation  fake  hate  nh  offensive\n",
              "0    0           0     0     1   0        \n",
              "1    1           0     0     0   0        \n",
              "2    0           0     0     1   0        \n",
              "3    0           0     0     1   0        \n",
              "4    0           0     0     1   0        \n",
              "..  ..          ..    ..    ..  ..        \n",
              "806  0           0     1     0   0        \n",
              "807  1           0     0     0   0        \n",
              "808  0           0     0     1   0        \n",
              "809  0           0     0     1   0        \n",
              "810  0           1     0     0   0        \n",
              "\n",
              "[811 rows x 5 columns]"
            ]
          },
          "metadata": {
            "tags": []
          },
          "execution_count": 39
        }
      ]
    },
    {
      "cell_type": "code",
      "metadata": {
        "colab": {
          "base_uri": "https://localhost:8080/",
          "height": 423
        },
        "id": "YqPc3zNr6bd1",
        "outputId": "f76c05b7-25a2-4f47-f68b-ed771aaeb2b9"
      },
      "source": [
        "train_df = pd.concat([data, train_result], axis=1, sort=False)\r\n",
        "train_df"
      ],
      "execution_count": 40,
      "outputs": [
        {
          "output_type": "execute_result",
          "data": {
            "text/html": [
              "<div>\n",
              "<style scoped>\n",
              "    .dataframe tbody tr th:only-of-type {\n",
              "        vertical-align: middle;\n",
              "    }\n",
              "\n",
              "    .dataframe tbody tr th {\n",
              "        vertical-align: top;\n",
              "    }\n",
              "\n",
              "    .dataframe thead th {\n",
              "        text-align: right;\n",
              "    }\n",
              "</style>\n",
              "<table border=\"1\" class=\"dataframe\">\n",
              "  <thead>\n",
              "    <tr style=\"text-align: right;\">\n",
              "      <th></th>\n",
              "      <th>Post</th>\n",
              "      <th>Labels Set</th>\n",
              "      <th>defamation</th>\n",
              "      <th>fake</th>\n",
              "      <th>hate</th>\n",
              "      <th>nh</th>\n",
              "      <th>offensive</th>\n",
              "    </tr>\n",
              "  </thead>\n",
              "  <tbody>\n",
              "    <tr>\n",
              "      <th>0</th>\n",
              "      <td>मेरे देश के हिन्दु बहुत निराले है। कुछ तो पक्के राम भक्त है और कुछ बाबर के साले है \\n\\n🙏 जय श्री राम 🙏</td>\n",
              "      <td>[hate, offensive]</td>\n",
              "      <td>0</td>\n",
              "      <td>0</td>\n",
              "      <td>1</td>\n",
              "      <td>0</td>\n",
              "      <td>1</td>\n",
              "    </tr>\n",
              "    <tr>\n",
              "      <th>1</th>\n",
              "      <td>सरकार हमेशा से किसानों की कमाई को बढ़ाने के लिए नई-नई स्कीमें लाती रहती है, ताकि उन पर ज्यादा आर्थिक बोझ न पड़े.\\n\\n</td>\n",
              "      <td>[non-hostile]</td>\n",
              "      <td>0</td>\n",
              "      <td>0</td>\n",
              "      <td>0</td>\n",
              "      <td>1</td>\n",
              "      <td>0</td>\n",
              "    </tr>\n",
              "    <tr>\n",
              "      <th>2</th>\n",
              "      <td>सुशांत ने जो बिजनेस डील 9 जून को की थी, वो डील दीपेश को सुशांत की हत्या के दिन ही क्यों याद आई? देखिए 'पूछता है भारत' अर्नब के साथ रिपब्लिक भारत पर  :</td>\n",
              "      <td>[non-hostile]</td>\n",
              "      <td>0</td>\n",
              "      <td>0</td>\n",
              "      <td>0</td>\n",
              "      <td>1</td>\n",
              "      <td>0</td>\n",
              "    </tr>\n",
              "    <tr>\n",
              "      <th>3</th>\n",
              "      <td>साले जेएनयू छाप कमिने लोग हिन्दुओं को यह कहते है की संविधान सबको बराबर अधिकार देता है। सच्चाई यह है कि यह बराबर अधिकार नहीं देता है।</td>\n",
              "      <td>[defamation, offensive]</td>\n",
              "      <td>1</td>\n",
              "      <td>0</td>\n",
              "      <td>0</td>\n",
              "      <td>0</td>\n",
              "      <td>1</td>\n",
              "    </tr>\n",
              "    <tr>\n",
              "      <th>4</th>\n",
              "      <td>- अनलॉक-4 के लिए गाइडलाइन्स जारी\\n\\n- 7 सितंबर से देशभर में मेट्रो सेवा शुरु होगी\\n- 21 सितंबर के बाद रैलियों और बाकी फंक्शन में 100 लोगों को इजाजत\\n- कंटेनमेंट जोन में कोई छूट नहीं\\n- सिनेमाहॉल अभी बंद रहेंगे\\n- 9 से 12वीं के छात्र 21 सितंबर के बाद स्कूल जा सकेंगे.</td>\n",
              "      <td>[non-hostile]</td>\n",
              "      <td>0</td>\n",
              "      <td>0</td>\n",
              "      <td>0</td>\n",
              "      <td>1</td>\n",
              "      <td>0</td>\n",
              "    </tr>\n",
              "    <tr>\n",
              "      <th>...</th>\n",
              "      <td>...</td>\n",
              "      <td>...</td>\n",
              "      <td>...</td>\n",
              "      <td>...</td>\n",
              "      <td>...</td>\n",
              "      <td>...</td>\n",
              "      <td>...</td>\n",
              "    </tr>\n",
              "    <tr>\n",
              "      <th>5713</th>\n",
              "      <td>उदितराज जी हिम्मत  जुटा कर उस नेता के लिए कुछ कह दीजिये जिसके स्वागत में मुंबई स्टेशन पर पाकिस्तान जिंदाबाद के नारे लगे विरोध कर दें मान्य होगा की आप देशभक्त हैं वरना अनर्गल प्रलाप न करें</td>\n",
              "      <td>[hate]</td>\n",
              "      <td>0</td>\n",
              "      <td>0</td>\n",
              "      <td>1</td>\n",
              "      <td>0</td>\n",
              "      <td>0</td>\n",
              "    </tr>\n",
              "    <tr>\n",
              "      <th>5714</th>\n",
              "      <td>उप्र: पीएम रिपोर्ट में खुलासा: हार्टअटैक से हुई थी पूर्व विधायक निर्वेंद्र की मौत; शरीर पर नहीं मिले चोट के निशान, बेटे ने पिटाई कर हत्या का दावा किया था\\n</td>\n",
              "      <td>[non-hostile]</td>\n",
              "      <td>0</td>\n",
              "      <td>0</td>\n",
              "      <td>0</td>\n",
              "      <td>1</td>\n",
              "      <td>0</td>\n",
              "    </tr>\n",
              "    <tr>\n",
              "      <th>5715</th>\n",
              "      <td>नौकरी गंवा चुके दोस्त की मदद: नगद के बजाए गिफ्ट कार्ड देने के बारे में सोचें, चुका सकते हैं नेटफ्लिक्स और जिम की फीस; हालचाल जानें, लेकिन ज्यादा नहीं</td>\n",
              "      <td>[non-hostile]</td>\n",
              "      <td>0</td>\n",
              "      <td>0</td>\n",
              "      <td>0</td>\n",
              "      <td>1</td>\n",
              "      <td>0</td>\n",
              "    </tr>\n",
              "    <tr>\n",
              "      <th>5716</th>\n",
              "      <td>बंगाल में हिन्दू मरे हैं इसलिए मुझे कोई फर्क नहीं पड़ता – कुमार\\n\\n</td>\n",
              "      <td>[fake]</td>\n",
              "      <td>0</td>\n",
              "      <td>1</td>\n",
              "      <td>0</td>\n",
              "      <td>0</td>\n",
              "      <td>0</td>\n",
              "    </tr>\n",
              "    <tr>\n",
              "      <th>5717</th>\n",
              "      <td>रक्षा मंत्री  ने पूर्व राष्ट्रपति  के निधन पर शोक व्यक्त किया\\n\\nविवरण :</td>\n",
              "      <td>[non-hostile]</td>\n",
              "      <td>0</td>\n",
              "      <td>0</td>\n",
              "      <td>0</td>\n",
              "      <td>1</td>\n",
              "      <td>0</td>\n",
              "    </tr>\n",
              "  </tbody>\n",
              "</table>\n",
              "<p>5718 rows × 7 columns</p>\n",
              "</div>"
            ],
            "text/plain": [
              "                                                                                                                                                                                                                                                                              Post  ... offensive\n",
              "0     मेरे देश के हिन्दु बहुत निराले है। कुछ तो पक्के राम भक्त है और कुछ बाबर के साले है \\n\\n🙏 जय श्री राम 🙏                                                                                                                                                                        ...  1       \n",
              "1     सरकार हमेशा से किसानों की कमाई को बढ़ाने के लिए नई-नई स्कीमें लाती रहती है, ताकि उन पर ज्यादा आर्थिक बोझ न पड़े.\\n\\n                                                                                                                                                          ...  0       \n",
              "2     सुशांत ने जो बिजनेस डील 9 जून को की थी, वो डील दीपेश को सुशांत की हत्या के दिन ही क्यों याद आई? देखिए 'पूछता है भारत' अर्नब के साथ रिपब्लिक भारत पर  :                                                                                                                        ...  0       \n",
              "3      साले जेएनयू छाप कमिने लोग हिन्दुओं को यह कहते है की संविधान सबको बराबर अधिकार देता है। सच्चाई यह है कि यह बराबर अधिकार नहीं देता है।                                                                                                                                         ...  1       \n",
              "4      - अनलॉक-4 के लिए गाइडलाइन्स जारी\\n\\n- 7 सितंबर से देशभर में मेट्रो सेवा शुरु होगी\\n- 21 सितंबर के बाद रैलियों और बाकी फंक्शन में 100 लोगों को इजाजत\\n- कंटेनमेंट जोन में कोई छूट नहीं\\n- सिनेमाहॉल अभी बंद रहेंगे\\n- 9 से 12वीं के छात्र 21 सितंबर के बाद स्कूल जा सकेंगे.   ...  0       \n",
              "...                                                                                                                                                                                                                                                                            ...  ... ..       \n",
              "5713  उदितराज जी हिम्मत  जुटा कर उस नेता के लिए कुछ कह दीजिये जिसके स्वागत में मुंबई स्टेशन पर पाकिस्तान जिंदाबाद के नारे लगे विरोध कर दें मान्य होगा की आप देशभक्त हैं वरना अनर्गल प्रलाप न करें                                                                                   ...  0       \n",
              "5714  उप्र: पीएम रिपोर्ट में खुलासा: हार्टअटैक से हुई थी पूर्व विधायक निर्वेंद्र की मौत; शरीर पर नहीं मिले चोट के निशान, बेटे ने पिटाई कर हत्या का दावा किया था\\n                                                                                                                   ...  0       \n",
              "5715  नौकरी गंवा चुके दोस्त की मदद: नगद के बजाए गिफ्ट कार्ड देने के बारे में सोचें, चुका सकते हैं नेटफ्लिक्स और जिम की फीस; हालचाल जानें, लेकिन ज्यादा नहीं                                                                                                                         ...  0       \n",
              "5716  बंगाल में हिन्दू मरे हैं इसलिए मुझे कोई फर्क नहीं पड़ता – कुमार\\n\\n                                                                                                                                                                                                           ...  0       \n",
              "5717  रक्षा मंत्री  ने पूर्व राष्ट्रपति  के निधन पर शोक व्यक्त किया\\n\\nविवरण :                                                                                                                                                                                                      ...  0       \n",
              "\n",
              "[5718 rows x 7 columns]"
            ]
          },
          "metadata": {
            "tags": []
          },
          "execution_count": 40
        }
      ]
    },
    {
      "cell_type": "code",
      "metadata": {
        "colab": {
          "base_uri": "https://localhost:8080/",
          "height": 456
        },
        "id": "M8m_xqRo61QH",
        "outputId": "7eb2ce46-0883-4441-ad0f-3560ad7a7cbd"
      },
      "source": [
        "test_df = pd.concat([test_df, test_result], axis=1, sort=False)\r\n",
        "test_df"
      ],
      "execution_count": 41,
      "outputs": [
        {
          "output_type": "execute_result",
          "data": {
            "text/html": [
              "<div>\n",
              "<style scoped>\n",
              "    .dataframe tbody tr th:only-of-type {\n",
              "        vertical-align: middle;\n",
              "    }\n",
              "\n",
              "    .dataframe tbody tr th {\n",
              "        vertical-align: top;\n",
              "    }\n",
              "\n",
              "    .dataframe thead th {\n",
              "        text-align: right;\n",
              "    }\n",
              "</style>\n",
              "<table border=\"1\" class=\"dataframe\">\n",
              "  <thead>\n",
              "    <tr style=\"text-align: right;\">\n",
              "      <th></th>\n",
              "      <th>Post</th>\n",
              "      <th>Labels Set</th>\n",
              "      <th>defamation</th>\n",
              "      <th>fake</th>\n",
              "      <th>hate</th>\n",
              "      <th>nh</th>\n",
              "      <th>offensive</th>\n",
              "    </tr>\n",
              "  </thead>\n",
              "  <tbody>\n",
              "    <tr>\n",
              "      <th>0</th>\n",
              "      <td>दृढ़ इच्छा शक्ति से परिपूर्ण प्रणबदा के लिए देशहित सर्वोच्च रहा।\\n\\nउनका निधन हम सब के लिए अपूरणीय क्षति है।\\nईश्वर दिवंगत आत्मा को अपने श्रीचरणों में स्थान दें। शोक संतप्त परिजनों के प्रति संवेदनाएं।\\nऊं शांति!!!</td>\n",
              "      <td>[non-hostile]</td>\n",
              "      <td>0</td>\n",
              "      <td>0</td>\n",
              "      <td>0</td>\n",
              "      <td>1</td>\n",
              "      <td>0</td>\n",
              "    </tr>\n",
              "    <tr>\n",
              "      <th>1</th>\n",
              "      <td>भारतीय जनता पार्टी rss वाले इतने गिरे हुए हैं जहां मैं रहती हूं वहां मेरी जासूसी  करा रहें है उसकी जासूस की पहचान मुझे अच्छी तरह है rss बीजेपी वाले की जासूस दिल्ली में कौन है उत्तर प्रदेश में कौन है हरियाणा राजस्थान में कौन है सबकी पहचान है मुझे मेरी नजर से बच नहीं सकते हो</td>\n",
              "      <td>[defamation]</td>\n",
              "      <td>1</td>\n",
              "      <td>0</td>\n",
              "      <td>0</td>\n",
              "      <td>0</td>\n",
              "      <td>0</td>\n",
              "    </tr>\n",
              "    <tr>\n",
              "      <th>2</th>\n",
              "      <td>कोरोना से निपटने की तैयारी / दिल्ली में 10 हजार बेड वाला दुनिया का सबसे बड़ा कोविड केयर सेंटर शुरू, राजनाथ-शाह ने डीआरडीओ के 1 हजार बेड वाले सेंटर का भी उद्घाटन किया\\n</td>\n",
              "      <td>[non-hostile]</td>\n",
              "      <td>0</td>\n",
              "      <td>0</td>\n",
              "      <td>0</td>\n",
              "      <td>1</td>\n",
              "      <td>0</td>\n",
              "    </tr>\n",
              "    <tr>\n",
              "      <th>3</th>\n",
              "      <td>गवर्नर कॉन्फ्रेंस में PM मोदी बोले- शिक्षा नीति में सरकार का दखल कम होना चाहिए\\n</td>\n",
              "      <td>[non-hostile]</td>\n",
              "      <td>0</td>\n",
              "      <td>0</td>\n",
              "      <td>0</td>\n",
              "      <td>1</td>\n",
              "      <td>0</td>\n",
              "    </tr>\n",
              "    <tr>\n",
              "      <th>4</th>\n",
              "      <td>यूपी: गाजीपुर में Toilet घोटाला, प्रधान व सचिव ने किया लाखों का गबन, मुर्दों के नाम पर बनवा डाले शौचालय\\n\\n\\n</td>\n",
              "      <td>[non-hostile]</td>\n",
              "      <td>0</td>\n",
              "      <td>0</td>\n",
              "      <td>0</td>\n",
              "      <td>1</td>\n",
              "      <td>0</td>\n",
              "    </tr>\n",
              "    <tr>\n",
              "      <th>...</th>\n",
              "      <td>...</td>\n",
              "      <td>...</td>\n",
              "      <td>...</td>\n",
              "      <td>...</td>\n",
              "      <td>...</td>\n",
              "      <td>...</td>\n",
              "      <td>...</td>\n",
              "    </tr>\n",
              "    <tr>\n",
              "      <th>806</th>\n",
              "      <td>चंद फेंके हुए टुकड़ों के लिए हमेशा ही देश से गद्दारी को भौंकने तैयार\\nड्रग्स के नशे में पूरी तरह खोखले हो चुके दाऊद के गुलाम देशद्रोही गद्दार फिल्मी भांडों के भोंकने को भी मीडिया ब्रेकिंग न्यूज़ बना\\nइन दो कौड़ी के बिकाऊ नशेड़ी गद्दार कुत्तों को हीरो बना देती है\\nदेश की विडंबना😔</td>\n",
              "      <td>[hate]</td>\n",
              "      <td>0</td>\n",
              "      <td>0</td>\n",
              "      <td>1</td>\n",
              "      <td>0</td>\n",
              "      <td>0</td>\n",
              "    </tr>\n",
              "    <tr>\n",
              "      <th>807</th>\n",
              "      <td>आँखों ही आँखों में इशारा हो गया \\nबैठे बैठे जीने का सहारा हो गया 😉😉😉\\nनज़रों की इस मारक क्षमता को क्या कहगे। 👌</td>\n",
              "      <td>[defamation]</td>\n",
              "      <td>1</td>\n",
              "      <td>0</td>\n",
              "      <td>0</td>\n",
              "      <td>0</td>\n",
              "      <td>0</td>\n",
              "    </tr>\n",
              "    <tr>\n",
              "      <th>808</th>\n",
              "      <td>औरंगाबाद में फिर धीरे-धीरे पांव पसार रहा कोरोना संक्रमण, पिछले 6 दिनों में मिले इतने नए मरीज\\n\\n   \\n\\n</td>\n",
              "      <td>[non-hostile]</td>\n",
              "      <td>0</td>\n",
              "      <td>0</td>\n",
              "      <td>0</td>\n",
              "      <td>1</td>\n",
              "      <td>0</td>\n",
              "    </tr>\n",
              "    <tr>\n",
              "      <th>809</th>\n",
              "      <td>बाइस्कोप: कादर के संवादों का कमाल, डिंपल की कलम का धमाल और तीन बत्ती के जग्गू का नाना संग असली बवाल\\n   \\n \\n\\n</td>\n",
              "      <td>[non-hostile]</td>\n",
              "      <td>0</td>\n",
              "      <td>0</td>\n",
              "      <td>0</td>\n",
              "      <td>1</td>\n",
              "      <td>0</td>\n",
              "    </tr>\n",
              "    <tr>\n",
              "      <th>810</th>\n",
              "      <td>आखिरकार पॉन्डिचेरी विश्वविद्यालय के रामू नाम के भारतीय छात्र ने कोविड -19 के लिए एक घरेलू उपचार खोज लिया। WHO ने इसे स्वीकार भी कर लिया है। उन्होंने साबित किया है कि 1 बड़ा चम्मच काली मिर्च पाउडर में 2 टेबलस्पून शहद और कुछ जोड़कर लगातार 5 दिनों तक अदरक का रस कोरोना के प्रभाव को दबा देगा।\\n\\nसंपूर्ण विश्व इस उपाय को स्वीकार करने लगा है। अंत में एक अच्छी खबर 2020 में !!</td>\n",
              "      <td>[fake]</td>\n",
              "      <td>0</td>\n",
              "      <td>1</td>\n",
              "      <td>0</td>\n",
              "      <td>0</td>\n",
              "      <td>0</td>\n",
              "    </tr>\n",
              "  </tbody>\n",
              "</table>\n",
              "<p>811 rows × 7 columns</p>\n",
              "</div>"
            ],
            "text/plain": [
              "                                                                                                                                                                                                                                                                                                                                                                                   Post  ... offensive\n",
              "0    दृढ़ इच्छा शक्ति से परिपूर्ण प्रणबदा के लिए देशहित सर्वोच्च रहा।\\n\\nउनका निधन हम सब के लिए अपूरणीय क्षति है।\\nईश्वर दिवंगत आत्मा को अपने श्रीचरणों में स्थान दें। शोक संतप्त परिजनों के प्रति संवेदनाएं।\\nऊं शांति!!!                                                                                                                                                               ...  0       \n",
              "1    भारतीय जनता पार्टी rss वाले इतने गिरे हुए हैं जहां मैं रहती हूं वहां मेरी जासूसी  करा रहें है उसकी जासूस की पहचान मुझे अच्छी तरह है rss बीजेपी वाले की जासूस दिल्ली में कौन है उत्तर प्रदेश में कौन है हरियाणा राजस्थान में कौन है सबकी पहचान है मुझे मेरी नजर से बच नहीं सकते हो                                                                                                   ...  0       \n",
              "2    कोरोना से निपटने की तैयारी / दिल्ली में 10 हजार बेड वाला दुनिया का सबसे बड़ा कोविड केयर सेंटर शुरू, राजनाथ-शाह ने डीआरडीओ के 1 हजार बेड वाले सेंटर का भी उद्घाटन किया\\n                                                                                                                                                                                                             ...  0       \n",
              "3    गवर्नर कॉन्फ्रेंस में PM मोदी बोले- शिक्षा नीति में सरकार का दखल कम होना चाहिए\\n                                                                                                                                                                                                                                                                                                    ...  0       \n",
              "4    यूपी: गाजीपुर में Toilet घोटाला, प्रधान व सचिव ने किया लाखों का गबन, मुर्दों के नाम पर बनवा डाले शौचालय\\n\\n\\n                                                                                                                                                                                                                                                                       ...  0       \n",
              "..                                                                                                             ...                                                                                                                                                                                                                                                                       ... ..       \n",
              "806   चंद फेंके हुए टुकड़ों के लिए हमेशा ही देश से गद्दारी को भौंकने तैयार\\nड्रग्स के नशे में पूरी तरह खोखले हो चुके दाऊद के गुलाम देशद्रोही गद्दार फिल्मी भांडों के भोंकने को भी मीडिया ब्रेकिंग न्यूज़ बना\\nइन दो कौड़ी के बिकाऊ नशेड़ी गद्दार कुत्तों को हीरो बना देती है\\nदेश की विडंबना😔                                                                                            ...  0       \n",
              "807  आँखों ही आँखों में इशारा हो गया \\nबैठे बैठे जीने का सहारा हो गया 😉😉😉\\nनज़रों की इस मारक क्षमता को क्या कहगे। 👌                                                                                                                                                                                                                                                                      ...  0       \n",
              "808  औरंगाबाद में फिर धीरे-धीरे पांव पसार रहा कोरोना संक्रमण, पिछले 6 दिनों में मिले इतने नए मरीज\\n\\n   \\n\\n                                                                                                                                                                                                                                                                             ...  0       \n",
              "809  बाइस्कोप: कादर के संवादों का कमाल, डिंपल की कलम का धमाल और तीन बत्ती के जग्गू का नाना संग असली बवाल\\n   \\n \\n\\n                                                                                                                                                                                                                                                                     ...  0       \n",
              "810  आखिरकार पॉन्डिचेरी विश्वविद्यालय के रामू नाम के भारतीय छात्र ने कोविड -19 के लिए एक घरेलू उपचार खोज लिया। WHO ने इसे स्वीकार भी कर लिया है। उन्होंने साबित किया है कि 1 बड़ा चम्मच काली मिर्च पाउडर में 2 टेबलस्पून शहद और कुछ जोड़कर लगातार 5 दिनों तक अदरक का रस कोरोना के प्रभाव को दबा देगा।\\n\\nसंपूर्ण विश्व इस उपाय को स्वीकार करने लगा है। अंत में एक अच्छी खबर 2020 में !!  ...  0       \n",
              "\n",
              "[811 rows x 7 columns]"
            ]
          },
          "metadata": {
            "tags": []
          },
          "execution_count": 41
        }
      ]
    },
    {
      "cell_type": "code",
      "metadata": {
        "id": "eARNLMBw7E5R"
      },
      "source": [
        "from sklearn.feature_extraction.text import CountVectorizer"
      ],
      "execution_count": 42,
      "outputs": []
    },
    {
      "cell_type": "markdown",
      "metadata": {
        "id": "KbXJLwWA3uUy"
      },
      "source": [
        "**Vectorization of all the Post**"
      ]
    },
    {
      "cell_type": "code",
      "metadata": {
        "id": "hZD4jb9P7ILL"
      },
      "source": [
        "vectorizer = CountVectorizer(binary=True)\r\n",
        "\r\n",
        "vectorizer.fit(list(train_df['Post']) + list(test_df['Post']))\r\n",
        "\r\n",
        "\r\n",
        "x_train_vec = vectorizer.transform(train_df['Post'])\r\n",
        "x_test_vec = vectorizer.transform(test_df['Post'])"
      ],
      "execution_count": 43,
      "outputs": []
    },
    {
      "cell_type": "markdown",
      "metadata": {
        "id": "xz9JgzBX33f9"
      },
      "source": [
        "**Model building with SVM and tf-idf**"
      ]
    },
    {
      "cell_type": "code",
      "metadata": {
        "id": "6sh0fZ2n8fxi"
      },
      "source": [
        "from sklearn import svm\r\n",
        "# classify using support vector classifier\r\n",
        "svm1 = svm.SVC(kernel = 'linear', probability=True)\r\n",
        "\r\n",
        "# fit the SVC model based on the given training data\r\n",
        "svm1.fit(x_train_vec, train_df.nh.values)\r\n",
        "\r\n",
        "# perform classification and prediction on samples in x_test\r\n",
        "y_pred_svm1 = svm1.predict(x_test_vec)"
      ],
      "execution_count": 44,
      "outputs": []
    },
    {
      "cell_type": "code",
      "metadata": {
        "id": "6LEIpYLI9ibc"
      },
      "source": [
        "from sklearn.metrics import classification_report\r\n",
        "print(classification_report(y_pred_svm1,test_df.nh.values))"
      ],
      "execution_count": null,
      "outputs": []
    },
    {
      "cell_type": "markdown",
      "metadata": {
        "id": "B1hV6Jln4KPd"
      },
      "source": [
        "**Model building with Random Forest and tf-idf**"
      ]
    },
    {
      "cell_type": "code",
      "metadata": {
        "id": "_NiFEgQW-Wn4"
      },
      "source": [
        "from sklearn.ensemble import RandomForestClassifier\r\n",
        "\r\n",
        "rfc_model = RandomForestClassifier(n_estimators=400,random_state=0)\r\n",
        "rfc_model.fit(x_train_vec, train_df.nh.values)\r\n",
        "\r\n",
        "y_pred_rfc = rfc_model.predict(x_test_vec)\r\n"
      ],
      "execution_count": 46,
      "outputs": []
    },
    {
      "cell_type": "code",
      "metadata": {
        "id": "yNHWsjWiAR2l"
      },
      "source": [
        "print(classification_report(y_pred_rfc,test_df.nh.values))"
      ],
      "execution_count": null,
      "outputs": []
    },
    {
      "cell_type": "markdown",
      "metadata": {
        "id": "8kNRg2JN4Sp4"
      },
      "source": [
        "**m-BERT**"
      ]
    },
    {
      "cell_type": "code",
      "metadata": {
        "colab": {
          "base_uri": "https://localhost:8080/",
          "height": 961
        },
        "id": "RK3gjP4mAubK",
        "outputId": "4870c435-3b50-4c8d-91c4-35b75d5d9371"
      },
      "source": [
        "!pip install bert-embedding"
      ],
      "execution_count": 44,
      "outputs": [
        {
          "output_type": "stream",
          "text": [
            "Collecting bert-embedding\n",
            "  Downloading https://files.pythonhosted.org/packages/62/85/e0d56e29a055d8b3ba6da6e52afe404f209453057de95b90c01475c3ff75/bert_embedding-1.0.1-py3-none-any.whl\n",
            "Collecting typing==3.6.6\n",
            "  Downloading https://files.pythonhosted.org/packages/4a/bd/eee1157fc2d8514970b345d69cb9975dcd1e42cd7e61146ed841f6e68309/typing-3.6.6-py3-none-any.whl\n",
            "Collecting mxnet==1.4.0\n",
            "\u001b[?25l  Downloading https://files.pythonhosted.org/packages/c0/e9/241aadccc4522f99adee5b6043f730d58adb7c001e0a68865a3728c3b4ae/mxnet-1.4.0-py2.py3-none-manylinux1_x86_64.whl (29.6MB)\n",
            "\u001b[K     |████████████████████████████████| 29.6MB 111kB/s \n",
            "\u001b[?25hCollecting numpy==1.14.6\n",
            "\u001b[?25l  Downloading https://files.pythonhosted.org/packages/18/84/49b7f268741119328aeee0802aafb9bc2e164b36fc312daf83af95dae646/numpy-1.14.6-cp37-cp37m-manylinux1_x86_64.whl (13.8MB)\n",
            "\u001b[K     |████████████████████████████████| 13.8MB 236kB/s \n",
            "\u001b[?25hCollecting gluonnlp==0.6.0\n",
            "\u001b[?25l  Downloading https://files.pythonhosted.org/packages/e2/07/037585c23bccec19ce333b402997d98b09e43cc8d2d86dc810d57249c5ff/gluonnlp-0.6.0.tar.gz (209kB)\n",
            "\u001b[K     |████████████████████████████████| 215kB 47.5MB/s \n",
            "\u001b[?25hRequirement already satisfied: requests>=2.20.0 in /usr/local/lib/python3.7/dist-packages (from mxnet==1.4.0->bert-embedding) (2.23.0)\n",
            "Collecting graphviz<0.9.0,>=0.8.1\n",
            "  Downloading https://files.pythonhosted.org/packages/53/39/4ab213673844e0c004bed8a0781a0721a3f6bb23eb8854ee75c236428892/graphviz-0.8.4-py2.py3-none-any.whl\n",
            "Requirement already satisfied: idna<3,>=2.5 in /usr/local/lib/python3.7/dist-packages (from requests>=2.20.0->mxnet==1.4.0->bert-embedding) (2.10)\n",
            "Requirement already satisfied: certifi>=2017.4.17 in /usr/local/lib/python3.7/dist-packages (from requests>=2.20.0->mxnet==1.4.0->bert-embedding) (2020.12.5)\n",
            "Requirement already satisfied: urllib3!=1.25.0,!=1.25.1,<1.26,>=1.21.1 in /usr/local/lib/python3.7/dist-packages (from requests>=2.20.0->mxnet==1.4.0->bert-embedding) (1.24.3)\n",
            "Requirement already satisfied: chardet<4,>=3.0.2 in /usr/local/lib/python3.7/dist-packages (from requests>=2.20.0->mxnet==1.4.0->bert-embedding) (3.0.4)\n",
            "Building wheels for collected packages: gluonnlp\n",
            "  Building wheel for gluonnlp (setup.py) ... \u001b[?25l\u001b[?25hdone\n",
            "  Created wheel for gluonnlp: filename=gluonnlp-0.6.0-cp37-none-any.whl size=259918 sha256=cfc9b37123fd420af7e79073ffd5b69426bd038a2f6d5c82846f29c1b2d493c1\n",
            "  Stored in directory: /root/.cache/pip/wheels/ff/48/ac/a77c79aa416ba6dd7bf487f2280b0471034f66141617965914\n",
            "Successfully built gluonnlp\n",
            "\u001b[31mERROR: xarray 0.15.1 has requirement numpy>=1.15, but you'll have numpy 1.14.6 which is incompatible.\u001b[0m\n",
            "\u001b[31mERROR: umap-learn 0.5.1 has requirement numpy>=1.17, but you'll have numpy 1.14.6 which is incompatible.\u001b[0m\n",
            "\u001b[31mERROR: tifffile 2021.2.26 has requirement numpy>=1.15.1, but you'll have numpy 1.14.6 which is incompatible.\u001b[0m\n",
            "\u001b[31mERROR: tensorflow 2.4.1 has requirement numpy~=1.19.2, but you'll have numpy 1.14.6 which is incompatible.\u001b[0m\n",
            "\u001b[31mERROR: spacy 2.2.4 has requirement numpy>=1.15.0, but you'll have numpy 1.14.6 which is incompatible.\u001b[0m\n",
            "\u001b[31mERROR: seaborn 0.11.1 has requirement numpy>=1.15, but you'll have numpy 1.14.6 which is incompatible.\u001b[0m\n",
            "\u001b[31mERROR: pyerfa 1.7.2 has requirement numpy>=1.16, but you'll have numpy 1.14.6 which is incompatible.\u001b[0m\n",
            "\u001b[31mERROR: pyarrow 3.0.0 has requirement numpy>=1.16.6, but you'll have numpy 1.14.6 which is incompatible.\u001b[0m\n",
            "\u001b[31mERROR: plotnine 0.6.0 has requirement numpy>=1.16.0, but you'll have numpy 1.14.6 which is incompatible.\u001b[0m\n",
            "\u001b[31mERROR: pandas 1.1.5 has requirement numpy>=1.15.4, but you'll have numpy 1.14.6 which is incompatible.\u001b[0m\n",
            "\u001b[31mERROR: numba 0.51.2 has requirement numpy>=1.15, but you'll have numpy 1.14.6 which is incompatible.\u001b[0m\n",
            "\u001b[31mERROR: librosa 0.8.0 has requirement numpy>=1.15.0, but you'll have numpy 1.14.6 which is incompatible.\u001b[0m\n",
            "\u001b[31mERROR: imgaug 0.2.9 has requirement numpy>=1.15.0, but you'll have numpy 1.14.6 which is incompatible.\u001b[0m\n",
            "\u001b[31mERROR: fbprophet 0.7.1 has requirement numpy>=1.15.4, but you'll have numpy 1.14.6 which is incompatible.\u001b[0m\n",
            "\u001b[31mERROR: fastai 1.0.61 has requirement numpy>=1.15, but you'll have numpy 1.14.6 which is incompatible.\u001b[0m\n",
            "\u001b[31mERROR: datascience 0.10.6 has requirement folium==0.2.1, but you'll have folium 0.8.3 which is incompatible.\u001b[0m\n",
            "\u001b[31mERROR: cvxpy 1.0.31 has requirement numpy>=1.15, but you'll have numpy 1.14.6 which is incompatible.\u001b[0m\n",
            "\u001b[31mERROR: blis 0.4.1 has requirement numpy>=1.15.0, but you'll have numpy 1.14.6 which is incompatible.\u001b[0m\n",
            "\u001b[31mERROR: astropy 4.2 has requirement numpy>=1.17, but you'll have numpy 1.14.6 which is incompatible.\u001b[0m\n",
            "\u001b[31mERROR: albumentations 0.1.12 has requirement imgaug<0.2.7,>=0.2.5, but you'll have imgaug 0.2.9 which is incompatible.\u001b[0m\n",
            "Installing collected packages: typing, graphviz, numpy, mxnet, gluonnlp, bert-embedding\n",
            "  Found existing installation: graphviz 0.10.1\n",
            "    Uninstalling graphviz-0.10.1:\n",
            "      Successfully uninstalled graphviz-0.10.1\n",
            "  Found existing installation: numpy 1.19.5\n",
            "    Uninstalling numpy-1.19.5:\n",
            "      Successfully uninstalled numpy-1.19.5\n",
            "Successfully installed bert-embedding-1.0.1 gluonnlp-0.6.0 graphviz-0.8.4 mxnet-1.4.0 numpy-1.14.6 typing-3.6.6\n"
          ],
          "name": "stdout"
        },
        {
          "output_type": "display_data",
          "data": {
            "application/vnd.colab-display-data+json": {
              "pip_warning": {
                "packages": [
                  "numpy",
                  "typing"
                ]
              }
            }
          },
          "metadata": {
            "tags": []
          }
        }
      ]
    },
    {
      "cell_type": "code",
      "metadata": {
        "colab": {
          "base_uri": "https://localhost:8080/",
          "height": 473
        },
        "id": "N8v28DY2CR9K",
        "outputId": "6814bfd9-9e51-462c-b9c4-35210ca0fe9d"
      },
      "source": [
        "!pip install mxnet-cu100"
      ],
      "execution_count": 45,
      "outputs": [
        {
          "output_type": "stream",
          "text": [
            "Collecting mxnet-cu100\n",
            "\u001b[?25l  Downloading https://files.pythonhosted.org/packages/cf/49/2876c87397592fdb2cca87928d538c9969adb7d271927ef36cb69d62fc63/mxnet_cu100-1.7.0-py2.py3-none-manylinux2014_x86_64.whl (827.8MB)\n",
            "\u001b[K     |████████████████████████████████| 827.8MB 22kB/s \n",
            "\u001b[?25hRequirement already satisfied: graphviz<0.9.0,>=0.8.1 in /usr/local/lib/python3.7/dist-packages (from mxnet-cu100) (0.8.4)\n",
            "Requirement already satisfied: requests<3,>=2.20.0 in /usr/local/lib/python3.7/dist-packages (from mxnet-cu100) (2.23.0)\n",
            "Collecting numpy<2.0.0,>1.16.0\n",
            "\u001b[?25l  Downloading https://files.pythonhosted.org/packages/70/8a/064b4077e3d793f877e3b77aa64f56fa49a4d37236a53f78ee28be009a16/numpy-1.20.1-cp37-cp37m-manylinux2010_x86_64.whl (15.3MB)\n",
            "\u001b[K     |████████████████████████████████| 15.3MB 217kB/s \n",
            "\u001b[?25hRequirement already satisfied: certifi>=2017.4.17 in /usr/local/lib/python3.7/dist-packages (from requests<3,>=2.20.0->mxnet-cu100) (2020.12.5)\n",
            "Requirement already satisfied: chardet<4,>=3.0.2 in /usr/local/lib/python3.7/dist-packages (from requests<3,>=2.20.0->mxnet-cu100) (3.0.4)\n",
            "Requirement already satisfied: idna<3,>=2.5 in /usr/local/lib/python3.7/dist-packages (from requests<3,>=2.20.0->mxnet-cu100) (2.10)\n",
            "Requirement already satisfied: urllib3!=1.25.0,!=1.25.1,<1.26,>=1.21.1 in /usr/local/lib/python3.7/dist-packages (from requests<3,>=2.20.0->mxnet-cu100) (1.24.3)\n",
            "\u001b[31mERROR: tensorflow 2.4.1 has requirement numpy~=1.19.2, but you'll have numpy 1.20.1 which is incompatible.\u001b[0m\n",
            "\u001b[31mERROR: mxnet 1.4.0 has requirement numpy<1.15.0,>=1.8.2, but you'll have numpy 1.20.1 which is incompatible.\u001b[0m\n",
            "\u001b[31mERROR: jaxlib 0.1.60+cuda101 has requirement numpy<1.20,>=1.12, but you'll have numpy 1.20.1 which is incompatible.\u001b[0m\n",
            "\u001b[31mERROR: datascience 0.10.6 has requirement folium==0.2.1, but you'll have folium 0.8.3 which is incompatible.\u001b[0m\n",
            "\u001b[31mERROR: bert-embedding 1.0.1 has requirement numpy==1.14.6, but you'll have numpy 1.20.1 which is incompatible.\u001b[0m\n",
            "\u001b[31mERROR: albumentations 0.1.12 has requirement imgaug<0.2.7,>=0.2.5, but you'll have imgaug 0.2.9 which is incompatible.\u001b[0m\n",
            "Installing collected packages: numpy, mxnet-cu100\n",
            "  Found existing installation: numpy 1.14.6\n",
            "    Uninstalling numpy-1.14.6:\n",
            "      Successfully uninstalled numpy-1.14.6\n",
            "Successfully installed mxnet-cu100-1.7.0 numpy-1.20.1\n"
          ],
          "name": "stdout"
        },
        {
          "output_type": "display_data",
          "data": {
            "application/vnd.colab-display-data+json": {
              "pip_warning": {
                "packages": [
                  "numpy"
                ]
              }
            }
          },
          "metadata": {
            "tags": []
          }
        }
      ]
    },
    {
      "cell_type": "code",
      "metadata": {
        "colab": {
          "base_uri": "https://localhost:8080/"
        },
        "id": "SOky1KKTCWbu",
        "outputId": "64a53107-cc2d-4526-9e3e-17a318ae86b9"
      },
      "source": [
        "!pip install sentence-transformers"
      ],
      "execution_count": 46,
      "outputs": [
        {
          "output_type": "stream",
          "text": [
            "Collecting sentence-transformers\n",
            "\u001b[?25l  Downloading https://files.pythonhosted.org/packages/6a/e2/84d6acfcee2d83164149778a33b6bdd1a74e1bcb59b2b2cd1b861359b339/sentence-transformers-0.4.1.2.tar.gz (64kB)\n",
            "\u001b[K     |████████████████████████████████| 71kB 8.7MB/s \n",
            "\u001b[?25hCollecting transformers<5.0.0,>=3.1.0\n",
            "\u001b[?25l  Downloading https://files.pythonhosted.org/packages/f9/54/5ca07ec9569d2f232f3166de5457b63943882f7950ddfcc887732fc7fb23/transformers-4.3.3-py3-none-any.whl (1.9MB)\n",
            "\u001b[K     |████████████████████████████████| 1.9MB 24.8MB/s \n",
            "\u001b[?25hRequirement already satisfied: tqdm in /usr/local/lib/python3.7/dist-packages (from sentence-transformers) (4.41.1)\n",
            "Requirement already satisfied: torch>=1.6.0 in /usr/local/lib/python3.7/dist-packages (from sentence-transformers) (1.7.1+cu101)\n",
            "Requirement already satisfied: numpy in /usr/local/lib/python3.7/dist-packages (from sentence-transformers) (1.20.1)\n",
            "Requirement already satisfied: scikit-learn in /usr/local/lib/python3.7/dist-packages (from sentence-transformers) (0.22.2.post1)\n",
            "Requirement already satisfied: scipy in /usr/local/lib/python3.7/dist-packages (from sentence-transformers) (1.4.1)\n",
            "Requirement already satisfied: nltk in /usr/local/lib/python3.7/dist-packages (from sentence-transformers) (3.2.5)\n",
            "Collecting sentencepiece\n",
            "\u001b[?25l  Downloading https://files.pythonhosted.org/packages/f5/99/e0808cb947ba10f575839c43e8fafc9cc44e4a7a2c8f79c60db48220a577/sentencepiece-0.1.95-cp37-cp37m-manylinux2014_x86_64.whl (1.2MB)\n",
            "\u001b[K     |████████████████████████████████| 1.2MB 52.4MB/s \n",
            "\u001b[?25hCollecting tokenizers<0.11,>=0.10.1\n",
            "\u001b[?25l  Downloading https://files.pythonhosted.org/packages/71/23/2ddc317b2121117bf34dd00f5b0de194158f2a44ee2bf5e47c7166878a97/tokenizers-0.10.1-cp37-cp37m-manylinux2010_x86_64.whl (3.2MB)\n",
            "\u001b[K     |████████████████████████████████| 3.2MB 48.1MB/s \n",
            "\u001b[?25hRequirement already satisfied: requests in /usr/local/lib/python3.7/dist-packages (from transformers<5.0.0,>=3.1.0->sentence-transformers) (2.23.0)\n",
            "Requirement already satisfied: regex!=2019.12.17 in /usr/local/lib/python3.7/dist-packages (from transformers<5.0.0,>=3.1.0->sentence-transformers) (2019.12.20)\n",
            "Requirement already satisfied: packaging in /usr/local/lib/python3.7/dist-packages (from transformers<5.0.0,>=3.1.0->sentence-transformers) (20.9)\n",
            "Requirement already satisfied: filelock in /usr/local/lib/python3.7/dist-packages (from transformers<5.0.0,>=3.1.0->sentence-transformers) (3.0.12)\n",
            "Collecting sacremoses\n",
            "\u001b[?25l  Downloading https://files.pythonhosted.org/packages/7d/34/09d19aff26edcc8eb2a01bed8e98f13a1537005d31e95233fd48216eed10/sacremoses-0.0.43.tar.gz (883kB)\n",
            "\u001b[K     |████████████████████████████████| 890kB 54.7MB/s \n",
            "\u001b[?25hRequirement already satisfied: importlib-metadata; python_version < \"3.8\" in /usr/local/lib/python3.7/dist-packages (from transformers<5.0.0,>=3.1.0->sentence-transformers) (3.7.0)\n",
            "Requirement already satisfied: typing-extensions in /usr/local/lib/python3.7/dist-packages (from torch>=1.6.0->sentence-transformers) (3.7.4.3)\n",
            "Requirement already satisfied: joblib>=0.11 in /usr/local/lib/python3.7/dist-packages (from scikit-learn->sentence-transformers) (1.0.1)\n",
            "Requirement already satisfied: six in /usr/local/lib/python3.7/dist-packages (from nltk->sentence-transformers) (1.15.0)\n",
            "Requirement already satisfied: certifi>=2017.4.17 in /usr/local/lib/python3.7/dist-packages (from requests->transformers<5.0.0,>=3.1.0->sentence-transformers) (2020.12.5)\n",
            "Requirement already satisfied: chardet<4,>=3.0.2 in /usr/local/lib/python3.7/dist-packages (from requests->transformers<5.0.0,>=3.1.0->sentence-transformers) (3.0.4)\n",
            "Requirement already satisfied: idna<3,>=2.5 in /usr/local/lib/python3.7/dist-packages (from requests->transformers<5.0.0,>=3.1.0->sentence-transformers) (2.10)\n",
            "Requirement already satisfied: urllib3!=1.25.0,!=1.25.1,<1.26,>=1.21.1 in /usr/local/lib/python3.7/dist-packages (from requests->transformers<5.0.0,>=3.1.0->sentence-transformers) (1.24.3)\n",
            "Requirement already satisfied: pyparsing>=2.0.2 in /usr/local/lib/python3.7/dist-packages (from packaging->transformers<5.0.0,>=3.1.0->sentence-transformers) (2.4.7)\n",
            "Requirement already satisfied: click in /usr/local/lib/python3.7/dist-packages (from sacremoses->transformers<5.0.0,>=3.1.0->sentence-transformers) (7.1.2)\n",
            "Requirement already satisfied: zipp>=0.5 in /usr/local/lib/python3.7/dist-packages (from importlib-metadata; python_version < \"3.8\"->transformers<5.0.0,>=3.1.0->sentence-transformers) (3.4.0)\n",
            "Building wheels for collected packages: sentence-transformers, sacremoses\n",
            "  Building wheel for sentence-transformers (setup.py) ... \u001b[?25l\u001b[?25hdone\n",
            "  Created wheel for sentence-transformers: filename=sentence_transformers-0.4.1.2-cp37-none-any.whl size=103068 sha256=1fdc08759a542efd27fddee8851bc0f0755d657cc872bdefed9da2c7d1ddc66a\n",
            "  Stored in directory: /root/.cache/pip/wheels/3d/33/d1/5703dd56199c09d4a1b41e0c07fb4e7765a84d787cbdc48ac3\n",
            "  Building wheel for sacremoses (setup.py) ... \u001b[?25l\u001b[?25hdone\n",
            "  Created wheel for sacremoses: filename=sacremoses-0.0.43-cp37-none-any.whl size=893262 sha256=4dfa3fa6128f028b06b9ceac5b2e1752f2f8db807f814f2872f4e570d5234a8e\n",
            "  Stored in directory: /root/.cache/pip/wheels/29/3c/fd/7ce5c3f0666dab31a50123635e6fb5e19ceb42ce38d4e58f45\n",
            "Successfully built sentence-transformers sacremoses\n",
            "Installing collected packages: tokenizers, sacremoses, transformers, sentencepiece, sentence-transformers\n",
            "Successfully installed sacremoses-0.0.43 sentence-transformers-0.4.1.2 sentencepiece-0.1.95 tokenizers-0.10.1 transformers-4.3.3\n"
          ],
          "name": "stdout"
        }
      ]
    },
    {
      "cell_type": "code",
      "metadata": {
        "id": "MUkaSwkgHuLx"
      },
      "source": [
        "import re\r\n",
        "import itertools\r\n",
        "import mxnet as mx\r\n",
        "from bert_embedding import BertEmbedding\r\n",
        "from sentence_transformers import SentenceTransformer"
      ],
      "execution_count": 47,
      "outputs": []
    },
    {
      "cell_type": "code",
      "metadata": {
        "id": "MBB9jcLhCaJw"
      },
      "source": [
        "def mean(z): \r\n",
        "    return sum(itertools.chain(z))/len(z)"
      ],
      "execution_count": 48,
      "outputs": []
    },
    {
      "cell_type": "code",
      "metadata": {
        "id": "ZJ_ZHukPHbEt"
      },
      "source": [
        "def wordTokenize(text):\r\n",
        "  return word_tokenize(text)"
      ],
      "execution_count": 49,
      "outputs": []
    },
    {
      "cell_type": "code",
      "metadata": {
        "id": "RkiLfaW_HgXo"
      },
      "source": [
        "def embeddToBERT(text):\r\n",
        "    sentences = re.split('!|\\?|\\.',text)\r\n",
        "    sentences = list(filter(None, sentences)) \r\n",
        "\r\n",
        "    \r\n",
        "    result = bert_transformers.encode(sentences)\r\n",
        "    feature = [mean(x) for x in zip(*result)]\r\n",
        "  \r\n",
        "    return feature"
      ],
      "execution_count": 50,
      "outputs": []
    },
    {
      "cell_type": "code",
      "metadata": {
        "colab": {
          "base_uri": "https://localhost:8080/"
        },
        "id": "HDWobxiEHi9p",
        "outputId": "140b0267-d30f-4942-a35b-f2f7a4f5c028"
      },
      "source": [
        "ctx = mx.gpu(0)\r\n",
        "bert = BertEmbedding(ctx=ctx)"
      ],
      "execution_count": 51,
      "outputs": [
        {
          "output_type": "stream",
          "text": [
            "Vocab file is not found. Downloading.\n",
            "Downloading /root/.mxnet/models/book_corpus_wiki_en_uncased-a6607397.zip from https://apache-mxnet.s3-accelerate.dualstack.amazonaws.com/gluon/dataset/vocab/book_corpus_wiki_en_uncased-a6607397.zip...\n",
            "Downloading /root/.mxnet/models/bert_12_768_12_book_corpus_wiki_en_uncased-75cc780f.zip68f4e2b8-f47b-47f6-8106-2733e0cc1de6 from https://apache-mxnet.s3-accelerate.dualstack.amazonaws.com/gluon/models/bert_12_768_12_book_corpus_wiki_en_uncased-75cc780f.zip...\n"
          ],
          "name": "stdout"
        }
      ]
    },
    {
      "cell_type": "markdown",
      "metadata": {
        "id": "zg7YnggZ4mlX"
      },
      "source": [
        "**Downloading the BERT pre trained model**"
      ]
    },
    {
      "cell_type": "code",
      "metadata": {
        "colab": {
          "base_uri": "https://localhost:8080/",
          "height": 258,
          "referenced_widgets": [
            "a26e69b69e5943fdaaabdc911fc28afb",
            "9ef3f871374f490aa50c7ef8673588b3",
            "278983f8e0d440bd8394be2cff1d316c",
            "2d26f3e84d6c4ed68891c3e641f236ed",
            "b3f8a93d345d4ac9870b78ce12834c9d",
            "8e8de5ef3b674394bb5d2b19c382bbae",
            "df458d22f9f24b4083e63657876f10d4",
            "2ca676cac9fb4c0abbfd7655389b9e15",
            "2972f00e348346a89a226d5fa5f8bbf1",
            "ae9eb45ccebe4d98a979e0e06a28cdb2",
            "752d3369940c42e69e9f45b900a6a0d7",
            "b5f1bd72ce4b4a6fa750f68beea93e8f",
            "18683d389b274fa4abe7d4610b893cd9",
            "8239653b72f34cfbb794fb2aa787ef79",
            "391ad979beec468da2d2ab5b82e90784",
            "5ec68cac067c4dab9336c72194fa3124",
            "5be0c91bfa834dfa94e171121ec7ab2e",
            "6fe01b3f36c34702b4eb8d45022398c2",
            "330bda6c70cb4dfcaba1f0bbcc1e9cf1",
            "951ded91344c4b83aab2ff78afcd3bc5",
            "871252cdc9b34bf1a60f87b4273ec5d2",
            "8f51294921764713ac944a47cb3ecc43",
            "409c9fc52b01434ba45e65b834ed3f99",
            "de378d49b5f644b3844571843056fd44",
            "e0b25f3d9fa143b58f7afc41cf999357",
            "08b33aba8f594719973b2b8fa23df71d",
            "d462acc7bd2c4ce39801e8c0e1228787",
            "e9c80beb1e984a3cbd4ff8fabae569b5",
            "9a8ff899af1d4eaa9a5d835e82c86b6f",
            "a69defdf828e475e8251248e781c9776",
            "15e9c55f057e40f28a70cfef08f55c2f",
            "508af69d9599422d875406c99a85c051"
          ]
        },
        "id": "3QE7ahutHlRT",
        "outputId": "c113ab18-6e21-4867-860b-b7c4ba5f83f7"
      },
      "source": [
        "bert_transformers = SentenceTransformer('bert-base-multilingual-uncased')"
      ],
      "execution_count": 52,
      "outputs": [
        {
          "output_type": "stream",
          "text": [
            "Exception when trying to download https://sbert.net/models/bert-base-multilingual-uncased.zip. Response 404\n",
            "WARNING:sentence_transformers.SentenceTransformer:SentenceTransformer-Model https://sbert.net/models/bert-base-multilingual-uncased.zip not found. Try to create it from scratch\n",
            "WARNING:sentence_transformers.SentenceTransformer:Try to create Transformer Model bert-base-multilingual-uncased with mean pooling\n"
          ],
          "name": "stderr"
        },
        {
          "output_type": "display_data",
          "data": {
            "application/vnd.jupyter.widget-view+json": {
              "model_id": "a26e69b69e5943fdaaabdc911fc28afb",
              "version_minor": 0,
              "version_major": 2
            },
            "text/plain": [
              "HBox(children=(FloatProgress(value=0.0, description='Downloading', max=625.0, style=ProgressStyle(description_…"
            ]
          },
          "metadata": {
            "tags": []
          }
        },
        {
          "output_type": "stream",
          "text": [
            "\n"
          ],
          "name": "stdout"
        },
        {
          "output_type": "display_data",
          "data": {
            "application/vnd.jupyter.widget-view+json": {
              "model_id": "2972f00e348346a89a226d5fa5f8bbf1",
              "version_minor": 0,
              "version_major": 2
            },
            "text/plain": [
              "HBox(children=(FloatProgress(value=0.0, description='Downloading', max=672271273.0, style=ProgressStyle(descri…"
            ]
          },
          "metadata": {
            "tags": []
          }
        },
        {
          "output_type": "stream",
          "text": [
            "\n"
          ],
          "name": "stdout"
        },
        {
          "output_type": "display_data",
          "data": {
            "application/vnd.jupyter.widget-view+json": {
              "model_id": "5be0c91bfa834dfa94e171121ec7ab2e",
              "version_minor": 0,
              "version_major": 2
            },
            "text/plain": [
              "HBox(children=(FloatProgress(value=0.0, description='Downloading', max=871891.0, style=ProgressStyle(descripti…"
            ]
          },
          "metadata": {
            "tags": []
          }
        },
        {
          "output_type": "stream",
          "text": [
            "\n"
          ],
          "name": "stdout"
        },
        {
          "output_type": "display_data",
          "data": {
            "application/vnd.jupyter.widget-view+json": {
              "model_id": "e0b25f3d9fa143b58f7afc41cf999357",
              "version_minor": 0,
              "version_major": 2
            },
            "text/plain": [
              "HBox(children=(FloatProgress(value=0.0, description='Downloading', max=1715180.0, style=ProgressStyle(descript…"
            ]
          },
          "metadata": {
            "tags": []
          }
        },
        {
          "output_type": "stream",
          "text": [
            "\n"
          ],
          "name": "stdout"
        }
      ]
    },
    {
      "cell_type": "markdown",
      "metadata": {
        "id": "muJw_kUQ4wmx"
      },
      "source": [
        "**Getting word embeddings from m-BERT**"
      ]
    },
    {
      "cell_type": "code",
      "metadata": {
        "id": "yDeiOY22H95B"
      },
      "source": [
        "bert_sentence_training_features = train_df['Post'].apply(embeddToBERT)\r\n",
        "bert_sentence_test_features = test_df['Post'].apply(embeddToBERT)"
      ],
      "execution_count": 57,
      "outputs": []
    },
    {
      "cell_type": "markdown",
      "metadata": {
        "id": "hNOJMPmL484i"
      },
      "source": [
        "**Converting the word embeddings into a np array**"
      ]
    },
    {
      "cell_type": "code",
      "metadata": {
        "colab": {
          "base_uri": "https://localhost:8080/"
        },
        "id": "GuCqCEGoNl7V",
        "outputId": "98267d99-c58a-4f8c-a713-956a273b4f3d"
      },
      "source": [
        "feature = [x for x in bert_sentence_training_features.transpose()]\r\n",
        "bert_sentence_training_features = np.asarray(feature)\r\n",
        "\r\n",
        "feature = [x for x in bert_sentence_test_features.transpose()]\r\n",
        "bert_sentence_test_features = np.asarray(feature)\r\n",
        "\r\n",
        "print(bert_sentence_training_features.shape)"
      ],
      "execution_count": 58,
      "outputs": [
        {
          "output_type": "stream",
          "text": [
            "(5718, 768)\n"
          ],
          "name": "stdout"
        }
      ]
    },
    {
      "cell_type": "markdown",
      "metadata": {
        "id": "tLwBOFzL5KHE"
      },
      "source": [
        "**Model building with SVM and m-BERT**"
      ]
    },
    {
      "cell_type": "code",
      "metadata": {
        "id": "IYQleL7hInQy"
      },
      "source": [
        "from sklearn.svm import SVC\r\n",
        "model = SVC(kernel ='linear', C = 1)"
      ],
      "execution_count": 59,
      "outputs": []
    },
    {
      "cell_type": "code",
      "metadata": {
        "id": "3qu-j0OYKjN2"
      },
      "source": [
        "# Training \r\n",
        "model.fit(bert_sentence_training_features, train_df.nh.values)\r\n",
        "# Evaluation\r\n",
        "y_pred_bert_sentence_svm = model.predict(bert_sentence_test_features)\r\n"
      ],
      "execution_count": 60,
      "outputs": []
    },
    {
      "cell_type": "code",
      "metadata": {
        "colab": {
          "base_uri": "https://localhost:8080/"
        },
        "id": "N6FJVw6MK7tc",
        "outputId": "5414ed67-2c77-4a15-e07a-3617dcea1b90"
      },
      "source": [
        "print(classification_report(y_pred_bert_sentence_svm,test_df.nh.values))"
      ],
      "execution_count": 61,
      "outputs": [
        {
          "output_type": "stream",
          "text": [
            "              precision    recall  f1-score   support\n",
            "\n",
            "           0       0.87      0.89      0.88       368\n",
            "           1       0.90      0.89      0.90       443\n",
            "\n",
            "    accuracy                           0.89       811\n",
            "   macro avg       0.89      0.89      0.89       811\n",
            "weighted avg       0.89      0.89      0.89       811\n",
            "\n"
          ],
          "name": "stdout"
        }
      ]
    },
    {
      "cell_type": "markdown",
      "metadata": {
        "id": "wsf6MsIs5Qew"
      },
      "source": [
        "**Model building with Logistic Regression and m-BERT**"
      ]
    },
    {
      "cell_type": "code",
      "metadata": {
        "id": "rHxheBjtPL-W"
      },
      "source": [
        "from sklearn.linear_model import LogisticRegression\r\n",
        "lr_model = LogisticRegression(penalty='l1',solver='liblinear')"
      ],
      "execution_count": 62,
      "outputs": []
    },
    {
      "cell_type": "code",
      "metadata": {
        "id": "WM6sQ4izP1oF"
      },
      "source": [
        "#Training\r\n",
        "lr_model.fit(bert_sentence_training_features, train_df.nh.values)\r\n",
        "y_pred_bert_lr = lr_model.predict(bert_sentence_test_features)\r\n"
      ],
      "execution_count": 63,
      "outputs": []
    },
    {
      "cell_type": "code",
      "metadata": {
        "colab": {
          "base_uri": "https://localhost:8080/"
        },
        "id": "zvFXMRzwP5mC",
        "outputId": "8b2efe58-883d-419f-8cb3-f7fd4a37c953"
      },
      "source": [
        "print(classification_report(y_pred_bert_lr,test_df.nh.values))"
      ],
      "execution_count": 64,
      "outputs": [
        {
          "output_type": "stream",
          "text": [
            "              precision    recall  f1-score   support\n",
            "\n",
            "           0       0.86      0.87      0.86       372\n",
            "           1       0.89      0.88      0.88       439\n",
            "\n",
            "    accuracy                           0.87       811\n",
            "   macro avg       0.87      0.87      0.87       811\n",
            "weighted avg       0.87      0.87      0.87       811\n",
            "\n"
          ],
          "name": "stdout"
        }
      ]
    },
    {
      "cell_type": "markdown",
      "metadata": {
        "id": "agfk-a1PBAxo"
      },
      "source": [
        "**KDD Iteration 2**"
      ]
    },
    {
      "cell_type": "markdown",
      "metadata": {
        "id": "f7Ylo7C67alm"
      },
      "source": [
        "**XGBoost**"
      ]
    },
    {
      "cell_type": "code",
      "metadata": {
        "id": "t8WGZy4J6w9B"
      },
      "source": [
        "!pip install xgboost\r\n",
        "from xgboost import XGBClassifier"
      ],
      "execution_count": null,
      "outputs": []
    },
    {
      "cell_type": "code",
      "metadata": {
        "id": "-gkMlk9Y62VA"
      },
      "source": [
        "classifier = XGBClassifier( scale_pos_weight= 7)\r\n",
        "classifier.fit(bert_sentence_training_features, train_df.nh.values)"
      ],
      "execution_count": null,
      "outputs": []
    },
    {
      "cell_type": "code",
      "metadata": {
        "id": "GJ_1NylJ66yl"
      },
      "source": [
        "predictions = classifier.predict(bert_sentence_test_features)"
      ],
      "execution_count": null,
      "outputs": []
    },
    {
      "cell_type": "code",
      "metadata": {
        "id": "3PYaRt146-zT"
      },
      "source": [
        "print(classification_report(y_test,predictions))"
      ],
      "execution_count": null,
      "outputs": []
    },
    {
      "cell_type": "markdown",
      "metadata": {
        "id": "119NyiKB7gl4"
      },
      "source": [
        "**Stacking**"
      ]
    },
    {
      "cell_type": "code",
      "metadata": {
        "id": "Rg5yRlB47itr"
      },
      "source": [
        "!pip install mlxtend"
      ],
      "execution_count": null,
      "outputs": []
    },
    {
      "cell_type": "code",
      "metadata": {
        "id": "z153EuAS7k-S"
      },
      "source": [
        "from sklearn.linear_model import LogisticRegression\r\n",
        "from sklearn.neighbors import KNeighborsClassifier\r\n",
        "from sklearn.naive_bayes import GaussianNB \r\n",
        "from sklearn.ensemble import RandomForestClassifier\r\n",
        "from sklearn.model_selection import GridSearchCV\r\n",
        "from mlxtend.classifier import StackingClassifier\r\n",
        "\r\n",
        "# Initializing models\r\n",
        "#train_cleanedtext1=train_cleanedtext.toarray()\r\n",
        "clf1 = LogisticRegression()\r\n",
        "clf2 = RandomForestClassifier()\r\n",
        "clf3 = SVC()\r\n",
        "lr = LogisticRegression()\r\n",
        "sclf = StackingClassifier(classifiers=[clf1, clf2, clf3], \r\n",
        "                          meta_classifier=lr)\r\n",
        "\r\n",
        "params = {'logisticregression__C': [0.1, 10.0],\r\n",
        "          'randomforestclassifier__n_estimators': [10, 450],\r\n",
        "          'meta_classifier__C': [0.1, 10.0]}\r\n",
        "\r\n",
        "grid = GridSearchCV(estimator=sclf, \r\n",
        "                    param_grid=params, \r\n",
        "                    cv=5,\r\n",
        "                    refit=True)\r\n",
        "grid.fit(bert_sentence_training_features, y_train)\r\n",
        "\r\n",
        "cv_keys = ('mean_test_score', 'std_test_score', 'params')\r\n",
        "\r\n",
        "for r, _ in enumerate(grid.cv_results_['mean_test_score']):\r\n",
        "    print(\"%0.3f +/- %0.2f %r\"\r\n",
        "          % (grid.cv_results_[cv_keys[0]][r],\r\n",
        "             grid.cv_results_[cv_keys[1]][r] / 2.0,\r\n",
        "             grid.cv_results_[cv_keys[2]][r]))\r\n",
        "\r\n",
        "print('Best parameters: %s' % grid.best_params_)\r\n",
        "print('Accuracy: %.2f' % grid.best_score_)"
      ],
      "execution_count": null,
      "outputs": []
    },
    {
      "cell_type": "code",
      "metadata": {
        "id": "A3uXS5ne7oBF"
      },
      "source": [
        "from sklearn.linear_model import LogisticRegression\r\n",
        "from sklearn.ensemble import RandomForestClassifier\r\n",
        "from sklearn.svm import SVC\r\n",
        "from mlxtend.classifier import StackingClassifier\r\n",
        "\r\n",
        "clf1 = LogisticRegression(penalty='l1',solver='liblinear',C=0.1)\r\n",
        "clf2 = RandomForestClassifier(n_estimators=450)\r\n",
        "clf3 = SVC(kernel='linear',C=1)\r\n",
        "lr = LogisticRegression(C=0.1)\r\n",
        "\r\n",
        "\r\n",
        "sclf = StackingClassifier(classifiers=[clf1, clf2, clf3],meta_classifier=lr)\r\n",
        "\r\n",
        "sclf.fit(bert_sentence_training_features,train_df.nh.values)"
      ],
      "execution_count": null,
      "outputs": []
    },
    {
      "cell_type": "code",
      "metadata": {
        "id": "sfVkQgL078-a"
      },
      "source": [
        "pred = sclf.predict(bert_sentence_test_features)\r\n",
        "print(classification_report(test_df.nh.values,pred))"
      ],
      "execution_count": null,
      "outputs": []
    },
    {
      "cell_type": "markdown",
      "metadata": {
        "id": "KIzBBLXblhk6"
      },
      "source": [
        "**RoBERTa**"
      ]
    },
    {
      "cell_type": "code",
      "metadata": {
        "colab": {
          "base_uri": "https://localhost:8080/"
        },
        "id": "cNZY_EAclg8R",
        "outputId": "a9c93a0f-5460-47ed-db5b-fd88028c23f8"
      },
      "source": [
        "!git clone https://github.com/devkosal/fastai_roberta.git"
      ],
      "execution_count": 48,
      "outputs": [
        {
          "output_type": "stream",
          "text": [
            "fatal: destination path 'fastai_roberta' already exists and is not an empty directory.\n"
          ],
          "name": "stdout"
        }
      ]
    },
    {
      "cell_type": "code",
      "metadata": {
        "colab": {
          "base_uri": "https://localhost:8080/"
        },
        "id": "1VsCKXQulgrc",
        "outputId": "62be0375-7db6-4290-a473-3a9a634f03c2"
      },
      "source": [
        "!pip install fastai==1.0.60 transformers==2.3.0"
      ],
      "execution_count": 49,
      "outputs": [
        {
          "output_type": "stream",
          "text": [
            "Requirement already satisfied: fastai==1.0.60 in /usr/local/lib/python3.7/dist-packages (1.0.60)\n",
            "Requirement already satisfied: transformers==2.3.0 in /usr/local/lib/python3.7/dist-packages (2.3.0)\n",
            "Requirement already satisfied: packaging in /usr/local/lib/python3.7/dist-packages (from fastai==1.0.60) (20.9)\n",
            "Requirement already satisfied: bottleneck in /usr/local/lib/python3.7/dist-packages (from fastai==1.0.60) (1.3.2)\n",
            "Requirement already satisfied: numpy>=1.15 in /usr/local/lib/python3.7/dist-packages (from fastai==1.0.60) (1.20.1)\n",
            "Requirement already satisfied: Pillow in /usr/local/lib/python3.7/dist-packages (from fastai==1.0.60) (7.0.0)\n",
            "Requirement already satisfied: numexpr in /usr/local/lib/python3.7/dist-packages (from fastai==1.0.60) (2.7.2)\n",
            "Requirement already satisfied: matplotlib in /usr/local/lib/python3.7/dist-packages (from fastai==1.0.60) (3.2.2)\n",
            "Requirement already satisfied: nvidia-ml-py3 in /usr/local/lib/python3.7/dist-packages (from fastai==1.0.60) (7.352.0)\n",
            "Requirement already satisfied: torchvision in /usr/local/lib/python3.7/dist-packages (from fastai==1.0.60) (0.8.2+cu101)\n",
            "Requirement already satisfied: beautifulsoup4 in /usr/local/lib/python3.7/dist-packages (from fastai==1.0.60) (4.6.3)\n",
            "Requirement already satisfied: torch>=1.0.0 in /usr/local/lib/python3.7/dist-packages (from fastai==1.0.60) (1.7.1+cu101)\n",
            "Requirement already satisfied: spacy>=2.0.18 in /usr/local/lib/python3.7/dist-packages (from fastai==1.0.60) (2.2.4)\n",
            "Requirement already satisfied: pyyaml in /usr/local/lib/python3.7/dist-packages (from fastai==1.0.60) (3.13)\n",
            "Requirement already satisfied: requests in /usr/local/lib/python3.7/dist-packages (from fastai==1.0.60) (2.23.0)\n",
            "Requirement already satisfied: fastprogress>=0.2.1 in /usr/local/lib/python3.7/dist-packages (from fastai==1.0.60) (1.0.0)\n",
            "Requirement already satisfied: pandas in /usr/local/lib/python3.7/dist-packages (from fastai==1.0.60) (1.1.5)\n",
            "Requirement already satisfied: scipy in /usr/local/lib/python3.7/dist-packages (from fastai==1.0.60) (1.4.1)\n",
            "Requirement already satisfied: tqdm in /usr/local/lib/python3.7/dist-packages (from transformers==2.3.0) (4.41.1)\n",
            "Requirement already satisfied: sentencepiece in /usr/local/lib/python3.7/dist-packages (from transformers==2.3.0) (0.1.95)\n",
            "Requirement already satisfied: sacremoses in /usr/local/lib/python3.7/dist-packages (from transformers==2.3.0) (0.0.43)\n",
            "Requirement already satisfied: boto3 in /usr/local/lib/python3.7/dist-packages (from transformers==2.3.0) (1.17.19)\n",
            "Requirement already satisfied: regex!=2019.12.17 in /usr/local/lib/python3.7/dist-packages (from transformers==2.3.0) (2019.12.20)\n",
            "Requirement already satisfied: pyparsing>=2.0.2 in /usr/local/lib/python3.7/dist-packages (from packaging->fastai==1.0.60) (2.4.7)\n",
            "Requirement already satisfied: cycler>=0.10 in /usr/local/lib/python3.7/dist-packages (from matplotlib->fastai==1.0.60) (0.10.0)\n",
            "Requirement already satisfied: kiwisolver>=1.0.1 in /usr/local/lib/python3.7/dist-packages (from matplotlib->fastai==1.0.60) (1.3.1)\n",
            "Requirement already satisfied: python-dateutil>=2.1 in /usr/local/lib/python3.7/dist-packages (from matplotlib->fastai==1.0.60) (2.8.1)\n",
            "Requirement already satisfied: typing-extensions in /usr/local/lib/python3.7/dist-packages (from torch>=1.0.0->fastai==1.0.60) (3.7.4.3)\n",
            "Requirement already satisfied: murmurhash<1.1.0,>=0.28.0 in /usr/local/lib/python3.7/dist-packages (from spacy>=2.0.18->fastai==1.0.60) (1.0.5)\n",
            "Requirement already satisfied: plac<1.2.0,>=0.9.6 in /usr/local/lib/python3.7/dist-packages (from spacy>=2.0.18->fastai==1.0.60) (1.1.3)\n",
            "Requirement already satisfied: setuptools in /usr/local/lib/python3.7/dist-packages (from spacy>=2.0.18->fastai==1.0.60) (54.0.0)\n",
            "Requirement already satisfied: catalogue<1.1.0,>=0.0.7 in /usr/local/lib/python3.7/dist-packages (from spacy>=2.0.18->fastai==1.0.60) (1.0.0)\n",
            "Requirement already satisfied: blis<0.5.0,>=0.4.0 in /usr/local/lib/python3.7/dist-packages (from spacy>=2.0.18->fastai==1.0.60) (0.4.1)\n",
            "Requirement already satisfied: wasabi<1.1.0,>=0.4.0 in /usr/local/lib/python3.7/dist-packages (from spacy>=2.0.18->fastai==1.0.60) (0.8.2)\n",
            "Requirement already satisfied: preshed<3.1.0,>=3.0.2 in /usr/local/lib/python3.7/dist-packages (from spacy>=2.0.18->fastai==1.0.60) (3.0.5)\n",
            "Requirement already satisfied: thinc==7.4.0 in /usr/local/lib/python3.7/dist-packages (from spacy>=2.0.18->fastai==1.0.60) (7.4.0)\n",
            "Requirement already satisfied: srsly<1.1.0,>=1.0.2 in /usr/local/lib/python3.7/dist-packages (from spacy>=2.0.18->fastai==1.0.60) (1.0.5)\n",
            "Requirement already satisfied: cymem<2.1.0,>=2.0.2 in /usr/local/lib/python3.7/dist-packages (from spacy>=2.0.18->fastai==1.0.60) (2.0.5)\n",
            "Requirement already satisfied: idna<3,>=2.5 in /usr/local/lib/python3.7/dist-packages (from requests->fastai==1.0.60) (2.10)\n",
            "Requirement already satisfied: urllib3!=1.25.0,!=1.25.1,<1.26,>=1.21.1 in /usr/local/lib/python3.7/dist-packages (from requests->fastai==1.0.60) (1.24.3)\n",
            "Requirement already satisfied: certifi>=2017.4.17 in /usr/local/lib/python3.7/dist-packages (from requests->fastai==1.0.60) (2020.12.5)\n",
            "Requirement already satisfied: chardet<4,>=3.0.2 in /usr/local/lib/python3.7/dist-packages (from requests->fastai==1.0.60) (3.0.4)\n",
            "Requirement already satisfied: pytz>=2017.2 in /usr/local/lib/python3.7/dist-packages (from pandas->fastai==1.0.60) (2018.9)\n",
            "Requirement already satisfied: six in /usr/local/lib/python3.7/dist-packages (from sacremoses->transformers==2.3.0) (1.15.0)\n",
            "Requirement already satisfied: joblib in /usr/local/lib/python3.7/dist-packages (from sacremoses->transformers==2.3.0) (1.0.1)\n",
            "Requirement already satisfied: click in /usr/local/lib/python3.7/dist-packages (from sacremoses->transformers==2.3.0) (7.1.2)\n",
            "Requirement already satisfied: jmespath<1.0.0,>=0.7.1 in /usr/local/lib/python3.7/dist-packages (from boto3->transformers==2.3.0) (0.10.0)\n",
            "Requirement already satisfied: s3transfer<0.4.0,>=0.3.0 in /usr/local/lib/python3.7/dist-packages (from boto3->transformers==2.3.0) (0.3.4)\n",
            "Requirement already satisfied: botocore<1.21.0,>=1.20.19 in /usr/local/lib/python3.7/dist-packages (from boto3->transformers==2.3.0) (1.20.19)\n",
            "Requirement already satisfied: importlib-metadata>=0.20; python_version < \"3.8\" in /usr/local/lib/python3.7/dist-packages (from catalogue<1.1.0,>=0.0.7->spacy>=2.0.18->fastai==1.0.60) (3.7.0)\n",
            "Requirement already satisfied: zipp>=0.5 in /usr/local/lib/python3.7/dist-packages (from importlib-metadata>=0.20; python_version < \"3.8\"->catalogue<1.1.0,>=0.0.7->spacy>=2.0.18->fastai==1.0.60) (3.4.0)\n"
          ],
          "name": "stdout"
        }
      ]
    },
    {
      "cell_type": "code",
      "metadata": {
        "id": "LtxdJFlDmP1M"
      },
      "source": [
        "import numpy as np\r\n",
        "from fastai.text import *\r\n",
        "from fastai.metrics import *\r\n",
        "from transformers import RobertaTokenizer"
      ],
      "execution_count": 50,
      "outputs": []
    },
    {
      "cell_type": "code",
      "metadata": {
        "id": "Q9vBMHLjmPz-"
      },
      "source": [
        "# Creating a config object to store task specific information\r\n",
        "class Config(dict):\r\n",
        "    def __init__(self, **kwargs):\r\n",
        "        super().__init__(**kwargs)\r\n",
        "        for k, v in kwargs.items():\r\n",
        "            setattr(self, k, v)\r\n",
        "    \r\n",
        "    def set(self, key, val):\r\n",
        "        self[key] = val\r\n",
        "        setattr(self, key, val)\r\n",
        "        \r\n",
        "config = Config(\r\n",
        "    testing=True,\r\n",
        "    seed = 2019,\r\n",
        "    roberta_model_name='roberta-base', # can also be exchnaged with roberta-large \r\n",
        "    max_lr=1e-5,\r\n",
        "    epochs=1,\r\n",
        "    use_fp16=False,\r\n",
        "    bs=4, \r\n",
        "    max_seq_len=256, \r\n",
        "    num_labels = 2,\r\n",
        "    hidden_dropout_prob=.05,\r\n",
        "    hidden_size=768, # 1024 for roberta-large\r\n",
        "    start_tok = \"<s>\",\r\n",
        "    end_tok = \"</s>\",\r\n",
        ")"
      ],
      "execution_count": 51,
      "outputs": []
    },
    {
      "cell_type": "code",
      "metadata": {
        "id": "xk9ZnMgpniQu"
      },
      "source": [
        "feat_cols = \"Post\"\r\n",
        "label_cols = \"nh\""
      ],
      "execution_count": 52,
      "outputs": []
    },
    {
      "cell_type": "markdown",
      "metadata": {
        "id": "20Bn4QgcmeI8"
      },
      "source": [
        "**Setting Up the Tokenizer**"
      ]
    },
    {
      "cell_type": "code",
      "metadata": {
        "id": "4sS-xNNVmPti"
      },
      "source": [
        "\r\n",
        "class FastAiRobertaTokenizer(BaseTokenizer):\r\n",
        "    \"\"\"Wrapper around RobertaTokenizer to be compatible with fastai\"\"\"\r\n",
        "    def __init__(self, tokenizer: RobertaTokenizer, max_seq_len: int=128, **kwargs): \r\n",
        "        self._pretrained_tokenizer = tokenizer\r\n",
        "        self.max_seq_len = max_seq_len \r\n",
        "    def __call__(self, *args, **kwargs): \r\n",
        "        return self \r\n",
        "    def tokenizer(self, t:str) -> List[str]: \r\n",
        "        \"\"\"Adds Roberta bos and eos tokens and limits the maximum sequence length\"\"\" \r\n",
        "        return [config.start_tok] + self._pretrained_tokenizer.tokenize(t)[:self.max_seq_len - 2] + [config.end_tok]"
      ],
      "execution_count": 53,
      "outputs": []
    },
    {
      "cell_type": "code",
      "metadata": {
        "id": "lKaNimb1mPad"
      },
      "source": [
        "# create fastai tokenizer for roberta\r\n",
        "roberta_tok = RobertaTokenizer.from_pretrained(\"roberta-base\")\r\n",
        "\r\n",
        "fastai_tokenizer = Tokenizer(tok_func=FastAiRobertaTokenizer(roberta_tok, max_seq_len=config.max_seq_len), \r\n",
        "                             pre_rules=[], post_rules=[])"
      ],
      "execution_count": 54,
      "outputs": []
    },
    {
      "cell_type": "code",
      "metadata": {
        "id": "0JKbUrm-mnwl"
      },
      "source": [
        "# create fastai vocabulary for roberta\r\n",
        "path = Path()\r\n",
        "roberta_tok.save_vocabulary(path)\r\n",
        "\r\n",
        "with open('vocab.json', 'r') as f:\r\n",
        "    roberta_vocab_dict = json.load(f)\r\n",
        "    \r\n",
        "fastai_roberta_vocab = Vocab(list(roberta_vocab_dict.keys()))"
      ],
      "execution_count": 55,
      "outputs": []
    },
    {
      "cell_type": "code",
      "metadata": {
        "id": "YJNcakxsmnk0"
      },
      "source": [
        "\r\n",
        "# Setting up pre-processors\r\n",
        "class RobertaTokenizeProcessor(TokenizeProcessor):\r\n",
        "    def __init__(self, tokenizer):\r\n",
        "         super().__init__(tokenizer=tokenizer, include_bos=False, include_eos=False)\r\n",
        "\r\n",
        "class RobertaNumericalizeProcessor(NumericalizeProcessor):\r\n",
        "    def __init__(self, *args, **kwargs):\r\n",
        "        super().__init__(*args, **kwargs)\r\n",
        "\r\n",
        "\r\n",
        "def get_roberta_processor(tokenizer:Tokenizer=None, vocab:Vocab=None):\r\n",
        "    \"\"\"\r\n",
        "    Constructing preprocessors for Roberta\r\n",
        "    We remove sos and eos tokens since we add that ourselves in the tokenizer.\r\n",
        "    We also use a custom vocabulary to match the numericalization with the original Roberta model.\r\n",
        "    \"\"\"\r\n",
        "    return [RobertaTokenizeProcessor(tokenizer=tokenizer), RobertaNumericalizeProcessor(vocab=vocab)]"
      ],
      "execution_count": 56,
      "outputs": []
    },
    {
      "cell_type": "markdown",
      "metadata": {
        "id": "ccvX_mmdm3KY"
      },
      "source": [
        "**Setting up the Databunch**"
      ]
    },
    {
      "cell_type": "code",
      "metadata": {
        "id": "GZ9pLubFmv7D"
      },
      "source": [
        "# Creating a Roberta specific DataBunch class\r\n",
        "class RobertaDataBunch(TextDataBunch):\r\n",
        "    \"Create a `TextDataBunch` suitable for training Roberta\"\r\n",
        "    @classmethod\r\n",
        "    def create(cls, train_ds, valid_ds, test_ds=None, path:PathOrStr='.', bs:int=64, val_bs:int=None, pad_idx=1,\r\n",
        "               pad_first=True, device:torch.device=None, no_check:bool=False, backwards:bool=False, \r\n",
        "               dl_tfms:Optional[Collection[Callable]]=None, **dl_kwargs) -> DataBunch:\r\n",
        "        \"Function that transform the `datasets` in a `DataBunch` for classification. Passes `**dl_kwargs` on to `DataLoader()`\"\r\n",
        "        datasets = cls._init_ds(train_ds, valid_ds, test_ds)\r\n",
        "        val_bs = ifnone(val_bs, bs)\r\n",
        "        collate_fn = partial(pad_collate, pad_idx=pad_idx, pad_first=pad_first, backwards=backwards)\r\n",
        "        train_sampler = SortishSampler(datasets[0].x, key=lambda t: len(datasets[0][t][0].data), bs=bs)\r\n",
        "        train_dl = DataLoader(datasets[0], batch_size=bs, sampler=train_sampler, drop_last=True, **dl_kwargs)\r\n",
        "        dataloaders = [train_dl]\r\n",
        "        for ds in datasets[1:]:\r\n",
        "            lengths = [len(t) for t in ds.x.items]\r\n",
        "            sampler = SortSampler(ds.x, key=lengths.__getitem__)\r\n",
        "            dataloaders.append(DataLoader(ds, batch_size=val_bs, sampler=sampler, **dl_kwargs))\r\n",
        "        return cls(*dataloaders, path=path, device=device, dl_tfms=dl_tfms, collate_fn=collate_fn, no_check=no_check)"
      ],
      "execution_count": 57,
      "outputs": []
    },
    {
      "cell_type": "code",
      "metadata": {
        "id": "l-NOICJsm03N"
      },
      "source": [
        "class RobertaTextList(TextList):\r\n",
        "    _bunch = RobertaDataBunch\r\n",
        "    _label_cls = TextList"
      ],
      "execution_count": 58,
      "outputs": []
    },
    {
      "cell_type": "code",
      "metadata": {
        "id": "4_SJjc1JnC-c"
      },
      "source": [
        "# loading the tokenizer and vocab processors\r\n",
        "processor = get_roberta_processor(tokenizer=fastai_tokenizer, vocab=fastai_roberta_vocab)"
      ],
      "execution_count": 59,
      "outputs": []
    },
    {
      "cell_type": "code",
      "metadata": {
        "colab": {
          "base_uri": "https://localhost:8080/",
          "height": 118
        },
        "id": "bJtA7WPZnC9R",
        "outputId": "78ce18bd-129e-406e-cb0a-9f4ac427f1e1"
      },
      "source": [
        "# creating our databunch \r\n",
        "data = RobertaTextList.from_df(train_df, \".\", cols=feat_cols, processor=processor) \\\r\n",
        "    .split_by_rand_pct(seed=config.seed) \\\r\n",
        "    .label_from_df(cols=label_cols,label_cls=CategoryList) \\\r\n",
        "    .databunch(bs=config.bs, pad_first=False, pad_idx=0)"
      ],
      "execution_count": 60,
      "outputs": [
        {
          "output_type": "display_data",
          "data": {
            "text/html": [
              ""
            ],
            "text/plain": [
              "<IPython.core.display.HTML object>"
            ]
          },
          "metadata": {
            "tags": []
          }
        },
        {
          "output_type": "stream",
          "text": [
            "/usr/local/lib/python3.7/dist-packages/fastai/core.py:302: VisibleDeprecationWarning: Creating an ndarray from ragged nested sequences (which is a list-or-tuple of lists-or-tuples-or ndarrays with different lengths or shapes) is deprecated. If you meant to do this, you must specify 'dtype=object' when creating the ndarray.\n",
            "  return np.array(a, dtype=dtype, **kwargs)\n"
          ],
          "name": "stderr"
        },
        {
          "output_type": "display_data",
          "data": {
            "text/html": [
              ""
            ],
            "text/plain": [
              "<IPython.core.display.HTML object>"
            ]
          },
          "metadata": {
            "tags": []
          }
        },
        {
          "output_type": "stream",
          "text": [
            "/usr/local/lib/python3.7/dist-packages/numpy/core/_asarray.py:102: VisibleDeprecationWarning: Creating an ndarray from ragged nested sequences (which is a list-or-tuple of lists-or-tuples-or ndarrays with different lengths or shapes) is deprecated. If you meant to do this, you must specify 'dtype=object' when creating the ndarray.\n",
            "  return array(a, dtype, copy=False, order=order)\n",
            "<string>:6: VisibleDeprecationWarning: Creating an ndarray from ragged nested sequences (which is a list-or-tuple of lists-or-tuples-or ndarrays with different lengths or shapes) is deprecated. If you meant to do this, you must specify 'dtype=object' when creating the ndarray.\n"
          ],
          "name": "stderr"
        }
      ]
    },
    {
      "cell_type": "code",
      "metadata": {
        "colab": {
          "base_uri": "https://localhost:8080/"
        },
        "id": "y6I3OyRrnC2Y",
        "outputId": "b7e402e6-3bfb-49f5-bdc6-f34477e3da02"
      },
      "source": [
        "\r\n",
        "data"
      ],
      "execution_count": 61,
      "outputs": [
        {
          "output_type": "execute_result",
          "data": {
            "text/plain": [
              "RobertaDataBunch;\n",
              "\n",
              "Train: LabelList (4575 items)\n",
              "x: RobertaTextList\n",
              "<s> à¤ ® à¥ ĩ à¤ ° à¥ ĩ Ġà¤ ¦ à¥ ĩ à¤ ¶ Ġà¤ ķ à¥ ĩ Ġà¤ ¹ à¤ ¿ à¤ ¨ à¥ į à¤ ¦ à¥ ģ Ġà¤ ¬ à¤ ¹ à¥ ģ à¤ ¤ Ġà¤ ¨ à¤ ¿ à¤ ° à¤¾ à¤ ² à¥ ĩ Ġà¤ ¹ à¥ Ī à¥ ¤ Ġà¤ ķ à¥ ģ à¤ Ľ Ġà¤ ¤ à¥ ĭ Ġà¤ ª à¤ ķ à¥ į à¤ ķ à¥ ĩ Ġà¤ ° à¤¾ à¤ ® Ġà¤ Ń à¤ ķ à¥ į à¤ ¤ Ġà¤ ¹ à¥ Ī Ġà¤ Ķ à¤ ° Ġà¤ ķ à¥ ģ à¤ Ľ Ġà¤ ¬ à¤¾ à¤ ¬ à¤ ° Ġà¤ ķ à¥ ĩ Ġà¤ ¸ à¤¾ à¤ ² à¥ ĩ Ġà¤ ¹ à¥ Ī Ġ Ċ Ċ ðŁ Ļ ı Ġà¤ ľ à¤ ¯ Ġà¤ ¶ à¥ į à¤ ° à¥ Ģ Ġà¤ ° à¤¾ à¤ ® ĠðŁ Ļ ı </s>,<s> à¤ ¸ à¤ ° à¤ ķ à¤¾ à¤ ° Ġà¤ ¹ à¤ ® à¥ ĩ à¤ ¶ à¤¾ Ġà¤ ¸ à¥ ĩ Ġà¤ ķ à¤ ¿ à¤ ¸ à¤¾ à¤ ¨ à¥ ĭ à¤ Ĥ Ġà¤ ķ à¥ Ģ Ġà¤ ķ à¤ ® à¤¾ à¤ Ī Ġà¤ ķ à¥ ĭ Ġà¤ ¬ à¤ ¢ à¤ ¼ à¤¾ à¤ ¨ à¥ ĩ Ġà¤ ķ à¥ ĩ Ġà¤ ² à¤ ¿ à¤ ı Ġà¤ ¨ à¤ Ī - à¤ ¨ à¤ Ī Ġà¤ ¸ à¥ į à¤ ķ à¥ Ģ à¤ ® à¥ ĩ à¤ Ĥ Ġà¤ ² à¤¾ à¤ ¤ à¥ Ģ Ġà¤ ° à¤ ¹ à¤ ¤ à¥ Ģ Ġà¤ ¹ à¥ Ī , Ġà¤ ¤ à¤¾ à¤ ķ à¤ ¿ Ġà¤ ī à¤ ¨ Ġà¤ ª à¤ ° Ġà¤ ľ à¥ į à¤ ¯ à¤¾ à¤ ¦ à¤¾ Ġà¤ Ĩ à¤ ° à¥ į à¤ ¥ à¤ ¿ à¤ ķ Ġà¤ ¬ à¥ ĭ à¤ Ŀ Ġà¤ ¨ Ġà¤ ª à¤ ¡ à¤ ¼ à¥ ĩ . </s>,<s> à¤ ¸ à¤¾ à¤ ² à¥ ĩ Ġà¤ ľ à¥ ĩ à¤ ı à¤ ¨ à¤ ¯ à¥ Ĥ Ġà¤ Ľ à¤¾ à¤ ª Ġà¤ ķ à¤ ® à¤ ¿ à¤ ¨ à¥ ĩ Ġà¤ ² à¥ ĭ à¤ Ĺ Ġà¤ ¹ à¤ ¿ à¤ ¨ à¥ į à¤ ¦ à¥ ģ à¤ ĵ à¤ Ĥ Ġà¤ ķ à¥ ĭ Ġà¤ ¯ à¤ ¹ Ġà¤ ķ à¤ ¹ à¤ ¤ à¥ ĩ Ġà¤ ¹ à¥ Ī Ġà¤ ķ à¥ Ģ Ġà¤ ¸ à¤ Ĥ à¤ µ à¤ ¿ à¤ § à¤¾ à¤ ¨ Ġà¤ ¸ à¤ ¬ à¤ ķ à¥ ĭ Ġà¤ ¬ à¤ ° à¤¾ à¤ ¬ à¤ ° Ġà¤ ħ à¤ § à¤ ¿ à¤ ķ à¤¾ à¤ ° Ġà¤ ¦ à¥ ĩ à¤ ¤ à¤¾ Ġà¤ ¹ à¥ Ī à¥ ¤ Ġà¤ ¸ à¤ ļ à¥ į à¤ ļ à¤¾ à¤ Ī Ġà¤ ¯ à¤ ¹ Ġà¤ ¹ à¥ Ī Ġà¤ ķ à¤ ¿ Ġà¤ ¯ à¤ ¹ Ġà¤ ¬ à¤ ° à¤¾ à¤ ¬ à¤ ° Ġà¤ ħ à¤ § à¤ ¿ à¤ ķ à¤¾ à¤ ° Ġà¤ ¨ à¤ ¹ à¥ Ģ à¤ Ĥ Ġà¤ ¦ à¥ ĩ à¤ ¤ à¤¾ Ġà¤ ¹ à¥ Ī à¥ ¤ </s>,<s> à¤ ļ à¥ Ģ à¤ ¨ Ġà¤ ¨ à¥ ĩ ĠUN Ġà¤ ® à¥ ĩ à¤ Ĥ Ġà¤ ¤ à¤ ° à¥ į à¤ ķ Ġà¤ ¦ à¤ ¿ à¤ ¯ à¤¾ Ġà¤ ķ à¥ Ģ Ġà¤ Ń à¤¾ à¤ ° à¤ ¤ Ġà¤ ķ à¤¾ Ġà¤ µ à¤ ¿ à¤ ª à¤ ķ à¥ į à¤ · Ġà¤ ¹ à¥ Ģ Ġà¤ ħ à¤ ľ à¤ ° âĢ Į Ġà¤ ® à¤ ¸ à¥ ģ à¤ ¦ Ġà¤ ķ à¥ ĭ Ġà¤ Ĩ à¤ ¤ à¤ Ĥ à¤ ķ à¥ Ģ Ġà¤ ¨ à¤ ¹ à¥ Ģ à¤ Ĥ Ġà¤ ® à¤¾ à¤ ¨ à¤ ¤ à¤¾ Ġà¤ ¤ à¥ ĭ Ġà¤ ¹ à¤ ® Ġà¤ ķ à¥ Ī à¤ ¸ à¥ ĩ Ġà¤ ® à¤¾ à¤ ¨ à¥ ĩ à¥ ¤ Ġà¤ ļ à¥ ģ à¤ ² à¥ į à¤ ² à¥ Ĥ Ġà¤ Ń à¤ ° Ġà¤ ® à¥ Ĥ à¤ ¤ à¥ į à¤ ° Ġà¤ ® à¥ ĩ à¤ Ĥ Ġà¤ ¡ à¥ Ĥ à¤ ¬ Ġà¤ ® à¤ ° à¥ ĭ Ġà¤ Ĺ à¤ ¦ à¥ į à¤ ¦ à¤¾ à¤ ° à¥ ĭ à¤ Ĥ à¥ ¤ Ġà¤ ħ à¤ ¬ Ġà¤ ¯ à¤ ¹ Ġà¤ Ń à¤¾ à¤ ° à¤ ¤ Ġà¤ ķ à¥ ĩ Ġà¤ ² à¥ ĭ à¤ Ĺ à¥ ĭ à¤ Ĥ Ġà¤ ķ à¥ ĭ Ġà¤ ¸ à¥ ĭ à¤ ļ à¤ ¨ à¤¾ Ġà¤ ¹ à¥ Ī Ġà¤ ķ à¤ ¿ Ġà¤ µ à¥ ĭ Ġà¤ µ à¤ ¿ à¤ ª </s>,<s> à¤ ¦ à¥ ĩ à¤ ¶ Ġà¤ ® à¥ ĩ à¤ Ĥ Ġ Ġà¤ ķ à¥ ĩ Ġà¤ ° à¤ ¿ à¤ ķ à¥ ī à¤ ° à¥ į à¤ ¡ Ġà¤ ® à¤¾ à¤ ® à¤ ² à¥ ĩ </s>\n",
              "y: CategoryList\n",
              "0,1,0,0,1\n",
              "Path: .;\n",
              "\n",
              "Valid: LabelList (1143 items)\n",
              "x: RobertaTextList\n",
              "<s> à¤ ¯ à¥ Ĥ à¤ ª à¥ Ģ Ġà¤ ķ à¥ ĩ Ġà¤ ² à¤ ĸ à¥ Ģ à¤ ® à¤ ª à¥ ģ à¤ ° Ġà¤ ĸ à¥ Ģ à¤ ° à¥ Ģ Ġà¤ ® à¥ ĩ à¤ Ĥ Ġà¤ ª à¥ Ĥ à¤ ° à¥ į à¤ µ Ġà¤ µ à¤ ¿ à¤ § à¤¾ à¤ ¯ à¤ ķ Ġà¤ ¨ à¤ ¿ à¤ ° à¥ į à¤ µ à¥ ĩ à¤ Ĥ à¤ ¦ à¥ į à¤ ° Ġà¤ ķ à¥ ģ à¤ ® à¤¾ à¤ ° Ġà¤ ® à¤ ¿ à¤ ¶ à¥ į à¤ ° à¤¾ Ġà¤ ķ à¥ Ģ Ġà¤ ª à¥ Ģ à¤ Ł - à¤ ª à¥ Ģ à¤ Ł à¤ ķ à¤ ° Ġà¤ ¹ à¤ ¤ à¥ į à¤ ¯ à¤¾ , à¤ ¬ à¥ ĩ à¤ Ł à¥ ĩ Ġà¤ ķ à¥ Ģ Ġà¤ ¹ à¤¾ à¤ ² à¤ ¤ Ġà¤ Ĺ à¤ Ĥ à¤ Ń à¥ Ģ à¤ ° </s>,<s> à¤ ¤ à¤¾ à¤ ª à¤ ® à¤¾ à¤ ¨ Ġà¤ ® à¥ ĩ à¤ Ĥ Ġà¤ Ĺ à¤ ¿ à¤ ° à¤¾ à¤ µ à¤ Ł Ġà¤ µ Ġà¤ ¹ à¤ µ à¤¾ Ġà¤ ® à¥ ĩ à¤ Ĥ Ġà¤ ¬ à¤ ¦ à¤ ² à¤¾ à¤ µ Ġà¤ ¸ à¥ ĩ Ġà¤ ² à¤¾ - à¤ ¨ à¥ Ģ à¤ ¨ à¤¾ Ġà¤ ķ à¥ ĩ Ġà¤ ¸ à¤ Ĥ à¤ ķ à¥ ĩ à¤ ¤ , Ġà¤ ¸ à¤ ¿ à¤ ¤ à¤ Ĥ à¤ ¬ à¤ ° Ġà¤ Ń à¤ ° Ġà¤ ¬ à¤¾ à¤ ° à¤ ¿ à¤ ¶ Ġà¤ Ķ à¤ ° Ġà¤ ľ à¤ ² à¥ į à¤ ¦ Ġà¤ ł à¤ Ĥ à¤ ¡ Ġà¤ ķ à¥ Ģ Ġà¤ Ĩ à¤ ¶ à¤ Ĥ à¤ ķ à¤¾ </s>,<s> à¤ Ĺ à¥ ģ à¤ ľ à¤ ° à¤¾ à¤ ¤ Ġà¤ ® à¥ ĩ à¤ Ĥ Ġà¤ µ à¤ ¡ à¥ ĭ à¤ ¦ à¤ ° à¤¾ Ġà¤ ¸ à¥ ĩ Ġà¤ ² à¥ ĩ à¤ ķ à¤ ° Ġà¤ ľ à¥ Ĥ à¤ ¨ à¤¾ à¤ Ĺ à¤ ¢ à¤ ¼ Ġà¤ ¤ à¤ ķ Ġà¤ ¬ à¤¾ à¤ ¢ à¤ ¼ Ġà¤ ¹ à¥ Ģ Ġà¤ ¬ à¤¾ à¤ ¢ à¤ ¼ Ġà¤ ¹ à¥ Ī . </s>,<s> à¤ ķ à¤¾ à¤ Ĥ à¤ Ĺ à¥ į à¤ ° à¥ ĩ à¤ ¸ Ġà¤ µ à¤¾ à¤ ² à¥ ĭ à¤ Ĥ Ġà¤ ķ à¥ ģ à¤ Ľ Ġà¤ ¤ à¥ ĭ Ġà¤ ¶ à¤ ° à¥ į à¤ ® Ġà¤ ķ à¤ ° à¥ ĭ , à¤ ı à¤ ķ Ġà¤ ħ à¤ ¬ à¤ ² à¤¾ Ġà¤ ĸ à¤¾ à¤ ¤ à¥ Ĥ à¤ ¨ Ġ500 â Ĥ ¹ Ġà¤ Ķ à¤ ° Ġà¤ ¬ à¤ ¿ à¤ ° à¤ ¯ à¤¾ à¤ ¨ à¥ Ģ Ġà¤ ® à¥ ĩ à¤ Ĥ Ġà¤ ķ à¥ Ī à¤ ¸ à¥ ĩ Ġà¤ ħ à¤ ª à¤ ¨ à¤¾ Ġà¤ ĺ à¤ ° Ġà¤ ļ à¤ ² à¤¾ à¤ ı à¤ Ĺ à¥ Ģ , à¤ ² à¥ ĭ à¤ Ĺ à¥ ĭ à¤ Ĥ Ġà¤ ķ à¤¾ Ġà¤ ¶ à¥ ĭ à¤ · à¤ £ Ġà¤ ķ à¤ ° Ġà¤ ° à¤ ¹ à¥ ĩ Ġà¤ ¹ à¥ ĭ Ġ, à¤ Ĭ à¤ ª à¤ ° Ġà¤ ¸ à¥ ĩ Ġà¤ ² à¤ ĸ à¤ ¨ à¤ Ĭ Ġà¤ ª à¥ ģ à¤ ² à¤ ¿ à¤ ¸ Ġà¤ µ à¤ ¹ à¤¾ à¤ Ĥ Ġà¤ ¡ à¤¾ à¤ Ĥ à¤ ¸ à¤ ¿ à¤ Ĥ à¤ Ĺ Ġà¤ ķ à¤¾ à¤ ° Ġà¤ Ń à¥ Ģ Ġà¤ ĸ à¤ ¡ à¤ ¼ à¥ Ģ Ġà¤ ¨ à¤ ¹ à¥ Ģ Ġà¤ ¹ à¥ ĭ à¤ ¨ à¥ ĩ Ġà¤ ¦ à¥ ĩ Ġà¤ ° à¤ ¹ à¥ Ģ Ġ, Ġà¤ </s>,<s> à¤ ¯ à¥ Ĥ à¤ ª à¥ Ģ Ġà¤ ® à¥ ĩ à¤ Ĥ Ġà¤ ľ à¤¾ à¤ ¤ à¥ Ģ à¤ ¯ Ġà¤ ¹ à¤ ¿ à¤ Ĥ à¤ ¸ à¤¾ Ġà¤ Ķ à¤ ° Ġà¤ ¬ à¤ ² à¤¾ à¤ ¤ à¥ į à¤ ķ à¤¾ à¤ ° Ġà¤ ķ à¤¾ Ġà¤ ľ à¤ Ĥ à¤ Ĺ à¤ ² à¤ ° à¤¾ à¤ ľ Ġà¤ ļ à¤ ° à¤ ® Ġà¤ ª à¤ ° Ġà¤ ¹ à¥ Ī à¥ ¤ Ċ Ċ à¤ ħ à¤ ¬ Ġà¤ ı à¤ ķ Ġà¤ Ķ à¤ ° Ġà¤ Ń à¤ ¯ à¤¾ à¤ ¨ à¤ ķ Ġà¤ ĺ à¤ Ł à¤ ¨ à¤¾ - Ġà¤ ¸ à¤ ° à¤ ª à¤ Ĥ à¤ ļ Ġà¤ ¸ à¤ ¤ à¥ į à¤ ¯ à¤ ® à¥ ĩ à¤ µ Ġà¤ ¨ à¥ ĩ Ġà¤ ¦ à¤ ² à¤ ¿ à¤ ¤ Ġà¤ ¹ à¥ ĭ à¤ ķ à¤ ° ĠâĢ ĺ à¤ ¨ à¤¾ âĢ Ļ Ġà¤ ķ à¤ ¹ à¤¾ Ġà¤ ľ à¤ ¿ à¤ ¸ à¤ ķ à¥ ĩ Ġà¤ ķ à¤¾ à¤ ° à¤ £ Ġà¤ ī à¤ ¨ à¤ ķ à¥ Ģ Ġà¤ ¹ à¤ ¤ à¥ į à¤ ¯ à¤¾ Ġà¤ ķ à¤ ° Ġà¤ ¦ à¥ Ģ Ġà¤ Ĺ à¤ ¯ à¥ Ģ à¥ ¤ Ċ Ċ à¤ ¸ à¤ ¤ à¥ į à¤ ¯ à¤ ® à¥ ĩ à¤ µ Ġà¤ ľ à¥ Ģ Ġà¤ ķ à¥ ĩ Ġà¤ ª à¤ ° à¤ ¿ à¤ µ à¤¾ à¤ ° </s>\n",
              "y: CategoryList\n",
              "1,1,1,0,1\n",
              "Path: .;\n",
              "\n",
              "Test: None"
            ]
          },
          "metadata": {
            "tags": []
          },
          "execution_count": 61
        }
      ]
    },
    {
      "cell_type": "markdown",
      "metadata": {
        "id": "Apz7nE31n1qU"
      },
      "source": [
        "**Building the model**"
      ]
    },
    {
      "cell_type": "code",
      "metadata": {
        "id": "Ej8BQJjznzdQ"
      },
      "source": [
        "import torch\r\n",
        "import torch.nn as nn\r\n",
        "from transformers import RobertaModel\r\n",
        "\r\n",
        "# defining our model architecture \r\n",
        "class CustomRobertaModel(nn.Module):\r\n",
        "    def __init__(self,num_labels=2):\r\n",
        "        super(CustomRobertaModel,self).__init__()\r\n",
        "        self.num_labels = num_labels\r\n",
        "        self.roberta = RobertaModel.from_pretrained(config.roberta_model_name)\r\n",
        "        self.dropout = nn.Dropout(config.hidden_dropout_prob)\r\n",
        "        self.classifier = nn.Linear(config.hidden_size, num_labels) # defining final output layer\r\n",
        "        \r\n",
        "    def forward(self, input_ids, token_type_ids=None, attention_mask=None, labels=None):\r\n",
        "        _ , pooled_output = self.roberta(input_ids, token_type_ids, attention_mask) # \r\n",
        "        logits = self.classifier(pooled_output)        \r\n",
        "        return logits"
      ],
      "execution_count": 62,
      "outputs": []
    },
    {
      "cell_type": "code",
      "metadata": {
        "id": "BkFLLqR_nzR1"
      },
      "source": [
        "\r\n",
        "roberta_model = CustomRobertaModel(num_labels=config.num_labels)\r\n",
        "\r\n",
        "learn = Learner(data, roberta_model, metrics=[accuracy])"
      ],
      "execution_count": 63,
      "outputs": []
    },
    {
      "cell_type": "code",
      "metadata": {
        "colab": {
          "base_uri": "https://localhost:8080/",
          "height": 145
        },
        "id": "J2HbdWxnnCnB",
        "outputId": "ad0de4a5-c3f6-449f-a22d-13645b7a2fee"
      },
      "source": [
        "learn.model.roberta.train() # setting roberta to train as it is in eval mode by default\r\n",
        "learn.fit_one_cycle(config.epochs, max_lr=config.max_lr)"
      ],
      "execution_count": 64,
      "outputs": [
        {
          "output_type": "display_data",
          "data": {
            "text/html": [
              "<table border=\"1\" class=\"dataframe\">\n",
              "  <thead>\n",
              "    <tr style=\"text-align: left;\">\n",
              "      <th>epoch</th>\n",
              "      <th>train_loss</th>\n",
              "      <th>valid_loss</th>\n",
              "      <th>accuracy</th>\n",
              "      <th>time</th>\n",
              "    </tr>\n",
              "  </thead>\n",
              "  <tbody>\n",
              "    <tr>\n",
              "      <td>0</td>\n",
              "      <td>0.442029</td>\n",
              "      <td>0.428130</td>\n",
              "      <td>0.812773</td>\n",
              "      <td>03:57</td>\n",
              "    </tr>\n",
              "  </tbody>\n",
              "</table>"
            ],
            "text/plain": [
              "<IPython.core.display.HTML object>"
            ]
          },
          "metadata": {
            "tags": []
          }
        },
        {
          "output_type": "stream",
          "text": [
            "/usr/local/lib/python3.7/dist-packages/numpy/core/_asarray.py:102: VisibleDeprecationWarning: Creating an ndarray from ragged nested sequences (which is a list-or-tuple of lists-or-tuples-or ndarrays with different lengths or shapes) is deprecated. If you meant to do this, you must specify 'dtype=object' when creating the ndarray.\n",
            "  return array(a, dtype, copy=False, order=order)\n",
            "<string>:6: VisibleDeprecationWarning: Creating an ndarray from ragged nested sequences (which is a list-or-tuple of lists-or-tuples-or ndarrays with different lengths or shapes) is deprecated. If you meant to do this, you must specify 'dtype=object' when creating the ndarray.\n"
          ],
          "name": "stderr"
        }
      ]
    },
    {
      "cell_type": "code",
      "metadata": {
        "id": "6qB3ibT1mvr-"
      },
      "source": [
        "def get_preds_as_nparray(ds_type) -> np.ndarray:\r\n",
        "    learn.model.roberta.eval()\r\n",
        "    preds = learn.get_preds(ds_type)[0].detach().cpu().numpy()\r\n",
        "    sampler = [i for i in data.dl(ds_type).sampler]\r\n",
        "    reverse_sampler = np.argsort(sampler)\r\n",
        "    ordered_preds = preds[reverse_sampler, :]\r\n",
        "    pred_values = np.argmax(ordered_preds, axis=1)\r\n",
        "    return ordered_preds, pred_values"
      ],
      "execution_count": 65,
      "outputs": []
    },
    {
      "cell_type": "code",
      "metadata": {
        "colab": {
          "base_uri": "https://localhost:8080/",
          "height": 17
        },
        "id": "U5GQ8hOzxZ49",
        "outputId": "e9fa74b1-5b5b-48a9-8eaa-2e8066c74422"
      },
      "source": [
        "preds, pred_values = get_preds_as_nparray(DatasetType.Valid)\r\n"
      ],
      "execution_count": 66,
      "outputs": [
        {
          "output_type": "display_data",
          "data": {
            "text/html": [
              ""
            ],
            "text/plain": [
              "<IPython.core.display.HTML object>"
            ]
          },
          "metadata": {
            "tags": []
          }
        }
      ]
    },
    {
      "cell_type": "code",
      "metadata": {
        "id": "5SfI0HOlxjIn"
      },
      "source": [
        "# accuracy on valid\r\n",
        "(pred_values == data.valid_ds.y.items).mean()"
      ],
      "execution_count": null,
      "outputs": []
    },
    {
      "cell_type": "code",
      "metadata": {
        "id": "l_BT_wPGxmB4"
      },
      "source": [
        "from sklearn.metrics import classification_report\r\n",
        "print(classification_report(data.valid_ds.y.items,pred_values))"
      ],
      "execution_count": null,
      "outputs": []
    },
    {
      "cell_type": "markdown",
      "metadata": {
        "id": "MUk5Zbs5kW2U"
      },
      "source": [
        "**Hinglish BERT**"
      ]
    },
    {
      "cell_type": "code",
      "metadata": {
        "id": "ZAgnZ9igYa2a"
      },
      "source": [
        "import random"
      ],
      "execution_count": 53,
      "outputs": []
    },
    {
      "cell_type": "code",
      "metadata": {
        "colab": {
          "base_uri": "https://localhost:8080/",
          "height": 1000,
          "referenced_widgets": [
            "11c3dee2c9c14db89692bc2103e6fc09",
            "5390cee773224e14a5f743814eb3ed6f",
            "71cfc4855dba4f89b9e671e80a230b74",
            "cee3806170514bf893a3472fe4315f90",
            "1cfe77ca6e2f4590ada5bb7b5b6a246d",
            "ffc61fdab89e446d9c720711736516f7",
            "b3881e6a222c46b99b7fd92e8c198f1f",
            "7d29dbbccc02449181226eb1240ddd34",
            "67e1c844dfa247db961f2bc4c4a78840",
            "c47cab774961418b8f024fbb28686ee4",
            "143a72821f3e4ceebc9a09d9ce7f4949",
            "a0b7b882b2d74b27a7a41db7faeff3a4",
            "9bf443a2855f4e1aafcb10c888de664b",
            "15f8004ce56a4cce9139f2b4935573ed",
            "f569e6a4f885435aae3d13ab2d514e75",
            "29667395230046d3a68b916b216360d0",
            "5099e3bdaa9d4bbd9a1f5ac317f7149f",
            "f6051826992841b395aab5881b79ae3e",
            "a8db83406d8541b18113daee767d6638",
            "d7488b41059f4aaba110484fa577f2bc",
            "2b02c3ef04344f4daeeaf391c643a322",
            "586562a93e3747ab8ad580ba01d426f9",
            "0153d68f1b2e416b920c742b50fa75d8",
            "e3055ecfc4d347efaf4a7ed7b7074f7a",
            "2ee7acd1fd3d4afb9c29d7d09b55707b",
            "82494c4d766a4ff1ad457917a80f6609",
            "2c304670c5ea44fab52d2b2f0b17fc35",
            "d4246d3b5a2d4ae79b86a90474479a64",
            "673f8e76866243d3a1000626ea8e68d1",
            "ba7d16da7e2f452b8851dcd402550d86",
            "e750bfdb6fe44531a89f113718e82940",
            "af82299ece1f4ade9b73510fa75870b3",
            "2580952670914f4db1e9731c0262ce98",
            "f044a0dc91e64defb0addec3b8977be8",
            "4263c720b8b34fc2b6535f55cf46521a",
            "9ad73691fd964d059ea51878e501dbc6",
            "0fb5738e2d354232ac1210b81e7d1cd9",
            "465523829a524a28a0fc32d7afd34e66",
            "cb13d98508da4d53be22b75506499914",
            "6c147447639d4ddc9b67feb3f8d5e912"
          ]
        },
        "id": "DquWRE33Yakz",
        "outputId": "977e9a94-3153-4d38-f8af-d45ff967f477"
      },
      "source": [
        "from transformers import AutoTokenizer, AutoModelForSequenceClassification, AdamW\r\n",
        "import torch\r\n",
        "MODEL_NAME = 'verloop/Hinglish-Bert'\r\n",
        "# Use a GPU if you have one available (Runtime -> Change runtime type -> GPU)\r\n",
        "device = torch.device(\"cuda\" if torch.cuda.is_available() else \"cpu\")\r\n",
        "\r\n",
        "# Set seeds for reproducibility\r\n",
        "random.seed(26)\r\n",
        "np.random.seed(26)\r\n",
        "torch.manual_seed(26)\r\n",
        "tokenizer = AutoTokenizer.from_pretrained(MODEL_NAME) \r\n",
        "\r\n",
        "model = AutoModelForSequenceClassification.from_pretrained(MODEL_NAME)\r\n",
        "model.to(device) # Send the model to the GPU if we have one"
      ],
      "execution_count": 54,
      "outputs": [
        {
          "output_type": "display_data",
          "data": {
            "application/vnd.jupyter.widget-view+json": {
              "model_id": "11c3dee2c9c14db89692bc2103e6fc09",
              "version_minor": 0,
              "version_major": 2
            },
            "text/plain": [
              "HBox(children=(FloatProgress(value=0.0, description='Downloading', max=1215.0, style=ProgressStyle(description…"
            ]
          },
          "metadata": {
            "tags": []
          }
        },
        {
          "output_type": "stream",
          "text": [
            "\n"
          ],
          "name": "stdout"
        },
        {
          "output_type": "display_data",
          "data": {
            "application/vnd.jupyter.widget-view+json": {
              "model_id": "67e1c844dfa247db961f2bc4c4a78840",
              "version_minor": 0,
              "version_major": 2
            },
            "text/plain": [
              "HBox(children=(FloatProgress(value=0.0, description='Downloading', max=995526.0, style=ProgressStyle(descripti…"
            ]
          },
          "metadata": {
            "tags": []
          }
        },
        {
          "output_type": "stream",
          "text": [
            "\n"
          ],
          "name": "stdout"
        },
        {
          "output_type": "display_data",
          "data": {
            "application/vnd.jupyter.widget-view+json": {
              "model_id": "5099e3bdaa9d4bbd9a1f5ac317f7149f",
              "version_minor": 0,
              "version_major": 2
            },
            "text/plain": [
              "HBox(children=(FloatProgress(value=0.0, description='Downloading', max=112.0, style=ProgressStyle(description_…"
            ]
          },
          "metadata": {
            "tags": []
          }
        },
        {
          "output_type": "stream",
          "text": [
            "\n"
          ],
          "name": "stdout"
        },
        {
          "output_type": "display_data",
          "data": {
            "application/vnd.jupyter.widget-view+json": {
              "model_id": "2ee7acd1fd3d4afb9c29d7d09b55707b",
              "version_minor": 0,
              "version_major": 2
            },
            "text/plain": [
              "HBox(children=(FloatProgress(value=0.0, description='Downloading', max=152.0, style=ProgressStyle(description_…"
            ]
          },
          "metadata": {
            "tags": []
          }
        },
        {
          "output_type": "stream",
          "text": [
            "\n"
          ],
          "name": "stdout"
        },
        {
          "output_type": "display_data",
          "data": {
            "application/vnd.jupyter.widget-view+json": {
              "model_id": "2580952670914f4db1e9731c0262ce98",
              "version_minor": 0,
              "version_major": 2
            },
            "text/plain": [
              "HBox(children=(FloatProgress(value=0.0, description='Downloading', max=714309763.0, style=ProgressStyle(descri…"
            ]
          },
          "metadata": {
            "tags": []
          }
        },
        {
          "output_type": "stream",
          "text": [
            "\n"
          ],
          "name": "stdout"
        },
        {
          "output_type": "stream",
          "text": [
            "Some weights of the model checkpoint at verloop/Hinglish-Bert were not used when initializing BertForSequenceClassification: ['cls.predictions.bias', 'cls.predictions.transform.dense.weight', 'cls.predictions.transform.dense.bias', 'cls.predictions.transform.LayerNorm.weight', 'cls.predictions.transform.LayerNorm.bias', 'cls.predictions.decoder.weight', 'cls.predictions.decoder.bias']\n",
            "- This IS expected if you are initializing BertForSequenceClassification from the checkpoint of a model trained on another task or with another architecture (e.g. initializing a BertForSequenceClassification model from a BertForPreTraining model).\n",
            "- This IS NOT expected if you are initializing BertForSequenceClassification from the checkpoint of a model that you expect to be exactly identical (initializing a BertForSequenceClassification model from a BertForSequenceClassification model).\n",
            "Some weights of BertForSequenceClassification were not initialized from the model checkpoint at verloop/Hinglish-Bert and are newly initialized: ['classifier.weight', 'classifier.bias']\n",
            "You should probably TRAIN this model on a down-stream task to be able to use it for predictions and inference.\n"
          ],
          "name": "stderr"
        },
        {
          "output_type": "execute_result",
          "data": {
            "text/plain": [
              "BertForSequenceClassification(\n",
              "  (bert): BertModel(\n",
              "    (embeddings): BertEmbeddings(\n",
              "      (word_embeddings): Embedding(119547, 768)\n",
              "      (position_embeddings): Embedding(512, 768)\n",
              "      (token_type_embeddings): Embedding(2, 768)\n",
              "      (LayerNorm): LayerNorm((768,), eps=1e-12, elementwise_affine=True)\n",
              "      (dropout): Dropout(p=0.1, inplace=False)\n",
              "    )\n",
              "    (encoder): BertEncoder(\n",
              "      (layer): ModuleList(\n",
              "        (0): BertLayer(\n",
              "          (attention): BertAttention(\n",
              "            (self): BertSelfAttention(\n",
              "              (query): Linear(in_features=768, out_features=768, bias=True)\n",
              "              (key): Linear(in_features=768, out_features=768, bias=True)\n",
              "              (value): Linear(in_features=768, out_features=768, bias=True)\n",
              "              (dropout): Dropout(p=0.1, inplace=False)\n",
              "            )\n",
              "            (output): BertSelfOutput(\n",
              "              (dense): Linear(in_features=768, out_features=768, bias=True)\n",
              "              (LayerNorm): LayerNorm((768,), eps=1e-12, elementwise_affine=True)\n",
              "              (dropout): Dropout(p=0.1, inplace=False)\n",
              "            )\n",
              "          )\n",
              "          (intermediate): BertIntermediate(\n",
              "            (dense): Linear(in_features=768, out_features=3072, bias=True)\n",
              "          )\n",
              "          (output): BertOutput(\n",
              "            (dense): Linear(in_features=3072, out_features=768, bias=True)\n",
              "            (LayerNorm): LayerNorm((768,), eps=1e-12, elementwise_affine=True)\n",
              "            (dropout): Dropout(p=0.1, inplace=False)\n",
              "          )\n",
              "        )\n",
              "        (1): BertLayer(\n",
              "          (attention): BertAttention(\n",
              "            (self): BertSelfAttention(\n",
              "              (query): Linear(in_features=768, out_features=768, bias=True)\n",
              "              (key): Linear(in_features=768, out_features=768, bias=True)\n",
              "              (value): Linear(in_features=768, out_features=768, bias=True)\n",
              "              (dropout): Dropout(p=0.1, inplace=False)\n",
              "            )\n",
              "            (output): BertSelfOutput(\n",
              "              (dense): Linear(in_features=768, out_features=768, bias=True)\n",
              "              (LayerNorm): LayerNorm((768,), eps=1e-12, elementwise_affine=True)\n",
              "              (dropout): Dropout(p=0.1, inplace=False)\n",
              "            )\n",
              "          )\n",
              "          (intermediate): BertIntermediate(\n",
              "            (dense): Linear(in_features=768, out_features=3072, bias=True)\n",
              "          )\n",
              "          (output): BertOutput(\n",
              "            (dense): Linear(in_features=3072, out_features=768, bias=True)\n",
              "            (LayerNorm): LayerNorm((768,), eps=1e-12, elementwise_affine=True)\n",
              "            (dropout): Dropout(p=0.1, inplace=False)\n",
              "          )\n",
              "        )\n",
              "        (2): BertLayer(\n",
              "          (attention): BertAttention(\n",
              "            (self): BertSelfAttention(\n",
              "              (query): Linear(in_features=768, out_features=768, bias=True)\n",
              "              (key): Linear(in_features=768, out_features=768, bias=True)\n",
              "              (value): Linear(in_features=768, out_features=768, bias=True)\n",
              "              (dropout): Dropout(p=0.1, inplace=False)\n",
              "            )\n",
              "            (output): BertSelfOutput(\n",
              "              (dense): Linear(in_features=768, out_features=768, bias=True)\n",
              "              (LayerNorm): LayerNorm((768,), eps=1e-12, elementwise_affine=True)\n",
              "              (dropout): Dropout(p=0.1, inplace=False)\n",
              "            )\n",
              "          )\n",
              "          (intermediate): BertIntermediate(\n",
              "            (dense): Linear(in_features=768, out_features=3072, bias=True)\n",
              "          )\n",
              "          (output): BertOutput(\n",
              "            (dense): Linear(in_features=3072, out_features=768, bias=True)\n",
              "            (LayerNorm): LayerNorm((768,), eps=1e-12, elementwise_affine=True)\n",
              "            (dropout): Dropout(p=0.1, inplace=False)\n",
              "          )\n",
              "        )\n",
              "        (3): BertLayer(\n",
              "          (attention): BertAttention(\n",
              "            (self): BertSelfAttention(\n",
              "              (query): Linear(in_features=768, out_features=768, bias=True)\n",
              "              (key): Linear(in_features=768, out_features=768, bias=True)\n",
              "              (value): Linear(in_features=768, out_features=768, bias=True)\n",
              "              (dropout): Dropout(p=0.1, inplace=False)\n",
              "            )\n",
              "            (output): BertSelfOutput(\n",
              "              (dense): Linear(in_features=768, out_features=768, bias=True)\n",
              "              (LayerNorm): LayerNorm((768,), eps=1e-12, elementwise_affine=True)\n",
              "              (dropout): Dropout(p=0.1, inplace=False)\n",
              "            )\n",
              "          )\n",
              "          (intermediate): BertIntermediate(\n",
              "            (dense): Linear(in_features=768, out_features=3072, bias=True)\n",
              "          )\n",
              "          (output): BertOutput(\n",
              "            (dense): Linear(in_features=3072, out_features=768, bias=True)\n",
              "            (LayerNorm): LayerNorm((768,), eps=1e-12, elementwise_affine=True)\n",
              "            (dropout): Dropout(p=0.1, inplace=False)\n",
              "          )\n",
              "        )\n",
              "        (4): BertLayer(\n",
              "          (attention): BertAttention(\n",
              "            (self): BertSelfAttention(\n",
              "              (query): Linear(in_features=768, out_features=768, bias=True)\n",
              "              (key): Linear(in_features=768, out_features=768, bias=True)\n",
              "              (value): Linear(in_features=768, out_features=768, bias=True)\n",
              "              (dropout): Dropout(p=0.1, inplace=False)\n",
              "            )\n",
              "            (output): BertSelfOutput(\n",
              "              (dense): Linear(in_features=768, out_features=768, bias=True)\n",
              "              (LayerNorm): LayerNorm((768,), eps=1e-12, elementwise_affine=True)\n",
              "              (dropout): Dropout(p=0.1, inplace=False)\n",
              "            )\n",
              "          )\n",
              "          (intermediate): BertIntermediate(\n",
              "            (dense): Linear(in_features=768, out_features=3072, bias=True)\n",
              "          )\n",
              "          (output): BertOutput(\n",
              "            (dense): Linear(in_features=3072, out_features=768, bias=True)\n",
              "            (LayerNorm): LayerNorm((768,), eps=1e-12, elementwise_affine=True)\n",
              "            (dropout): Dropout(p=0.1, inplace=False)\n",
              "          )\n",
              "        )\n",
              "        (5): BertLayer(\n",
              "          (attention): BertAttention(\n",
              "            (self): BertSelfAttention(\n",
              "              (query): Linear(in_features=768, out_features=768, bias=True)\n",
              "              (key): Linear(in_features=768, out_features=768, bias=True)\n",
              "              (value): Linear(in_features=768, out_features=768, bias=True)\n",
              "              (dropout): Dropout(p=0.1, inplace=False)\n",
              "            )\n",
              "            (output): BertSelfOutput(\n",
              "              (dense): Linear(in_features=768, out_features=768, bias=True)\n",
              "              (LayerNorm): LayerNorm((768,), eps=1e-12, elementwise_affine=True)\n",
              "              (dropout): Dropout(p=0.1, inplace=False)\n",
              "            )\n",
              "          )\n",
              "          (intermediate): BertIntermediate(\n",
              "            (dense): Linear(in_features=768, out_features=3072, bias=True)\n",
              "          )\n",
              "          (output): BertOutput(\n",
              "            (dense): Linear(in_features=3072, out_features=768, bias=True)\n",
              "            (LayerNorm): LayerNorm((768,), eps=1e-12, elementwise_affine=True)\n",
              "            (dropout): Dropout(p=0.1, inplace=False)\n",
              "          )\n",
              "        )\n",
              "        (6): BertLayer(\n",
              "          (attention): BertAttention(\n",
              "            (self): BertSelfAttention(\n",
              "              (query): Linear(in_features=768, out_features=768, bias=True)\n",
              "              (key): Linear(in_features=768, out_features=768, bias=True)\n",
              "              (value): Linear(in_features=768, out_features=768, bias=True)\n",
              "              (dropout): Dropout(p=0.1, inplace=False)\n",
              "            )\n",
              "            (output): BertSelfOutput(\n",
              "              (dense): Linear(in_features=768, out_features=768, bias=True)\n",
              "              (LayerNorm): LayerNorm((768,), eps=1e-12, elementwise_affine=True)\n",
              "              (dropout): Dropout(p=0.1, inplace=False)\n",
              "            )\n",
              "          )\n",
              "          (intermediate): BertIntermediate(\n",
              "            (dense): Linear(in_features=768, out_features=3072, bias=True)\n",
              "          )\n",
              "          (output): BertOutput(\n",
              "            (dense): Linear(in_features=3072, out_features=768, bias=True)\n",
              "            (LayerNorm): LayerNorm((768,), eps=1e-12, elementwise_affine=True)\n",
              "            (dropout): Dropout(p=0.1, inplace=False)\n",
              "          )\n",
              "        )\n",
              "        (7): BertLayer(\n",
              "          (attention): BertAttention(\n",
              "            (self): BertSelfAttention(\n",
              "              (query): Linear(in_features=768, out_features=768, bias=True)\n",
              "              (key): Linear(in_features=768, out_features=768, bias=True)\n",
              "              (value): Linear(in_features=768, out_features=768, bias=True)\n",
              "              (dropout): Dropout(p=0.1, inplace=False)\n",
              "            )\n",
              "            (output): BertSelfOutput(\n",
              "              (dense): Linear(in_features=768, out_features=768, bias=True)\n",
              "              (LayerNorm): LayerNorm((768,), eps=1e-12, elementwise_affine=True)\n",
              "              (dropout): Dropout(p=0.1, inplace=False)\n",
              "            )\n",
              "          )\n",
              "          (intermediate): BertIntermediate(\n",
              "            (dense): Linear(in_features=768, out_features=3072, bias=True)\n",
              "          )\n",
              "          (output): BertOutput(\n",
              "            (dense): Linear(in_features=3072, out_features=768, bias=True)\n",
              "            (LayerNorm): LayerNorm((768,), eps=1e-12, elementwise_affine=True)\n",
              "            (dropout): Dropout(p=0.1, inplace=False)\n",
              "          )\n",
              "        )\n",
              "        (8): BertLayer(\n",
              "          (attention): BertAttention(\n",
              "            (self): BertSelfAttention(\n",
              "              (query): Linear(in_features=768, out_features=768, bias=True)\n",
              "              (key): Linear(in_features=768, out_features=768, bias=True)\n",
              "              (value): Linear(in_features=768, out_features=768, bias=True)\n",
              "              (dropout): Dropout(p=0.1, inplace=False)\n",
              "            )\n",
              "            (output): BertSelfOutput(\n",
              "              (dense): Linear(in_features=768, out_features=768, bias=True)\n",
              "              (LayerNorm): LayerNorm((768,), eps=1e-12, elementwise_affine=True)\n",
              "              (dropout): Dropout(p=0.1, inplace=False)\n",
              "            )\n",
              "          )\n",
              "          (intermediate): BertIntermediate(\n",
              "            (dense): Linear(in_features=768, out_features=3072, bias=True)\n",
              "          )\n",
              "          (output): BertOutput(\n",
              "            (dense): Linear(in_features=3072, out_features=768, bias=True)\n",
              "            (LayerNorm): LayerNorm((768,), eps=1e-12, elementwise_affine=True)\n",
              "            (dropout): Dropout(p=0.1, inplace=False)\n",
              "          )\n",
              "        )\n",
              "        (9): BertLayer(\n",
              "          (attention): BertAttention(\n",
              "            (self): BertSelfAttention(\n",
              "              (query): Linear(in_features=768, out_features=768, bias=True)\n",
              "              (key): Linear(in_features=768, out_features=768, bias=True)\n",
              "              (value): Linear(in_features=768, out_features=768, bias=True)\n",
              "              (dropout): Dropout(p=0.1, inplace=False)\n",
              "            )\n",
              "            (output): BertSelfOutput(\n",
              "              (dense): Linear(in_features=768, out_features=768, bias=True)\n",
              "              (LayerNorm): LayerNorm((768,), eps=1e-12, elementwise_affine=True)\n",
              "              (dropout): Dropout(p=0.1, inplace=False)\n",
              "            )\n",
              "          )\n",
              "          (intermediate): BertIntermediate(\n",
              "            (dense): Linear(in_features=768, out_features=3072, bias=True)\n",
              "          )\n",
              "          (output): BertOutput(\n",
              "            (dense): Linear(in_features=3072, out_features=768, bias=True)\n",
              "            (LayerNorm): LayerNorm((768,), eps=1e-12, elementwise_affine=True)\n",
              "            (dropout): Dropout(p=0.1, inplace=False)\n",
              "          )\n",
              "        )\n",
              "        (10): BertLayer(\n",
              "          (attention): BertAttention(\n",
              "            (self): BertSelfAttention(\n",
              "              (query): Linear(in_features=768, out_features=768, bias=True)\n",
              "              (key): Linear(in_features=768, out_features=768, bias=True)\n",
              "              (value): Linear(in_features=768, out_features=768, bias=True)\n",
              "              (dropout): Dropout(p=0.1, inplace=False)\n",
              "            )\n",
              "            (output): BertSelfOutput(\n",
              "              (dense): Linear(in_features=768, out_features=768, bias=True)\n",
              "              (LayerNorm): LayerNorm((768,), eps=1e-12, elementwise_affine=True)\n",
              "              (dropout): Dropout(p=0.1, inplace=False)\n",
              "            )\n",
              "          )\n",
              "          (intermediate): BertIntermediate(\n",
              "            (dense): Linear(in_features=768, out_features=3072, bias=True)\n",
              "          )\n",
              "          (output): BertOutput(\n",
              "            (dense): Linear(in_features=3072, out_features=768, bias=True)\n",
              "            (LayerNorm): LayerNorm((768,), eps=1e-12, elementwise_affine=True)\n",
              "            (dropout): Dropout(p=0.1, inplace=False)\n",
              "          )\n",
              "        )\n",
              "        (11): BertLayer(\n",
              "          (attention): BertAttention(\n",
              "            (self): BertSelfAttention(\n",
              "              (query): Linear(in_features=768, out_features=768, bias=True)\n",
              "              (key): Linear(in_features=768, out_features=768, bias=True)\n",
              "              (value): Linear(in_features=768, out_features=768, bias=True)\n",
              "              (dropout): Dropout(p=0.1, inplace=False)\n",
              "            )\n",
              "            (output): BertSelfOutput(\n",
              "              (dense): Linear(in_features=768, out_features=768, bias=True)\n",
              "              (LayerNorm): LayerNorm((768,), eps=1e-12, elementwise_affine=True)\n",
              "              (dropout): Dropout(p=0.1, inplace=False)\n",
              "            )\n",
              "          )\n",
              "          (intermediate): BertIntermediate(\n",
              "            (dense): Linear(in_features=768, out_features=3072, bias=True)\n",
              "          )\n",
              "          (output): BertOutput(\n",
              "            (dense): Linear(in_features=3072, out_features=768, bias=True)\n",
              "            (LayerNorm): LayerNorm((768,), eps=1e-12, elementwise_affine=True)\n",
              "            (dropout): Dropout(p=0.1, inplace=False)\n",
              "          )\n",
              "        )\n",
              "      )\n",
              "    )\n",
              "    (pooler): BertPooler(\n",
              "      (dense): Linear(in_features=768, out_features=768, bias=True)\n",
              "      (activation): Tanh()\n",
              "    )\n",
              "  )\n",
              "  (dropout): Dropout(p=0.1, inplace=False)\n",
              "  (classifier): Linear(in_features=768, out_features=2, bias=True)\n",
              ")"
            ]
          },
          "metadata": {
            "tags": []
          },
          "execution_count": 54
        }
      ]
    },
    {
      "cell_type": "code",
      "metadata": {
        "id": "Xg7ke0MZYcEX"
      },
      "source": [
        "import time\r\n",
        "import time\r\n",
        "import datetime\r\n",
        "from sklearn.metrics import accuracy_score, classification_report\r\n",
        "\r\n",
        "def format_time(elapsed):\r\n",
        "    '''\r\n",
        "    Takes a time in seconds and returns a string hh:mm:ss\r\n",
        "    '''\r\n",
        "    elapsed_rounded = int(round((elapsed)))\r\n",
        "    \r\n",
        "    return str(datetime.timedelta(seconds=elapsed_rounded))\r\n",
        "batch_size = 8\r\n",
        "max_length = 256\r\n",
        "\r\n",
        "def X_process(sentences):\r\n",
        "    input_ids = []\r\n",
        "    attention_masks = []\r\n",
        "\r\n",
        "    for sent in sentences:\r\n",
        "        encoded_dict = tokenizer.encode_plus(\r\n",
        "                            sent,                      # Sentence to encode.\r\n",
        "                            add_special_tokens = True, # Add '[CLS]' and '[SEP]'\r\n",
        "                            max_length = max_length,           # Pad & truncate all sentences.\r\n",
        "                            pad_to_max_length = True,\r\n",
        "                            return_attention_mask = True,   # Construct attn. masks.\r\n",
        "                            return_tensors = 'pt',     # Return pytorch tensors.\r\n",
        "                       )\r\n",
        "\r\n",
        "        input_ids.append(encoded_dict['input_ids'])\r\n",
        "\r\n",
        "        attention_masks.append(encoded_dict['attention_mask'])\r\n",
        "    return input_ids, attention_masks\r\n",
        "\r\n",
        "\r\n",
        "def train_load(input_ids, attention_masks, labels):\r\n",
        "    input_ids = torch.cat(input_ids, dim=0)\r\n",
        "    attention_masks = torch.cat(attention_masks, dim=0)\r\n",
        "    labels = torch.tensor(labels)\r\n",
        "\r\n",
        "    train_dataset = TensorDataset(input_ids, attention_masks, labels)\r\n",
        "    train_dataloader = DataLoader(\r\n",
        "                train_dataset,  # The training samples.\r\n",
        "                sampler = SequentialSampler(train_dataset), # Select batches sequentially\r\n",
        "                batch_size = batch_size # Trains with this batch size.\r\n",
        "            )\r\n",
        "    return train_dataloader\r\n",
        "\r\n",
        "def val_load(input_ids, attention_masks, labels):\r\n",
        "    input_ids = torch.cat(input_ids, dim=0)\r\n",
        "    attention_masks = torch.cat(attention_masks, dim=0)\r\n",
        "    labels = torch.tensor(labels)\r\n",
        "\r\n",
        "    val_dataset = TensorDataset(input_ids, attention_masks, labels)\r\n",
        "    validation_dataloader = DataLoader(\r\n",
        "                val_dataset, # The validation samples.\r\n",
        "                sampler = SequentialSampler(val_dataset), # Pull out batches sequentially.\r\n",
        "                batch_size = batch_size # Evaluate with this batch size.\r\n",
        "            )\r\n",
        "    \r\n",
        "    return validation_dataloader\r\n",
        "\r\n",
        "def test_load(input_ids, attention_masks):\r\n",
        "    input_ids = torch.cat(input_ids, dim=0)\r\n",
        "    attention_masks = torch.cat(attention_masks, dim=0)\r\n",
        "\r\n",
        "    test_dataset = TensorDataset(input_ids, attention_masks)\r\n",
        "    test_dataloader = DataLoader(\r\n",
        "                test_dataset, # The validation samples.\r\n",
        "                sampler = SequentialSampler(test_dataset), # Pull out batches sequentially.\r\n",
        "                batch_size = batch_size # Evaluate with this batch size.\r\n",
        "            )\r\n",
        "    \r\n",
        "    return test_dataloader\r\n",
        "\r\n",
        "def train_fn(train_dataloader, validation_dataloader):\r\n",
        "    \r\n",
        "    seed_val = 42\r\n",
        "\r\n",
        "    random.seed(seed_val)\r\n",
        "    np.random.seed(seed_val)\r\n",
        "    torch.manual_seed(seed_val)\r\n",
        "    torch.cuda.manual_seed_all(seed_val)\r\n",
        "\r\n",
        "    training_stats = []\r\n",
        "\r\n",
        "    total_t0 = time.time()\r\n",
        "    for epoch_i in range(0, 2):\r\n",
        "\r\n",
        "        \r\n",
        "        print('Training...')\r\n",
        "\r\n",
        "        t0 = time.time()\r\n",
        "\r\n",
        "        total_train_loss = 0\r\n",
        "\r\n",
        "        model.train()\r\n",
        "\r\n",
        "        for step, batch in enumerate(train_dataloader):\r\n",
        "\r\n",
        "            if step % 40 == 0 and not step == 0:\r\n",
        "                elapsed = format_time(time.time() - t0)\r\n",
        "\r\n",
        "                # Report progress.\r\n",
        "                print('  Batch {:>5,}  of  {:>5,}.    Elapsed: {:}.'.format(step, len(train_dataloader), elapsed))\r\n",
        "\r\n",
        "            b_input_ids = batch[0].to(device)\r\n",
        "            b_input_mask = batch[1].to(device)\r\n",
        "            b_labels = batch[2].to(device)\r\n",
        "\r\n",
        "            model.zero_grad()        \r\n",
        "\r\n",
        "            state = model(b_input_ids, \r\n",
        "                                 token_type_ids=None, \r\n",
        "                                 attention_mask=b_input_mask, \r\n",
        "                                 labels=b_labels)\r\n",
        "            loss = state.loss\r\n",
        "            logits = state.logits\r\n",
        "\r\n",
        "            total_train_loss += loss.item()\r\n",
        "\r\n",
        "            loss.backward()\r\n",
        "\r\n",
        "            torch.nn.utils.clip_grad_norm_(model.parameters(), 1.0)\r\n",
        "\r\n",
        "            optimizer.step()\r\n",
        "\r\n",
        "            scheduler.step()\r\n",
        "\r\n",
        "        avg_train_loss = total_train_loss / len(train_dataloader)            \r\n",
        "\r\n",
        "        training_time = format_time(time.time() - t0)\r\n",
        "\r\n",
        "        print(\"\")\r\n",
        "        print(\"  Average training loss: {0:.2f}\".format(avg_train_loss))\r\n",
        "        print(\"  Training took: {:}\".format(training_time))\r\n",
        "\r\n",
        "        print(\"\")\r\n",
        "        print(\"Running Validation...\")\r\n",
        "\r\n",
        "        t0 = time.time()\r\n",
        "\r\n",
        "        model.eval()\r\n",
        "\r\n",
        "        total_eval_accuracy = 0\r\n",
        "        total_eval_loss = 0\r\n",
        "        nb_eval_steps = 0\r\n",
        "        \r\n",
        "        y_pred_val = []\r\n",
        "\r\n",
        "        for batch in validation_dataloader:\r\n",
        "\r\n",
        "            \r\n",
        "            b_input_ids = batch[0].to(device)\r\n",
        "            b_input_mask = batch[1].to(device)\r\n",
        "            b_labels = batch[2].to(device)\r\n",
        "\r\n",
        "            with torch.no_grad():        \r\n",
        "\r\n",
        "                state = model(b_input_ids, \r\n",
        "                                       token_type_ids=None, \r\n",
        "                                       attention_mask=b_input_mask,\r\n",
        "                                       labels=b_labels)\r\n",
        "                loss = state.loss\r\n",
        "                logits = state.logits\r\n",
        "\r\n",
        "            total_eval_loss += loss.item()\r\n",
        "\r\n",
        "            logits = logits.detach().cpu().numpy()\r\n",
        "            label_ids = b_labels.to('cpu').numpy()\r\n",
        "\r\n",
        "            total_eval_accuracy += flat_accuracy(logits, label_ids)\r\n",
        "            preds = logits\r\n",
        "            \r\n",
        "            pred_flat = np.argmax(preds, axis=1).flatten()\r\n",
        "            y_pred_val.extend(pred_flat)\r\n",
        "\r\n",
        "\r\n",
        "        avg_val_accuracy = total_eval_accuracy / len(validation_dataloader)\r\n",
        "        print(\"  Accuracy: {0:.2f}\".format(avg_val_accuracy))\r\n",
        "\r\n",
        "        avg_val_loss = total_eval_loss / len(validation_dataloader)\r\n",
        "\r\n",
        "        validation_time = format_time(time.time() - t0)\r\n",
        "\r\n",
        "        print(\"  Validation Loss: {0:.2f}\".format(avg_val_loss))\r\n",
        "        print(\"  Validation took: {:}\".format(validation_time))\r\n",
        "\r\n",
        "        training_stats.append(\r\n",
        "            {\r\n",
        "                'epoch': epoch_i + 1,\r\n",
        "                'Training Loss': avg_train_loss,\r\n",
        "                'Valid. Loss': avg_val_loss,\r\n",
        "                'Valid. Accur.': avg_val_accuracy,\r\n",
        "                'Training Time': training_time,\r\n",
        "                'Validation Time': validation_time\r\n",
        "            }\r\n",
        "        )\r\n",
        "        print(training_stats)\r\n",
        "        \r\n",
        "    return training_stats, y_pred_val\r\n",
        "\r\n",
        "\r\n",
        "\r\n",
        "\r\n",
        "def flat_accuracy(preds, labels):\r\n",
        "    pred_flat = np.argmax(preds, axis=1).flatten()\r\n",
        "    labels_flat = labels.flatten()\r\n",
        "    return np.sum(pred_flat == labels_flat) / len(labels_flat)\r\n",
        "\r\n",
        "\r\n",
        "def evaluation(y_true, y_pred):\r\n",
        "  print(\"Fine Grained Accuracy = {}\".format(accuracy_score(y_true, y_pred)))\r\n",
        "  print(\"\\n\\nFine Grained Metrics\\n\")\r\n",
        "  print(classification_report(y_true, y_pred))"
      ],
      "execution_count": 60,
      "outputs": []
    },
    {
      "cell_type": "code",
      "metadata": {
        "colab": {
          "base_uri": "https://localhost:8080/"
        },
        "id": "PIStFT6kY4IP",
        "outputId": "4bd82213-4a4b-45d3-a2ad-228010120ebb"
      },
      "source": [
        "from torch.utils.data import TensorDataset, random_split \r\n",
        "from torch.utils.data import TensorDataset, DataLoader, RandomSampler, SequentialSampler\r\n",
        "\r\n",
        "print(\"**********NH**********\")\r\n",
        "optimizer = AdamW(model.parameters(),\r\n",
        "                  lr = 2e-5, # args.learning_rate - default is 5e-5, our notebook had 2e-5\r\n",
        "                  eps = 1e-8 # args.adam_epsilon  - default is 1e-8.\r\n",
        "                )\r\n",
        "\r\n",
        "y_train = train_df.nh.values\r\n",
        "y_test = test_df.nh.values\r\n",
        "\r\n",
        "train_labels_non_hostile = train_df.nh.values\r\n",
        "val_labels_non_hostile = test_df.nh.values\r\n",
        "\r\n",
        "input_ids, attention_masks = X_process(train_df['Post'])\r\n",
        "train_dataloader = train_load(input_ids, attention_masks, train_labels_non_hostile)\r\n",
        "\r\n",
        "input_ids, attention_masks = X_process(test_df['Post'])\r\n",
        "validation_dataloader = val_load(input_ids, attention_masks, val_labels_non_hostile)\r\n",
        "\r\n",
        "input_ids, attention_masks = X_process(train_df['Post'])\r\n",
        "test_dataloader = test_load(input_ids, attention_masks)\r\n",
        "\r\n",
        "from transformers import get_linear_schedule_with_warmup\r\n",
        "\r\n",
        "\r\n",
        "\r\n",
        "total_steps = len(train_dataloader) * 2\r\n",
        "\r\n",
        "scheduler = get_linear_schedule_with_warmup(optimizer, \r\n",
        "                                            num_warmup_steps = 0, # Default value in run_glue.py\r\n",
        "                                            num_training_steps = total_steps)\r\n",
        "training_stats, y_pred_val_non_hostile = train_fn(train_dataloader, validation_dataloader)\r\n",
        "evaluation(y_test, y_pred_val_non_hostile)\r\n",
        "\r\n",
        "\r\n",
        "\r\n",
        "\r\n",
        "\r\n",
        "#fake\r\n",
        "print(\"**********fake**********\")\r\n",
        "from torch.utils.data import TensorDataset, random_split \r\n",
        "from torch.utils.data import TensorDataset, DataLoader, RandomSampler, SequentialSampler\r\n",
        "\r\n",
        "optimizer = AdamW(model.parameters(),\r\n",
        "                  lr = 2e-5, # args.learning_rate - default is 5e-5, our notebook had 2e-5\r\n",
        "                  eps = 1e-8 # args.adam_epsilon  - default is 1e-8.\r\n",
        "                )\r\n",
        "\r\n",
        "y_train = train_result.fake.values\r\n",
        "y_test = test_result.fake.values\r\n",
        "\r\n",
        "train_labels_non_hostile = train_result.fake.values\r\n",
        "val_labels_non_hostile = test_result.fake.values\r\n",
        "\r\n",
        "input_ids, attention_masks = X_process(train_df['Post'])\r\n",
        "train_dataloader = train_load(input_ids, attention_masks, train_labels_non_hostile)\r\n",
        "\r\n",
        "input_ids, attention_masks = X_process(test_df['Post'])\r\n",
        "validation_dataloader = val_load(input_ids, attention_masks, val_labels_non_hostile)\r\n",
        "\r\n",
        "input_ids, attention_masks = X_process(train_df['Post'])\r\n",
        "test_dataloader = test_load(input_ids, attention_masks)\r\n",
        "\r\n",
        "from transformers import get_linear_schedule_with_warmup\r\n",
        "\r\n",
        "\r\n",
        "\r\n",
        "total_steps = len(train_dataloader) * 2\r\n",
        "\r\n",
        "scheduler = get_linear_schedule_with_warmup(optimizer, \r\n",
        "                                            num_warmup_steps = 0, # Default value in run_glue.py\r\n",
        "                                            num_training_steps = total_steps)\r\n",
        "training_stats, y_pred_val_non_hostile = train_fn(train_dataloader, validation_dataloader)\r\n",
        "evaluation(y_test, y_pred_val_non_hostile)\r\n",
        "\r\n",
        "\r\n",
        "\r\n",
        "\r\n",
        "\r\n",
        "#offensive\r\n",
        "print(\"**********offensive**********\")\r\n",
        "from torch.utils.data import TensorDataset, random_split \r\n",
        "from torch.utils.data import TensorDataset, DataLoader, RandomSampler, SequentialSampler\r\n",
        "\r\n",
        "optimizer = AdamW(model.parameters(),\r\n",
        "                  lr = 2e-5, # args.learning_rate - default is 5e-5, our notebook had 2e-5\r\n",
        "                  eps = 1e-8 # args.adam_epsilon  - default is 1e-8.\r\n",
        "                )\r\n",
        "\r\n",
        "y_train = train_result.offensive.values\r\n",
        "y_test = test_result.offensive.values\r\n",
        "\r\n",
        "train_labels_non_hostile = train_result.offensive.values\r\n",
        "val_labels_non_hostile = test_result.offensive.values\r\n",
        "\r\n",
        "input_ids, attention_masks = X_process(train_df['Post'])\r\n",
        "train_dataloader = train_load(input_ids, attention_masks, train_labels_non_hostile)\r\n",
        "\r\n",
        "input_ids, attention_masks = X_process(test_df['Post'])\r\n",
        "validation_dataloader = val_load(input_ids, attention_masks, val_labels_non_hostile)\r\n",
        "\r\n",
        "input_ids, attention_masks = X_process(train_df['Post'])\r\n",
        "test_dataloader = test_load(input_ids, attention_masks)\r\n",
        "\r\n",
        "from transformers import get_linear_schedule_with_warmup\r\n",
        "\r\n",
        "\r\n",
        "\r\n",
        "total_steps = len(train_dataloader) * 2\r\n",
        "\r\n",
        "scheduler = get_linear_schedule_with_warmup(optimizer, \r\n",
        "                                            num_warmup_steps = 0, # Default value in run_glue.py\r\n",
        "                                            num_training_steps = total_steps)\r\n",
        "training_stats, y_pred_val_non_hostile = train_fn(train_dataloader, validation_dataloader)\r\n",
        "evaluation(y_test, y_pred_val_non_hostile)\r\n",
        "\r\n",
        "\r\n",
        "\r\n",
        "\r\n",
        "\r\n",
        "#defamation\r\n",
        "print(\"**********defamation**********\")\r\n",
        "from torch.utils.data import TensorDataset, random_split \r\n",
        "from torch.utils.data import TensorDataset, DataLoader, RandomSampler, SequentialSampler\r\n",
        "\r\n",
        "optimizer = AdamW(model.parameters(),\r\n",
        "                  lr = 2e-5, # args.learning_rate - default is 5e-5, our notebook had 2e-5\r\n",
        "                  eps = 1e-8 # args.adam_epsilon  - default is 1e-8.\r\n",
        "                )\r\n",
        "\r\n",
        "y_train = train_result.defamation.values\r\n",
        "y_test = test_result.defamation.values\r\n",
        "\r\n",
        "train_labels_non_hostile = train_result.defamation.values\r\n",
        "val_labels_non_hostile = test_result.defamation.values\r\n",
        "\r\n",
        "input_ids, attention_masks = X_process(train_df['Post'])\r\n",
        "train_dataloader = train_load(input_ids, attention_masks, train_labels_non_hostile)\r\n",
        "\r\n",
        "input_ids, attention_masks = X_process(test_df['Post'])\r\n",
        "validation_dataloader = val_load(input_ids, attention_masks, val_labels_non_hostile)\r\n",
        "\r\n",
        "input_ids, attention_masks = X_process(train_df['Post'])\r\n",
        "test_dataloader = test_load(input_ids, attention_masks)\r\n",
        "\r\n",
        "from transformers import get_linear_schedule_with_warmup\r\n",
        "\r\n",
        "\r\n",
        "\r\n",
        "total_steps = len(train_dataloader) * 2\r\n",
        "\r\n",
        "scheduler = get_linear_schedule_with_warmup(optimizer, \r\n",
        "                                            num_warmup_steps = 0, # Default value in run_glue.py\r\n",
        "                                            num_training_steps = total_steps)\r\n",
        "training_stats, y_pred_val_non_hostile = train_fn(train_dataloader, validation_dataloader)\r\n",
        "evaluation(y_test, y_pred_val_non_hostile)\r\n",
        "\r\n",
        "\r\n",
        "\r\n",
        "\r\n",
        "\r\n",
        "#hate\r\n",
        "print(\"**********hate**********\")\r\n",
        "from torch.utils.data import TensorDataset, random_split \r\n",
        "from torch.utils.data import TensorDataset, DataLoader, RandomSampler, SequentialSampler\r\n",
        "\r\n",
        "optimizer = AdamW(model.parameters(),\r\n",
        "                  lr = 2e-5, # args.learning_rate - default is 5e-5, our notebook had 2e-5\r\n",
        "                  eps = 1e-8 # args.adam_epsilon  - default is 1e-8.\r\n",
        "                )\r\n",
        "\r\n",
        "y_train = train_result.hate.values\r\n",
        "y_test = test_result.hate.values\r\n",
        "\r\n",
        "train_labels_non_hostile = train_result.hate.values\r\n",
        "val_labels_non_hostile = test_result.hate.values\r\n",
        "\r\n",
        "input_ids, attention_masks = X_process(train_df['Post'])\r\n",
        "train_dataloader = train_load(input_ids, attention_masks, train_labels_non_hostile)\r\n",
        "\r\n",
        "input_ids, attention_masks = X_process(test_df['Post'])\r\n",
        "validation_dataloader = val_load(input_ids, attention_masks, val_labels_non_hostile)\r\n",
        "\r\n",
        "input_ids, attention_masks = X_process(train_df['Post'])\r\n",
        "test_dataloader = test_load(input_ids, attention_masks)\r\n",
        "\r\n",
        "from transformers import get_linear_schedule_with_warmup\r\n",
        "\r\n",
        "\r\n",
        "\r\n",
        "total_steps = len(train_dataloader) * 2\r\n",
        "\r\n",
        "scheduler = get_linear_schedule_with_warmup(optimizer, \r\n",
        "                                            num_warmup_steps = 0, # Default value in run_glue.py\r\n",
        "                                            num_training_steps = total_steps)\r\n",
        "training_stats, y_pred_val_non_hostile = train_fn(train_dataloader, validation_dataloader)\r\n",
        "evaluation(y_test, y_pred_val_non_hostile)"
      ],
      "execution_count": 61,
      "outputs": [
        {
          "output_type": "stream",
          "text": [
            "**********NH**********\n"
          ],
          "name": "stdout"
        },
        {
          "output_type": "stream",
          "text": [
            "/usr/local/lib/python3.7/dist-packages/transformers/tokenization_utils_base.py:2155: FutureWarning: The `pad_to_max_length` argument is deprecated and will be removed in a future version, use `padding=True` or `padding='longest'` to pad to the longest sequence in the batch, or use `padding='max_length'` to pad to a max length. In this case, you can give a specific length with `max_length` (e.g. `max_length=45`) or leave max_length to None to pad to the maximal input size of the model (e.g. 512 for Bert).\n",
            "  FutureWarning,\n"
          ],
          "name": "stderr"
        },
        {
          "output_type": "stream",
          "text": [
            "Training...\n",
            "  Batch    40  of    715.    Elapsed: 0:00:15.\n",
            "  Batch    80  of    715.    Elapsed: 0:00:30.\n",
            "  Batch   120  of    715.    Elapsed: 0:00:46.\n",
            "  Batch   160  of    715.    Elapsed: 0:01:01.\n",
            "  Batch   200  of    715.    Elapsed: 0:01:17.\n",
            "  Batch   240  of    715.    Elapsed: 0:01:33.\n",
            "  Batch   280  of    715.    Elapsed: 0:01:48.\n",
            "  Batch   320  of    715.    Elapsed: 0:02:04.\n",
            "  Batch   360  of    715.    Elapsed: 0:02:20.\n",
            "  Batch   400  of    715.    Elapsed: 0:02:36.\n",
            "  Batch   440  of    715.    Elapsed: 0:02:52.\n",
            "  Batch   480  of    715.    Elapsed: 0:03:08.\n",
            "  Batch   520  of    715.    Elapsed: 0:03:24.\n",
            "  Batch   560  of    715.    Elapsed: 0:03:40.\n",
            "  Batch   600  of    715.    Elapsed: 0:03:56.\n",
            "  Batch   640  of    715.    Elapsed: 0:04:12.\n",
            "  Batch   680  of    715.    Elapsed: 0:04:28.\n",
            "\n",
            "  Average training loss: 0.20\n",
            "  Training took: 0:04:42\n",
            "\n",
            "Running Validation...\n",
            "  Accuracy: 0.90\n",
            "  Validation Loss: 0.54\n",
            "  Validation took: 0:00:12\n",
            "[{'epoch': 1, 'Training Loss': 0.20233965205029467, 'Valid. Loss': 0.538345948738781, 'Valid. Accur.': 0.9007352941176471, 'Training Time': '0:04:42', 'Validation Time': '0:00:12'}]\n",
            "Training...\n",
            "  Batch    40  of    715.    Elapsed: 0:00:16.\n",
            "  Batch    80  of    715.    Elapsed: 0:00:32.\n",
            "  Batch   120  of    715.    Elapsed: 0:00:48.\n",
            "  Batch   160  of    715.    Elapsed: 0:01:04.\n",
            "  Batch   200  of    715.    Elapsed: 0:01:20.\n",
            "  Batch   240  of    715.    Elapsed: 0:01:36.\n",
            "  Batch   280  of    715.    Elapsed: 0:01:52.\n",
            "  Batch   320  of    715.    Elapsed: 0:02:08.\n",
            "  Batch   360  of    715.    Elapsed: 0:02:24.\n",
            "  Batch   400  of    715.    Elapsed: 0:02:40.\n",
            "  Batch   440  of    715.    Elapsed: 0:02:56.\n",
            "  Batch   480  of    715.    Elapsed: 0:03:12.\n",
            "  Batch   520  of    715.    Elapsed: 0:03:28.\n",
            "  Batch   560  of    715.    Elapsed: 0:03:44.\n",
            "  Batch   600  of    715.    Elapsed: 0:03:59.\n",
            "  Batch   640  of    715.    Elapsed: 0:04:15.\n",
            "  Batch   680  of    715.    Elapsed: 0:04:31.\n",
            "\n",
            "  Average training loss: 0.11\n",
            "  Training took: 0:04:45\n",
            "\n",
            "Running Validation...\n",
            "  Accuracy: 0.92\n",
            "  Validation Loss: 0.50\n",
            "  Validation took: 0:00:12\n",
            "[{'epoch': 1, 'Training Loss': 0.20233965205029467, 'Valid. Loss': 0.538345948738781, 'Valid. Accur.': 0.9007352941176471, 'Training Time': '0:04:42', 'Validation Time': '0:00:12'}, {'epoch': 2, 'Training Loss': 0.10819316305687417, 'Valid. Loss': 0.4951613355519572, 'Valid. Accur.': 0.9195261437908497, 'Training Time': '0:04:45', 'Validation Time': '0:00:12'}]\n",
            "Fine Grained Accuracy = 0.9210850801479655\n",
            "\n",
            "\n",
            "Fine Grained Metrics\n",
            "\n",
            "              precision    recall  f1-score   support\n",
            "\n",
            "           0       0.96      0.87      0.91       376\n",
            "           1       0.89      0.97      0.93       435\n",
            "\n",
            "    accuracy                           0.92       811\n",
            "   macro avg       0.93      0.92      0.92       811\n",
            "weighted avg       0.92      0.92      0.92       811\n",
            "\n",
            "**********fake**********\n",
            "Training...\n",
            "  Batch    40  of    715.    Elapsed: 0:00:16.\n",
            "  Batch    80  of    715.    Elapsed: 0:00:32.\n",
            "  Batch   120  of    715.    Elapsed: 0:00:49.\n",
            "  Batch   160  of    715.    Elapsed: 0:01:05.\n",
            "  Batch   200  of    715.    Elapsed: 0:01:21.\n",
            "  Batch   240  of    715.    Elapsed: 0:01:37.\n",
            "  Batch   280  of    715.    Elapsed: 0:01:53.\n",
            "  Batch   320  of    715.    Elapsed: 0:02:10.\n",
            "  Batch   360  of    715.    Elapsed: 0:02:26.\n",
            "  Batch   400  of    715.    Elapsed: 0:02:42.\n",
            "  Batch   440  of    715.    Elapsed: 0:02:58.\n",
            "  Batch   480  of    715.    Elapsed: 0:03:14.\n",
            "  Batch   520  of    715.    Elapsed: 0:03:30.\n",
            "  Batch   560  of    715.    Elapsed: 0:03:47.\n",
            "  Batch   600  of    715.    Elapsed: 0:04:03.\n",
            "  Batch   640  of    715.    Elapsed: 0:04:19.\n",
            "  Batch   680  of    715.    Elapsed: 0:04:35.\n",
            "\n",
            "  Average training loss: 0.40\n",
            "  Training took: 0:04:49\n",
            "\n",
            "Running Validation...\n",
            "  Accuracy: 0.89\n",
            "  Validation Loss: 0.36\n",
            "  Validation took: 0:00:12\n",
            "[{'epoch': 1, 'Training Loss': 0.3983770341553784, 'Valid. Loss': 0.3578306485844009, 'Valid. Accur.': 0.8946078431372549, 'Training Time': '0:04:49', 'Validation Time': '0:00:12'}]\n",
            "Training...\n",
            "  Batch    40  of    715.    Elapsed: 0:00:16.\n",
            "  Batch    80  of    715.    Elapsed: 0:00:32.\n",
            "  Batch   120  of    715.    Elapsed: 0:00:48.\n",
            "  Batch   160  of    715.    Elapsed: 0:01:04.\n",
            "  Batch   200  of    715.    Elapsed: 0:01:20.\n",
            "  Batch   240  of    715.    Elapsed: 0:01:36.\n",
            "  Batch   280  of    715.    Elapsed: 0:01:53.\n",
            "  Batch   320  of    715.    Elapsed: 0:02:09.\n",
            "  Batch   360  of    715.    Elapsed: 0:02:25.\n",
            "  Batch   400  of    715.    Elapsed: 0:02:41.\n",
            "  Batch   440  of    715.    Elapsed: 0:02:57.\n",
            "  Batch   480  of    715.    Elapsed: 0:03:13.\n",
            "  Batch   520  of    715.    Elapsed: 0:03:29.\n",
            "  Batch   560  of    715.    Elapsed: 0:03:45.\n",
            "  Batch   600  of    715.    Elapsed: 0:04:01.\n",
            "  Batch   640  of    715.    Elapsed: 0:04:17.\n",
            "  Batch   680  of    715.    Elapsed: 0:04:33.\n",
            "\n",
            "  Average training loss: 0.24\n",
            "  Training took: 0:04:47\n",
            "\n",
            "Running Validation...\n",
            "  Accuracy: 0.90\n",
            "  Validation Loss: 0.43\n",
            "  Validation took: 0:00:12\n",
            "[{'epoch': 1, 'Training Loss': 0.3983770341553784, 'Valid. Loss': 0.3578306485844009, 'Valid. Accur.': 0.8946078431372549, 'Training Time': '0:04:49', 'Validation Time': '0:00:12'}, {'epoch': 2, 'Training Loss': 0.24019105146676498, 'Valid. Loss': 0.4298923077836733, 'Valid. Accur.': 0.8958333333333334, 'Training Time': '0:04:47', 'Validation Time': '0:00:12'}]\n",
            "Fine Grained Accuracy = 0.8951911220715166\n",
            "\n",
            "\n",
            "Fine Grained Metrics\n",
            "\n",
            "              precision    recall  f1-score   support\n",
            "\n",
            "           0       0.91      0.96      0.94       651\n",
            "           1       0.80      0.62      0.70       160\n",
            "\n",
            "    accuracy                           0.90       811\n",
            "   macro avg       0.86      0.79      0.82       811\n",
            "weighted avg       0.89      0.90      0.89       811\n",
            "\n",
            "**********offensive**********\n",
            "Training...\n",
            "  Batch    40  of    715.    Elapsed: 0:00:16.\n",
            "  Batch    80  of    715.    Elapsed: 0:00:32.\n",
            "  Batch   120  of    715.    Elapsed: 0:00:49.\n",
            "  Batch   160  of    715.    Elapsed: 0:01:05.\n",
            "  Batch   200  of    715.    Elapsed: 0:01:21.\n",
            "  Batch   240  of    715.    Elapsed: 0:01:37.\n",
            "  Batch   280  of    715.    Elapsed: 0:01:53.\n",
            "  Batch   320  of    715.    Elapsed: 0:02:09.\n",
            "  Batch   360  of    715.    Elapsed: 0:02:25.\n",
            "  Batch   400  of    715.    Elapsed: 0:02:42.\n",
            "  Batch   440  of    715.    Elapsed: 0:02:58.\n",
            "  Batch   480  of    715.    Elapsed: 0:03:14.\n",
            "  Batch   520  of    715.    Elapsed: 0:03:30.\n",
            "  Batch   560  of    715.    Elapsed: 0:03:46.\n",
            "  Batch   600  of    715.    Elapsed: 0:04:02.\n",
            "  Batch   640  of    715.    Elapsed: 0:04:18.\n",
            "  Batch   680  of    715.    Elapsed: 0:04:35.\n",
            "\n",
            "  Average training loss: 0.35\n",
            "  Training took: 0:04:49\n",
            "\n",
            "Running Validation...\n",
            "  Accuracy: 0.90\n",
            "  Validation Loss: 0.33\n",
            "  Validation took: 0:00:12\n",
            "[{'epoch': 1, 'Training Loss': 0.351724821267897, 'Valid. Loss': 0.3345540278390342, 'Valid. Accur.': 0.9031862745098039, 'Training Time': '0:04:49', 'Validation Time': '0:00:12'}]\n",
            "Training...\n",
            "  Batch    40  of    715.    Elapsed: 0:00:16.\n",
            "  Batch    80  of    715.    Elapsed: 0:00:32.\n",
            "  Batch   120  of    715.    Elapsed: 0:00:48.\n",
            "  Batch   160  of    715.    Elapsed: 0:01:04.\n",
            "  Batch   200  of    715.    Elapsed: 0:01:21.\n",
            "  Batch   240  of    715.    Elapsed: 0:01:37.\n",
            "  Batch   280  of    715.    Elapsed: 0:01:53.\n",
            "  Batch   320  of    715.    Elapsed: 0:02:09.\n",
            "  Batch   360  of    715.    Elapsed: 0:02:25.\n",
            "  Batch   400  of    715.    Elapsed: 0:02:41.\n",
            "  Batch   440  of    715.    Elapsed: 0:02:57.\n",
            "  Batch   480  of    715.    Elapsed: 0:03:13.\n",
            "  Batch   520  of    715.    Elapsed: 0:03:29.\n",
            "  Batch   560  of    715.    Elapsed: 0:03:46.\n",
            "  Batch   600  of    715.    Elapsed: 0:04:02.\n",
            "  Batch   640  of    715.    Elapsed: 0:04:18.\n",
            "  Batch   680  of    715.    Elapsed: 0:04:34.\n",
            "\n",
            "  Average training loss: 0.27\n",
            "  Training took: 0:04:48\n",
            "\n",
            "Running Validation...\n",
            "  Accuracy: 0.90\n",
            "  Validation Loss: 0.29\n",
            "  Validation took: 0:00:12\n",
            "[{'epoch': 1, 'Training Loss': 0.351724821267897, 'Valid. Loss': 0.3345540278390342, 'Valid. Accur.': 0.9031862745098039, 'Training Time': '0:04:49', 'Validation Time': '0:00:12'}, {'epoch': 2, 'Training Loss': 0.2696533083192796, 'Valid. Loss': 0.28879620051513627, 'Valid. Accur.': 0.9007352941176471, 'Training Time': '0:04:48', 'Validation Time': '0:00:12'}]\n",
            "Fine Grained Accuracy = 0.9001233045622689\n",
            "\n",
            "\n",
            "Fine Grained Metrics\n",
            "\n",
            "              precision    recall  f1-score   support\n",
            "\n",
            "           0       0.93      0.96      0.94       708\n",
            "           1       0.65      0.47      0.54       103\n",
            "\n",
            "    accuracy                           0.90       811\n",
            "   macro avg       0.79      0.71      0.74       811\n",
            "weighted avg       0.89      0.90      0.89       811\n",
            "\n",
            "**********defamation**********\n",
            "Training...\n",
            "  Batch    40  of    715.    Elapsed: 0:00:16.\n",
            "  Batch    80  of    715.    Elapsed: 0:00:32.\n",
            "  Batch   120  of    715.    Elapsed: 0:00:48.\n",
            "  Batch   160  of    715.    Elapsed: 0:01:05.\n",
            "  Batch   200  of    715.    Elapsed: 0:01:21.\n",
            "  Batch   240  of    715.    Elapsed: 0:01:37.\n",
            "  Batch   280  of    715.    Elapsed: 0:01:53.\n",
            "  Batch   320  of    715.    Elapsed: 0:02:09.\n",
            "  Batch   360  of    715.    Elapsed: 0:02:25.\n",
            "  Batch   400  of    715.    Elapsed: 0:02:41.\n",
            "  Batch   440  of    715.    Elapsed: 0:02:57.\n",
            "  Batch   480  of    715.    Elapsed: 0:03:14.\n",
            "  Batch   520  of    715.    Elapsed: 0:03:30.\n",
            "  Batch   560  of    715.    Elapsed: 0:03:46.\n",
            "  Batch   600  of    715.    Elapsed: 0:04:02.\n",
            "  Batch   640  of    715.    Elapsed: 0:04:18.\n",
            "  Batch   680  of    715.    Elapsed: 0:04:34.\n",
            "\n",
            "  Average training loss: 0.31\n",
            "  Training took: 0:04:48\n",
            "\n",
            "Running Validation...\n",
            "  Accuracy: 0.91\n",
            "  Validation Loss: 0.31\n",
            "  Validation took: 0:00:12\n",
            "[{'epoch': 1, 'Training Loss': 0.3130733811791491, 'Valid. Loss': 0.3053359380037542, 'Valid. Accur.': 0.9056372549019608, 'Training Time': '0:04:48', 'Validation Time': '0:00:12'}]\n",
            "Training...\n",
            "  Batch    40  of    715.    Elapsed: 0:00:16.\n",
            "  Batch    80  of    715.    Elapsed: 0:00:32.\n",
            "  Batch   120  of    715.    Elapsed: 0:00:48.\n",
            "  Batch   160  of    715.    Elapsed: 0:01:04.\n",
            "  Batch   200  of    715.    Elapsed: 0:01:21.\n",
            "  Batch   240  of    715.    Elapsed: 0:01:37.\n",
            "  Batch   280  of    715.    Elapsed: 0:01:53.\n",
            "  Batch   320  of    715.    Elapsed: 0:02:09.\n",
            "  Batch   360  of    715.    Elapsed: 0:02:25.\n",
            "  Batch   400  of    715.    Elapsed: 0:02:41.\n",
            "  Batch   440  of    715.    Elapsed: 0:02:57.\n",
            "  Batch   480  of    715.    Elapsed: 0:03:13.\n",
            "  Batch   520  of    715.    Elapsed: 0:03:30.\n",
            "  Batch   560  of    715.    Elapsed: 0:03:46.\n",
            "  Batch   600  of    715.    Elapsed: 0:04:02.\n",
            "  Batch   640  of    715.    Elapsed: 0:04:18.\n",
            "  Batch   680  of    715.    Elapsed: 0:04:34.\n",
            "\n",
            "  Average training loss: 0.28\n",
            "  Training took: 0:04:48\n",
            "\n",
            "Running Validation...\n",
            "  Accuracy: 0.90\n",
            "  Validation Loss: 0.28\n",
            "  Validation took: 0:00:12\n",
            "[{'epoch': 1, 'Training Loss': 0.3130733811791491, 'Valid. Loss': 0.3053359380037542, 'Valid. Accur.': 0.9056372549019608, 'Training Time': '0:04:48', 'Validation Time': '0:00:12'}, {'epoch': 2, 'Training Loss': 0.2835596417610931, 'Valid. Loss': 0.283648364579159, 'Valid. Accur.': 0.9031862745098039, 'Training Time': '0:04:48', 'Validation Time': '0:00:12'}]\n",
            "Fine Grained Accuracy = 0.9025893958076449\n",
            "\n",
            "\n",
            "Fine Grained Metrics\n",
            "\n",
            "              precision    recall  f1-score   support\n",
            "\n",
            "           0       0.91      1.00      0.95       734\n",
            "           1       0.25      0.01      0.02        77\n",
            "\n",
            "    accuracy                           0.90       811\n",
            "   macro avg       0.58      0.50      0.49       811\n",
            "weighted avg       0.84      0.90      0.86       811\n",
            "\n",
            "**********hate**********\n",
            "Training...\n",
            "  Batch    40  of    715.    Elapsed: 0:00:16.\n",
            "  Batch    80  of    715.    Elapsed: 0:00:32.\n",
            "  Batch   120  of    715.    Elapsed: 0:00:49.\n",
            "  Batch   160  of    715.    Elapsed: 0:01:05.\n",
            "  Batch   200  of    715.    Elapsed: 0:01:21.\n",
            "  Batch   240  of    715.    Elapsed: 0:01:37.\n",
            "  Batch   280  of    715.    Elapsed: 0:01:53.\n",
            "  Batch   320  of    715.    Elapsed: 0:02:09.\n",
            "  Batch   360  of    715.    Elapsed: 0:02:26.\n",
            "  Batch   400  of    715.    Elapsed: 0:02:42.\n",
            "  Batch   440  of    715.    Elapsed: 0:02:58.\n",
            "  Batch   480  of    715.    Elapsed: 0:03:14.\n",
            "  Batch   520  of    715.    Elapsed: 0:03:30.\n",
            "  Batch   560  of    715.    Elapsed: 0:03:46.\n",
            "  Batch   600  of    715.    Elapsed: 0:04:02.\n",
            "  Batch   640  of    715.    Elapsed: 0:04:19.\n",
            "  Batch   680  of    715.    Elapsed: 0:04:35.\n",
            "\n",
            "  Average training loss: 0.35\n",
            "  Training took: 0:04:49\n",
            "\n",
            "Running Validation...\n",
            "  Accuracy: 0.85\n",
            "  Validation Loss: 0.33\n",
            "  Validation took: 0:00:12\n",
            "[{'epoch': 1, 'Training Loss': 0.34801474990961434, 'Valid. Loss': 0.33292901050299406, 'Valid. Accur.': 0.8517156862745098, 'Training Time': '0:04:49', 'Validation Time': '0:00:12'}]\n",
            "Training...\n",
            "  Batch    40  of    715.    Elapsed: 0:00:16.\n",
            "  Batch    80  of    715.    Elapsed: 0:00:32.\n",
            "  Batch   120  of    715.    Elapsed: 0:00:48.\n",
            "  Batch   160  of    715.    Elapsed: 0:01:04.\n",
            "  Batch   200  of    715.    Elapsed: 0:01:21.\n",
            "  Batch   240  of    715.    Elapsed: 0:01:37.\n",
            "  Batch   280  of    715.    Elapsed: 0:01:53.\n",
            "  Batch   320  of    715.    Elapsed: 0:02:09.\n",
            "  Batch   360  of    715.    Elapsed: 0:02:25.\n",
            "  Batch   400  of    715.    Elapsed: 0:02:41.\n",
            "  Batch   440  of    715.    Elapsed: 0:02:57.\n",
            "  Batch   480  of    715.    Elapsed: 0:03:13.\n",
            "  Batch   520  of    715.    Elapsed: 0:03:30.\n",
            "  Batch   560  of    715.    Elapsed: 0:03:46.\n",
            "  Batch   600  of    715.    Elapsed: 0:04:02.\n",
            "  Batch   640  of    715.    Elapsed: 0:04:18.\n",
            "  Batch   680  of    715.    Elapsed: 0:04:34.\n",
            "\n",
            "  Average training loss: 0.31\n",
            "  Training took: 0:04:48\n",
            "\n",
            "Running Validation...\n",
            "  Accuracy: 0.86\n",
            "  Validation Loss: 0.34\n",
            "  Validation took: 0:00:12\n",
            "[{'epoch': 1, 'Training Loss': 0.34801474990961434, 'Valid. Loss': 0.33292901050299406, 'Valid. Accur.': 0.8517156862745098, 'Training Time': '0:04:49', 'Validation Time': '0:00:12'}, {'epoch': 2, 'Training Loss': 0.3111943393086012, 'Valid. Loss': 0.33754126199831563, 'Valid. Accur.': 0.8627450980392157, 'Training Time': '0:04:48', 'Validation Time': '0:00:12'}]\n",
            "Fine Grained Accuracy = 0.8618988902589396\n",
            "\n",
            "\n",
            "Fine Grained Metrics\n",
            "\n",
            "              precision    recall  f1-score   support\n",
            "\n",
            "           0       0.89      0.96      0.92       701\n",
            "           1       0.48      0.25      0.33       110\n",
            "\n",
            "    accuracy                           0.86       811\n",
            "   macro avg       0.69      0.61      0.63       811\n",
            "weighted avg       0.84      0.86      0.84       811\n",
            "\n"
          ],
          "name": "stdout"
        }
      ]
    },
    {
      "cell_type": "code",
      "metadata": {
        "id": "PdzI33VwY36d"
      },
      "source": [
        ""
      ],
      "execution_count": null,
      "outputs": []
    },
    {
      "cell_type": "markdown",
      "metadata": {
        "id": "WIZOe-Y_ScIY"
      },
      "source": [
        "**Generating csv**"
      ]
    },
    {
      "cell_type": "code",
      "metadata": {
        "id": "efCZc6QpQIQg"
      },
      "source": [
        "svm1 = RandomForestClassifier(n_estimators=400,random_state=0)\r\n",
        "\r\n",
        "# fit the SVC model based on the given training data\r\n",
        "#svm1.fit(x_train_vec, y_train)\r\n",
        "\r\n",
        "# perform classification and prediction on samples in x_test\r\n",
        "#y_pred_svm1 = svm1.predict(x_test_vec)\r\n",
        "\r\n",
        "\r\n",
        "#nh\r\n",
        "y_train = train_df.nh.values\r\n",
        "# y_test = test_result.nh.values\r\n",
        "# model.fit(bert_word_training_features, y_train)\r\n",
        "# y_pred_bert_words_svm = model.predict(bert_word_test_features)\r\n",
        "svm1.fit(x_train_vec, y_train)\r\n",
        "y_pred_svm1 = svm1.predict(x_test_vec)\r\n",
        "nhList=y_pred_svm1.copy()\r\n",
        "\r\n",
        "#hate\r\n",
        "y_train = train_df.hate.values\r\n",
        "# y_test = test_result.hate.values\r\n",
        "# model.fit(bert_word_training_features, y_train)\r\n",
        "# y_pred_bert_words_svm = model.predict(bert_word_test_features)\r\n",
        "svm1.fit(x_train_vec, y_train)\r\n",
        "y_pred_svm1 = svm1.predict(x_test_vec)\r\n",
        "hateList=y_pred_svm1.copy()\r\n",
        "\r\n",
        "#defamation\r\n",
        "y_train = train_df.defamation.values\r\n",
        "# y_test = test_result.defamation.values\r\n",
        "# model.fit(bert_word_training_features, y_train)\r\n",
        "# y_pred_bert_words_svm = model.predict(bert_word_test_features)\r\n",
        "svm1.fit(x_train_vec, y_train)\r\n",
        "y_pred_svm1 = svm1.predict(x_test_vec)\r\n",
        "defamationList=y_pred_svm1.copy()\r\n",
        "\r\n",
        "#fake\r\n",
        "y_train = train_df.fake.values\r\n",
        "# y_test = test_result.fake.values\r\n",
        "# model.fit(bert_word_training_features, y_train)\r\n",
        "# y_pred_bert_words_svm = model.predict(bert_word_test_features)\r\n",
        "svm1.fit(x_train_vec, y_train)\r\n",
        "y_pred_svm1 = svm1.predict(x_test_vec)\r\n",
        "fakeList=y_pred_svm1.copy()\r\n",
        "\r\n",
        "#offensive\r\n",
        "y_train = train_df.offensive.values\r\n",
        "# y_test = test_result.offensive.values\r\n",
        "# model.fit(bert_word_training_features, y_train)\r\n",
        "# y_pred_bert_words_svm = model.predict(bert_word_test_features)\r\n",
        "svm1.fit(x_train_vec, y_train)\r\n",
        "y_pred_svm1 = svm1.predict(x_test_vec)\r\n",
        "offensiveList=y_pred_svm1.copy()\r\n"
      ],
      "execution_count": null,
      "outputs": []
    },
    {
      "cell_type": "code",
      "metadata": {
        "id": "VWqfrVTyQy6b"
      },
      "source": [
        "# o hate\r\n",
        "# o fake\r\n",
        "# o offensive\r\n",
        "# o defamation\r\n",
        "# o non-hostile\r\n",
        "\r\n",
        "master=[]\r\n",
        "\r\n",
        "for i in range(len(fakeList)):\r\n",
        "  master.append([nhList[i],hateList[i],defamationList[i],fakeList[i],offensiveList[i]])\r\n",
        "\r\n",
        "\r\n",
        "final=[]\r\n",
        "tpl=['non-hostile','hate','defamation','fake','offensive']\r\n",
        "for i in master:\r\n",
        "  temp=''\r\n",
        "  index=0\r\n",
        "  for j in i:\r\n",
        "    if j==1:\r\n",
        "      if len(temp)==0:\r\n",
        "        temp+=tpl[index]\r\n",
        "      else:\r\n",
        "        temp+=','\r\n",
        "        temp+=tpl[index]\r\n",
        "    index+=1\r\n",
        "  if temp=='':\r\n",
        "    final.append('defamation')\r\n",
        "  # elif 'non-hostile' in temp:\r\n",
        "  #   temp='non-hostile'\r\n",
        "  #   final.append(temp)\r\n",
        "  else:\r\n",
        "    final.append(temp)\r\n",
        "\r\n",
        "\r\n",
        "csvMaker={'Unique ID':[i for i in range(1,len(hateList)+1)],'Labels Set':final}\r\n",
        "perma=pd.DataFrame(csvMaker)\r\n",
        "perma.to_csv('defamation-C1-STP.csv', index = False)"
      ],
      "execution_count": null,
      "outputs": []
    },
    {
      "cell_type": "code",
      "metadata": {
        "id": "qNrbhJ14S1UT"
      },
      "source": [
        ""
      ],
      "execution_count": null,
      "outputs": []
    }
  ]
}